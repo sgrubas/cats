{
 "cells": [
  {
   "cell_type": "markdown",
   "id": "f424ea27",
   "metadata": {},
   "source": [
    "# Cluster Analysis of Trimmed Spectrogram (CATS)"
   ]
  },
  {
   "cell_type": "code",
   "execution_count": null,
   "id": "0a84c071",
   "metadata": {
    "scrolled": true
   },
   "outputs": [],
   "source": [
    "import numpy as np\n",
    "import numba as nb\n",
    "import holoviews as hv\n",
    "# hv.extension('bokeh')\n",
    "\n",
    "from scipy import signal, special, optimize, stats\n",
    "import ssqueezepy as ssq\n",
    "import timeit"
   ]
  },
  {
   "cell_type": "code",
   "execution_count": null,
   "id": "f44307dd",
   "metadata": {},
   "outputs": [],
   "source": [
    "import pyskbel as api\n",
    "import cats"
   ]
  },
  {
   "cell_type": "markdown",
   "id": "1a599b77",
   "metadata": {},
   "source": [
    "# Synthetic data"
   ]
  },
  {
   "cell_type": "code",
   "execution_count": null,
   "id": "65a8ddf9",
   "metadata": {},
   "outputs": [],
   "source": [
    "N_datasets = 25\n",
    "\n",
    "# i = np.random.choice(N_datasets)\n",
    "i = 2\n",
    "folder = \"C:/Users/seraf/OneDrive - ualberta.ca/Documents/WaveDatasets/GeneratedData\"\n",
    "Dclean = api.compose_from_meta(f\"{folder}/MetaDataSetsNew/dataset_{i}_main.pkl\", \n",
    "                               noise=0.0, data_path=f'{folder}/SurfaceEvents')\n",
    "Dclean = np.moveaxis(Dclean, 1, -1)\n",
    "main_meta = api.utils.read_dict(f\"{folder}/MetaDataSetsNew/dataset_{i}_main.pkl\")\n",
    "main_meta['data_path'] = 'C:\\\\Users\\\\seraf\\\\OneDrive - ualberta.ca\\\\Documents\\\\WaveDatasets\\\\GeneratedData\\\\SurfaceEvents'\n",
    "\n",
    "x = np.linspace(main_meta['xmin'], main_meta['xmax'], main_meta['nx'])\n",
    "time = np.linspace(main_meta['Tmin'], main_meta['Tmax'], main_meta['nT'])\n",
    "dt = main_meta['dt']"
   ]
  },
  {
   "cell_type": "code",
   "execution_count": null,
   "id": "02e7be1c",
   "metadata": {},
   "outputs": [],
   "source": [
    "# noise_id = \"white\"\n",
    "Noise = api.utils.get_noise((0.05, -1.0), Dclean.shape, axis=2)\n",
    "Noise += 0.07 * np.sin(time * 2 * np.pi * 50)[None, None, :]\n",
    "D = Dclean + Noise"
   ]
  },
  {
   "cell_type": "code",
   "execution_count": null,
   "id": "169afb80",
   "metadata": {},
   "outputs": [],
   "source": [
    "catsden = cats.CATSDenoiser(dt_sec=dt,\n",
    "                            stft_window_sec=('hann', 0.3),\n",
    "                            stft_overlap=0.5,\n",
    "                            stft_nfft=512,\n",
    "                            minSNR=4.0,\n",
    "                            stationary_frame_sec=1.0,\n",
    "                            min_dt_width_sec=0.75,\n",
    "                            min_df_width_Hz=15.,\n",
    "                            max_dt_gap_sec=0.5,\n",
    "                            neighbor_distance_len=2,\n",
    "                            min_neighbors=None,\n",
    "                            date_Q=0.95,\n",
    "                            date_detection_mode=True,\n",
    "                            backend='ssqueezepy')"
   ]
  },
  {
   "cell_type": "code",
   "execution_count": null,
   "id": "afaf0d5c",
   "metadata": {},
   "outputs": [],
   "source": [
    "%time denres = catsden.denoise_stepwise(D)"
   ]
  },
  {
   "cell_type": "code",
   "execution_count": null,
   "id": "6b40dbfd",
   "metadata": {},
   "outputs": [],
   "source": [
    "ind = (50, 2)\n",
    "fig = denres.plot(ind)\n",
    "fig.opts(hv.opts.Curve(xlim=(5, 20), linewidth=1), \n",
    "         hv.opts.Image(xlim=(5, 20), logz=True, ylim=(0.9, np.nan)))"
   ]
  },
  {
   "cell_type": "code",
   "execution_count": null,
   "id": "b725b3fc",
   "metadata": {},
   "outputs": [],
   "source": [
    "ind = (50, 2)\n",
    "fig_new = denres.plot(ind)\n",
    "fig_new[0].data.Amplitude = Dclean[ind]\n",
    "fig_new[0].opts(xlim=(16, 18), xlabel='Time (s)', color='k',\n",
    "                linewidth=8, fig_size=350) * fig[-1].opts(linewidth=3, color='red', \n",
    "                                                          linestyle='--')\n",
    "# hv.save(fig[0], f\"figures/CleanZ.png\", dpi=300)"
   ]
  },
  {
   "cell_type": "code",
   "execution_count": null,
   "id": "0ee141e0",
   "metadata": {},
   "outputs": [],
   "source": [
    "(hv.Image((x, denres.time, D[:, ind[1]].T)) + \n",
    " hv.Image((x, denres.time, denres.denoised_signal[:, ind[1]].T))).cols(1).opts(hv.opts.Image(colorbar=True, cmap='seismic', symmetric=True,\n",
    "                                                          aspect=5, invert_axes=True)).opts(fig_size=350,\n",
    "                                                                                            sublabel_format='')"
   ]
  },
  {
   "cell_type": "markdown",
   "id": "62916377",
   "metadata": {},
   "source": [
    "# Real voice data"
   ]
  },
  {
   "cell_type": "code",
   "execution_count": null,
   "id": "7f7348dc",
   "metadata": {},
   "outputs": [],
   "source": [
    "from scipy.io import wavfile"
   ]
  },
  {
   "cell_type": "code",
   "execution_count": null,
   "id": "6cd8fa13",
   "metadata": {},
   "outputs": [],
   "source": [
    "folder = \"C:/Users/seraf/OneDrive - ualberta.ca/Documents/NOIZEUS\"\n",
    "files = [\"train/5dB/sp01_train_sn5\", \"restaurant/10dB/sp01_restaurant_sn10\"]\n",
    "voices = [wavfile.read(f\"{folder}/{fi}.wav\")[1] for fi in files]\n",
    "voices = np.array(voices)\n",
    "dt = 1 / 8000"
   ]
  },
  {
   "cell_type": "code",
   "execution_count": null,
   "id": "0f01939d",
   "metadata": {},
   "outputs": [],
   "source": [
    "catsden = cats.CATSDenoiser(dt_sec=dt,\n",
    "                            stft_window_sec=('hann', 0.05),\n",
    "                            stft_overlap=0.5,\n",
    "                            stft_nfft=1024,\n",
    "                            minSNR=4.0,\n",
    "                            stationary_frame_sec=3.0,\n",
    "                            min_dt_width_sec=0.2,\n",
    "                            min_df_width_Hz=50.,\n",
    "                            max_dt_gap_sec=0.0,\n",
    "                            neighbor_distance_len=2,\n",
    "                            min_neighbors=None,\n",
    "                            date_Q=0.95,\n",
    "                            date_detection_mode=False,\n",
    "                            wiener=False,\n",
    "                            backend='ssqueezepy')"
   ]
  },
  {
   "cell_type": "code",
   "execution_count": null,
   "id": "69fd89ff",
   "metadata": {},
   "outputs": [],
   "source": [
    "%time denres = catsden.denoise_stepwise(voices)"
   ]
  },
  {
   "cell_type": "code",
   "execution_count": null,
   "id": "a624ebed",
   "metadata": {
    "scrolled": false
   },
   "outputs": [],
   "source": [
    "ind = 1\n",
    "fig = denres.plot(ind)\n",
    "fig.opts(hv.opts.Curve(aspect=4, linewidth=1),\n",
    "         hv.opts.Image(aspect=4, logz=True, logy=False))"
   ]
  },
  {
   "cell_type": "code",
   "execution_count": null,
   "id": "2cb199ce",
   "metadata": {},
   "outputs": [],
   "source": [
    "for i, fi in enumerate(files):\n",
    "    wavfile.write(f\"{folder}/{fi}_denoised.wav\", int(1 / dt), np.int16(denres.denoised_signal[i]))"
   ]
  },
  {
   "cell_type": "code",
   "execution_count": null,
   "id": "3b95ce15",
   "metadata": {},
   "outputs": [],
   "source": []
  }
 ],
 "metadata": {
  "kernelspec": {
   "display_name": "Python 3 (ipykernel)",
   "language": "python",
   "name": "python3"
  },
  "language_info": {
   "codemirror_mode": {
    "name": "ipython",
    "version": 3
   },
   "file_extension": ".py",
   "mimetype": "text/x-python",
   "name": "python",
   "nbconvert_exporter": "python",
   "pygments_lexer": "ipython3",
   "version": "3.9.13"
  }
 },
 "nbformat": 4,
 "nbformat_minor": 5
}
