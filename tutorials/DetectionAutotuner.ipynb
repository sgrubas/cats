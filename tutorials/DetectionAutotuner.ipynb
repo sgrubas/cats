{
 "cells": [
  {
   "cell_type": "markdown",
   "id": "cdbf2f2d-4e47-47d5-b83d-de576c912932",
   "metadata": {},
   "source": [
    "# Autotuning parameters with `Optuna`"
   ]
  },
  {
   "cell_type": "code",
   "execution_count": 1,
   "id": "ecc93562",
   "metadata": {},
   "outputs": [],
   "source": [
    "import numpy as np\n",
    "import holoviews as hv\n",
    "from tqdm.notebook import tqdm\n",
    "import pandas as pd\n",
    "import pickle\n",
    "from datetime import datetime\n",
    "import gc\n",
    "import time\n",
    "import optuna\n",
    "optuna.logging.set_verbosity(optuna.logging.WARNING)"
   ]
  },
  {
   "cell_type": "code",
   "execution_count": 2,
   "id": "b26dac22",
   "metadata": {},
   "outputs": [
    {
     "data": {
      "application/javascript": [
       "(function(root) {\n",
       "  function now() {\n",
       "    return new Date();\n",
       "  }\n",
       "\n",
       "  var force = true;\n",
       "\n",
       "  if (typeof root._bokeh_onload_callbacks === \"undefined\" || force === true) {\n",
       "    root._bokeh_onload_callbacks = [];\n",
       "    root._bokeh_is_loading = undefined;\n",
       "  }\n",
       "\n",
       "  if (typeof (root._bokeh_timeout) === \"undefined\" || force === true) {\n",
       "    root._bokeh_timeout = Date.now() + 5000;\n",
       "    root._bokeh_failed_load = false;\n",
       "  }\n",
       "\n",
       "  function run_callbacks() {\n",
       "    try {\n",
       "      root._bokeh_onload_callbacks.forEach(function(callback) {\n",
       "        if (callback != null)\n",
       "          callback();\n",
       "      });\n",
       "    } finally {\n",
       "      delete root._bokeh_onload_callbacks\n",
       "    }\n",
       "    console.debug(\"Bokeh: all callbacks have finished\");\n",
       "  }\n",
       "\n",
       "  function load_libs(css_urls, js_urls, js_modules, callback) {\n",
       "    if (css_urls == null) css_urls = [];\n",
       "    if (js_urls == null) js_urls = [];\n",
       "    if (js_modules == null) js_modules = [];\n",
       "\n",
       "    root._bokeh_onload_callbacks.push(callback);\n",
       "    if (root._bokeh_is_loading > 0) {\n",
       "      console.debug(\"Bokeh: BokehJS is being loaded, scheduling callback at\", now());\n",
       "      return null;\n",
       "    }\n",
       "    if (js_urls.length === 0 && js_modules.length === 0) {\n",
       "      run_callbacks();\n",
       "      return null;\n",
       "    }\n",
       "    console.debug(\"Bokeh: BokehJS not loaded, scheduling load and callback at\", now());\n",
       "\n",
       "    function on_load() {\n",
       "      root._bokeh_is_loading--;\n",
       "      if (root._bokeh_is_loading === 0) {\n",
       "        console.debug(\"Bokeh: all BokehJS libraries/stylesheets loaded\");\n",
       "        run_callbacks()\n",
       "      }\n",
       "    }\n",
       "\n",
       "    function on_error() {\n",
       "      console.error(\"failed to load \" + url);\n",
       "    }\n",
       "\n",
       "    for (var i = 0; i < css_urls.length; i++) {\n",
       "      var url = css_urls[i];\n",
       "      const element = document.createElement(\"link\");\n",
       "      element.onload = on_load;\n",
       "      element.onerror = on_error;\n",
       "      element.rel = \"stylesheet\";\n",
       "      element.type = \"text/css\";\n",
       "      element.href = url;\n",
       "      console.debug(\"Bokeh: injecting link tag for BokehJS stylesheet: \", url);\n",
       "      document.body.appendChild(element);\n",
       "    }\n",
       "\n",
       "    var skip = [];\n",
       "    if (window.requirejs) {\n",
       "      window.requirejs.config({'packages': {}, 'paths': {'gridstack': 'https://cdn.jsdelivr.net/npm/gridstack@4.2.5/dist/gridstack-h5', 'notyf': 'https://cdn.jsdelivr.net/npm/notyf@3/notyf.min'}, 'shim': {'gridstack': {'exports': 'GridStack'}}});\n",
       "      require([\"gridstack\"], function(GridStack) {\n",
       "\twindow.GridStack = GridStack\n",
       "\ton_load()\n",
       "      })\n",
       "      require([\"notyf\"], function() {\n",
       "\ton_load()\n",
       "      })\n",
       "      root._bokeh_is_loading = css_urls.length + 2;\n",
       "    } else {\n",
       "      root._bokeh_is_loading = css_urls.length + js_urls.length + js_modules.length;\n",
       "    }    if (((window['GridStack'] !== undefined) && (!(window['GridStack'] instanceof HTMLElement))) || window.requirejs) {\n",
       "      var urls = ['https://cdn.holoviz.org/panel/0.14.3/dist/bundled/gridstack/gridstack@4.2.5/dist/gridstack-h5.js'];\n",
       "      for (var i = 0; i < urls.length; i++) {\n",
       "        skip.push(urls[i])\n",
       "      }\n",
       "    }    if (((window['Notyf'] !== undefined) && (!(window['Notyf'] instanceof HTMLElement))) || window.requirejs) {\n",
       "      var urls = ['https://cdn.holoviz.org/panel/0.14.3/dist/bundled/notificationarea/notyf@3/notyf.min.js'];\n",
       "      for (var i = 0; i < urls.length; i++) {\n",
       "        skip.push(urls[i])\n",
       "      }\n",
       "    }    for (var i = 0; i < js_urls.length; i++) {\n",
       "      var url = js_urls[i];\n",
       "      if (skip.indexOf(url) >= 0) {\n",
       "\tif (!window.requirejs) {\n",
       "\t  on_load();\n",
       "\t}\n",
       "\tcontinue;\n",
       "      }\n",
       "      var element = document.createElement('script');\n",
       "      element.onload = on_load;\n",
       "      element.onerror = on_error;\n",
       "      element.async = false;\n",
       "      element.src = url;\n",
       "      console.debug(\"Bokeh: injecting script tag for BokehJS library: \", url);\n",
       "      document.head.appendChild(element);\n",
       "    }\n",
       "    for (var i = 0; i < js_modules.length; i++) {\n",
       "      var url = js_modules[i];\n",
       "      if (skip.indexOf(url) >= 0) {\n",
       "\tif (!window.requirejs) {\n",
       "\t  on_load();\n",
       "\t}\n",
       "\tcontinue;\n",
       "      }\n",
       "      var element = document.createElement('script');\n",
       "      element.onload = on_load;\n",
       "      element.onerror = on_error;\n",
       "      element.async = false;\n",
       "      element.src = url;\n",
       "      element.type = \"module\";\n",
       "      console.debug(\"Bokeh: injecting script tag for BokehJS library: \", url);\n",
       "      document.head.appendChild(element);\n",
       "    }\n",
       "    if (!js_urls.length && !js_modules.length) {\n",
       "      on_load()\n",
       "    }\n",
       "  };\n",
       "\n",
       "  function inject_raw_css(css) {\n",
       "    const element = document.createElement(\"style\");\n",
       "    element.appendChild(document.createTextNode(css));\n",
       "    document.body.appendChild(element);\n",
       "  }\n",
       "\n",
       "  var js_urls = [\"https://cdn.bokeh.org/bokeh/release/bokeh-2.4.3.min.js\", \"https://cdn.bokeh.org/bokeh/release/bokeh-gl-2.4.3.min.js\", \"https://cdn.bokeh.org/bokeh/release/bokeh-widgets-2.4.3.min.js\", \"https://cdn.bokeh.org/bokeh/release/bokeh-tables-2.4.3.min.js\", \"https://cdn.bokeh.org/bokeh/release/bokeh-mathjax-2.4.3.min.js\", \"https://unpkg.com/@holoviz/panel@0.14.3/dist/panel.min.js\"];\n",
       "  var js_modules = [];\n",
       "  var css_urls = [\"https://cdn.holoviz.org/panel/0.14.3/dist/css/alerts.css\", \"https://cdn.holoviz.org/panel/0.14.3/dist/css/card.css\", \"https://cdn.holoviz.org/panel/0.14.3/dist/css/dataframe.css\", \"https://cdn.holoviz.org/panel/0.14.3/dist/css/debugger.css\", \"https://cdn.holoviz.org/panel/0.14.3/dist/css/json.css\", \"https://cdn.holoviz.org/panel/0.14.3/dist/css/loading.css\", \"https://cdn.holoviz.org/panel/0.14.3/dist/css/markdown.css\", \"https://cdn.holoviz.org/panel/0.14.3/dist/css/widgets.css\"];\n",
       "  var inline_js = [    function(Bokeh) {\n",
       "      inject_raw_css(\"\\n    .bk.pn-loading.arc:before {\\n      background-image: url(\\\"data:image/svg+xml;base64,PHN2ZyB4bWxucz0iaHR0cDovL3d3dy53My5vcmcvMjAwMC9zdmciIHN0eWxlPSJtYXJnaW46IGF1dG87IGJhY2tncm91bmQ6IG5vbmU7IGRpc3BsYXk6IGJsb2NrOyBzaGFwZS1yZW5kZXJpbmc6IGF1dG87IiB2aWV3Qm94PSIwIDAgMTAwIDEwMCIgcHJlc2VydmVBc3BlY3RSYXRpbz0ieE1pZFlNaWQiPiAgPGNpcmNsZSBjeD0iNTAiIGN5PSI1MCIgZmlsbD0ibm9uZSIgc3Ryb2tlPSIjYzNjM2MzIiBzdHJva2Utd2lkdGg9IjEwIiByPSIzNSIgc3Ryb2tlLWRhc2hhcnJheT0iMTY0LjkzMzYxNDMxMzQ2NDE1IDU2Ljk3Nzg3MTQzNzgyMTM4Ij4gICAgPGFuaW1hdGVUcmFuc2Zvcm0gYXR0cmlidXRlTmFtZT0idHJhbnNmb3JtIiB0eXBlPSJyb3RhdGUiIHJlcGVhdENvdW50PSJpbmRlZmluaXRlIiBkdXI9IjFzIiB2YWx1ZXM9IjAgNTAgNTA7MzYwIDUwIDUwIiBrZXlUaW1lcz0iMDsxIj48L2FuaW1hdGVUcmFuc2Zvcm0+ICA8L2NpcmNsZT48L3N2Zz4=\\\");\\n      background-size: auto calc(min(50%, 400px));\\n    }\\n    \");\n",
       "    },    function(Bokeh) {\n",
       "      Bokeh.set_log_level(\"info\");\n",
       "    },\n",
       "function(Bokeh) {} // ensure no trailing comma for IE\n",
       "  ];\n",
       "\n",
       "  function run_inline_js() {\n",
       "    if ((root.Bokeh !== undefined) || (force === true)) {\n",
       "      for (var i = 0; i < inline_js.length; i++) {\n",
       "        inline_js[i].call(root, root.Bokeh);\n",
       "      }} else if (Date.now() < root._bokeh_timeout) {\n",
       "      setTimeout(run_inline_js, 100);\n",
       "    } else if (!root._bokeh_failed_load) {\n",
       "      console.log(\"Bokeh: BokehJS failed to load within specified timeout.\");\n",
       "      root._bokeh_failed_load = true;\n",
       "    }\n",
       "  }\n",
       "\n",
       "  if (root._bokeh_is_loading === 0) {\n",
       "    console.debug(\"Bokeh: BokehJS loaded, going straight to plotting\");\n",
       "    run_inline_js();\n",
       "  } else {\n",
       "    load_libs(css_urls, js_urls, js_modules, function() {\n",
       "      console.debug(\"Bokeh: BokehJS plotting callback run at\", now());\n",
       "      run_inline_js();\n",
       "    });\n",
       "  }\n",
       "}(window));"
      ],
      "application/vnd.holoviews_load.v0+json": "(function(root) {\n  function now() {\n    return new Date();\n  }\n\n  var force = true;\n\n  if (typeof root._bokeh_onload_callbacks === \"undefined\" || force === true) {\n    root._bokeh_onload_callbacks = [];\n    root._bokeh_is_loading = undefined;\n  }\n\n  if (typeof (root._bokeh_timeout) === \"undefined\" || force === true) {\n    root._bokeh_timeout = Date.now() + 5000;\n    root._bokeh_failed_load = false;\n  }\n\n  function run_callbacks() {\n    try {\n      root._bokeh_onload_callbacks.forEach(function(callback) {\n        if (callback != null)\n          callback();\n      });\n    } finally {\n      delete root._bokeh_onload_callbacks\n    }\n    console.debug(\"Bokeh: all callbacks have finished\");\n  }\n\n  function load_libs(css_urls, js_urls, js_modules, callback) {\n    if (css_urls == null) css_urls = [];\n    if (js_urls == null) js_urls = [];\n    if (js_modules == null) js_modules = [];\n\n    root._bokeh_onload_callbacks.push(callback);\n    if (root._bokeh_is_loading > 0) {\n      console.debug(\"Bokeh: BokehJS is being loaded, scheduling callback at\", now());\n      return null;\n    }\n    if (js_urls.length === 0 && js_modules.length === 0) {\n      run_callbacks();\n      return null;\n    }\n    console.debug(\"Bokeh: BokehJS not loaded, scheduling load and callback at\", now());\n\n    function on_load() {\n      root._bokeh_is_loading--;\n      if (root._bokeh_is_loading === 0) {\n        console.debug(\"Bokeh: all BokehJS libraries/stylesheets loaded\");\n        run_callbacks()\n      }\n    }\n\n    function on_error() {\n      console.error(\"failed to load \" + url);\n    }\n\n    for (var i = 0; i < css_urls.length; i++) {\n      var url = css_urls[i];\n      const element = document.createElement(\"link\");\n      element.onload = on_load;\n      element.onerror = on_error;\n      element.rel = \"stylesheet\";\n      element.type = \"text/css\";\n      element.href = url;\n      console.debug(\"Bokeh: injecting link tag for BokehJS stylesheet: \", url);\n      document.body.appendChild(element);\n    }\n\n    var skip = [];\n    if (window.requirejs) {\n      window.requirejs.config({'packages': {}, 'paths': {'gridstack': 'https://cdn.jsdelivr.net/npm/gridstack@4.2.5/dist/gridstack-h5', 'notyf': 'https://cdn.jsdelivr.net/npm/notyf@3/notyf.min'}, 'shim': {'gridstack': {'exports': 'GridStack'}}});\n      require([\"gridstack\"], function(GridStack) {\n\twindow.GridStack = GridStack\n\ton_load()\n      })\n      require([\"notyf\"], function() {\n\ton_load()\n      })\n      root._bokeh_is_loading = css_urls.length + 2;\n    } else {\n      root._bokeh_is_loading = css_urls.length + js_urls.length + js_modules.length;\n    }    if (((window['GridStack'] !== undefined) && (!(window['GridStack'] instanceof HTMLElement))) || window.requirejs) {\n      var urls = ['https://cdn.holoviz.org/panel/0.14.3/dist/bundled/gridstack/gridstack@4.2.5/dist/gridstack-h5.js'];\n      for (var i = 0; i < urls.length; i++) {\n        skip.push(urls[i])\n      }\n    }    if (((window['Notyf'] !== undefined) && (!(window['Notyf'] instanceof HTMLElement))) || window.requirejs) {\n      var urls = ['https://cdn.holoviz.org/panel/0.14.3/dist/bundled/notificationarea/notyf@3/notyf.min.js'];\n      for (var i = 0; i < urls.length; i++) {\n        skip.push(urls[i])\n      }\n    }    for (var i = 0; i < js_urls.length; i++) {\n      var url = js_urls[i];\n      if (skip.indexOf(url) >= 0) {\n\tif (!window.requirejs) {\n\t  on_load();\n\t}\n\tcontinue;\n      }\n      var element = document.createElement('script');\n      element.onload = on_load;\n      element.onerror = on_error;\n      element.async = false;\n      element.src = url;\n      console.debug(\"Bokeh: injecting script tag for BokehJS library: \", url);\n      document.head.appendChild(element);\n    }\n    for (var i = 0; i < js_modules.length; i++) {\n      var url = js_modules[i];\n      if (skip.indexOf(url) >= 0) {\n\tif (!window.requirejs) {\n\t  on_load();\n\t}\n\tcontinue;\n      }\n      var element = document.createElement('script');\n      element.onload = on_load;\n      element.onerror = on_error;\n      element.async = false;\n      element.src = url;\n      element.type = \"module\";\n      console.debug(\"Bokeh: injecting script tag for BokehJS library: \", url);\n      document.head.appendChild(element);\n    }\n    if (!js_urls.length && !js_modules.length) {\n      on_load()\n    }\n  };\n\n  function inject_raw_css(css) {\n    const element = document.createElement(\"style\");\n    element.appendChild(document.createTextNode(css));\n    document.body.appendChild(element);\n  }\n\n  var js_urls = [\"https://cdn.bokeh.org/bokeh/release/bokeh-2.4.3.min.js\", \"https://cdn.bokeh.org/bokeh/release/bokeh-gl-2.4.3.min.js\", \"https://cdn.bokeh.org/bokeh/release/bokeh-widgets-2.4.3.min.js\", \"https://cdn.bokeh.org/bokeh/release/bokeh-tables-2.4.3.min.js\", \"https://cdn.bokeh.org/bokeh/release/bokeh-mathjax-2.4.3.min.js\", \"https://unpkg.com/@holoviz/panel@0.14.3/dist/panel.min.js\"];\n  var js_modules = [];\n  var css_urls = [\"https://cdn.holoviz.org/panel/0.14.3/dist/css/alerts.css\", \"https://cdn.holoviz.org/panel/0.14.3/dist/css/card.css\", \"https://cdn.holoviz.org/panel/0.14.3/dist/css/dataframe.css\", \"https://cdn.holoviz.org/panel/0.14.3/dist/css/debugger.css\", \"https://cdn.holoviz.org/panel/0.14.3/dist/css/json.css\", \"https://cdn.holoviz.org/panel/0.14.3/dist/css/loading.css\", \"https://cdn.holoviz.org/panel/0.14.3/dist/css/markdown.css\", \"https://cdn.holoviz.org/panel/0.14.3/dist/css/widgets.css\"];\n  var inline_js = [    function(Bokeh) {\n      inject_raw_css(\"\\n    .bk.pn-loading.arc:before {\\n      background-image: url(\\\"data:image/svg+xml;base64,PHN2ZyB4bWxucz0iaHR0cDovL3d3dy53My5vcmcvMjAwMC9zdmciIHN0eWxlPSJtYXJnaW46IGF1dG87IGJhY2tncm91bmQ6IG5vbmU7IGRpc3BsYXk6IGJsb2NrOyBzaGFwZS1yZW5kZXJpbmc6IGF1dG87IiB2aWV3Qm94PSIwIDAgMTAwIDEwMCIgcHJlc2VydmVBc3BlY3RSYXRpbz0ieE1pZFlNaWQiPiAgPGNpcmNsZSBjeD0iNTAiIGN5PSI1MCIgZmlsbD0ibm9uZSIgc3Ryb2tlPSIjYzNjM2MzIiBzdHJva2Utd2lkdGg9IjEwIiByPSIzNSIgc3Ryb2tlLWRhc2hhcnJheT0iMTY0LjkzMzYxNDMxMzQ2NDE1IDU2Ljk3Nzg3MTQzNzgyMTM4Ij4gICAgPGFuaW1hdGVUcmFuc2Zvcm0gYXR0cmlidXRlTmFtZT0idHJhbnNmb3JtIiB0eXBlPSJyb3RhdGUiIHJlcGVhdENvdW50PSJpbmRlZmluaXRlIiBkdXI9IjFzIiB2YWx1ZXM9IjAgNTAgNTA7MzYwIDUwIDUwIiBrZXlUaW1lcz0iMDsxIj48L2FuaW1hdGVUcmFuc2Zvcm0+ICA8L2NpcmNsZT48L3N2Zz4=\\\");\\n      background-size: auto calc(min(50%, 400px));\\n    }\\n    \");\n    },    function(Bokeh) {\n      Bokeh.set_log_level(\"info\");\n    },\nfunction(Bokeh) {} // ensure no trailing comma for IE\n  ];\n\n  function run_inline_js() {\n    if ((root.Bokeh !== undefined) || (force === true)) {\n      for (var i = 0; i < inline_js.length; i++) {\n        inline_js[i].call(root, root.Bokeh);\n      }} else if (Date.now() < root._bokeh_timeout) {\n      setTimeout(run_inline_js, 100);\n    } else if (!root._bokeh_failed_load) {\n      console.log(\"Bokeh: BokehJS failed to load within specified timeout.\");\n      root._bokeh_failed_load = true;\n    }\n  }\n\n  if (root._bokeh_is_loading === 0) {\n    console.debug(\"Bokeh: BokehJS loaded, going straight to plotting\");\n    run_inline_js();\n  } else {\n    load_libs(css_urls, js_urls, js_modules, function() {\n      console.debug(\"Bokeh: BokehJS plotting callback run at\", now());\n      run_inline_js();\n    });\n  }\n}(window));"
     },
     "metadata": {},
     "output_type": "display_data"
    },
    {
     "data": {
      "application/javascript": [
       "\n",
       "if ((window.PyViz === undefined) || (window.PyViz instanceof HTMLElement)) {\n",
       "  window.PyViz = {comms: {}, comm_status:{}, kernels:{}, receivers: {}, plot_index: []}\n",
       "}\n",
       "\n",
       "\n",
       "    function JupyterCommManager() {\n",
       "    }\n",
       "\n",
       "    JupyterCommManager.prototype.register_target = function(plot_id, comm_id, msg_handler) {\n",
       "      if (window.comm_manager || ((window.Jupyter !== undefined) && (Jupyter.notebook.kernel != null))) {\n",
       "        var comm_manager = window.comm_manager || Jupyter.notebook.kernel.comm_manager;\n",
       "        comm_manager.register_target(comm_id, function(comm) {\n",
       "          comm.on_msg(msg_handler);\n",
       "        });\n",
       "      } else if ((plot_id in window.PyViz.kernels) && (window.PyViz.kernels[plot_id])) {\n",
       "        window.PyViz.kernels[plot_id].registerCommTarget(comm_id, function(comm) {\n",
       "          comm.onMsg = msg_handler;\n",
       "        });\n",
       "      } else if (typeof google != 'undefined' && google.colab.kernel != null) {\n",
       "        google.colab.kernel.comms.registerTarget(comm_id, (comm) => {\n",
       "          var messages = comm.messages[Symbol.asyncIterator]();\n",
       "          function processIteratorResult(result) {\n",
       "            var message = result.value;\n",
       "            console.log(message)\n",
       "            var content = {data: message.data, comm_id};\n",
       "            var buffers = []\n",
       "            for (var buffer of message.buffers || []) {\n",
       "              buffers.push(new DataView(buffer))\n",
       "            }\n",
       "            var metadata = message.metadata || {};\n",
       "            var msg = {content, buffers, metadata}\n",
       "            msg_handler(msg);\n",
       "            return messages.next().then(processIteratorResult);\n",
       "          }\n",
       "          return messages.next().then(processIteratorResult);\n",
       "        })\n",
       "      }\n",
       "    }\n",
       "\n",
       "    JupyterCommManager.prototype.get_client_comm = function(plot_id, comm_id, msg_handler) {\n",
       "      if (comm_id in window.PyViz.comms) {\n",
       "        return window.PyViz.comms[comm_id];\n",
       "      } else if (window.comm_manager || ((window.Jupyter !== undefined) && (Jupyter.notebook.kernel != null))) {\n",
       "        var comm_manager = window.comm_manager || Jupyter.notebook.kernel.comm_manager;\n",
       "        var comm = comm_manager.new_comm(comm_id, {}, {}, {}, comm_id);\n",
       "        if (msg_handler) {\n",
       "          comm.on_msg(msg_handler);\n",
       "        }\n",
       "      } else if ((plot_id in window.PyViz.kernels) && (window.PyViz.kernels[plot_id])) {\n",
       "        var comm = window.PyViz.kernels[plot_id].connectToComm(comm_id);\n",
       "        comm.open();\n",
       "        if (msg_handler) {\n",
       "          comm.onMsg = msg_handler;\n",
       "        }\n",
       "      } else if (typeof google != 'undefined' && google.colab.kernel != null) {\n",
       "        var comm_promise = google.colab.kernel.comms.open(comm_id)\n",
       "        comm_promise.then((comm) => {\n",
       "          window.PyViz.comms[comm_id] = comm;\n",
       "          if (msg_handler) {\n",
       "            var messages = comm.messages[Symbol.asyncIterator]();\n",
       "            function processIteratorResult(result) {\n",
       "              var message = result.value;\n",
       "              var content = {data: message.data};\n",
       "              var metadata = message.metadata || {comm_id};\n",
       "              var msg = {content, metadata}\n",
       "              msg_handler(msg);\n",
       "              return messages.next().then(processIteratorResult);\n",
       "            }\n",
       "            return messages.next().then(processIteratorResult);\n",
       "          }\n",
       "        }) \n",
       "        var sendClosure = (data, metadata, buffers, disposeOnDone) => {\n",
       "          return comm_promise.then((comm) => {\n",
       "            comm.send(data, metadata, buffers, disposeOnDone);\n",
       "          });\n",
       "        };\n",
       "        var comm = {\n",
       "          send: sendClosure\n",
       "        };\n",
       "      }\n",
       "      window.PyViz.comms[comm_id] = comm;\n",
       "      return comm;\n",
       "    }\n",
       "    window.PyViz.comm_manager = new JupyterCommManager();\n",
       "    \n",
       "\n",
       "\n",
       "var JS_MIME_TYPE = 'application/javascript';\n",
       "var HTML_MIME_TYPE = 'text/html';\n",
       "var EXEC_MIME_TYPE = 'application/vnd.holoviews_exec.v0+json';\n",
       "var CLASS_NAME = 'output';\n",
       "\n",
       "/**\n",
       " * Render data to the DOM node\n",
       " */\n",
       "function render(props, node) {\n",
       "  var div = document.createElement(\"div\");\n",
       "  var script = document.createElement(\"script\");\n",
       "  node.appendChild(div);\n",
       "  node.appendChild(script);\n",
       "}\n",
       "\n",
       "/**\n",
       " * Handle when a new output is added\n",
       " */\n",
       "function handle_add_output(event, handle) {\n",
       "  var output_area = handle.output_area;\n",
       "  var output = handle.output;\n",
       "  if ((output.data == undefined) || (!output.data.hasOwnProperty(EXEC_MIME_TYPE))) {\n",
       "    return\n",
       "  }\n",
       "  var id = output.metadata[EXEC_MIME_TYPE][\"id\"];\n",
       "  var toinsert = output_area.element.find(\".\" + CLASS_NAME.split(' ')[0]);\n",
       "  if (id !== undefined) {\n",
       "    var nchildren = toinsert.length;\n",
       "    var html_node = toinsert[nchildren-1].children[0];\n",
       "    html_node.innerHTML = output.data[HTML_MIME_TYPE];\n",
       "    var scripts = [];\n",
       "    var nodelist = html_node.querySelectorAll(\"script\");\n",
       "    for (var i in nodelist) {\n",
       "      if (nodelist.hasOwnProperty(i)) {\n",
       "        scripts.push(nodelist[i])\n",
       "      }\n",
       "    }\n",
       "\n",
       "    scripts.forEach( function (oldScript) {\n",
       "      var newScript = document.createElement(\"script\");\n",
       "      var attrs = [];\n",
       "      var nodemap = oldScript.attributes;\n",
       "      for (var j in nodemap) {\n",
       "        if (nodemap.hasOwnProperty(j)) {\n",
       "          attrs.push(nodemap[j])\n",
       "        }\n",
       "      }\n",
       "      attrs.forEach(function(attr) { newScript.setAttribute(attr.name, attr.value) });\n",
       "      newScript.appendChild(document.createTextNode(oldScript.innerHTML));\n",
       "      oldScript.parentNode.replaceChild(newScript, oldScript);\n",
       "    });\n",
       "    if (JS_MIME_TYPE in output.data) {\n",
       "      toinsert[nchildren-1].children[1].textContent = output.data[JS_MIME_TYPE];\n",
       "    }\n",
       "    output_area._hv_plot_id = id;\n",
       "    if ((window.Bokeh !== undefined) && (id in Bokeh.index)) {\n",
       "      window.PyViz.plot_index[id] = Bokeh.index[id];\n",
       "    } else {\n",
       "      window.PyViz.plot_index[id] = null;\n",
       "    }\n",
       "  } else if (output.metadata[EXEC_MIME_TYPE][\"server_id\"] !== undefined) {\n",
       "    var bk_div = document.createElement(\"div\");\n",
       "    bk_div.innerHTML = output.data[HTML_MIME_TYPE];\n",
       "    var script_attrs = bk_div.children[0].attributes;\n",
       "    for (var i = 0; i < script_attrs.length; i++) {\n",
       "      toinsert[toinsert.length - 1].childNodes[1].setAttribute(script_attrs[i].name, script_attrs[i].value);\n",
       "    }\n",
       "    // store reference to server id on output_area\n",
       "    output_area._bokeh_server_id = output.metadata[EXEC_MIME_TYPE][\"server_id\"];\n",
       "  }\n",
       "}\n",
       "\n",
       "/**\n",
       " * Handle when an output is cleared or removed\n",
       " */\n",
       "function handle_clear_output(event, handle) {\n",
       "  var id = handle.cell.output_area._hv_plot_id;\n",
       "  var server_id = handle.cell.output_area._bokeh_server_id;\n",
       "  if (((id === undefined) || !(id in PyViz.plot_index)) && (server_id !== undefined)) { return; }\n",
       "  var comm = window.PyViz.comm_manager.get_client_comm(\"hv-extension-comm\", \"hv-extension-comm\", function () {});\n",
       "  if (server_id !== null) {\n",
       "    comm.send({event_type: 'server_delete', 'id': server_id});\n",
       "    return;\n",
       "  } else if (comm !== null) {\n",
       "    comm.send({event_type: 'delete', 'id': id});\n",
       "  }\n",
       "  delete PyViz.plot_index[id];\n",
       "  if ((window.Bokeh !== undefined) & (id in window.Bokeh.index)) {\n",
       "    var doc = window.Bokeh.index[id].model.document\n",
       "    doc.clear();\n",
       "    const i = window.Bokeh.documents.indexOf(doc);\n",
       "    if (i > -1) {\n",
       "      window.Bokeh.documents.splice(i, 1);\n",
       "    }\n",
       "  }\n",
       "}\n",
       "\n",
       "/**\n",
       " * Handle kernel restart event\n",
       " */\n",
       "function handle_kernel_cleanup(event, handle) {\n",
       "  delete PyViz.comms[\"hv-extension-comm\"];\n",
       "  window.PyViz.plot_index = {}\n",
       "}\n",
       "\n",
       "/**\n",
       " * Handle update_display_data messages\n",
       " */\n",
       "function handle_update_output(event, handle) {\n",
       "  handle_clear_output(event, {cell: {output_area: handle.output_area}})\n",
       "  handle_add_output(event, handle)\n",
       "}\n",
       "\n",
       "function register_renderer(events, OutputArea) {\n",
       "  function append_mime(data, metadata, element) {\n",
       "    // create a DOM node to render to\n",
       "    var toinsert = this.create_output_subarea(\n",
       "    metadata,\n",
       "    CLASS_NAME,\n",
       "    EXEC_MIME_TYPE\n",
       "    );\n",
       "    this.keyboard_manager.register_events(toinsert);\n",
       "    // Render to node\n",
       "    var props = {data: data, metadata: metadata[EXEC_MIME_TYPE]};\n",
       "    render(props, toinsert[0]);\n",
       "    element.append(toinsert);\n",
       "    return toinsert\n",
       "  }\n",
       "\n",
       "  events.on('output_added.OutputArea', handle_add_output);\n",
       "  events.on('output_updated.OutputArea', handle_update_output);\n",
       "  events.on('clear_output.CodeCell', handle_clear_output);\n",
       "  events.on('delete.Cell', handle_clear_output);\n",
       "  events.on('kernel_ready.Kernel', handle_kernel_cleanup);\n",
       "\n",
       "  OutputArea.prototype.register_mime_type(EXEC_MIME_TYPE, append_mime, {\n",
       "    safe: true,\n",
       "    index: 0\n",
       "  });\n",
       "}\n",
       "\n",
       "if (window.Jupyter !== undefined) {\n",
       "  try {\n",
       "    var events = require('base/js/events');\n",
       "    var OutputArea = require('notebook/js/outputarea').OutputArea;\n",
       "    if (OutputArea.prototype.mime_types().indexOf(EXEC_MIME_TYPE) == -1) {\n",
       "      register_renderer(events, OutputArea);\n",
       "    }\n",
       "  } catch(err) {\n",
       "  }\n",
       "}\n"
      ],
      "application/vnd.holoviews_load.v0+json": "\nif ((window.PyViz === undefined) || (window.PyViz instanceof HTMLElement)) {\n  window.PyViz = {comms: {}, comm_status:{}, kernels:{}, receivers: {}, plot_index: []}\n}\n\n\n    function JupyterCommManager() {\n    }\n\n    JupyterCommManager.prototype.register_target = function(plot_id, comm_id, msg_handler) {\n      if (window.comm_manager || ((window.Jupyter !== undefined) && (Jupyter.notebook.kernel != null))) {\n        var comm_manager = window.comm_manager || Jupyter.notebook.kernel.comm_manager;\n        comm_manager.register_target(comm_id, function(comm) {\n          comm.on_msg(msg_handler);\n        });\n      } else if ((plot_id in window.PyViz.kernels) && (window.PyViz.kernels[plot_id])) {\n        window.PyViz.kernels[plot_id].registerCommTarget(comm_id, function(comm) {\n          comm.onMsg = msg_handler;\n        });\n      } else if (typeof google != 'undefined' && google.colab.kernel != null) {\n        google.colab.kernel.comms.registerTarget(comm_id, (comm) => {\n          var messages = comm.messages[Symbol.asyncIterator]();\n          function processIteratorResult(result) {\n            var message = result.value;\n            console.log(message)\n            var content = {data: message.data, comm_id};\n            var buffers = []\n            for (var buffer of message.buffers || []) {\n              buffers.push(new DataView(buffer))\n            }\n            var metadata = message.metadata || {};\n            var msg = {content, buffers, metadata}\n            msg_handler(msg);\n            return messages.next().then(processIteratorResult);\n          }\n          return messages.next().then(processIteratorResult);\n        })\n      }\n    }\n\n    JupyterCommManager.prototype.get_client_comm = function(plot_id, comm_id, msg_handler) {\n      if (comm_id in window.PyViz.comms) {\n        return window.PyViz.comms[comm_id];\n      } else if (window.comm_manager || ((window.Jupyter !== undefined) && (Jupyter.notebook.kernel != null))) {\n        var comm_manager = window.comm_manager || Jupyter.notebook.kernel.comm_manager;\n        var comm = comm_manager.new_comm(comm_id, {}, {}, {}, comm_id);\n        if (msg_handler) {\n          comm.on_msg(msg_handler);\n        }\n      } else if ((plot_id in window.PyViz.kernels) && (window.PyViz.kernels[plot_id])) {\n        var comm = window.PyViz.kernels[plot_id].connectToComm(comm_id);\n        comm.open();\n        if (msg_handler) {\n          comm.onMsg = msg_handler;\n        }\n      } else if (typeof google != 'undefined' && google.colab.kernel != null) {\n        var comm_promise = google.colab.kernel.comms.open(comm_id)\n        comm_promise.then((comm) => {\n          window.PyViz.comms[comm_id] = comm;\n          if (msg_handler) {\n            var messages = comm.messages[Symbol.asyncIterator]();\n            function processIteratorResult(result) {\n              var message = result.value;\n              var content = {data: message.data};\n              var metadata = message.metadata || {comm_id};\n              var msg = {content, metadata}\n              msg_handler(msg);\n              return messages.next().then(processIteratorResult);\n            }\n            return messages.next().then(processIteratorResult);\n          }\n        }) \n        var sendClosure = (data, metadata, buffers, disposeOnDone) => {\n          return comm_promise.then((comm) => {\n            comm.send(data, metadata, buffers, disposeOnDone);\n          });\n        };\n        var comm = {\n          send: sendClosure\n        };\n      }\n      window.PyViz.comms[comm_id] = comm;\n      return comm;\n    }\n    window.PyViz.comm_manager = new JupyterCommManager();\n    \n\n\nvar JS_MIME_TYPE = 'application/javascript';\nvar HTML_MIME_TYPE = 'text/html';\nvar EXEC_MIME_TYPE = 'application/vnd.holoviews_exec.v0+json';\nvar CLASS_NAME = 'output';\n\n/**\n * Render data to the DOM node\n */\nfunction render(props, node) {\n  var div = document.createElement(\"div\");\n  var script = document.createElement(\"script\");\n  node.appendChild(div);\n  node.appendChild(script);\n}\n\n/**\n * Handle when a new output is added\n */\nfunction handle_add_output(event, handle) {\n  var output_area = handle.output_area;\n  var output = handle.output;\n  if ((output.data == undefined) || (!output.data.hasOwnProperty(EXEC_MIME_TYPE))) {\n    return\n  }\n  var id = output.metadata[EXEC_MIME_TYPE][\"id\"];\n  var toinsert = output_area.element.find(\".\" + CLASS_NAME.split(' ')[0]);\n  if (id !== undefined) {\n    var nchildren = toinsert.length;\n    var html_node = toinsert[nchildren-1].children[0];\n    html_node.innerHTML = output.data[HTML_MIME_TYPE];\n    var scripts = [];\n    var nodelist = html_node.querySelectorAll(\"script\");\n    for (var i in nodelist) {\n      if (nodelist.hasOwnProperty(i)) {\n        scripts.push(nodelist[i])\n      }\n    }\n\n    scripts.forEach( function (oldScript) {\n      var newScript = document.createElement(\"script\");\n      var attrs = [];\n      var nodemap = oldScript.attributes;\n      for (var j in nodemap) {\n        if (nodemap.hasOwnProperty(j)) {\n          attrs.push(nodemap[j])\n        }\n      }\n      attrs.forEach(function(attr) { newScript.setAttribute(attr.name, attr.value) });\n      newScript.appendChild(document.createTextNode(oldScript.innerHTML));\n      oldScript.parentNode.replaceChild(newScript, oldScript);\n    });\n    if (JS_MIME_TYPE in output.data) {\n      toinsert[nchildren-1].children[1].textContent = output.data[JS_MIME_TYPE];\n    }\n    output_area._hv_plot_id = id;\n    if ((window.Bokeh !== undefined) && (id in Bokeh.index)) {\n      window.PyViz.plot_index[id] = Bokeh.index[id];\n    } else {\n      window.PyViz.plot_index[id] = null;\n    }\n  } else if (output.metadata[EXEC_MIME_TYPE][\"server_id\"] !== undefined) {\n    var bk_div = document.createElement(\"div\");\n    bk_div.innerHTML = output.data[HTML_MIME_TYPE];\n    var script_attrs = bk_div.children[0].attributes;\n    for (var i = 0; i < script_attrs.length; i++) {\n      toinsert[toinsert.length - 1].childNodes[1].setAttribute(script_attrs[i].name, script_attrs[i].value);\n    }\n    // store reference to server id on output_area\n    output_area._bokeh_server_id = output.metadata[EXEC_MIME_TYPE][\"server_id\"];\n  }\n}\n\n/**\n * Handle when an output is cleared or removed\n */\nfunction handle_clear_output(event, handle) {\n  var id = handle.cell.output_area._hv_plot_id;\n  var server_id = handle.cell.output_area._bokeh_server_id;\n  if (((id === undefined) || !(id in PyViz.plot_index)) && (server_id !== undefined)) { return; }\n  var comm = window.PyViz.comm_manager.get_client_comm(\"hv-extension-comm\", \"hv-extension-comm\", function () {});\n  if (server_id !== null) {\n    comm.send({event_type: 'server_delete', 'id': server_id});\n    return;\n  } else if (comm !== null) {\n    comm.send({event_type: 'delete', 'id': id});\n  }\n  delete PyViz.plot_index[id];\n  if ((window.Bokeh !== undefined) & (id in window.Bokeh.index)) {\n    var doc = window.Bokeh.index[id].model.document\n    doc.clear();\n    const i = window.Bokeh.documents.indexOf(doc);\n    if (i > -1) {\n      window.Bokeh.documents.splice(i, 1);\n    }\n  }\n}\n\n/**\n * Handle kernel restart event\n */\nfunction handle_kernel_cleanup(event, handle) {\n  delete PyViz.comms[\"hv-extension-comm\"];\n  window.PyViz.plot_index = {}\n}\n\n/**\n * Handle update_display_data messages\n */\nfunction handle_update_output(event, handle) {\n  handle_clear_output(event, {cell: {output_area: handle.output_area}})\n  handle_add_output(event, handle)\n}\n\nfunction register_renderer(events, OutputArea) {\n  function append_mime(data, metadata, element) {\n    // create a DOM node to render to\n    var toinsert = this.create_output_subarea(\n    metadata,\n    CLASS_NAME,\n    EXEC_MIME_TYPE\n    );\n    this.keyboard_manager.register_events(toinsert);\n    // Render to node\n    var props = {data: data, metadata: metadata[EXEC_MIME_TYPE]};\n    render(props, toinsert[0]);\n    element.append(toinsert);\n    return toinsert\n  }\n\n  events.on('output_added.OutputArea', handle_add_output);\n  events.on('output_updated.OutputArea', handle_update_output);\n  events.on('clear_output.CodeCell', handle_clear_output);\n  events.on('delete.Cell', handle_clear_output);\n  events.on('kernel_ready.Kernel', handle_kernel_cleanup);\n\n  OutputArea.prototype.register_mime_type(EXEC_MIME_TYPE, append_mime, {\n    safe: true,\n    index: 0\n  });\n}\n\nif (window.Jupyter !== undefined) {\n  try {\n    var events = require('base/js/events');\n    var OutputArea = require('notebook/js/outputarea').OutputArea;\n    if (OutputArea.prototype.mime_types().indexOf(EXEC_MIME_TYPE) == -1) {\n      register_renderer(events, OutputArea);\n    }\n  } catch(err) {\n  }\n}\n"
     },
     "metadata": {},
     "output_type": "display_data"
    },
    {
     "data": {
      "text/html": [
       "<style>.bk-root, .bk-root .bk:before, .bk-root .bk:after {\n",
       "  font-family: var(--jp-ui-font-size1);\n",
       "  font-size: var(--jp-ui-font-size1);\n",
       "  color: var(--jp-ui-font-color1);\n",
       "}\n",
       "</style>"
      ]
     },
     "metadata": {},
     "output_type": "display_data"
    },
    {
     "data": {
      "text/html": [
       "\n",
       "<div class=\"logo-block\">\n",
       "<img src='data:image/png;base64,iVBORw0KGgoAAAANSUhEUgAAAEAAAABACAYAAACqaXHeAAAABHNCSVQICAgIfAhkiAAAAAlwSFlz\n",
       "AAAB+wAAAfsBxc2miwAAABl0RVh0U29mdHdhcmUAd3d3Lmlua3NjYXBlLm9yZ5vuPBoAAA6zSURB\n",
       "VHic7ZtpeFRVmsf/5966taWqUlUJ2UioBBJiIBAwCZtog9IOgjqACsogKtqirT2ttt069nQ/zDzt\n",
       "tI4+CrJIREFaFgWhBXpUNhHZQoKBkIUASchWla1S+3ar7r1nPkDaCAnZKoQP/D7mnPOe9/xy76n3\n",
       "nFSAW9ziFoPFNED2LLK5wcyBDObkb8ZkxuaoSYlI6ZcOKq1eWFdedqNzGHQBk9RMEwFAASkk0Xw3\n",
       "ETacDNi2vtvc7L0ROdw0AjoSotQVkKSvHQz/wRO1lScGModBFbDMaNRN1A4tUBCS3lk7BWhQkgpD\n",
       "lG4852/+7DWr1R3uHAZVQDsbh6ZPN7CyxUrCzJMRouusj0ipRwD2uKm0Zn5d2dFwzX1TCGhnmdGo\n",
       "G62Nna+isiUqhkzuKrkQaJlPEv5mFl2fvGg2t/VnzkEV8F5ioioOEWkLG86fvbpthynjdhXYZziQ\n",
       "x1hC9J2NFyi8vCTt91Fh04KGip0AaG9zuCk2wQCVyoNU3Hjezee9bq92duzzTmxsRJoy+jEZZZYo\n",
       "GTKJ6SJngdJqAfRzpze0+jHreUtPc7gpBLQnIYK6BYp/uGhw9YK688eu7v95ysgshcg9qSLMo3JC\n",
       "4jqLKQFBgdKDPoQ+Pltb8dUyQLpeDjeVgI6EgLIQFT5tEl3rn2losHVsexbZ3EyT9wE1uGdkIPcy\n",
       "BGxn8QUq1QrA5nqW5i2tLqvrrM9NK6AdkVIvL9E9bZL/oyfMVd/jqvc8LylzRBKDJSzIExwhQzuL\n",
       "QYGQj4rHfFTc8mUdu3E7yoLtbTe9gI4EqVgVkug2i5+uXGo919ixbRog+3fTbQ8qJe4ZOYNfMoTI\n",
       "OoshUNosgO60AisX15aeI2PSIp5KiFLI9ubb1vV3Qb2ltwLakUCDAkWX7/nHKRmmGIl9VgYsUhJm\n",
       "2NXjKYADtM1ygne9QQDIXlk49FBstMKx66D1v4+XuQr7vqTe0VcBHQlRWiOCbmmSYe2SqtL6q5rJ\n",
       "zsTb7lKx3FKOYC4DoqyS/B5bvLPxvD9Qtf6saxYLQGJErmDOdOMr/zo96km1nElr8bmPOBwI9COv\n",
       "HnFPRIwmkSOv9kcAS4heRsidOkpeWBgZM+UBrTFAXNYL5Vf2ii9c1trNzpYdaoVil3WIc+wdk+gQ\n",
       "noie3ecCcxt9ITcLAPWt/laGEO/9U6PmzZkenTtsSMQ8uYywJVW+grCstAvCIaAdArAsIWkRDDs/\n",
       "KzLm2YcjY1Lv0UdW73HabE9n6V66cxSzfEmuJssTpKGVp+0vHq73FwL46eOjpMpbRAnNmJFrGJNu\n",
       "Ukf9Yrz+3rghiumCKNXXWPhLYcjxGsIpoCMsIRoFITkW8AuyM8jC1+/QLx4bozCEJIq38+1rtpR6\n",
       "V/yzb8eBlRb3fo5l783N0CWolAzJHaVNzkrTzlEp2bQ2q3TC5gn6wpnoQAmwSiGh2GitnTmVMc5O\n",
       "UyfKWUKCIsU7+fZDKwqdT6DDpvkzAX4/+AMFjk0tDp5GRXLpQ2MUmhgDp5gxQT8+Y7hyPsMi8uxF\n",
       "71H0oebujHALECjFKaW9Lm68n18wXp2kVzIcABytD5iXFzg+WVXkegpAsOOYziqo0OkK76GyquC3\n",
       "ltZAzMhhqlSNmmWTE5T6e3IN05ITFLM4GdN0vtZ3ob8Jh1NAKXFbm5PtLU/eqTSlGjkNAJjdgn/N\n",
       "aedXa0tdi7+t9G0FIF49rtMSEgAs1kDLkTPO7ebm4IUWeyh1bKomXqlgMG6kJmHcSM0clYLJ8XtR\n",
       "1GTnbV3F6I5wCGikAb402npp1h1s7LQUZZSMIfALFOuL3UUrfnS8+rez7v9qcold5tilgHbO1fjK\n",
       "9ubb17u9oshxzMiUBKXWqJNxd+fqb0tLVs4lILFnK71H0Ind7uiPgACVcFJlrb0tV6DzxqqTIhUM\n",
       "CwDf1/rrVhTa33/3pGPxJYdQ2l2cbgVcQSosdx8uqnDtbGjh9SlDVSMNWhlnilfqZk42Th2ZpLpf\n",
       "xrHec5e815zrr0dfBZSwzkZfqsv+1FS1KUknUwPARVvItfKUY+cn57yP7qv07UE3p8B2uhUwLk09\n",
       "e0SCOrK+hbdYHYLjRIl71wWzv9jpEoeOHhGRrJAzyEyNiJuUqX0g2sBN5kGK6y2Blp5M3lsB9Qh4\n",
       "y2Ja6x6+i0ucmKgwMATwhSjdUu49tKrQ/pvN5d53ml2CGwCmJipmKjgmyuaXzNeL2a0AkQ01Th5j\n",
       "2DktO3Jyk8f9vcOBQHV94OK+fPumJmvQHxJoWkaKWq9Vs+yUsbq0zGT1I4RgeH2b5wef7+c7bl8F\n",
       "eKgoHVVZa8ZPEORzR6sT1BzDUAD/d9F78e2Tzv99v8D+fLVTqAKAsbGamKey1Mt9Ann4eH3gTXTz\n",
       "idWtAJ8PQWOk7NzSeQn/OTHDuEikVF1R4z8BQCy+6D1aWRfY0tTGG2OM8rRoPaeIj5ZHzJxszElN\n",
       "VM8K8JS5WOfv8mzRnQAKoEhmt8gyPM4lU9SmBK1MCQBnW4KONT86v1hZ1PbwSXPw4JWussVjtH9Y\n",
       "NCoiL9UoH/6PSu8jFrfY2t36erQHXLIEakMi1SydmzB31h3GGXFDFNPaK8Rme9B79Ixrd0WN+1ij\n",
       "NRQ/doRmuFLBkHSTOm5GruG+pFjFdAmorG4IXH1Qua6ASniclfFtDYt+oUjKipPrCQB7QBQ2lrgP\n",
       "fFzm+9XWUtcqJ3/5vDLDpJ79XHZk3u8nGZ42qlj1+ydtbxysCezrydp6ugmipNJ7WBPB5tydY0jP\n",
       "HaVNzs3QzeE4ZpTbI+ZbnSFPbVOw9vsfnVvqWnirPyCNGD08IlqtYkh2hjZ5dErEQzoNm+6ykyOt\n",
       "Lt5/PQEuSRRKo22VkydK+vvS1XEKlhCJAnsqvcVvH7f/ZU2R67eXbMEGAMiIV5oWZWiWvz5Fv2xG\n",
       "sjqNJQRvn3Rs2lji/lNP19VjAQDgD7FHhujZB9OGqYxRkZxixgRDVlqS6uEOFaJUVu0rPFzctrnF\n",
       "JqijImVp8dEKVWyUXDk92zAuMZ6bFwpBU1HrOw6AdhQgUooChb0+ItMbWJitSo5Ws3IAOGEOtL53\n",
       "0vHZih9sC4vtofZ7Qu6523V/fmGcds1TY3V36pUsBwAbSlxnVh2xLfAD/IAIMDf7XYIkNmXfpp2l\n",
       "18rkAJAy9HKFaIr/qULkeQQKy9zf1JgDB2uaeFNGijo5QsUyacNUUTOnGO42xSnv4oOwpDi1zYkc\n",
       "efUc3I5Gk6PhyTuVKaOGyLUAYPGIoY9Pu/atL/L92+4q9wbflRJ2Trpm/jPjdBtfnqB/dIThcl8A\n",
       "KG7hbRuKnb8qsQsVvVlTrwQAQMUlf3kwJI24Z4JhPMtcfng5GcH49GsrxJpGvvHIaeem2ma+KSjQ\n",
       "lIwUdYyCY8j4dE1KzijNnIP2llF2wcXNnsoapw9XxsgYAl6k+KzUXbi2yP3KR2ecf6z3BFsBICdW\n",
       "nvnIaG3eHybqX7vbpEqUMT+9OL4Qpe8VON7dXuFd39v19FoAABRVePbGGuXTszO0P7tu6lghUonE\n",
       "llRdrhArLvmKdh9u29jcFiRRkfLUxBiFNiqSU9icoZQHo5mYBI1MBgBH6wMNb+U7Pnw337H4gi1Y\n",
       "ciWs+uks3Z9fztUvfzxTm9Ne8XXkvQLHNytOOZeiD4e0PgkAIAYCYknKUNUDSXEKzdWNpnil7r4p\n",
       "xqkjTarZMtk/K8TQ6Qve78qqvXurGwIJqcOUKfUWHsm8KGvxSP68YudXq4pcj39X49uOK2X142O0\n",
       "Tz5/u/7TVybqH0rSya6ZBwD21/gubbrgWdDgEOx9WUhfBaC2ibcEBYm7a7x+ukrBMNcEZggyR0TE\n",
       "T8zUPjikQ4VosQZbTpS4vqizBKvqmvjsqnpfzaZyx9JPiz1/bfGKdgD45XB1zoIMzYbfTdS/NClB\n",
       "Gct0USiY3YL/g0LHy/uq/Ef6uo5+n0R/vyhp17Klpge763f8rMu6YU/zrn2nml+2WtH+Z+5IAAFc\n",
       "2bUTdTDOSNa9+cQY7YLsOIXhevEkCvzph7a8laecz/Un/z4/Ae04XeL3UQb57IwU9ZDr9UuKVajv\n",
       "nxp1+1UVIo/LjztZkKH59fO3G/JemqCfmaCRqbqbd90ZZ8FfjtkfAyD0J/9+C2h1hDwsSxvGjNDc\n",
       "b4zk5NfrSwiQblLHzZhg+Jf4aPlUwpDqkQqa9nimbt1/TDH8OitGMaQnj+RJS6B1fbF7SY1TqO5v\n",
       "/v0WAADl1f7zokgS7s7VT2DZ7pegUjBM7mjtiDZbcN4j0YrHH0rXpCtY0qPX0cVL0rv5jv/ZXend\n",
       "0u/EESYBAFBU4T4Qa5TflZOhTe7pmKpaP8kCVUVw1+yhXfJWvn1P3hnXi33JsTN6PnP3hHZ8Z3/h\n",
       "aLHzmkNPuPj7Bc/F/Q38CwjTpSwQXgE4Vmwry9tpfq/ZFgqFMy4AVDtCvi8rvMvOmv0N4YwbVgEA\n",
       "sPM72/KVnzfspmH7HQGCRLG2yL1+z8XwvPcdCbsAANh+xPzstgMtxeGKt+6MK3/tacfvwhWvIwMi\n",
       "oKEBtm0H7W+UVfkc/Y1V0BhoPlDr/w1w/eu1vjIgAgDg22OtX6/eYfnEz/focrZTHAFR+PSs56/7\n",
       "q32nwpjazxgwAQCwcU/T62t3WL7r6/jVRa6/byp1rei+Z98ZUAEAhEPHPc8fKnTU9nbgtnOe8h0l\n",
       "9hcGIqmODLQAHCy2Xti6v/XNRivf43f4fFvIteu854+VHnR7q9tfBlwAAGz+pnndB9vM26UebAe8\n",
       "SLHujPOTPVW+rwY+sxskAAC2HrA8t2Vvc7ffP1r9o+vwR2dcr92InIAbKKC1FZ5tB1tf+/G8p8sv\n",
       "N/9Q5zd/XR34LYCwV5JdccMEAMDBk45DH243r/X4xGvqxFa/GNpS7n6rwOwNWwHVE26oAADYurf1\n",
       "zx/utOzt+DMKYM0p17YtZZ5VNzqfsB2HewG1WXE8PoZ7gOclbTIvynZf9JV+fqZtfgs/8F/Nu5rB\n",
       "EIBmJ+8QRMmpU7EzGRsf2FzuePqYRbzh/zE26EwdrT10f6r6o8HOYzCJB9Dpff8tbnGLG8L/A/WE\n",
       "roTBs2RqAAAAAElFTkSuQmCC'\n",
       "     style='height:25px; border-radius:12px; display: inline-block; float: left; vertical-align: middle'></img>\n",
       "\n",
       "\n",
       "\n",
       "\n",
       "  <img src='data:image/png;base64,iVBORw0KGgoAAAANSUhEUgAAACAAAAAgCAYAAABzenr0AAAABHNCSVQICAgIfAhkiAAAAAlwSFlz\n",
       "AAAFMAAABTABZarKtgAAABl0RVh0U29mdHdhcmUAd3d3Lmlua3NjYXBlLm9yZ5vuPBoAAArNSURB\n",
       "VFiFnVd5VFNXGv/ee0kgGyQhbFoXIKCFYEXEDVErTucMoKUOWA/VLsNSLPQgFTOdyrHPiIp1lFIQ\n",
       "OlaPShEG3EpPcQmISCuV1bQ1CLKIULeQhJA9JO+9+UMT0x5aPfOdc895373f/e7v/t537/ddBF5Q\n",
       "JBIJl81mJwCACEVRQBCEQhAEAQCgnghCURRCkmS7Wq2+WlJSYn0Rv8jzDHAcD0EQJIVGo5mFQuGF\n",
       "jIyMu39kq1KpkOrq6gU6nS6aIAiGzWY7VVBQ0P9/AcjNzWXy+fxcOp2uiY+Przm0d6+n8dblv/Fo\n",
       "kzM4SzYfPlRePvFnjnt6ehh1dXVv2mw2nlar/byoqMj8wgBwHBchCJIZEhJSeu1yHVi7vtu02t8+\n",
       "NykQ7BMWoOUMhXQsXLv5IQAwSJJEEASxcDicoeTk5DtCoZBy9XX69Gnv3t7ebJIky3EcH3guAKlU\n",
       "GoGiaOKWLVsOvhs7/9XXPMde3/IyIFbMnaPDuD5AUdQuOf2XlD0npTExMWYAgNbWVpZcLg8xGAzB\n",
       "JEnSvby82tPT052LaTQatLy8fBtJkt/s3Lnz5h8CwHFcRKPRNu/YsePAjh072KTs0IGCxRg8RgUB\n",
       "TGpSx6cmHgMAfNqN6Xa1GvJ/D35gYAAViURkcXHxUrPZHDRv3rxv4uLiDI7xPXv2bLdYLBUFBQWD\n",
       "jj7M8ZGbm8tkMpmSrKysQiaTScXGxtpqL7dManT6tcu5mgEWWJyOhicozpk+c3NsbKzNFcBbWWEf\n",
       "1Td9/upA30i3ZJv0h8bGxiSFQmFcuHDhOACAWCy+0d3dvX3lypUtzc3N9t8AiIuLk4SEhByLiooy\n",
       "AgAcO3ZsNlPgH3Cttb35JZo+bCYXIQAA9MDiUW7sWS1KN687w6Mera2twa2trfMvXboUOS28Pyb1\n",
       "U08McRtf/sXBSmt5cc35pqamVQqFwhoZGallMpnU/fv3e7RaberVq1d/AABAn1IfQqfTNRs3blQB\n",
       "AFy+fJk7Nja2XCKRnD3dNSorusPq6NfTPR+gPiEEoLRFXO1tS2+zavv27ReftjNttyr0S1/j0rUP\n",
       "PEJQwNwQYGgAACQSyXmNRhMtk8lYAAApKSlKDMP0+fn5QU4ACIKkxMfH1zjYuHnz5uspKSlOfdX7\n",
       "u68fvOePcCzKQR4YVCgATGfa/F3pnzaHWOAXSDyaMCqH2+r8VXErP3D+snXr1tV2dXW94dATExOr\n",
       "6XT6JgAAVCKRcDEMM4WHh9sAAHJyUqNu//wDymKx7AAAVVVVPiaTKXxByrYMvBsxEMSTwPXhuL+8\n",
       "e/fu9fv371+flvbemogYNz+TnsBOFEwMFO8/KzEYDKFVVVX+AAChoaGT7u7ud48ePRro0DEMs+bl\n",
       "5bFRNpud4O3tfdGBzq5uy/5wTUPM/q2zC9atmbVqeHg4Pi0t7WxGRoZFH5rw76I7LI8HqHfwPL7d\n",
       "rfVagzw1NfW81t4ePUfsP/OrnWZ6fPSuUqFQSEkkkrOjo6OvuQR5q0ajiXLoPj4+lzgcTjwKACLH\n",
       "9SqXy2kzhBO8haGo+UA2wZW+p880DxeveGt9aHx9fT09ctlq3sC0NT9e6xsbjuZblSxl7wKtVotM\n",
       "m6PnXvlmZJBtX91CEMQsxyJsNlteXl4udugIghAajQYFAEhPTx9AEGQOimGY8y4oLt63KlJkdB4t\n",
       "P282Z/c/dPrDH04ktJ9P2tfWXP3+2o1vHzunEp6Xq0lsGt08KzUrcSGTQ3n3XeefLCs5UqnT6Rap\n",
       "VCoEACA7O/snvV4f5gJooLa2NsihoygKKEVRzquTND2OCpttGXdG1tOxwOlgzdvE9v30rV+m3W5I\n",
       "2jfJNQmLH85QUUzPNTwvkAx0+vVGhq2/VV9fT+dyuZ01NTXOXQOA3fGxevXq2waDYY5r8KIoij5b\n",
       "jzB5Cz2oKdOo0erOm+1tVuVtBMZXElNMRJR1fvvjx9iPLQ/RjpuB0Xu/Vp7YmH1864YNG3oNBkPw\n",
       "VD7mzp1rJUnSzZUBmqsBggAgGFC/n6jVA+3WoN3tu1Gg39cg2tEx1Cg3CIJHsclxnl2HRorMN8Z0\n",
       "fRW+vr7GJ36Q56Z5h9BIknzGAMJWtvdQYs0EZe3/FSwqk5tpXEMb1JoYD+n8xRdQJl/fMPEgzKhS\n",
       "L40KCD7lGzg92qIyovpb3y/msT2un2psvFpWVvYyl8vtc1nDSXFXV5c7iqLOtEyS5LNBAADfWeKm\n",
       "Ly4uuvR1++sfv51/P5sfnHm2/Iy+mBmwsaHJbpt+Q0jHSS7TZ/PSNVkNJ/973OxtemD1s91CPb12\n",
       "h9MfvZsk5meo1eqo5ORkxTNWn7HR1tY2l8PhOAsUiqIolCRJcETtv/61qzNySYK5trZ2TCgUUiwW\n",
       "S1FSUhLR+bA/kAzwXcAbHa/cFhrTXrJ/v+7IkSPu3Je4Xm5eboJv2wba5QbO5fQwxhsP679Y+nFO\n",
       "jgAAoKSkJILFYjnBGI1G0YYNGwYBnqRoiqIQlKKojurq6gUAAAKBgKQoiuGYkJWVpTCZTOKmI1Xd\n",
       "HwnDcm+cOnOMw+H0FxYWbqpvqv/r9EV+bky+O+/QoUPiqJRt9JphTLFHbKBCR87tWL9EPN9oNIZn\n",
       "ZWUpXHaMCQQCEgCgsrIyEgBuoGq1+qpOp4t2GPH5/BvFxcVLHXpgYGDD8ePH/56Xl2cCAMjMzOxP\n",
       "S0s7pWfow4RCbz/fAF9RT0+P9yeffHJySSqev+9nxLD1FaAlTR8vlJ8vxxzsFhUVLRMIBB0OvwaD\n",
       "YRlFUdfQkpISK0EQ9J6eHgYAQEZGxl2z2Rw0MjJCBwBITk5+xOVyfzpw4ECSw5lQKKQIbxtJm4EN\n",
       "8eZ7jPz0oNv+dK5FG/jq54eH+IFr/S1KabBy0UerAvI+++wzD4vFEpCWljYEACCTyVh2ux3FcXwS\n",
       "BQCw2WxVdXV1bzrQRURE1FVVVTn1zMzM/pkzZ35/9OjRd0pLS19RqVQIy4/tCwDgOcPTQvFQEQBA\n",
       "aWnpK0ERK2LbyVllN341GUJ4YDu8zD5bKyur7O+85tx9Z2fnO1ar9QjA04KkpaVFs2LFir8olcq7\n",
       "YWFhJpFINNnX16drbGyMjY6Ovg0AIBaLjcuXL5d3d3d7XbhwIW704b3F479MeD1qVfJ5Og/bvb4R\n",
       "LwaDMZabm9uwflNa/z/3HOIv5NsDEK7XS7FeevXPvYNLvm5S/GglCK5KpZorlUobXE8g5ObmMqVS\n",
       "6UG1Wu1BURSHoijOiRMnwgoLC7coFAqBo+9Fm0KhEKStmvvto3TeucFN7pVJYbytarXaQyqVHsRx\n",
       "3N15TF1BuBaljr4rV66wOzo63mAymXdzcnKuwwtIUVHRMqvVGkgQxMV7NXvyJijGvcNXB/7z5Zdf\n",
       "bicI4gSO40NTAgD4bVnuODIAT2pElUq1FEEQO4fD6QsPD++fqixHEATj8/ntjoCrqKhwS0hIsJWV\n",
       "leURBHEOx3G563pT3tn5+flBDAbjg6CgoMMpKSlK17GhoSFMJpMFPk04DJIkEQzDzCwW6+5UD5Oa\n",
       "mhrfO3fufECS5GHXnf8pAAAAHMfdURTdimGYPjExsTo0NHTyj2ynEplMxurs7HyHIAiKJMlSHMct\n",
       "U9k9N2vl5+cH0en0TRiGWX18fC65vnh+LxqNBq2oqFhgMpmi7XY7arVaj+zdu/fxn/l/4bSZl5fH\n",
       "5nK5CQAQMtXznCRJePpEbwOAZhzHX4ix/wHzzC/tu64gcwAAAABJRU5ErkJggg=='\n",
       "       style='height:15px; border-radius:12px; display: inline-block; float: left'></img>\n",
       "  \n",
       "\n",
       "\n",
       "</div>\n"
      ]
     },
     "metadata": {},
     "output_type": "display_data"
    }
   ],
   "source": [
    "import cats"
   ]
  },
  {
   "cell_type": "markdown",
   "id": "857c4c6d-5f2d-4cc8-9be5-4d819f137ede",
   "metadata": {},
   "source": [
    "# Training set\n",
    "To fine-tuning the detector, we need to prepare a training set:\n",
    "1. Detect onset times manually for several typical and the most challenging events (detection onset should be around the strongest phase).\n",
    "2. Provide these waveforms so that it also has sufficient noise recording before and after the events to facilitate accurate auto noise estimation.\n",
    "3. If real noise is not enough, you can contaminate these event with an additional random noise (white or colored)\n",
    "4. Input data: waveforms with events, output data: detected onsets."
   ]
  },
  {
   "cell_type": "markdown",
   "id": "fa1696ca-5501-495d-9cfe-e929515e9344",
   "metadata": {},
   "source": [
    "## Synthetic dataset\n",
    "In this tutorial, we'll cover finetuning using a synthetic data and random white gaussian noise."
   ]
  },
  {
   "cell_type": "code",
   "execution_count": 4,
   "id": "2c664ae7-4046-4568-901e-e6b9fbfc4b15",
   "metadata": {},
   "outputs": [],
   "source": [
    "data = cats.import_sample_data()\n",
    "\n",
    "Dclean = data['data']\n",
    "time = data['time']  # time\n",
    "dt = data['dt']      # sampling time\n",
    "x = data['x']        # location of recievers \n",
    "dimensions = [\"Component\", \"Receiver\", \"Time\"]"
   ]
  },
  {
   "cell_type": "code",
   "execution_count": 11,
   "id": "9980b56f-c197-405f-9479-b8a5269dd372",
   "metadata": {},
   "outputs": [
    {
     "data": {
      "text/html": [
       "<img src='data:image/png;base64,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' style='max-width:100%; margin: auto; display: block; '/>"
      ],
      "text/plain": [
       ":Overlay\n",
       "   .Curve.I    :Curve   [Time]   (Trace)\n",
       "   .Curve.II   :Curve   [Time]   (Trace)\n",
       "   .Curve.III  :Curve   [Time]   (Trace)\n",
       "   .Curve.IV   :Curve   [Time]   (Trace)\n",
       "   .Curve.V    :Curve   [Time]   (Trace)\n",
       "   .Curve.VI   :Curve   [Time]   (Trace)\n",
       "   .Curve.VII  :Curve   [Time]   (Trace)\n",
       "   .Curve.VIII :Curve   [Time]   (Trace)\n",
       "   .Curve.IX   :Curve   [Time]   (Trace)\n",
       "   .Curve.X    :Curve   [Time]   (Trace)"
      ]
     },
     "execution_count": 11,
     "metadata": {
      "application/vnd.holoviews_exec.v0+json": {}
     },
     "output_type": "execute_result"
    }
   ],
   "source": [
    "comp = 2\n",
    "\n",
    "fig = cats.plot_traces(data=Dclean[comp], time=time, time_interval_sec=None, gain=0.5, each_trace=1)\n",
    "fontsize = dict(labels=17, ticks=15, title=20); figsize = 450\n",
    "fig = fig.opts(hv.opts.Curve(fontsize=fontsize), hv.opts.Rectangles(fontsize=fontsize))\n",
    "fig = fig.opts(aspect=2, fig_size=figsize,\n",
    "               ylabel='Location (km)', xlabel='Time (s)', title='Clean data')\n",
    "# hv.save(fig, \"../clean_traces_sample.png\", dpi=250)  # use this to save figure\n",
    "fig"
   ]
  },
  {
   "cell_type": "code",
   "execution_count": 23,
   "id": "6d2e1db3-ca81-4d9f-bd36-e520aba39a53",
   "metadata": {},
   "outputs": [],
   "source": [
    "train_slice = cats.utils.give_index_slice_by_limits((0, 40), dt)\n",
    "D_train = Dclean[..., train_slice]"
   ]
  },
  {
   "cell_type": "code",
   "execution_count": 27,
   "id": "162f9e48-cba2-4237-9cf3-82abc12ff7fb",
   "metadata": {},
   "outputs": [
    {
     "data": {
      "text/html": [
       "<img src='data:image/png;base64,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' style='max-width:100%; margin: auto; display: block; '/>"
      ],
      "text/plain": [
       ":Overlay\n",
       "   .Curve.I    :Curve   [Time]   (Trace)\n",
       "   .Curve.II   :Curve   [Time]   (Trace)\n",
       "   .Curve.III  :Curve   [Time]   (Trace)\n",
       "   .Curve.IV   :Curve   [Time]   (Trace)\n",
       "   .Curve.V    :Curve   [Time]   (Trace)\n",
       "   .Curve.VI   :Curve   [Time]   (Trace)\n",
       "   .Curve.VII  :Curve   [Time]   (Trace)\n",
       "   .Curve.VIII :Curve   [Time]   (Trace)\n",
       "   .Curve.IX   :Curve   [Time]   (Trace)\n",
       "   .Curve.X    :Curve   [Time]   (Trace)"
      ]
     },
     "execution_count": 27,
     "metadata": {
      "application/vnd.holoviews_exec.v0+json": {}
     },
     "output_type": "execute_result"
    }
   ],
   "source": [
    "comp = 2\n",
    "\n",
    "fig = cats.plot_traces(data=D_train[comp], time=dt, time_interval_sec=(7, 22), gain=0.5, each_trace=1)\n",
    "fontsize = dict(labels=17, ticks=15, title=20); figsize = 450\n",
    "fig = fig.opts(hv.opts.Curve(fontsize=fontsize), hv.opts.Rectangles(fontsize=fontsize))\n",
    "fig = fig.opts(aspect=2, fig_size=figsize,\n",
    "               ylabel='Location (km)', xlabel='Time (s)', title='Clean data')\n",
    "# hv.save(fig, \"../clean_traces_sample.png\", dpi=250)  # use this to save figure\n",
    "fig"
   ]
  },
  {
   "cell_type": "code",
   "execution_count": 10,
   "id": "8f2cda69-35c8-4ed3-8f42-100753923ca8",
   "metadata": {},
   "outputs": [
    {
     "data": {
      "text/plain": [
       "(3, 10, 70000)"
      ]
     },
     "execution_count": 10,
     "metadata": {},
     "output_type": "execute_result"
    }
   ],
   "source": [
    "Dclean.shape"
   ]
  },
  {
   "cell_type": "markdown",
   "id": "4b8726e5-b90b-45a7-afbe-b419d8482937",
   "metadata": {},
   "source": [
    "We don't need very accurate manually detected onsets, because it is not a phase-picking problem. Approximate onset times are enough. On the evaluation stage, we can control the tolerance of the onset time error, but the actual time misfit will not be used."
   ]
  },
  {
   "cell_type": "code",
   "execution_count": 28,
   "id": "59d04ce3-ec6e-4c82-9a1c-4f7a09722a8f",
   "metadata": {},
   "outputs": [],
   "source": [
    "# two events on each trace\n",
    "onsets = np.array([[11, 15.5], \n",
    "                   [11, 15.5], \n",
    "                   [10, 16], \n",
    "                   [10, 16.5], \n",
    "                   [10, 17], \n",
    "                   [10, 17.5], \n",
    "                   [11, 18], \n",
    "                   [11, 18], \n",
    "                   [11.5, 19], \n",
    "                   [12, 19]])\n",
    "\n",
    "onsets = np.stack([onsets, onsets, onsets], axis=0)  # onset time are the same for all components"
   ]
  },
  {
   "cell_type": "code",
   "execution_count": 45,
   "id": "7c965d88-cf81-4d91-8417-0d9c2ba99d8e",
   "metadata": {},
   "outputs": [],
   "source": [
    "noise_levels = [0.01, 0.05, 0.1]\n",
    "train_data = [D_train + np.random.randn(*D_train.shape) * nl for nl in noise_levels]\n",
    "        \n",
    "train_onsets = [onsets] * len(noise_levels) "
   ]
  },
  {
   "cell_type": "code",
   "execution_count": 46,
   "id": "53255591",
   "metadata": {},
   "outputs": [],
   "source": [
    "onset_err_tol = 2.5  # [sec], onset error time tolerance\n",
    "F_beta = 0.5  # F-score 'beta', 0.5 means 'precision' is as x2 important as 'recall' \n",
    "metric = f'picks{onset_err_tol} f{F_beta}'\n",
    "\n",
    "cats_detector = cats.CATSDetector(dt_sec=dt)  # init default instance of detector \n",
    "\n",
    "cats_scoring = cats.tune.DetectorScoring(operator=cats_detector,\n",
    "                                         x_generator=train_data, \n",
    "                                         y_generator=train_onsets,\n",
    "                                         metric_type=metric,\n",
    "                                         )"
   ]
  },
  {
   "cell_type": "markdown",
   "id": "0abff229-9388-45cb-9571-ecb16a84915c",
   "metadata": {},
   "source": [
    "Now, we need to make an objective function we will optimize with Optuna.\n",
    "For the parameters we want to tune, we need to use `trial.suggest` API, see below. Non-tunable params are defined as usual."
   ]
  },
  {
   "cell_type": "code",
   "execution_count": 54,
   "id": "5e3e4e74-400e-4720-bcda-ada5f76ce874",
   "metadata": {},
   "outputs": [
    {
     "data": {
      "text/plain": [
       "0.19999999999999973"
      ]
     },
     "execution_count": 54,
     "metadata": {},
     "output_type": "execute_result"
    }
   ],
   "source": [
    "5 % 0.2"
   ]
  },
  {
   "cell_type": "code",
   "execution_count": 61,
   "id": "f96ace03",
   "metadata": {},
   "outputs": [],
   "source": [
    "def cats_objective(trial):\n",
    "    # -----------------------------\n",
    "    stft_window_type = 'hann'\n",
    "#     stft_window_type = [\"hann\", \"boxcar\", \"triang\", \"blackman\", \"hamming\", \"bartlett\", \"flattop\", \"parzen\", \"bohman\", \n",
    "#                         \"blackmanharris\", \"nuttall\", \"barthann\", \"cosine\", \"exponential\", \"tukey\", \"taylor\", \"lanczos\"]\n",
    "\n",
    "    stft_window_sec = trial.suggest_float('stft_window_sec', dt * 128, dt * 2048, step=32 * dt)\n",
    "    stft_overlap = trial.suggest_float('stft_overlap', 0.2, 0.95)\n",
    "    stft_nfft = 2**int(np.ceil(np.log2(stft_window_sec / dt)))\n",
    "    minSNR = trial.suggest_float('minSNR', 3.0, 10.0)\n",
    "    cluster_catalogs = False\n",
    "    \n",
    "    # -----------------------------\n",
    "    stft_dt = stft_window_sec * (1.0 - stft_overlap)\n",
    "    stft_df = 1 / 2 / dt / (stft_nfft // 2)\n",
    "    min_bedate = cats.env_variables.get_min_bedate_block_size()\n",
    "    # -----------------------------\n",
    "    \n",
    "    stationary_frame_sec = trial.suggest_float('stationary_frame_sec', min_bedate * stft_dt, min_bedate * stft_dt * 10)\n",
    "    cluster_size_t_sec = trial.suggest_float('cluster_size_t_sec', 0.0, 5.0)\n",
    "    cluster_distance_t_sec = trial.suggest_float('cluster_distance_t_sec', 0.0, 2.5)\n",
    "    cluster_size_f_Hz = trial.suggest_float('cluster_size_f_Hz', 0.0, 50.0)\n",
    "    cluster_distance_f_Hz = trial.suggest_float('cluster_distance_f_Hz', 0.0, 25.0)\n",
    "    \n",
    "    cluster_minSNR = 0.0\n",
    "    cluster_size_f_logHz = 0.0\n",
    "    \n",
    "    params = dict(dt_sec=dt,\n",
    "                  stft_window_type=stft_window_type,\n",
    "                  stft_window_sec=stft_window_sec,\n",
    "                  stft_overlap=stft_overlap,\n",
    "                  stft_nfft=stft_nfft,\n",
    "                  minSNR=minSNR,\n",
    "                  stationary_frame_sec=stationary_frame_sec,\n",
    "                  cluster_size_t_sec=cluster_size_t_sec,\n",
    "                  cluster_size_f_Hz=cluster_size_f_Hz,\n",
    "                  cluster_distance_t_sec=cluster_distance_t_sec,\n",
    "                  cluster_distance_f_Hz=cluster_distance_f_Hz,\n",
    "                  cluster_minSNR=cluster_minSNR,\n",
    "                  cluster_catalogs=cluster_catalogs,\n",
    "                  cluster_size_f_logHz=cluster_size_f_logHz, \n",
    "                 )\n",
    "\n",
    "    # Update detector params\n",
    "    cats_scoring.update_operator(**params)\n",
    "\n",
    "    # evaluate detector\n",
    "    evals = cats_scoring.evaluate_metric()  # returns dict with keys \"Metric\" and \"Elapsed_time_sec\"\n",
    "    f_score, time = evals.values()\n",
    "    f_score = np.mean(f_score)\n",
    "    time = np.mean(time)\n",
    "    \n",
    "    return f_score, time  # Two-objective output (f_score and elapsed time)"
   ]
  },
  {
   "cell_type": "code",
   "execution_count": 62,
   "id": "d8f48ffa-d819-43b3-93be-9350859bac7d",
   "metadata": {},
   "outputs": [],
   "source": [
    "study = optuna.create_study(study_name=\"CATS_Detector\", \n",
    "                            directions=['maximize', 'minimize']   # maximize F score, and minimize computation time\n",
    "                           )"
   ]
  },
  {
   "cell_type": "code",
   "execution_count": 63,
   "id": "46230f04-b6bb-4526-b497-9900d49fd725",
   "metadata": {},
   "outputs": [
    {
     "data": {
      "application/vnd.jupyter.widget-view+json": {
       "model_id": "3f5fea6807b645f1b3d1fa96198e9cad",
       "version_major": 2,
       "version_minor": 0
      },
      "text/plain": [
       "  0%|          | 0/250 [00:00<?, ?it/s]"
      ]
     },
     "metadata": {},
     "output_type": "display_data"
    }
   ],
   "source": [
    "study.optimize(cats_objective, n_trials=250, show_progress_bar=True)"
   ]
  },
  {
   "cell_type": "code",
   "execution_count": 64,
   "id": "11d558de-71c7-489c-bb6a-7809cc68c878",
   "metadata": {},
   "outputs": [],
   "source": [
    "best_f_score = max(study.best_trials, key=lambda t: t.values[0])"
   ]
  },
  {
   "cell_type": "code",
   "execution_count": 65,
   "id": "6d32ae1b-bfac-40a7-8bfb-6be1c162952f",
   "metadata": {},
   "outputs": [
    {
     "data": {
      "text/plain": [
       "([0.8370312306715131, 0.05054703333401752],\n",
       " {'stft_window_sec': 3.188358786262087,\n",
       "  'stft_overlap': 0.711996622426708,\n",
       "  'minSNR': 9.627310323797623,\n",
       "  'stationary_frame_sec': 810.7726098279687,\n",
       "  'cluster_size_t_sec': 1.0099363516477107,\n",
       "  'cluster_distance_t_sec': 2.2324611046922738,\n",
       "  'cluster_size_f_Hz': 1.6938856408444392,\n",
       "  'cluster_distance_f_Hz': 7.206411706274651})"
      ]
     },
     "execution_count": 65,
     "metadata": {},
     "output_type": "execute_result"
    }
   ],
   "source": [
    "best_f_score.values, best_f_score.params"
   ]
  },
  {
   "cell_type": "code",
   "execution_count": 66,
   "id": "1205eae3-63c1-459b-8f63-07dffb6d3020",
   "metadata": {},
   "outputs": [
    {
     "data": {
      "application/vnd.plotly.v1+json": {
       "config": {
        "plotlyServerURL": "https://plot.ly"
       },
       "data": [
        {
         "hovertemplate": "%{text}<extra>Trial</extra>",
         "marker": {
          "color": [
           0,
           1,
           2,
           3,
           4,
           5,
           6,
           7,
           8,
           9,
           10,
           11,
           12,
           13,
           14,
           15,
           16,
           17,
           18,
           19,
           20,
           21,
           22,
           23,
           24,
           25,
           26,
           27,
           28,
           29,
           30,
           31,
           32,
           33,
           34,
           35,
           36,
           37,
           38,
           39,
           40,
           41,
           42,
           43,
           44,
           45,
           46,
           47,
           48,
           49,
           50,
           51,
           52,
           53,
           54,
           55,
           56,
           57,
           58,
           59,
           60,
           61,
           62,
           63,
           64,
           65,
           66,
           67,
           68,
           69,
           70,
           71,
           72,
           73,
           74,
           75,
           76,
           77,
           78,
           79,
           80,
           81,
           83,
           84,
           85,
           86,
           87,
           88,
           89,
           90,
           91,
           92,
           93,
           94,
           95,
           96,
           97,
           98,
           99,
           100,
           101,
           102,
           103,
           104,
           105,
           106,
           107,
           108,
           109,
           110,
           112,
           113,
           114,
           115,
           116,
           117,
           118,
           119,
           120,
           121,
           122,
           123,
           124,
           125,
           126,
           127,
           128,
           129,
           130,
           131,
           132,
           133,
           134,
           135,
           136,
           137,
           138,
           139,
           140,
           141,
           142,
           143,
           144,
           145,
           146,
           147,
           148,
           149,
           150,
           151,
           152,
           153,
           154,
           155,
           156,
           157,
           158,
           159,
           161,
           162,
           163,
           164,
           165,
           166,
           167,
           168,
           169,
           170,
           171,
           172,
           173,
           175,
           176,
           177,
           178,
           179,
           180,
           181,
           182,
           183,
           184,
           185,
           186,
           187,
           188,
           189,
           190,
           191,
           192,
           193,
           194,
           195,
           196,
           197,
           198,
           200,
           201,
           202,
           203,
           204,
           205,
           206,
           207,
           208,
           209,
           210,
           211,
           212,
           213,
           214,
           215,
           216,
           217,
           218,
           219,
           220,
           221,
           222,
           223,
           224,
           225,
           226,
           227,
           228,
           229,
           230,
           232,
           233,
           234,
           235,
           236,
           238,
           239,
           240,
           241,
           242,
           243,
           244,
           245,
           246,
           247,
           248,
           249
          ],
          "colorbar": {
           "title": {
            "text": "Trial"
           }
          },
          "colorscale": [
           [
            0,
            "rgb(247,251,255)"
           ],
           [
            0.125,
            "rgb(222,235,247)"
           ],
           [
            0.25,
            "rgb(198,219,239)"
           ],
           [
            0.375,
            "rgb(158,202,225)"
           ],
           [
            0.5,
            "rgb(107,174,214)"
           ],
           [
            0.625,
            "rgb(66,146,198)"
           ],
           [
            0.75,
            "rgb(33,113,181)"
           ],
           [
            0.875,
            "rgb(8,81,156)"
           ],
           [
            1,
            "rgb(8,48,107)"
           ]
          ],
          "line": {
           "color": "Grey",
           "width": 0.5
          }
         },
         "mode": "markers",
         "showlegend": false,
         "text": [
          "{<br>  \"number\": 0,<br>  \"values\": [<br>    0.5817989852465756,<br>    0.033241300000554475<br>  ],<br>  \"params\": {<br>    \"stft_window_sec\": 3.3759093031010337,<br>    \"stft_overlap\": 0.5394218006684881,<br>    \"minSNR\": 8.01150296485458,<br>    \"stationary_frame_sec\": 1586.4794695546345,<br>    \"cluster_size_t_sec\": 0.265703200837924,<br>    \"cluster_distance_t_sec\": 0.4128153978517263,<br>    \"cluster_size_f_Hz\": 13.75433668458173,<br>    \"cluster_distance_f_Hz\": 19.932503516717816<br>  }<br>}",
          "{<br>  \"number\": 1,<br>  \"values\": [<br>    0.6018518507240227,<br>    0.08824796666643427<br>  ],<br>  \"params\": {<br>    \"stft_window_sec\": 2.625707235745248,<br>    \"stft_overlap\": 0.5467773409390144,<br>    \"minSNR\": 4.112507248612826,<br>    \"stationary_frame_sec\": 1582.6069881638653,<br>    \"cluster_size_t_sec\": 1.7365293926743997,<br>    \"cluster_distance_t_sec\": 2.4872907910045132,<br>    \"cluster_size_f_Hz\": 35.87582724460454,<br>    \"cluster_distance_f_Hz\": 24.613166554061237<br>  }<br>}",
          "{<br>  \"number\": 2,<br>  \"values\": [<br>    0.43203734449440684,<br>    0.25863333333351574<br>  ],<br>  \"params\": {<br>    \"stft_window_sec\": 1.9380220073357783,<br>    \"stft_overlap\": 0.948218883459435,<br>    \"minSNR\": 6.024864200248115,<br>    \"stationary_frame_sec\": 143.2101406689983,<br>    \"cluster_size_t_sec\": 1.093077917755581,<br>    \"cluster_distance_t_sec\": 0.01514278775085004,<br>    \"cluster_size_f_Hz\": 29.080096114387473,<br>    \"cluster_distance_f_Hz\": 22.354672370001495<br>  }<br>}",
          "{<br>  \"number\": 3,<br>  \"values\": [<br>    0.7867980838853144,<br>    0.03491953333195852<br>  ],<br>  \"params\": {<br>    \"stft_window_sec\": 3.876044014671557,<br>    \"stft_overlap\": 0.671906449177992,<br>    \"minSNR\": 9.945232516304921,<br>    \"stationary_frame_sec\": 1862.607093604465,<br>    \"cluster_size_t_sec\": 1.0099363516477107,<br>    \"cluster_distance_t_sec\": 2.2324611046922738,<br>    \"cluster_size_f_Hz\": 1.6938856408444392,<br>    \"cluster_distance_f_Hz\": 7.206411706274651<br>  }<br>}",
          "{<br>  \"number\": 4,<br>  \"values\": [<br>    0.43380519850209875,<br>    0.028325466665895267<br>  ],<br>  \"params\": {<br>    \"stft_window_sec\": 2.438156718906302,<br>    \"stft_overlap\": 0.3422343841729652,<br>    \"minSNR\": 7.205840903537979,<br>    \"stationary_frame_sec\": 3121.9134378444246,<br>    \"cluster_size_t_sec\": 3.4091161407127943,<br>    \"cluster_distance_t_sec\": 0.8419093622177722,<br>    \"cluster_size_f_Hz\": 14.205334988640567,<br>    \"cluster_distance_f_Hz\": 3.9451453523930287<br>  }<br>}",
          "{<br>  \"number\": 5,<br>  \"values\": [<br>    0.6454613083107359,<br>    0.026859133333042944<br>  ],<br>  \"params\": {<br>    \"stft_window_sec\": 0.8127189063021006,<br>    \"stft_overlap\": 0.5199585018566151,<br>    \"minSNR\": 5.943360725598856,<br>    \"stationary_frame_sec\": 917.462668213508,<br>    \"cluster_size_t_sec\": 1.5190791447174379,<br>    \"cluster_distance_t_sec\": 1.2235209653348385,<br>    \"cluster_size_f_Hz\": 14.871626131202415,<br>    \"cluster_distance_f_Hz\": 0.839950833236347<br>  }<br>}",
          "{<br>  \"number\": 6,<br>  \"values\": [<br>    0.0,<br>    0.03396713333374161<br>  ],<br>  \"params\": {<br>    \"stft_window_sec\": 4.001077692564188,<br>    \"stft_overlap\": 0.6485923952636248,<br>    \"minSNR\": 8.517611766553932,<br>    \"stationary_frame_sec\": 2403.027160833912,<br>    \"cluster_size_t_sec\": 2.4961594170823567,<br>    \"cluster_distance_t_sec\": 0.23919709509608644,<br>    \"cluster_size_f_Hz\": 38.56178963744952,<br>    \"cluster_distance_f_Hz\": 10.231796748135787<br>  }<br>}",
          "{<br>  \"number\": 7,<br>  \"values\": [<br>    0.0,<br>    0.27580273333296645<br>  ],<br>  \"params\": {<br>    \"stft_window_sec\": 1.2503367789263087,<br>    \"stft_overlap\": 0.927198753678105,<br>    \"minSNR\": 8.435557466133027,<br>    \"stationary_frame_sec\": 120.42233570577699,<br>    \"cluster_size_t_sec\": 4.9511590069911655,<br>    \"cluster_distance_t_sec\": 0.1932430463542023,<br>    \"cluster_size_f_Hz\": 14.474734702013825,<br>    \"cluster_distance_f_Hz\": 5.67793029356033<br>  }<br>}",
          "{<br>  \"number\": 8,<br>  \"values\": [<br>    0.2864583329678006,<br>    0.3841953999996501<br>  ],<br>  \"params\": {<br>    \"stft_window_sec\": 2.313123041013671,<br>    \"stft_overlap\": 0.9314990187190835,<br>    \"minSNR\": 8.310658615764474,<br>    \"stationary_frame_sec\": 343.935862523677,<br>    \"cluster_size_t_sec\": 3.1300520264862253,<br>    \"cluster_distance_t_sec\": 0.726991134501205,<br>    \"cluster_size_f_Hz\": 3.8957402129013055,<br>    \"cluster_distance_f_Hz\": 6.648161353707829<br>  }<br>}",
          "{<br>  \"number\": 9,<br>  \"values\": [<br>    0.0,<br>    0.02250339999955031<br>  ],<br>  \"params\": {<br>    \"stft_window_sec\": 3.56345981993998,<br>    \"stft_overlap\": 0.2566217823942133,<br>    \"minSNR\": 7.7404598317091,<br>    \"stationary_frame_sec\": 1727.0210570954835,<br>    \"cluster_size_t_sec\": 4.782797936727424,<br>    \"cluster_distance_t_sec\": 1.9173828505573294,<br>    \"cluster_size_f_Hz\": 49.55030685351524,<br>    \"cluster_distance_f_Hz\": 16.95193687514681<br>  }<br>}",
          "{<br>  \"number\": 10,<br>  \"values\": [<br>    0.6111111099830248,<br>    0.17779246666699086<br>  ],<br>  \"params\": {<br>    \"stft_window_sec\": 0.7502020673557852,<br>    \"stft_overlap\": 0.33571795942737104,<br>    \"minSNR\": 3.3206928827360174,<br>    \"stationary_frame_sec\": 433.4806131458767,<br>    \"cluster_size_t_sec\": 4.299497363206001,<br>    \"cluster_distance_t_sec\": 1.8866495502517675,<br>    \"cluster_size_f_Hz\": 13.557998272533778,<br>    \"cluster_distance_f_Hz\": 18.08774036217993<br>  }<br>}",
          "{<br>  \"number\": 11,<br>  \"values\": [<br>    0.16666666625833335,<br>    0.30076620000030135<br>  ],<br>  \"params\": {<br>    \"stft_window_sec\": 3.6884934978326105,<br>    \"stft_overlap\": 0.9484718045840237,<br>    \"minSNR\": 6.832943896905032,<br>    \"stationary_frame_sec\": 411.2118503181187,<br>    \"cluster_size_t_sec\": 4.862728013679986,<br>    \"cluster_distance_t_sec\": 0.27330464885534894,<br>    \"cluster_size_f_Hz\": 27.33163208473437,<br>    \"cluster_distance_f_Hz\": 8.388802888111943<br>  }<br>}",
          "{<br>  \"number\": 12,<br>  \"values\": [<br>    0.12622720817574604,<br>    0.02659623333268731<br>  ],<br>  \"params\": {<br>    \"stft_window_sec\": 3.751010336778926,<br>    \"stft_overlap\": 0.45697149085161,<br>    \"minSNR\": 6.3792839510290325,<br>    \"stationary_frame_sec\": 1113.1180757938473,<br>    \"cluster_size_t_sec\": 4.109173441328562,<br>    \"cluster_distance_t_sec\": 0.6865727452714245,<br>    \"cluster_size_f_Hz\": 46.591693006467416,<br>    \"cluster_distance_f_Hz\": 17.890396668164495<br>  }<br>}",
          "{<br>  \"number\": 13,<br>  \"values\": [<br>    0.08771929796283472,<br>    0.0654754666657027<br>  ],<br>  \"params\": {<br>    \"stft_window_sec\": 0.8752357452484161,<br>    \"stft_overlap\": 0.8401116696596809,<br>    \"minSNR\": 9.846637076058183,<br>    \"stationary_frame_sec\": 252.8852796391696,<br>    \"cluster_size_t_sec\": 3.0179127461179975,<br>    \"cluster_distance_t_sec\": 0.19733746937011715,<br>    \"cluster_size_f_Hz\": 16.281159194172307,<br>    \"cluster_distance_f_Hz\": 22.920612044016433<br>  }<br>}",
          "{<br>  \"number\": 14,<br>  \"values\": [<br>    0.38685679495612013,<br>    0.06927519999923486<br>  ],<br>  \"params\": {<br>    \"stft_window_sec\": 3.751010336778926,<br>    \"stft_overlap\": 0.8087527203835387,<br>    \"minSNR\": 5.919523808851345,<br>    \"stationary_frame_sec\": 1611.840340308504,<br>    \"cluster_size_t_sec\": 1.0569425275459021,<br>    \"cluster_distance_t_sec\": 2.2585367127215337,<br>    \"cluster_size_f_Hz\": 39.65926786960793,<br>    \"cluster_distance_f_Hz\": 18.11299145687676<br>  }<br>}",
          "{<br>  \"number\": 15,<br>  \"values\": [<br>    0.0,<br>    0.09405273333292523<br>  ],<br>  \"params\": {<br>    \"stft_window_sec\": 2.18808936312104,<br>    \"stft_overlap\": 0.7878833355129888,<br>    \"minSNR\": 7.409865063412624,<br>    \"stationary_frame_sec\": 665.2677468048253,<br>    \"cluster_size_t_sec\": 3.167544507389379,<br>    \"cluster_distance_t_sec\": 2.005633272092475,<br>    \"cluster_size_f_Hz\": 46.93234750343442,<br>    \"cluster_distance_f_Hz\": 7.173052191945356<br>  }<br>}",
          "{<br>  \"number\": 16,<br>  \"values\": [<br>    0.04901960766652249,<br>    0.03298343333305335<br>  ],<br>  \"params\": {<br>    \"stft_window_sec\": 1.562920973657886,<br>    \"stft_overlap\": 0.6130776995159297,<br>    \"minSNR\": 9.194267919992086,<br>    \"stationary_frame_sec\": 1047.3059589168718,<br>    \"cluster_size_t_sec\": 0.5739941405211485,<br>    \"cluster_distance_t_sec\": 0.38586765632326686,<br>    \"cluster_size_f_Hz\": 32.45485086979685,<br>    \"cluster_distance_f_Hz\": 11.224314259182819<br>  }<br>}",
          "{<br>  \"number\": 17,<br>  \"values\": [<br>    0.0,<br>    0.07909313333281413<br>  ],<br>  \"params\": {<br>    \"stft_window_sec\": 0.6876852284094698,<br>    \"stft_overlap\": 0.826757469816221,<br>    \"minSNR\": 9.799617914933858,<br>    \"stationary_frame_sec\": 239.57496856702826,<br>    \"cluster_size_t_sec\": 4.827322506942269,<br>    \"cluster_distance_t_sec\": 1.0276781559000625,<br>    \"cluster_size_f_Hz\": 46.68538500431774,<br>    \"cluster_distance_f_Hz\": 20.897712215762073<br>  }<br>}",
          "{<br>  \"number\": 18,<br>  \"values\": [<br>    0.30871212051423685,<br>    0.026373699999870343<br>  ],<br>  \"params\": {<br>    \"stft_window_sec\": 2.3756398799599867,<br>    \"stft_overlap\": 0.23059991348967374,<br>    \"minSNR\": 9.482136380383508,<br>    \"stationary_frame_sec\": 899.0258256840966,<br>    \"cluster_size_t_sec\": 3.583549986067254,<br>    \"cluster_distance_t_sec\": 2.483517492821192,<br>    \"cluster_size_f_Hz\": 1.8007943078329813,<br>    \"cluster_distance_f_Hz\": 11.442117185454412<br>  }<br>}",
          "{<br>  \"number\": 19,<br>  \"values\": [<br>    0.33340347863160685,<br>    0.19039800000033816<br>  ],<br>  \"params\": {<br>    \"stft_window_sec\": 2.3756398799599867,<br>    \"stft_overlap\": 0.8691691702002315,<br>    \"minSNR\": 5.236279374085884,<br>    \"stationary_frame_sec\": 621.5073713214634,<br>    \"cluster_size_t_sec\": 1.4927956131235791,<br>    \"cluster_distance_t_sec\": 0.06885407495935136,<br>    \"cluster_size_f_Hz\": 15.197929948685573,<br>    \"cluster_distance_f_Hz\": 15.51360881596548<br>  }<br>}",
          "{<br>  \"number\": 20,<br>  \"values\": [<br>    0.25331439341787126,<br>    0.07033590000022134<br>  ],<br>  \"params\": {<br>    \"stft_window_sec\": 1.1878199399799931,<br>    \"stft_overlap\": 0.7591767988328777,<br>    \"minSNR\": 7.349854498661106,<br>    \"stationary_frame_sec\": 166.67374974104933,<br>    \"cluster_size_t_sec\": 1.1094310931363878,<br>    \"cluster_distance_t_sec\": 1.5594590076975128,<br>    \"cluster_size_f_Hz\": 26.592748859093728,<br>    \"cluster_distance_f_Hz\": 21.21129216514642<br>  }<br>}",
          "{<br>  \"number\": 21,<br>  \"values\": [<br>    0.32806131406602795,<br>    0.03800890000032572<br>  ],<br>  \"params\": {<br>    \"stft_window_sec\": 3.000808269423141,<br>    \"stft_overlap\": 0.5939582724774561,<br>    \"minSNR\": 5.545660611277094,<br>    \"stationary_frame_sec\": 1916.5041879882397,<br>    \"cluster_size_t_sec\": 2.5820258912602294,<br>    \"cluster_distance_t_sec\": 1.5983371024487654,<br>    \"cluster_size_f_Hz\": 44.58049606720872,<br>    \"cluster_distance_f_Hz\": 17.604580331127398<br>  }<br>}",
          "{<br>  \"number\": 22,<br>  \"values\": [<br>    0.6388888877600309,<br>    0.06945243333363275<br>  ],<br>  \"params\": {<br>    \"stft_window_sec\": 3.188358786262087,<br>    \"stft_overlap\": 0.711996622426708,<br>    \"minSNR\": 3.6327947714983253,<br>    \"stationary_frame_sec\": 519.7587817840218,<br>    \"cluster_size_t_sec\": 1.9550491250671787,<br>    \"cluster_distance_t_sec\": 0.28795346715717596,<br>    \"cluster_size_f_Hz\": 4.907776131767921,<br>    \"cluster_distance_f_Hz\": 5.0654212903738784<br>  }<br>}",
          "{<br>  \"number\": 23,<br>  \"values\": [<br>    0.14492753584593573,<br>    0.0250765000003715<br>  ],<br>  \"params\": {<br>    \"stft_window_sec\": 2.9382914304768253,<br>    \"stft_overlap\": 0.218870387919705,<br>    \"minSNR\": 5.9763518224754,<br>    \"stationary_frame_sec\": 3643.139673012917,<br>    \"cluster_size_t_sec\": 0.01184204818295731,<br>    \"cluster_distance_t_sec\": 1.7329187230651624,<br>    \"cluster_size_f_Hz\": 26.17407029741753,<br>    \"cluster_distance_f_Hz\": 0.5835302365610834<br>  }<br>}",
          "{<br>  \"number\": 24,<br>  \"values\": [<br>    0.4320423811910297,<br>    0.026746466667039687<br>  ],<br>  \"params\": {<br>    \"stft_window_sec\": 3.4384261420473488,<br>    \"stft_overlap\": 0.34984706450827197,<br>    \"minSNR\": 4.194752475243824,<br>    \"stationary_frame_sec\": 5217.894328544398,<br>    \"cluster_size_t_sec\": 0.09998515866690205,<br>    \"cluster_distance_t_sec\": 0.7243374882698137,<br>    \"cluster_size_f_Hz\": 17.030393440096525,<br>    \"cluster_distance_f_Hz\": 0.463955515963807<br>  }<br>}",
          "{<br>  \"number\": 25,<br>  \"values\": [<br>    0.564510510506863,<br>    0.023720133332972182<br>  ],<br>  \"params\": {<br>    \"stft_window_sec\": 3.5009429809936643,<br>    \"stft_overlap\": 0.3268429332917654,<br>    \"minSNR\": 7.944369669916369,<br>    \"stationary_frame_sec\": 3708.428482761764,<br>    \"cluster_size_t_sec\": 1.5377327740606055,<br>    \"cluster_distance_t_sec\": 1.8711765749974374,<br>    \"cluster_size_f_Hz\": 6.38439260131527,<br>    \"cluster_distance_f_Hz\": 20.20082217742991<br>  }<br>}",
          "{<br>  \"number\": 26,<br>  \"values\": [<br>    0.20114942486251486,<br>    0.02689130000029157<br>  ],<br>  \"params\": {<br>    \"stft_window_sec\": 1.875505168389463,<br>    \"stft_overlap\": 0.5406530566868346,<br>    \"minSNR\": 9.945638779233771,<br>    \"stationary_frame_sec\": 1817.362170444364,<br>    \"cluster_size_t_sec\": 2.4765322832020904,<br>    \"cluster_distance_t_sec\": 0.02518145362582519,<br>    \"cluster_size_f_Hz\": 24.679789054810886,<br>    \"cluster_distance_f_Hz\": 3.02636390263788<br>  }<br>}",
          "{<br>  \"number\": 27,<br>  \"values\": [<br>    0.6111111099830248,<br>    0.20777383333431013<br>  ],<br>  \"params\": {<br>    \"stft_window_sec\": 1.0627862620873625,<br>    \"stft_overlap\": 0.5019369799849662,<br>    \"minSNR\": 3.7032737611478383,<br>    \"stationary_frame_sec\": 955.3196896838926,<br>    \"cluster_size_t_sec\": 2.308084711378078,<br>    \"cluster_distance_t_sec\": 2.4085819152706174,<br>    \"cluster_size_f_Hz\": 48.78352808143787,<br>    \"cluster_distance_f_Hz\": 23.53563499971093<br>  }<br>}",
          "{<br>  \"number\": 28,<br>  \"values\": [<br>    0.20833333290798617,<br>    0.07573953333303507<br>  ],<br>  \"params\": {<br>    \"stft_window_sec\": 1.875505168389463,<br>    \"stft_overlap\": 0.8617354619365356,<br>    \"minSNR\": 7.4422942188788905,<br>    \"stationary_frame_sec\": 573.5056922022668,<br>    \"cluster_size_t_sec\": 3.42188830689959,<br>    \"cluster_distance_t_sec\": 0.4409865412825653,<br>    \"cluster_size_f_Hz\": 24.396534949004195,<br>    \"cluster_distance_f_Hz\": 12.196075561708225<br>  }<br>}",
          "{<br>  \"number\": 29,<br>  \"values\": [<br>    0.38564687620922183,<br>    0.06176016666631767<br>  ],<br>  \"params\": {<br>    \"stft_window_sec\": 2.2506062020673556,<br>    \"stft_overlap\": 0.6955683641965946,<br>    \"minSNR\": 6.56567332072137,<br>    \"stationary_frame_sec\": 1660.750541185058,<br>    \"cluster_size_t_sec\": 0.3668904341867668,<br>    \"cluster_distance_t_sec\": 0.9046179156479045,<br>    \"cluster_size_f_Hz\": 15.857571992738995,<br>    \"cluster_distance_f_Hz\": 24.54555885371735<br>  }<br>}",
          "{<br>  \"number\": 30,<br>  \"values\": [<br>    0.6018518507240227,<br>    0.17260113333365248<br>  ],<br>  \"params\": {<br>    \"stft_window_sec\": 4.001077692564188,<br>    \"stft_overlap\": 0.9047440061992273,<br>    \"minSNR\": 4.575375653140355,<br>    \"stationary_frame_sec\": 296.5736326105447,<br>    \"cluster_size_t_sec\": 4.113826959210135,<br>    \"cluster_distance_t_sec\": 0.7122668237072718,<br>    \"cluster_size_f_Hz\": 1.1765727272791127,<br>    \"cluster_distance_f_Hz\": 17.854386383223613<br>  }<br>}",
          "{<br>  \"number\": 31,<br>  \"values\": [<br>    0.5092592581340021,<br>    0.04040179999992688<br>  ],<br>  \"params\": {<br>    \"stft_window_sec\": 2.0630556852284094,<br>    \"stft_overlap\": 0.22659714762458721,<br>    \"minSNR\": 3.777135596567389,<br>    \"stationary_frame_sec\": 1314.8559860854382,<br>    \"cluster_size_t_sec\": 2.619753354706369,<br>    \"cluster_distance_t_sec\": 1.740512220731897,<br>    \"cluster_size_f_Hz\": 36.99859772392861,<br>    \"cluster_distance_f_Hz\": 3.1825176512072284<br>  }<br>}",
          "{<br>  \"number\": 32,<br>  \"values\": [<br>    0.0,<br>    0.11466426666599243<br>  ],<br>  \"params\": {<br>    \"stft_window_sec\": 2.0630556852284094,<br>    \"stft_overlap\": 0.820208422620083,<br>    \"minSNR\": 8.930922359780695,<br>    \"stationary_frame_sec\": 592.1008283385156,<br>    \"cluster_size_t_sec\": 2.8684440896652594,<br>    \"cluster_distance_t_sec\": 0.23096093429098769,<br>    \"cluster_size_f_Hz\": 47.23752185044307,<br>    \"cluster_distance_f_Hz\": 23.241214275075638<br>  }<br>}",
          "{<br>  \"number\": 33,<br>  \"values\": [<br>    0.5555555544290124,<br>    0.03965210000023944<br>  ],<br>  \"params\": {<br>    \"stft_window_sec\": 3.8135271757252416,<br>    \"stft_overlap\": 0.6730490755811079,<br>    \"minSNR\": 4.685514225399124,<br>    \"stationary_frame_sec\": 3106.7632650121936,<br>    \"cluster_size_t_sec\": 3.1212755660743206,<br>    \"cluster_distance_t_sec\": 2.3627976125021286,<br>    \"cluster_size_f_Hz\": 2.489625008727203,<br>    \"cluster_distance_f_Hz\": 6.839561258675627<br>  }<br>}",
          "{<br>  \"number\": 34,<br>  \"values\": [<br>    0.42592592480298347,<br>    0.5770307333335344<br>  ],<br>  \"params\": {<br>    \"stft_window_sec\": 1.2503367789263087,<br>    \"stft_overlap\": 0.9465783410416284,<br>    \"minSNR\": 3.614218340426715,<br>    \"stationary_frame_sec\": 146.41236947873207,<br>    \"cluster_size_t_sec\": 3.0027513057774486,<br>    \"cluster_distance_t_sec\": 0.9906919163935592,<br>    \"cluster_size_f_Hz\": 41.281079737418494,<br>    \"cluster_distance_f_Hz\": 1.3511065580251391<br>  }<br>}",
          "{<br>  \"number\": 35,<br>  \"values\": [<br>    0.3894954281900957,<br>    0.06968563333339262<br>  ],<br>  \"params\": {<br>    \"stft_window_sec\": 3.751010336778926,<br>    \"stft_overlap\": 0.8310949256936717,<br>    \"minSNR\": 5.642254892877002,<br>    \"stationary_frame_sec\": 255.76918528050177,<br>    \"cluster_size_t_sec\": 3.4109293233707065,<br>    \"cluster_distance_t_sec\": 1.5906988775190345,<br>    \"cluster_size_f_Hz\": 8.575345753099123,<br>    \"cluster_distance_f_Hz\": 7.5042790006611595<br>  }<br>}",
          "{<br>  \"number\": 36,<br>  \"values\": [<br>    0.2150537630159556,<br>    0.10546213333327614<br>  ],<br>  \"params\": {<br>    \"stft_window_sec\": 3.313392464154718,<br>    \"stft_overlap\": 0.8626512359215259,<br>    \"minSNR\": 9.299727387189515,<br>    \"stationary_frame_sec\": 218.9789558423826,<br>    \"cluster_size_t_sec\": 2.2212865217442164,<br>    \"cluster_distance_t_sec\": 1.9075907646091266,<br>    \"cluster_size_f_Hz\": 24.855962462934478,<br>    \"cluster_distance_f_Hz\": 15.069000054199295<br>  }<br>}",
          "{<br>  \"number\": 37,<br>  \"values\": [<br>    0.4203869038467844,<br>    0.05251116666780339<br>  ],<br>  \"params\": {<br>    \"stft_window_sec\": 4.001077692564188,<br>    \"stft_overlap\": 0.7845791380464613,<br>    \"minSNR\": 9.55944286778014,<br>    \"stationary_frame_sec\": 1605.4348751699847,<br>    \"cluster_size_t_sec\": 0.8562810344538807,<br>    \"cluster_distance_t_sec\": 0.9625942985361982,<br>    \"cluster_size_f_Hz\": 16.656611206785243,<br>    \"cluster_distance_f_Hz\": 4.441307653593663<br>  }<br>}",
          "{<br>  \"number\": 38,<br>  \"values\": [<br>    0.41049060127274156,<br>    0.06240396666665523<br>  ],<br>  \"params\": {<br>    \"stft_window_sec\": 3.8135271757252416,<br>    \"stft_overlap\": 0.7914588960387405,<br>    \"minSNR\": 5.894313374559669,<br>    \"stationary_frame_sec\": 1863.5260699505438,<br>    \"cluster_size_t_sec\": 3.57078624238106,<br>    \"cluster_distance_t_sec\": 1.7260557479012877,<br>    \"cluster_size_f_Hz\": 33.93371682400692,<br>    \"cluster_distance_f_Hz\": 20.10442505223245<br>  }<br>}",
          "{<br>  \"number\": 39,<br>  \"values\": [<br>    0.5555555544290124,<br>    0.05494679999992513<br>  ],<br>  \"params\": {<br>    \"stft_window_sec\": 3.751010336778926,<br>    \"stft_overlap\": 0.7753385818256562,<br>    \"minSNR\": 4.852668937283667,<br>    \"stationary_frame_sec\": 446.5141272207784,<br>    \"cluster_size_t_sec\": 4.0550597537353825,<br>    \"cluster_distance_t_sec\": 1.8715225623490865,<br>    \"cluster_size_f_Hz\": 35.95487076758895,<br>    \"cluster_distance_f_Hz\": 8.244230383644538<br>  }<br>}",
          "{<br>  \"number\": 40,<br>  \"values\": [<br>    0.5925925914650206,<br>    0.03572226666680459<br>  ],<br>  \"params\": {<br>    \"stft_window_sec\": 0.7502020673557852,<br>    \"stft_overlap\": 0.29392356313765744,<br>    \"minSNR\": 3.902952824699919,<br>    \"stationary_frame_sec\": 1011.2880300281406,<br>    \"cluster_size_t_sec\": 1.259537526336073,<br>    \"cluster_distance_t_sec\": 0.982412614226722,<br>    \"cluster_size_f_Hz\": 26.872383524753197,<br>    \"cluster_distance_f_Hz\": 22.304078597872266<br>  }<br>}",
          "{<br>  \"number\": 41,<br>  \"values\": [<br>    0.0,<br>    0.03874443333309804<br>  ],<br>  \"params\": {<br>    \"stft_window_sec\": 3.8135271757252416,<br>    \"stft_overlap\": 0.6978265976413904,<br>    \"minSNR\": 8.510852698064983,<br>    \"stationary_frame_sec\": 2350.61671271799,<br>    \"cluster_size_t_sec\": 4.816296954625331,<br>    \"cluster_distance_t_sec\": 0.7862137357863432,<br>    \"cluster_size_f_Hz\": 45.23252862120107,<br>    \"cluster_distance_f_Hz\": 10.839029098017045<br>  }<br>}",
          "{<br>  \"number\": 42,<br>  \"values\": [<br>    0.7563018188896112,<br>    0.1764216000004429<br>  ],<br>  \"params\": {<br>    \"stft_window_sec\": 1.6879546515505166,<br>    \"stft_overlap\": 0.9204997298496989,<br>    \"minSNR\": 8.697776667712489,<br>    \"stationary_frame_sec\": 91.0725966708817,<br>    \"cluster_size_t_sec\": 0.06493215724680423,<br>    \"cluster_distance_t_sec\": 0.6932536058798339,<br>    \"cluster_size_f_Hz\": 9.520733077812931,<br>    \"cluster_distance_f_Hz\": 4.834992824034131<br>  }<br>}",
          "{<br>  \"number\": 43,<br>  \"values\": [<br>    0.34722222160783184,<br>    0.15948349999992692<br>  ],<br>  \"params\": {<br>    \"stft_window_sec\": 1.1878199399799931,<br>    \"stft_overlap\": 0.8738286498390526,<br>    \"minSNR\": 5.602244305404777,<br>    \"stationary_frame_sec\": 224.17833038279977,<br>    \"cluster_size_t_sec\": 3.632254614376498,<br>    \"cluster_distance_t_sec\": 0.5708227273362698,<br>    \"cluster_size_f_Hz\": 12.067896028930969,<br>    \"cluster_distance_f_Hz\": 2.549619871631717<br>  }<br>}",
          "{<br>  \"number\": 44,<br>  \"values\": [<br>    0.6203703692420268,<br>    0.074701699999423<br>  ],<br>  \"params\": {<br>    \"stft_window_sec\": 3.000808269423141,<br>    \"stft_overlap\": 0.7599405420082965,<br>    \"minSNR\": 4.8113698786235455,<br>    \"stationary_frame_sec\": 586.3943403078117,<br>    \"cluster_size_t_sec\": 4.317397561836195,<br>    \"cluster_distance_t_sec\": 2.1825523328634513,<br>    \"cluster_size_f_Hz\": 11.754507763662092,<br>    \"cluster_distance_f_Hz\": 15.53700460423369<br>  }<br>}",
          "{<br>  \"number\": 45,<br>  \"values\": [<br>    0.2642276418816925,<br>    0.05024326666656028<br>  ],<br>  \"params\": {<br>    \"stft_window_sec\": 2.6882240746915635,<br>    \"stft_overlap\": 0.7051379695331212,<br>    \"minSNR\": 9.848091839703587,<br>    \"stationary_frame_sec\": 418.8174963506933,<br>    \"cluster_size_t_sec\": 4.304404671255481,<br>    \"cluster_distance_t_sec\": 0.7770859536263532,<br>    \"cluster_size_f_Hz\": 2.7025156543888373,<br>    \"cluster_distance_f_Hz\": 13.035037237521149<br>  }<br>}",
          "{<br>  \"number\": 46,<br>  \"values\": [<br>    0.0,<br>    0.03689163333365286<br>  ],<br>  \"params\": {<br>    \"stft_window_sec\": 1.875505168389463,<br>    \"stft_overlap\": 0.703120052456961,<br>    \"minSNR\": 8.447899604075827,<br>    \"stationary_frame_sec\": 672.2619527957762,<br>    \"cluster_size_t_sec\": 2.562235023547004,<br>    \"cluster_distance_t_sec\": 2.2346039272003417,<br>    \"cluster_size_f_Hz\": 41.87437738896394,<br>    \"cluster_distance_f_Hz\": 19.17164736066919<br>  }<br>}",
          "{<br>  \"number\": 47,<br>  \"values\": [<br>    0.46178387256409775,<br>    0.028878200000084082<br>  ],<br>  \"params\": {<br>    \"stft_window_sec\": 1.562920973657886,<br>    \"stft_overlap\": 0.47014262063934453,<br>    \"minSNR\": 5.1066708953476745,<br>    \"stationary_frame_sec\": 1667.236588886194,<br>    \"cluster_size_t_sec\": 0.6065176042498466,<br>    \"cluster_distance_t_sec\": 1.0974134764320302,<br>    \"cluster_size_f_Hz\": 15.890372699711897,<br>    \"cluster_distance_f_Hz\": 20.34507382352514<br>  }<br>}",
          "{<br>  \"number\": 48,<br>  \"values\": [<br>    0.23809523767857146,<br>    0.13861839999966227<br>  ],<br>  \"params\": {<br>    \"stft_window_sec\": 3.1258419473157715,<br>    \"stft_overlap\": 0.8950027061446453,<br>    \"minSNR\": 6.5946973774370115,<br>    \"stationary_frame_sec\": 400.7882601711558,<br>    \"cluster_size_t_sec\": 3.966908093588109,<br>    \"cluster_distance_t_sec\": 1.354338038043918,<br>    \"cluster_size_f_Hz\": 23.395341364681933,<br>    \"cluster_distance_f_Hz\": 1.6540612555833638<br>  }<br>}",
          "{<br>  \"number\": 49,<br>  \"values\": [<br>    0.6203703692420267,<br>    0.04402626666675739<br>  ],<br>  \"params\": {<br>    \"stft_window_sec\": 0.5001347115705235,<br>    \"stft_overlap\": 0.7180851149413547,<br>    \"minSNR\": 4.238141726893733,<br>    \"stationary_frame_sec\": 338.58294302142,<br>    \"cluster_size_t_sec\": 1.6093966660808094,<br>    \"cluster_distance_t_sec\": 1.7465159471038458,<br>    \"cluster_size_f_Hz\": 11.948650894200675,<br>    \"cluster_distance_f_Hz\": 5.2298501207254375<br>  }<br>}",
          "{<br>  \"number\": 50,<br>  \"values\": [<br>    0.3818369446684288,<br>    0.026593433334407262<br>  ],<br>  \"params\": {<br>    \"stft_window_sec\": 1.875505168389463,<br>    \"stft_overlap\": 0.5406530566868346,<br>    \"minSNR\": 9.945638779233771,<br>    \"stationary_frame_sec\": 1452.5674497930215,<br>    \"cluster_size_t_sec\": 2.4765322832020904,<br>    \"cluster_distance_t_sec\": 1.8711765749974374,<br>    \"cluster_size_f_Hz\": 6.38439260131527,<br>    \"cluster_distance_f_Hz\": 3.02636390263788<br>  }<br>}",
          "{<br>  \"number\": 51,<br>  \"values\": [<br>    0.0,<br>    0.038091800000377894<br>  ],<br>  \"params\": {<br>    \"stft_window_sec\": 3.625976658886295,<br>    \"stft_overlap\": 0.6978265976413904,<br>    \"minSNR\": 5.943360725598856,<br>    \"stationary_frame_sec\": 2070.1457756502464,<br>    \"cluster_size_t_sec\": 1.5190791447174379,<br>    \"cluster_distance_t_sec\": 0.7862137357863432,<br>    \"cluster_size_f_Hz\": 45.23252862120107,<br>    \"cluster_distance_f_Hz\": 0.839950833236347<br>  }<br>}",
          "{<br>  \"number\": 52,<br>  \"values\": [<br>    0.0,<br>    0.03455226666665112<br>  ],<br>  \"params\": {<br>    \"stft_window_sec\": 2.0630556852284094,<br>    \"stft_overlap\": 0.22659714762458721,<br>    \"minSNR\": 3.777135596567389,<br>    \"stationary_frame_sec\": 419.91943533369204,<br>    \"cluster_size_t_sec\": 2.619753354706369,<br>    \"cluster_distance_t_sec\": 1.740512220731897,<br>    \"cluster_size_f_Hz\": 36.99859772392861,<br>    \"cluster_distance_f_Hz\": 0.04064497984158921<br>  }<br>}",
          "{<br>  \"number\": 53,<br>  \"values\": [<br>    0.0,<br>    0.027662699999988643<br>  ],<br>  \"params\": {<br>    \"stft_window_sec\": 0.8127189063021006,<br>    \"stft_overlap\": 0.5394218006684881,<br>    \"minSNR\": 8.01150296485458,<br>    \"stationary_frame_sec\": 416.03837778760595,<br>    \"cluster_size_t_sec\": 0.265703200837924,<br>    \"cluster_distance_t_sec\": 0.4128153978517263,<br>    \"cluster_size_f_Hz\": 49.13849724949582,<br>    \"cluster_distance_f_Hz\": 19.932503516717816<br>  }<br>}",
          "{<br>  \"number\": 54,<br>  \"values\": [<br>    0.4308035705038807,<br>    0.12933616666608336<br>  ],<br>  \"params\": {<br>    \"stft_window_sec\": 2.0630556852284094,<br>    \"stft_overlap\": 0.8273303479156895,<br>    \"minSNR\": 6.089510625431769,<br>    \"stationary_frame_sec\": 149.7199858913427,<br>    \"cluster_size_t_sec\": 1.6093966660808094,<br>    \"cluster_distance_t_sec\": 1.740512220731897,<br>    \"cluster_size_f_Hz\": 22.781459419804325,<br>    \"cluster_distance_f_Hz\": 3.1825176512072284<br>  }<br>}",
          "{<br>  \"number\": 55,<br>  \"values\": [<br>    0.23809523767857146,<br>    0.03533986666631487<br>  ],<br>  \"params\": {<br>    \"stft_window_sec\": 1.875505168389463,<br>    \"stft_overlap\": 0.703120052456961,<br>    \"minSNR\": 8.447899604075827,<br>    \"stationary_frame_sec\": 514.6235638992582,<br>    \"cluster_size_t_sec\": 2.562235023547004,<br>    \"cluster_distance_t_sec\": 1.0444683680365487,<br>    \"cluster_size_f_Hz\": 17.030393440096525,<br>    \"cluster_distance_f_Hz\": 22.39008277535107<br>  }<br>}",
          "{<br>  \"number\": 56,<br>  \"values\": [<br>    0.7753214910408867,<br>    0.12024750000000495<br>  ],<br>  \"params\": {<br>    \"stft_window_sec\": 3.5009429809936643,<br>    \"stft_overlap\": 0.8950027061446453,<br>    \"minSNR\": 6.5946973774370115,<br>    \"stationary_frame_sec\": 765.9777702047218,<br>    \"cluster_size_t_sec\": 1.5377327740606055,<br>    \"cluster_distance_t_sec\": 1.354338038043918,<br>    \"cluster_size_f_Hz\": 6.38439260131527,<br>    \"cluster_distance_f_Hz\": 1.6540612555833638<br>  }<br>}",
          "{<br>  \"number\": 57,<br>  \"values\": [<br>    0.026041666566975905,<br>    0.02418406666674855<br>  ],<br>  \"params\": {<br>    \"stft_window_sec\": 3.5009429809936643,<br>    \"stft_overlap\": 0.3268429332917654,<br>    \"minSNR\": 7.944369669916369,<br>    \"stationary_frame_sec\": 4099.51605284393,<br>    \"cluster_size_t_sec\": 1.5377327740606055,<br>    \"cluster_distance_t_sec\": 1.8715225623490865,<br>    \"cluster_size_f_Hz\": 35.95487076758895,<br>    \"cluster_distance_f_Hz\": 20.20082217742991<br>  }<br>}",
          "{<br>  \"number\": 58,<br>  \"values\": [<br>    0.7867980838853144,<br>    0.034873666666802215<br>  ],<br>  \"params\": {<br>    \"stft_window_sec\": 3.876044014671557,<br>    \"stft_overlap\": 0.671906449177992,<br>    \"minSNR\": 9.945232516304921,<br>    \"stationary_frame_sec\": 2110.2629370056084,<br>    \"cluster_size_t_sec\": 1.0099363516477107,<br>    \"cluster_distance_t_sec\": 2.2324611046922738,<br>    \"cluster_size_f_Hz\": 1.6938856408444392,<br>    \"cluster_distance_f_Hz\": 16.450167392943364<br>  }<br>}",
          "{<br>  \"number\": 59,<br>  \"values\": [<br>    0.32593749694239177,<br>    0.02928366666704581<br>  ],<br>  \"params\": {<br>    \"stft_window_sec\": 3.5009429809936643,<br>    \"stft_overlap\": 0.4870751204121366,<br>    \"minSNR\": 5.6633636294987895,<br>    \"stationary_frame_sec\": 573.7118655398124,<br>    \"cluster_size_t_sec\": 4.299497363206001,<br>    \"cluster_distance_t_sec\": 1.8711765749974374,<br>    \"cluster_size_f_Hz\": 13.557998272533778,<br>    \"cluster_distance_f_Hz\": 20.20082217742991<br>  }<br>}",
          "{<br>  \"number\": 60,<br>  \"values\": [<br>    0.3983516475204724,<br>    0.02423086666688808<br>  ],<br>  \"params\": {<br>    \"stft_window_sec\": 3.4384261420473488,<br>    \"stft_overlap\": 0.29392356313765744,<br>    \"minSNR\": 4.194752475243824,<br>    \"stationary_frame_sec\": 5389.985501569554,<br>    \"cluster_size_t_sec\": 0.09998515866690205,<br>    \"cluster_distance_t_sec\": 0.7243374882698137,<br>    \"cluster_size_f_Hz\": 17.030393440096525,<br>    \"cluster_distance_f_Hz\": 0.463955515963807<br>  }<br>}",
          "{<br>  \"number\": 61,<br>  \"values\": [<br>    0.7505175972285093,<br>    0.03697316666633318<br>  ],<br>  \"params\": {<br>    \"stft_window_sec\": 2.625707235745248,<br>    \"stft_overlap\": 0.5467773409390144,<br>    \"minSNR\": 7.205840903537979,<br>    \"stationary_frame_sec\": 715.8731532401334,<br>    \"cluster_size_t_sec\": 1.7365293926743997,<br>    \"cluster_distance_t_sec\": 2.179272328836552,<br>    \"cluster_size_f_Hz\": 3.3766687041382193,<br>    \"cluster_distance_f_Hz\": 3.9451453523930287<br>  }<br>}",
          "{<br>  \"number\": 62,<br>  \"values\": [<br>    0.4830003355485865,<br>    0.03839603333381092<br>  ],<br>  \"params\": {<br>    \"stft_window_sec\": 3.8135271757252416,<br>    \"stft_overlap\": 0.711996622426708,<br>    \"minSNR\": 9.840767164376633,<br>    \"stationary_frame_sec\": 1307.3051146205964,<br>    \"cluster_size_t_sec\": 3.812656964298477,<br>    \"cluster_distance_t_sec\": 0.28795346715717596,<br>    \"cluster_size_f_Hz\": 9.226676653244908,<br>    \"cluster_distance_f_Hz\": 5.0654212903738784<br>  }<br>}",
          "{<br>  \"number\": 63,<br>  \"values\": [<br>    0.492724866651801,<br>    0.027642333333460556<br>  ],<br>  \"params\": {<br>    \"stft_window_sec\": 1.2503367789263087,<br>    \"stft_overlap\": 0.2917938518827785,<br>    \"minSNR\": 9.55944286778014,<br>    \"stationary_frame_sec\": 1309.7186439295847,<br>    \"cluster_size_t_sec\": 0.8721572647974568,<br>    \"cluster_distance_t_sec\": 0.9906919163935592,<br>    \"cluster_size_f_Hz\": 16.656611206785243,<br>    \"cluster_distance_f_Hz\": 4.441307653593663<br>  }<br>}",
          "{<br>  \"number\": 64,<br>  \"values\": [<br>    0.0,<br>    0.02762199999991329<br>  ],<br>  \"params\": {<br>    \"stft_window_sec\": 1.562920973657886,<br>    \"stft_overlap\": 0.5019369799849662,<br>    \"minSNR\": 9.194267919992086,<br>    \"stationary_frame_sec\": 1298.3397425448652,<br>    \"cluster_size_t_sec\": 0.07711224635483793,<br>    \"cluster_distance_t_sec\": 2.4085819152706174,<br>    \"cluster_size_f_Hz\": 48.78352808143787,<br>    \"cluster_distance_f_Hz\": 11.224314259182819<br>  }<br>}",
          "{<br>  \"number\": 65,<br>  \"values\": [<br>    0.0,<br>    0.051253999999365384<br>  ],<br>  \"params\": {<br>    \"stft_window_sec\": 3.876044014671557,<br>    \"stft_overlap\": 0.7914588960387405,<br>    \"minSNR\": 9.945232516304921,<br>    \"stationary_frame_sec\": 367.8008351008708,<br>    \"cluster_size_t_sec\": 0.6222361299490059,<br>    \"cluster_distance_t_sec\": 2.0078074374880135,<br>    \"cluster_size_f_Hz\": 33.93371682400692,<br>    \"cluster_distance_f_Hz\": 20.10442505223245<br>  }<br>}",
          "{<br>  \"number\": 66,<br>  \"values\": [<br>    0.0,<br>    0.07076666666641056<br>  ],<br>  \"params\": {<br>    \"stft_window_sec\": 0.6876852284094698,<br>    \"stft_overlap\": 0.8063971329691846,<br>    \"minSNR\": 9.799617914933858,<br>    \"stationary_frame_sec\": 160.95175474235106,<br>    \"cluster_size_t_sec\": 1.8854842153437494,<br>    \"cluster_distance_t_sec\": 1.0276781559000625,<br>    \"cluster_size_f_Hz\": 46.68538500431774,<br>    \"cluster_distance_f_Hz\": 18.11299145687676<br>  }<br>}",
          "{<br>  \"number\": 67,<br>  \"values\": [<br>    0.386392634395709,<br>    0.16315240000009604<br>  ],<br>  \"params\": {<br>    \"stft_window_sec\": 3.56345981993998,<br>    \"stft_overlap\": 0.9047440061992273,<br>    \"minSNR\": 6.107960952306687,<br>    \"stationary_frame_sec\": 569.5421896528823,<br>    \"cluster_size_t_sec\": 4.113826959210135,<br>    \"cluster_distance_t_sec\": 1.7465159471038458,<br>    \"cluster_size_f_Hz\": 1.1765727272791127,<br>    \"cluster_distance_f_Hz\": 8.179495011307628<br>  }<br>}",
          "{<br>  \"number\": 68,<br>  \"values\": [<br>    0.5009920624159158,<br>    0.12868970000029853<br>  ],<br>  \"params\": {<br>    \"stft_window_sec\": 2.2506062020673556,<br>    \"stft_overlap\": 0.8401116696596809,<br>    \"minSNR\": 9.846637076058183,<br>    \"stationary_frame_sec\": 273.6243656601828,<br>    \"cluster_size_t_sec\": 0.3668904341867668,<br>    \"cluster_distance_t_sec\": 0.9046179156479045,<br>    \"cluster_size_f_Hz\": 15.857571992738995,<br>    \"cluster_distance_f_Hz\": 22.920612044016433<br>  }<br>}",
          "{<br>  \"number\": 69,<br>  \"values\": [<br>    0.026041666566975905,<br>    0.026652633333469566<br>  ],<br>  \"params\": {<br>    \"stft_window_sec\": 2.625707235745248,<br>    \"stft_overlap\": 0.3268429332917654,<br>    \"minSNR\": 7.944369669916369,<br>    \"stationary_frame_sec\": 1307.009717783868,<br>    \"cluster_size_t_sec\": 1.7365293926743997,<br>    \"cluster_distance_t_sec\": 2.4872907910045132,<br>    \"cluster_size_f_Hz\": 35.87582724460454,<br>    \"cluster_distance_f_Hz\": 20.20082217742991<br>  }<br>}",
          "{<br>  \"number\": 70,<br>  \"values\": [<br>    0.2777777773996914,<br>    0.03404046666704138<br>  ],<br>  \"params\": {<br>    \"stft_window_sec\": 0.31258419473157717,<br>    \"stft_overlap\": 0.5394218006684881,<br>    \"minSNR\": 8.01150296485458,<br>    \"stationary_frame_sec\": 217.30729274042028,<br>    \"cluster_size_t_sec\": 2.619753354706369,<br>    \"cluster_distance_t_sec\": 1.740512220731897,<br>    \"cluster_size_f_Hz\": 13.75433668458173,<br>    \"cluster_distance_f_Hz\": 3.1825176512072284<br>  }<br>}",
          "{<br>  \"number\": 71,<br>  \"values\": [<br>    0.7804892387924438,<br>    0.04622713333355932<br>  ],<br>  \"params\": {<br>    \"stft_window_sec\": 2.313123041013671,<br>    \"stft_overlap\": 0.6130776995159297,<br>    \"minSNR\": 9.194267919992086,<br>    \"stationary_frame_sec\": 751.7965700831429,<br>    \"cluster_size_t_sec\": 1.9550491250671787,<br>    \"cluster_distance_t_sec\": 0.38586765632326686,<br>    \"cluster_size_f_Hz\": 4.907776131767921,<br>    \"cluster_distance_f_Hz\": 5.0654212903738784<br>  }<br>}",
          "{<br>  \"number\": 72,<br>  \"values\": [<br>    0.0,<br>    0.06597866666743357<br>  ],<br>  \"params\": {<br>    \"stft_window_sec\": 0.8752357452484161,<br>    \"stft_overlap\": 0.8401116696596809,<br>    \"minSNR\": 9.846637076058183,<br>    \"stationary_frame_sec\": 237.04518500372302,<br>    \"cluster_size_t_sec\": 3.0179127461179975,<br>    \"cluster_distance_t_sec\": 0.38586765632326686,<br>    \"cluster_size_f_Hz\": 32.45485086979685,<br>    \"cluster_distance_f_Hz\": 11.224314259182819<br>  }<br>}",
          "{<br>  \"number\": 73,<br>  \"values\": [<br>    0.0,<br>    0.03694419999889457<br>  ],<br>  \"params\": {<br>    \"stft_window_sec\": 2.625707235745248,<br>    \"stft_overlap\": 0.5467773409390144,<br>    \"minSNR\": 9.194267919992086,<br>    \"stationary_frame_sec\": 439.9946807810512,<br>    \"cluster_size_t_sec\": 1.7365293926743997,<br>    \"cluster_distance_t_sec\": 2.4872907910045132,<br>    \"cluster_size_f_Hz\": 35.87582724460454,<br>    \"cluster_distance_f_Hz\": 7.2223948997630485<br>  }<br>}",
          "{<br>  \"number\": 74,<br>  \"values\": [<br>    0.6759259247960392,<br>    0.26591399999991455<br>  ],<br>  \"params\": {<br>    \"stft_window_sec\": 0.7502020673557852,<br>    \"stft_overlap\": 0.5025160900809931,<br>    \"minSNR\": 3.3206928827360174,<br>    \"stationary_frame_sec\": 342.043304527862,<br>    \"cluster_size_t_sec\": 4.317397561836195,<br>    \"cluster_distance_t_sec\": 2.1825523328634513,<br>    \"cluster_size_f_Hz\": 13.557998272533778,<br>    \"cluster_distance_f_Hz\": 18.08774036217993<br>  }<br>}",
          "{<br>  \"number\": 75,<br>  \"values\": [<br>    0.026041666566975905,<br>    0.03472813333337399<br>  ],<br>  \"params\": {<br>    \"stft_window_sec\": 1.9380220073357783,<br>    \"stft_overlap\": 0.6485923952636248,<br>    \"minSNR\": 6.024864200248115,<br>    \"stationary_frame_sec\": 705.1047580093427,<br>    \"cluster_size_t_sec\": 2.4961594170823567,<br>    \"cluster_distance_t_sec\": 0.01514278775085004,<br>    \"cluster_size_f_Hz\": 38.56178963744952,<br>    \"cluster_distance_f_Hz\": 10.231796748135787<br>  }<br>}",
          "{<br>  \"number\": 76,<br>  \"values\": [<br>    0.5048965254385861,<br>    0.03463956666564627<br>  ],<br>  \"params\": {<br>    \"stft_window_sec\": 3.876044014671557,<br>    \"stft_overlap\": 0.671906449177992,<br>    \"minSNR\": 6.832943896905032,<br>    \"stationary_frame_sec\": 1209.153413192266,<br>    \"cluster_size_t_sec\": 1.552385873779587,<br>    \"cluster_distance_t_sec\": 2.2324611046922738,<br>    \"cluster_size_f_Hz\": 1.6938856408444392,<br>    \"cluster_distance_f_Hz\": 7.206411706274651<br>  }<br>}",
          "{<br>  \"number\": 77,<br>  \"values\": [<br>    0.5819678903165424,<br>    0.022585366666741418<br>  ],<br>  \"params\": {<br>    \"stft_window_sec\": 3.751010336778926,<br>    \"stft_overlap\": 0.2850817683743029,<br>    \"minSNR\": 7.944369669916369,<br>    \"stationary_frame_sec\": 2084.3443660233256,<br>    \"cluster_size_t_sec\": 1.0569425275459021,<br>    \"cluster_distance_t_sec\": 1.9115648575630795,<br>    \"cluster_size_f_Hz\": 6.38439260131527,<br>    \"cluster_distance_f_Hz\": 18.11299145687676<br>  }<br>}",
          "{<br>  \"number\": 78,<br>  \"values\": [<br>    0.0,<br>    0.03613423333293516<br>  ],<br>  \"params\": {<br>    \"stft_window_sec\": 1.875505168389463,<br>    \"stft_overlap\": 0.6978265976413904,<br>    \"minSNR\": 7.4422942188788905,<br>    \"stationary_frame_sec\": 982.435981172767,<br>    \"cluster_size_t_sec\": 3.42188830689959,<br>    \"cluster_distance_t_sec\": 0.4409865412825653,<br>    \"cluster_size_f_Hz\": 36.83258470034975,<br>    \"cluster_distance_f_Hz\": 12.196075561708225<br>  }<br>}",
          "{<br>  \"number\": 79,<br>  \"values\": [<br>    0.5462962951700103,<br>    0.031037933333815697<br>  ],<br>  \"params\": {<br>    \"stft_window_sec\": 3.188358786262087,<br>    \"stft_overlap\": 0.34984706450827197,<br>    \"minSNR\": 3.6327947714983253,<br>    \"stationary_frame_sec\": 3397.2903099731793,<br>    \"cluster_size_t_sec\": 4.4588319196794135,<br>    \"cluster_distance_t_sec\": 0.7243374882698137,<br>    \"cluster_size_f_Hz\": 4.907776131767921,<br>    \"cluster_distance_f_Hz\": 0.463955515963807<br>  }<br>}",
          "{<br>  \"number\": 80,<br>  \"values\": [<br>    0.37213977576021434,<br>    0.05457249999835767<br>  ],<br>  \"params\": {<br>    \"stft_window_sec\": 2.6882240746915635,<br>    \"stft_overlap\": 0.7051379695331212,<br>    \"minSNR\": 5.894313374559669,<br>    \"stationary_frame_sec\": 795.128807350359,<br>    \"cluster_size_t_sec\": 4.304404671255481,<br>    \"cluster_distance_t_sec\": 1.7260557479012877,<br>    \"cluster_size_f_Hz\": 2.7025156543888373,<br>    \"cluster_distance_f_Hz\": 13.035037237521149<br>  }<br>}",
          "{<br>  \"number\": 81,<br>  \"values\": [<br>    0.44536564549834584,<br>    0.23807629999949617<br>  ],<br>  \"params\": {<br>    \"stft_window_sec\": 3.5009429809936643,<br>    \"stft_overlap\": 0.9314990187190835,<br>    \"minSNR\": 8.310658615764474,<br>    \"stationary_frame_sec\": 526.1440633563343,<br>    \"cluster_size_t_sec\": 3.1300520264862253,<br>    \"cluster_distance_t_sec\": 0.726991134501205,<br>    \"cluster_size_f_Hz\": 3.8957402129013055,<br>    \"cluster_distance_f_Hz\": 20.20082217742991<br>  }<br>}",
          "{<br>  \"number\": 83,<br>  \"values\": [<br>    0.32792207715714544,<br>    0.026912033333246654<br>  ],<br>  \"params\": {<br>    \"stft_window_sec\": 1.562920973657886,<br>    \"stft_overlap\": 0.414792513532672,<br>    \"minSNR\": 5.1066708953476745,<br>    \"stationary_frame_sec\": 1682.5320655276953,<br>    \"cluster_size_t_sec\": 4.299497363206001,<br>    \"cluster_distance_t_sec\": 1.0974134764320302,<br>    \"cluster_size_f_Hz\": 34.22706054286405,<br>    \"cluster_distance_f_Hz\": 18.08774036217993<br>  }<br>}",
          "{<br>  \"number\": 84,<br>  \"values\": [<br>    0.41899496926241236,<br>    0.12979126666717397<br>  ],<br>  \"params\": {<br>    \"stft_window_sec\": 4.001077692564188,<br>    \"stft_overlap\": 0.9047440061992273,<br>    \"minSNR\": 6.024864200248115,<br>    \"stationary_frame_sec\": 572.7734224649768,<br>    \"cluster_size_t_sec\": 3.199167704696251,<br>    \"cluster_distance_t_sec\": 0.01514278775085004,<br>    \"cluster_size_f_Hz\": 1.1765727272791127,<br>    \"cluster_distance_f_Hz\": 22.354672370001495<br>  }<br>}",
          "{<br>  \"number\": 85,<br>  \"values\": [<br>    0.1912390268440183,<br>    0.03823449999890727<br>  ],<br>  \"params\": {<br>    \"stft_window_sec\": 0.5001347115705235,<br>    \"stft_overlap\": 0.6730490755811079,<br>    \"minSNR\": 5.391988787362562,<br>    \"stationary_frame_sec\": 331.9384341680603,<br>    \"cluster_size_t_sec\": 0.1051786581950287,<br>    \"cluster_distance_t_sec\": 2.3627976125021286,<br>    \"cluster_size_f_Hz\": 2.489625008727203,<br>    \"cluster_distance_f_Hz\": 6.839561258675627<br>  }<br>}",
          "{<br>  \"number\": 86,<br>  \"values\": [<br>    0.6839470272358664,<br>    0.024611766667173168<br>  ],<br>  \"params\": {<br>    \"stft_window_sec\": 3.188358786262087,<br>    \"stft_overlap\": 0.3268429332917654,<br>    \"minSNR\": 7.944369669916369,<br>    \"stationary_frame_sec\": 4735.896667115127,<br>    \"cluster_size_t_sec\": 1.9550491250671787,<br>    \"cluster_distance_t_sec\": 0.28795346715717596,<br>    \"cluster_size_f_Hz\": 4.907776131767921,<br>    \"cluster_distance_f_Hz\": 5.0654212903738784<br>  }<br>}",
          "{<br>  \"number\": 87,<br>  \"values\": [<br>    0.15424679435913566,<br>    0.02217960000052699<br>  ],<br>  \"params\": {<br>    \"stft_window_sec\": 1.9380220073357783,<br>    \"stft_overlap\": 0.3268429332917654,<br>    \"minSNR\": 7.944369669916369,<br>    \"stationary_frame_sec\": 2987.2505904897316,<br>    \"cluster_size_t_sec\": 1.5377327740606055,<br>    \"cluster_distance_t_sec\": 2.3065378752133023,<br>    \"cluster_size_f_Hz\": 29.080096114387473,<br>    \"cluster_distance_f_Hz\": 20.20082217742991<br>  }<br>}",
          "{<br>  \"number\": 88,<br>  \"values\": [<br>    0.3994559060395124,<br>    0.05781213333254224<br>  ],<br>  \"params\": {<br>    \"stft_window_sec\": 2.2506062020673556,<br>    \"stft_overlap\": 0.6955683641965946,<br>    \"minSNR\": 6.142879174876328,<br>    \"stationary_frame_sec\": 802.7714558789737,<br>    \"cluster_size_t_sec\": 0.8334147178076917,<br>    \"cluster_distance_t_sec\": 0.9046179156479045,<br>    \"cluster_size_f_Hz\": 3.8957402129013055,<br>    \"cluster_distance_f_Hz\": 6.648161353707829<br>  }<br>}",
          "{<br>  \"number\": 89,<br>  \"values\": [<br>    0.4470055150393181,<br>    0.027971400000448437<br>  ],<br>  \"params\": {<br>    \"stft_window_sec\": 0.8752357452484161,<br>    \"stft_overlap\": 0.48458985331778287,<br>    \"minSNR\": 4.685514225399124,<br>    \"stationary_frame_sec\": 123.20136104545173,<br>    \"cluster_size_t_sec\": 3.1212755660743206,<br>    \"cluster_distance_t_sec\": 2.4085819152706174,<br>    \"cluster_size_f_Hz\": 48.78352808143787,<br>    \"cluster_distance_f_Hz\": 6.839561258675627<br>  }<br>}",
          "{<br>  \"number\": 90,<br>  \"values\": [<br>    0.5925925914650206,<br>    0.04932010000053803<br>  ],<br>  \"params\": {<br>    \"stft_window_sec\": 3.4384261420473488,<br>    \"stft_overlap\": 0.7180851149413547,<br>    \"minSNR\": 4.194752475243824,<br>    \"stationary_frame_sec\": 858.3232630660791,<br>    \"cluster_size_t_sec\": 0.09998515866690205,<br>    \"cluster_distance_t_sec\": 0.7243374882698137,<br>    \"cluster_size_f_Hz\": 11.948650894200675,<br>    \"cluster_distance_f_Hz\": 5.2298501207254375<br>  }<br>}",
          "{<br>  \"number\": 91,<br>  \"values\": [<br>    0.0,<br>    0.03455330000087997<br>  ],<br>  \"params\": {<br>    \"stft_window_sec\": 3.000808269423141,<br>    \"stft_overlap\": 0.5939582724774561,<br>    \"minSNR\": 7.205840903537979,<br>    \"stationary_frame_sec\": 2045.5413092364897,<br>    \"cluster_size_t_sec\": 2.2949422538600968,<br>    \"cluster_distance_t_sec\": 0.8419093622177722,<br>    \"cluster_size_f_Hz\": 44.58049606720872,<br>    \"cluster_distance_f_Hz\": 3.9451453523930287<br>  }<br>}",
          "{<br>  \"number\": 92,<br>  \"values\": [<br>    0.34974994479288113,<br>    0.032904333332832415<br>  ],<br>  \"params\": {<br>    \"stft_window_sec\": 3.751010336778926,<br>    \"stft_overlap\": 0.45697149085161,<br>    \"minSNR\": 5.642254892877002,<br>    \"stationary_frame_sec\": 4551.3965413843825,<br>    \"cluster_size_t_sec\": 3.4109293233707065,<br>    \"cluster_distance_t_sec\": 0.6865727452714245,<br>    \"cluster_size_f_Hz\": 8.575345753099123,<br>    \"cluster_distance_f_Hz\": 7.5042790006611595<br>  }<br>}",
          "{<br>  \"number\": 93,<br>  \"values\": [<br>    0.0,<br>    0.05649403333366839<br>  ],<br>  \"params\": {<br>    \"stft_window_sec\": 2.625707235745248,<br>    \"stft_overlap\": 0.7074815164682573,<br>    \"minSNR\": 8.670536337017007,<br>    \"stationary_frame_sec\": 1152.1773894370883,<br>    \"cluster_size_t_sec\": 0.3668904341867668,<br>    \"cluster_distance_t_sec\": 2.4872907910045132,<br>    \"cluster_size_f_Hz\": 35.87582724460454,<br>    \"cluster_distance_f_Hz\": 24.613166554061237<br>  }<br>}",
          "{<br>  \"number\": 94,<br>  \"values\": [<br>    0.28711484534509396,<br>    0.1835565666679031<br>  ],<br>  \"params\": {<br>    \"stft_window_sec\": 3.188358786262087,<br>    \"stft_overlap\": 0.9047440061992273,<br>    \"minSNR\": 7.780032799641823,<br>    \"stationary_frame_sec\": 126.82129093230064,<br>    \"cluster_size_t_sec\": 4.113826959210135,<br>    \"cluster_distance_t_sec\": 2.3627976125021286,<br>    \"cluster_size_f_Hz\": 2.489625008727203,<br>    \"cluster_distance_f_Hz\": 6.839561258675627<br>  }<br>}",
          "{<br>  \"number\": 95,<br>  \"values\": [<br>    0.0,<br>    0.2811232999999144<br>  ],<br>  \"params\": {<br>    \"stft_window_sec\": 1.2503367789263087,<br>    \"stft_overlap\": 0.927198753678105,<br>    \"minSNR\": 8.435557466133027,<br>    \"stationary_frame_sec\": 151.1627626585066,<br>    \"cluster_size_t_sec\": 4.9511590069911655,<br>    \"cluster_distance_t_sec\": 0.1932430463542023,<br>    \"cluster_size_f_Hz\": 14.474734702013825,<br>    \"cluster_distance_f_Hz\": 5.67793029356033<br>  }<br>}",
          "{<br>  \"number\": 96,<br>  \"values\": [<br>    0.25331439341787126,<br>    0.07329706666647932<br>  ],<br>  \"params\": {<br>    \"stft_window_sec\": 0.6251683894631543,<br>    \"stft_overlap\": 0.7878833355129888,<br>    \"minSNR\": 7.409865063412624,<br>    \"stationary_frame_sec\": 167.7898151503022,<br>    \"cluster_size_t_sec\": 3.167544507389379,<br>    \"cluster_distance_t_sec\": 2.005633272092475,<br>    \"cluster_size_f_Hz\": 19.402568286974738,<br>    \"cluster_distance_f_Hz\": 7.173052191945356<br>  }<br>}",
          "{<br>  \"number\": 97,<br>  \"values\": [<br>    0.0,<br>    0.021367000000585296<br>  ],<br>  \"params\": {<br>    \"stft_window_sec\": 1.875505168389463,<br>    \"stft_overlap\": 0.2877359787263687,<br>    \"minSNR\": 9.945638779233771,<br>    \"stationary_frame_sec\": 2240.434019367295,<br>    \"cluster_size_t_sec\": 2.308084711378078,<br>    \"cluster_distance_t_sec\": 2.4085819152706174,<br>    \"cluster_size_f_Hz\": 48.78352808143787,<br>    \"cluster_distance_f_Hz\": 23.53563499971093<br>  }<br>}",
          "{<br>  \"number\": 98,<br>  \"values\": [<br>    0.0,<br>    0.1226975333329392<br>  ],<br>  \"params\": {<br>    \"stft_window_sec\": 1.875505168389463,<br>    \"stft_overlap\": 0.9047440061992273,<br>    \"minSNR\": 8.447899604075827,<br>    \"stationary_frame_sec\": 407.0238784102361,<br>    \"cluster_size_t_sec\": 2.562235023547004,<br>    \"cluster_distance_t_sec\": 0.7122668237072718,<br>    \"cluster_size_f_Hz\": 41.87437738896394,<br>    \"cluster_distance_f_Hz\": 8.669754770667653<br>  }<br>}",
          "{<br>  \"number\": 99,<br>  \"values\": [<br>    0.6098484836591125,<br>    0.06519640000048336<br>  ],<br>  \"params\": {<br>    \"stft_window_sec\": 0.8752357452484161,<br>    \"stft_overlap\": 0.8401116696596809,<br>    \"minSNR\": 8.697776667712489,<br>    \"stationary_frame_sec\": 150.40625170295786,<br>    \"cluster_size_t_sec\": 0.06493215724680423,<br>    \"cluster_distance_t_sec\": 0.26747511313238603,<br>    \"cluster_size_f_Hz\": 16.281159194172307,<br>    \"cluster_distance_f_Hz\": 4.834992824034131<br>  }<br>}",
          "{<br>  \"number\": 100,<br>  \"values\": [<br>    0.7991310148837439,<br>    0.19671286666653032<br>  ],<br>  \"params\": {<br>    \"stft_window_sec\": 3.188358786262087,<br>    \"stft_overlap\": 0.9204997298496989,<br>    \"minSNR\": 8.697776667712489,<br>    \"stationary_frame_sec\": 465.43209466160505,<br>    \"cluster_size_t_sec\": 0.06493215724680423,<br>    \"cluster_distance_t_sec\": 0.28795346715717596,<br>    \"cluster_size_f_Hz\": 4.907776131767921,<br>    \"cluster_distance_f_Hz\": 4.834992824034131<br>  }<br>}",
          "{<br>  \"number\": 101,<br>  \"values\": [<br>    0.30871212051423685,<br>    0.027114866666731057<br>  ],<br>  \"params\": {<br>    \"stft_window_sec\": 2.3756398799599867,<br>    \"stft_overlap\": 0.23059991348967374,<br>    \"minSNR\": 9.482136380383508,<br>    \"stationary_frame_sec\": 1885.4875758058395,<br>    \"cluster_size_t_sec\": 3.583549986067254,<br>    \"cluster_distance_t_sec\": 2.483517492821192,<br>    \"cluster_size_f_Hz\": 1.8007943078329813,<br>    \"cluster_distance_f_Hz\": 11.442117185454412<br>  }<br>}",
          "{<br>  \"number\": 102,<br>  \"values\": [<br>    0.11904761870039683,<br>    0.02395593333373351<br>  ],<br>  \"params\": {<br>    \"stft_window_sec\": 2.9382914304768253,<br>    \"stft_overlap\": 0.218870387919705,<br>    \"minSNR\": 7.205840903537979,<br>    \"stationary_frame_sec\": 2634.2674321569366,<br>    \"cluster_size_t_sec\": 0.01184204818295731,<br>    \"cluster_distance_t_sec\": 1.7329187230651624,<br>    \"cluster_size_f_Hz\": 25.38265142717374,<br>    \"cluster_distance_f_Hz\": 0.5835302365610834<br>  }<br>}",
          "{<br>  \"number\": 103,<br>  \"values\": [<br>    0.5478638732819862,<br>    0.03822299999956158<br>  ],<br>  \"params\": {<br>    \"stft_window_sec\": 2.625707235745248,<br>    \"stft_overlap\": 0.5394218006684881,<br>    \"minSNR\": 8.01150296485458,<br>    \"stationary_frame_sec\": 2864.61539874962,<br>    \"cluster_size_t_sec\": 1.7365293926743997,<br>    \"cluster_distance_t_sec\": 0.4128153978517263,<br>    \"cluster_size_f_Hz\": 13.75433668458173,<br>    \"cluster_distance_f_Hz\": 20.20082217742991<br>  }<br>}",
          "{<br>  \"number\": 104,<br>  \"values\": [<br>    0.0,<br>    0.03610420000010587<br>  ],<br>  \"params\": {<br>    \"stft_window_sec\": 3.876044014671557,<br>    \"stft_overlap\": 0.671906449177992,<br>    \"minSNR\": 9.945232516304921,<br>    \"stationary_frame_sec\": 2912.782282362935,<br>    \"cluster_size_t_sec\": 4.299497363206001,<br>    \"cluster_distance_t_sec\": 1.0974134764320302,<br>    \"cluster_size_f_Hz\": 34.22706054286405,<br>    \"cluster_distance_f_Hz\": 7.206411706274651<br>  }<br>}",
          "{<br>  \"number\": 105,<br>  \"values\": [<br>    0.399411847000285,<br>    0.02389023333307705<br>  ],<br>  \"params\": {<br>    \"stft_window_sec\": 3.751010336778926,<br>    \"stft_overlap\": 0.2850817683743029,<br>    \"minSNR\": 5.642254892877002,<br>    \"stationary_frame_sec\": 725.7732707974163,<br>    \"cluster_size_t_sec\": 3.4109293233707065,<br>    \"cluster_distance_t_sec\": 1.9115648575630795,<br>    \"cluster_size_f_Hz\": 33.62725733523582,<br>    \"cluster_distance_f_Hz\": 19.13495130856502<br>  }<br>}",
          "{<br>  \"number\": 106,<br>  \"values\": [<br>    0.0,<br>    0.029724233333278487<br>  ],<br>  \"params\": {<br>    \"stft_window_sec\": 3.5009429809936643,<br>    \"stft_overlap\": 0.5381753610024405,<br>    \"minSNR\": 7.597306923072181,<br>    \"stationary_frame_sec\": 3104.4947948913286,<br>    \"cluster_size_t_sec\": 2.5801012630905773,<br>    \"cluster_distance_t_sec\": 1.8711765749974374,<br>    \"cluster_size_f_Hz\": 48.78352808143787,<br>    \"cluster_distance_f_Hz\": 6.839561258675627<br>  }<br>}",
          "{<br>  \"number\": 107,<br>  \"values\": [<br>    0.338679431025582,<br>    0.02845849999963927<br>  ],<br>  \"params\": {<br>    \"stft_window_sec\": 2.625707235745248,<br>    \"stft_overlap\": 0.29392356313765744,<br>    \"minSNR\": 6.5946973774370115,<br>    \"stationary_frame_sec\": 2718.522472996903,<br>    \"cluster_size_t_sec\": 1.5377327740606055,<br>    \"cluster_distance_t_sec\": 1.354338038043918,<br>    \"cluster_size_f_Hz\": 6.38439260131527,<br>    \"cluster_distance_f_Hz\": 22.304078597872266<br>  }<br>}",
          "{<br>  \"number\": 108,<br>  \"values\": [<br>    0.4063651711112553,<br>    0.03856430000026497<br>  ],<br>  \"params\": {<br>    \"stft_window_sec\": 2.438156718906302,<br>    \"stft_overlap\": 0.5467773409390144,<br>    \"minSNR\": 7.205840903537979,<br>    \"stationary_frame_sec\": 2639.112556701124,<br>    \"cluster_size_t_sec\": 3.4091161407127943,<br>    \"cluster_distance_t_sec\": 0.8419093622177722,<br>    \"cluster_size_f_Hz\": 14.205334988640567,<br>    \"cluster_distance_f_Hz\": 3.9451453523930287<br>  }<br>}",
          "{<br>  \"number\": 109,<br>  \"values\": [<br>    0.48384661726231043,<br>    0.02591139999973772<br>  ],<br>  \"params\": {<br>    \"stft_window_sec\": 3.5009429809936643,<br>    \"stft_overlap\": 0.3256960922654752,<br>    \"minSNR\": 5.642254892877002,<br>    \"stationary_frame_sec\": 4465.193989904245,<br>    \"cluster_size_t_sec\": 3.4109293233707065,<br>    \"cluster_distance_t_sec\": 0.6865727452714245,<br>    \"cluster_size_f_Hz\": 8.575345753099123,<br>    \"cluster_distance_f_Hz\": 20.20082217742991<br>  }<br>}",
          "{<br>  \"number\": 110,<br>  \"values\": [<br>    0.5582264945819552,<br>    0.02634400000018407<br>  ],<br>  \"params\": {<br>    \"stft_window_sec\": 2.625707235745248,<br>    \"stft_overlap\": 0.23542622126095847,<br>    \"minSNR\": 9.194267919992086,<br>    \"stationary_frame_sec\": 2945.3667260158845,<br>    \"cluster_size_t_sec\": 1.7365293926743997,<br>    \"cluster_distance_t_sec\": 2.4872907910045132,<br>    \"cluster_size_f_Hz\": 10.408082936030372,<br>    \"cluster_distance_f_Hz\": 11.224314259182819<br>  }<br>}",
          "{<br>  \"number\": 112,<br>  \"values\": [<br>    0.0,<br>    0.02667733333328215<br>  ],<br>  \"params\": {<br>    \"stft_window_sec\": 0.7502020673557852,<br>    \"stft_overlap\": 0.4524267135031081,<br>    \"minSNR\": 7.989322327589658,<br>    \"stationary_frame_sec\": 430.02960882536644,<br>    \"cluster_size_t_sec\": 3.1212755660743206,<br>    \"cluster_distance_t_sec\": 0.14176789811821328,<br>    \"cluster_size_f_Hz\": 48.78352808143787,<br>    \"cluster_distance_f_Hz\": 6.839561258675627<br>  }<br>}",
          "{<br>  \"number\": 113,<br>  \"values\": [<br>    0.5277777766520061,<br>    0.32494736666709895<br>  ],<br>  \"params\": {<br>    \"stft_window_sec\": 3.000808269423141,<br>    \"stft_overlap\": 0.33571795942737104,<br>    \"minSNR\": 3.3206928827360174,<br>    \"stationary_frame_sec\": 4778.50734618573,<br>    \"cluster_size_t_sec\": 1.552385873779587,<br>    \"cluster_distance_t_sec\": 1.8866495502517675,<br>    \"cluster_size_f_Hz\": 1.6938856408444392,<br>    \"cluster_distance_f_Hz\": 18.08774036217993<br>  }<br>}",
          "{<br>  \"number\": 114,<br>  \"values\": [<br>    0.6198436215613706,<br>    0.026734266666911328<br>  ],<br>  \"params\": {<br>    \"stft_window_sec\": 1.562920973657886,<br>    \"stft_overlap\": 0.3422343841729652,<br>    \"minSNR\": 7.205840903537979,<br>    \"stationary_frame_sec\": 1692.654796143945,<br>    \"cluster_size_t_sec\": 1.5184146048822156,<br>    \"cluster_distance_t_sec\": 0.8419093622177722,<br>    \"cluster_size_f_Hz\": 8.863968590550991,<br>    \"cluster_distance_f_Hz\": 20.34507382352514<br>  }<br>}",
          "{<br>  \"number\": 115,<br>  \"values\": [<br>    0.8090107280732494,<br>    0.0379705000004833<br>  ],<br>  \"params\": {<br>    \"stft_window_sec\": 3.188358786262087,<br>    \"stft_overlap\": 0.6410913891407053,<br>    \"minSNR\": 9.945232516304921,<br>    \"stationary_frame_sec\": 1820.1681836818486,<br>    \"cluster_size_t_sec\": 1.0099363516477107,<br>    \"cluster_distance_t_sec\": 2.2324611046922738,<br>    \"cluster_size_f_Hz\": 1.6938856408444392,<br>    \"cluster_distance_f_Hz\": 7.206411706274651<br>  }<br>}",
          "{<br>  \"number\": 116,<br>  \"values\": [<br>    0.2700501246171479,<br>    0.021806766667396005<br>  ],<br>  \"params\": {<br>    \"stft_window_sec\": 3.8135271757252416,<br>    \"stft_overlap\": 0.33571795942737104,<br>    \"minSNR\": 9.840767164376633,<br>    \"stationary_frame_sec\": 4972.134468054468,<br>    \"cluster_size_t_sec\": 3.812656964298477,<br>    \"cluster_distance_t_sec\": 0.28795346715717596,<br>    \"cluster_size_f_Hz\": 9.226676653244908,<br>    \"cluster_distance_f_Hz\": 18.08774036217993<br>  }<br>}",
          "{<br>  \"number\": 117,<br>  \"values\": [<br>    0.3431412537367711,<br>    0.3079753666673544<br>  ],<br>  \"params\": {<br>    \"stft_window_sec\": 0.5626515505168389,<br>    \"stft_overlap\": 0.905043153761161,<br>    \"minSNR\": 5.9763518224754,<br>    \"stationary_frame_sec\": 22.627891078121014,<br>    \"cluster_size_t_sec\": 0.01184204818295731,<br>    \"cluster_distance_t_sec\": 1.9115648575630795,<br>    \"cluster_size_f_Hz\": 22.58334865950805,<br>    \"cluster_distance_f_Hz\": 18.11299145687676<br>  }<br>}",
          "{<br>  \"number\": 118,<br>  \"values\": [<br>    0.7268133441127532,<br>    0.02770336666678001<br>  ],<br>  \"params\": {<br>    \"stft_window_sec\": 3.876044014671557,<br>    \"stft_overlap\": 0.5406530566868346,<br>    \"minSNR\": 7.935579515059443,<br>    \"stationary_frame_sec\": 4447.963530485839,<br>    \"cluster_size_t_sec\": 1.0099363516477107,<br>    \"cluster_distance_t_sec\": 2.2324611046922738,<br>    \"cluster_size_f_Hz\": 6.38439260131527,<br>    \"cluster_distance_f_Hz\": 3.02636390263788<br>  }<br>}",
          "{<br>  \"number\": 119,<br>  \"values\": [<br>    0.40906444009148313,<br>    0.02603183333364238<br>  ],<br>  \"params\": {<br>    \"stft_window_sec\": 3.876044014671557,<br>    \"stft_overlap\": 0.5199585018566151,<br>    \"minSNR\": 6.832943896905032,<br>    \"stationary_frame_sec\": 3901.5695550145033,<br>    \"cluster_size_t_sec\": 1.5190791447174379,<br>    \"cluster_distance_t_sec\": 1.2235209653348385,<br>    \"cluster_size_f_Hz\": 14.871626131202415,<br>    \"cluster_distance_f_Hz\": 0.839950833236347<br>  }<br>}",
          "{<br>  \"number\": 120,<br>  \"values\": [<br>    0.3290719692598134,<br>    0.06513493333356261<br>  ],<br>  \"params\": {<br>    \"stft_window_sec\": 0.8752357452484161,<br>    \"stft_overlap\": 0.8401116696596809,<br>    \"minSNR\": 8.697776667712489,<br>    \"stationary_frame_sec\": 298.52519024307463,<br>    \"cluster_size_t_sec\": 1.9550491250671787,<br>    \"cluster_distance_t_sec\": 0.28795346715717596,<br>    \"cluster_size_f_Hz\": 4.907776131767921,<br>    \"cluster_distance_f_Hz\": 4.834992824034131<br>  }<br>}",
          "{<br>  \"number\": 121,<br>  \"values\": [<br>    0.5462962951700103,<br>    0.030373700000078923<br>  ],<br>  \"params\": {<br>    \"stft_window_sec\": 3.188358786262087,<br>    \"stft_overlap\": 0.34984706450827197,<br>    \"minSNR\": 3.6327947714983253,<br>    \"stationary_frame_sec\": 3079.9622007794615,<br>    \"cluster_size_t_sec\": 4.4588319196794135,<br>    \"cluster_distance_t_sec\": 0.7243374882698137,<br>    \"cluster_size_f_Hz\": 4.907776131767921,<br>    \"cluster_distance_f_Hz\": 0.463955515963807<br>  }<br>}",
          "{<br>  \"number\": 122,<br>  \"values\": [<br>    0.5076235029652253,<br>    0.02547156666666221<br>  ],<br>  \"params\": {<br>    \"stft_window_sec\": 3.876044014671557,<br>    \"stft_overlap\": 0.48458985331778287,<br>    \"minSNR\": 9.945232516304921,<br>    \"stationary_frame_sec\": 682.5899294344694,<br>    \"cluster_size_t_sec\": 3.1212755660743206,<br>    \"cluster_distance_t_sec\": 2.2324611046922738,<br>    \"cluster_size_f_Hz\": 1.6938856408444392,<br>    \"cluster_distance_f_Hz\": 6.839561258675627<br>  }<br>}",
          "{<br>  \"number\": 123,<br>  \"values\": [<br>    0.6832392520038546,<br>    0.023688533333370287<br>  ],<br>  \"params\": {<br>    \"stft_window_sec\": 3.5009429809936643,<br>    \"stft_overlap\": 0.3268429332917654,<br>    \"minSNR\": 7.944369669916369,<br>    \"stationary_frame_sec\": 1323.3254188286671,<br>    \"cluster_size_t_sec\": 1.5377327740606055,<br>    \"cluster_distance_t_sec\": 2.4085819152706174,<br>    \"cluster_size_f_Hz\": 3.041398229363934,<br>    \"cluster_distance_f_Hz\": 6.839561258675627<br>  }<br>}",
          "{<br>  \"number\": 124,<br>  \"values\": [<br>    0.0,<br>    0.03265763333365612<br>  ],<br>  \"params\": {<br>    \"stft_window_sec\": 0.6251683894631543,<br>    \"stft_overlap\": 0.48458985331778287,<br>    \"minSNR\": 7.944369669916369,<br>    \"stationary_frame_sec\": 369.3180275358906,<br>    \"cluster_size_t_sec\": 1.0569425275459021,<br>    \"cluster_distance_t_sec\": 2.4085819152706174,<br>    \"cluster_size_f_Hz\": 48.78352808143787,<br>    \"cluster_distance_f_Hz\": 6.839561258675627<br>  }<br>}",
          "{<br>  \"number\": 125,<br>  \"values\": [<br>    0.6343724451813967,<br>    0.02281569999953111<br>  ],<br>  \"params\": {<br>    \"stft_window_sec\": 3.5009429809936643,<br>    \"stft_overlap\": 0.3268429332917654,<br>    \"minSNR\": 7.944369669916369,<br>    \"stationary_frame_sec\": 3191.704101768595,<br>    \"cluster_size_t_sec\": 1.5377327740606055,<br>    \"cluster_distance_t_sec\": 2.2324611046922738,<br>    \"cluster_size_f_Hz\": 6.38439260131527,<br>    \"cluster_distance_f_Hz\": 7.206411706274651<br>  }<br>}",
          "{<br>  \"number\": 126,<br>  \"values\": [<br>    0.0,<br>    0.021973466666774282<br>  ],<br>  \"params\": {<br>    \"stft_window_sec\": 0.8752357452484161,<br>    \"stft_overlap\": 0.3268429332917654,<br>    \"minSNR\": 7.944369669916369,<br>    \"stationary_frame_sec\": 305.80708301934806,<br>    \"cluster_size_t_sec\": 1.5377327740606055,<br>    \"cluster_distance_t_sec\": 0.26747511313238603,<br>    \"cluster_size_f_Hz\": 37.39964618431264,<br>    \"cluster_distance_f_Hz\": 4.834992824034131<br>  }<br>}",
          "{<br>  \"number\": 127,<br>  \"values\": [<br>    0.43097833441930006,<br>    0.026234133333673526<br>  ],<br>  \"params\": {<br>    \"stft_window_sec\": 3.188358786262087,<br>    \"stft_overlap\": 0.34984706450827197,<br>    \"minSNR\": 7.728190509678003,<br>    \"stationary_frame_sec\": 1540.9987274140403,<br>    \"cluster_size_t_sec\": 4.4588319196794135,<br>    \"cluster_distance_t_sec\": 0.28795346715717596,<br>    \"cluster_size_f_Hz\": 4.907776131767921,<br>    \"cluster_distance_f_Hz\": 5.0654212903738784<br>  }<br>}",
          "{<br>  \"number\": 128,<br>  \"values\": [<br>    0.0,<br>    0.02229539999946913<br>  ],<br>  \"params\": {<br>    \"stft_window_sec\": 3.56345981993998,<br>    \"stft_overlap\": 0.2566217823942133,<br>    \"minSNR\": 7.7404598317091,<br>    \"stationary_frame_sec\": 5519.06985709247,<br>    \"cluster_size_t_sec\": 4.782797936727424,<br>    \"cluster_distance_t_sec\": 1.9173828505573294,<br>    \"cluster_size_f_Hz\": 47.692050694790666,<br>    \"cluster_distance_f_Hz\": 16.95193687514681<br>  }<br>}",
          "{<br>  \"number\": 129,<br>  \"values\": [<br>    0.31892206300579035,<br>    0.034232499999840606<br>  ],<br>  \"params\": {<br>    \"stft_window_sec\": 3.876044014671557,<br>    \"stft_overlap\": 0.671906449177992,<br>    \"minSNR\": 5.943360725598856,<br>    \"stationary_frame_sec\": 2560.227487810987,<br>    \"cluster_size_t_sec\": 1.5190791447174379,<br>    \"cluster_distance_t_sec\": 1.2235209653348385,<br>    \"cluster_size_f_Hz\": 1.6938856408444392,<br>    \"cluster_distance_f_Hz\": 6.355553350520865<br>  }<br>}",
          "{<br>  \"number\": 130,<br>  \"values\": [<br>    0.7099495548676805,<br>    0.20868433333392508<br>  ],<br>  \"params\": {<br>    \"stft_window_sec\": 2.438156718906302,<br>    \"stft_overlap\": 0.8950027061446453,<br>    \"minSNR\": 6.5946973774370115,<br>    \"stationary_frame_sec\": 602.5374095979447,<br>    \"cluster_size_t_sec\": 1.5377327740606055,<br>    \"cluster_distance_t_sec\": 0.6865727452714245,<br>    \"cluster_size_f_Hz\": 6.38439260131527,<br>    \"cluster_distance_f_Hz\": 7.5042790006611595<br>  }<br>}",
          "{<br>  \"number\": 131,<br>  \"values\": [<br>    0.5092592581340021,<br>    0.06773373333362542<br>  ],<br>  \"params\": {<br>    \"stft_window_sec\": 3.56345981993998,<br>    \"stft_overlap\": 0.29392356313765744,<br>    \"minSNR\": 3.902952824699919,<br>    \"stationary_frame_sec\": 5120.283969701175,<br>    \"cluster_size_t_sec\": 2.684838642836402,<br>    \"cluster_distance_t_sec\": 0.982412614226722,<br>    \"cluster_size_f_Hz\": 26.872383524753197,<br>    \"cluster_distance_f_Hz\": 22.304078597872266<br>  }<br>}",
          "{<br>  \"number\": 132,<br>  \"values\": [<br>    0.5573156670421833,<br>    0.033227066666161896<br>  ],<br>  \"params\": {<br>    \"stft_window_sec\": 1.562920973657886,<br>    \"stft_overlap\": 0.6078164242746442,<br>    \"minSNR\": 8.376493131118163,<br>    \"stationary_frame_sec\": 563.0565540407606,<br>    \"cluster_size_t_sec\": 0.6065176042498466,<br>    \"cluster_distance_t_sec\": 0.3554050208161194,<br>    \"cluster_size_f_Hz\": 15.890372699711897,<br>    \"cluster_distance_f_Hz\": 20.34507382352514<br>  }<br>}",
          "{<br>  \"number\": 133,<br>  \"values\": [<br>    0.0,<br>    0.02483846666594521<br>  ],<br>  \"params\": {<br>    \"stft_window_sec\": 1.875505168389463,<br>    \"stft_overlap\": 0.4505587333513695,<br>    \"minSNR\": 9.945638779233771,<br>    \"stationary_frame_sec\": 2031.8130093482903,<br>    \"cluster_size_t_sec\": 4.109173441328562,<br>    \"cluster_distance_t_sec\": 0.6865727452714245,<br>    \"cluster_size_f_Hz\": 31.40196200334181,<br>    \"cluster_distance_f_Hz\": 3.02636390263788<br>  }<br>}",
          "{<br>  \"number\": 134,<br>  \"values\": [<br>    0.6739498632820493,<br>    0.04032326666735268<br>  ],<br>  \"params\": {<br>    \"stft_window_sec\": 1.875505168389463,<br>    \"stft_overlap\": 0.7180851149413547,<br>    \"minSNR\": 7.944369669916369,<br>    \"stationary_frame_sec\": 626.8766079257612,<br>    \"cluster_size_t_sec\": 1.5377327740606055,<br>    \"cluster_distance_t_sec\": 1.8711765749974374,<br>    \"cluster_size_f_Hz\": 11.948650894200675,<br>    \"cluster_distance_f_Hz\": 5.2298501207254375<br>  }<br>}",
          "{<br>  \"number\": 135,<br>  \"values\": [<br>    0.7118538933604254,<br>    0.04190733333295308<br>  ],<br>  \"params\": {<br>    \"stft_window_sec\": 0.5001347115705235,<br>    \"stft_overlap\": 0.7180851149413547,<br>    \"minSNR\": 4.238141726893733,<br>    \"stationary_frame_sec\": 339.4721187513262,<br>    \"cluster_size_t_sec\": 1.6093966660808094,<br>    \"cluster_distance_t_sec\": 0.02518145362582519,<br>    \"cluster_size_f_Hz\": 11.948650894200675,<br>    \"cluster_distance_f_Hz\": 5.2298501207254375<br>  }<br>}",
          "{<br>  \"number\": 136,<br>  \"values\": [<br>    0.5462962951700103,<br>    0.03742056666609036<br>  ],<br>  \"params\": {<br>    \"stft_window_sec\": 3.000808269423141,<br>    \"stft_overlap\": 0.48458985331778287,<br>    \"minSNR\": 4.685514225399124,<br>    \"stationary_frame_sec\": 1541.8954611057666,<br>    \"cluster_size_t_sec\": 3.1212755660743206,<br>    \"cluster_distance_t_sec\": 2.4085819152706174,<br>    \"cluster_size_f_Hz\": 11.754507763662092,<br>    \"cluster_distance_f_Hz\": 15.53700460423369<br>  }<br>}",
          "{<br>  \"number\": 137,<br>  \"values\": [<br>    0.5370370359110083,<br>    0.032280766666190175<br>  ],<br>  \"params\": {<br>    \"stft_window_sec\": 3.876044014671557,<br>    \"stft_overlap\": 0.48458985331778287,<br>    \"minSNR\": 4.685514225399124,<br>    \"stationary_frame_sec\": 4240.383973929315,<br>    \"cluster_size_t_sec\": 3.1212755660743206,<br>    \"cluster_distance_t_sec\": 2.4085819152706174,<br>    \"cluster_size_f_Hz\": 48.78352808143787,<br>    \"cluster_distance_f_Hz\": 16.450167392943364<br>  }<br>}",
          "{<br>  \"number\": 138,<br>  \"values\": [<br>    0.6018518507240227,<br>    0.0516337333338015<br>  ],<br>  \"params\": {<br>    \"stft_window_sec\": 3.188358786262087,<br>    \"stft_overlap\": 0.711996622426708,<br>    \"minSNR\": 4.402127042246121,<br>    \"stationary_frame_sec\": 358.71196814879806,<br>    \"cluster_size_t_sec\": 1.6093966660808094,<br>    \"cluster_distance_t_sec\": 1.7465159471038458,<br>    \"cluster_size_f_Hz\": 4.907776131767921,<br>    \"cluster_distance_f_Hz\": 5.0654212903738784<br>  }<br>}",
          "{<br>  \"number\": 139,<br>  \"values\": [<br>    0.15624999960123698,<br>    0.026949399999769714<br>  ],<br>  \"params\": {<br>    \"stft_window_sec\": 1.2503367789263087,<br>    \"stft_overlap\": 0.2917938518827785,<br>    \"minSNR\": 7.944369669916369,<br>    \"stationary_frame_sec\": 2099.189651572685,<br>    \"cluster_size_t_sec\": 1.5377327740606055,<br>    \"cluster_distance_t_sec\": 2.3065378752133023,<br>    \"cluster_size_f_Hz\": 29.080096114387473,<br>    \"cluster_distance_f_Hz\": 4.441307653593663<br>  }<br>}",
          "{<br>  \"number\": 140,<br>  \"values\": [<br>    0.0,<br>    0.0658680000002884<br>  ],<br>  \"params\": {<br>    \"stft_window_sec\": 0.8752357452484161,<br>    \"stft_overlap\": 0.8401116696596809,<br>    \"minSNR\": 8.697776667712489,<br>    \"stationary_frame_sec\": 159.29588547254335,<br>    \"cluster_size_t_sec\": 4.0550597537353825,<br>    \"cluster_distance_t_sec\": 0.26747511313238603,<br>    \"cluster_size_f_Hz\": 35.95487076758895,<br>    \"cluster_distance_f_Hz\": 4.834992824034131<br>  }<br>}",
          "{<br>  \"number\": 141,<br>  \"values\": [<br>    0.6111111099830248,<br>    0.09826223333311646<br>  ],<br>  \"params\": {<br>    \"stft_window_sec\": 1.875505168389463,<br>    \"stft_overlap\": 0.5199585018566151,<br>    \"minSNR\": 3.743069970230272,<br>    \"stationary_frame_sec\": 1239.730882726132,<br>    \"cluster_size_t_sec\": 2.308084711378078,<br>    \"cluster_distance_t_sec\": 2.4085819152706174,<br>    \"cluster_size_f_Hz\": 14.871626131202415,<br>    \"cluster_distance_f_Hz\": 23.53563499971093<br>  }<br>}",
          "{<br>  \"number\": 142,<br>  \"values\": [<br>    0.49999999887499996,<br>    0.028666866666450613<br>  ],<br>  \"params\": {<br>    \"stft_window_sec\": 3.751010336778926,<br>    \"stft_overlap\": 0.45697149085161,<br>    \"minSNR\": 5.1066708953476745,<br>    \"stationary_frame_sec\": 3501.414989279836,<br>    \"cluster_size_t_sec\": 4.109173441328562,<br>    \"cluster_distance_t_sec\": 0.6865727452714245,<br>    \"cluster_size_f_Hz\": 12.652488093869591,<br>    \"cluster_distance_f_Hz\": 18.08774036217993<br>  }<br>}",
          "{<br>  \"number\": 143,<br>  \"values\": [<br>    0.0,<br>    0.02232326666641408<br>  ],<br>  \"params\": {<br>    \"stft_window_sec\": 3.56345981993998,<br>    \"stft_overlap\": 0.2566217823942133,<br>    \"minSNR\": 7.7404598317091,<br>    \"stationary_frame_sec\": 4406.235517237321,<br>    \"cluster_size_t_sec\": 1.0099363516477107,<br>    \"cluster_distance_t_sec\": 2.2324611046922738,<br>    \"cluster_size_f_Hz\": 49.55030685351524,<br>    \"cluster_distance_f_Hz\": 16.95193687514681<br>  }<br>}",
          "{<br>  \"number\": 144,<br>  \"values\": [<br>    0.0,<br>    0.02400256666714995<br>  ],<br>  \"params\": {<br>    \"stft_window_sec\": 0.7502020673557852,<br>    \"stft_overlap\": 0.3268429332917654,<br>    \"minSNR\": 8.08233675069891,<br>    \"stationary_frame_sec\": 915.1211188286031,<br>    \"cluster_size_t_sec\": 4.299497363206001,<br>    \"cluster_distance_t_sec\": 1.8715225623490865,<br>    \"cluster_size_f_Hz\": 35.95487076758895,<br>    \"cluster_distance_f_Hz\": 18.08774036217993<br>  }<br>}",
          "{<br>  \"number\": 145,<br>  \"values\": [<br>    0.4470055150393181,<br>    0.02639656666603211<br>  ],<br>  \"params\": {<br>    \"stft_window_sec\": 0.8752357452484161,<br>    \"stft_overlap\": 0.48458985331778287,<br>    \"minSNR\": 4.685514225399124,<br>    \"stationary_frame_sec\": 1068.1359627310103,<br>    \"cluster_size_t_sec\": 3.1212755660743206,<br>    \"cluster_distance_t_sec\": 2.4085819152706174,<br>    \"cluster_size_f_Hz\": 48.78352808143787,<br>    \"cluster_distance_f_Hz\": 6.839561258675627<br>  }<br>}",
          "{<br>  \"number\": 146,<br>  \"values\": [<br>    0.3091643376987185,<br>    0.03769579999971029<br>  ],<br>  \"params\": {<br>    \"stft_window_sec\": 2.625707235745248,<br>    \"stft_overlap\": 0.5467773409390144,<br>    \"minSNR\": 5.496204894760067,<br>    \"stationary_frame_sec\": 923.5669063940654,<br>    \"cluster_size_t_sec\": 1.7365293926743997,<br>    \"cluster_distance_t_sec\": 2.179272328836552,<br>    \"cluster_size_f_Hz\": 3.3766687041382193,<br>    \"cluster_distance_f_Hz\": 3.9451453523930287<br>  }<br>}",
          "{<br>  \"number\": 147,<br>  \"values\": [<br>    0.15424679435913566,<br>    0.021528400000230857<br>  ],<br>  \"params\": {<br>    \"stft_window_sec\": 1.9380220073357783,<br>    \"stft_overlap\": 0.3268429332917654,<br>    \"minSNR\": 7.944369669916369,<br>    \"stationary_frame_sec\": 326.33167677649743,<br>    \"cluster_size_t_sec\": 1.5377327740606055,<br>    \"cluster_distance_t_sec\": 2.3065378752133023,<br>    \"cluster_size_f_Hz\": 29.080096114387473,<br>    \"cluster_distance_f_Hz\": 20.20082217742991<br>  }<br>}",
          "{<br>  \"number\": 148,<br>  \"values\": [<br>    0.6713115708891054,<br>    0.03640019999966171<br>  ],<br>  \"params\": {<br>    \"stft_window_sec\": 3.5009429809936643,<br>    \"stft_overlap\": 0.671906449177992,<br>    \"minSNR\": 6.5946973774370115,<br>    \"stationary_frame_sec\": 973.7447072409813,<br>    \"cluster_size_t_sec\": 1.552385873779587,<br>    \"cluster_distance_t_sec\": 2.2324611046922738,<br>    \"cluster_size_f_Hz\": 1.6938856408444392,<br>    \"cluster_distance_f_Hz\": 1.6540612555833638<br>  }<br>}",
          "{<br>  \"number\": 149,<br>  \"values\": [<br>    0.4270833325262369,<br>    0.03804266666672144<br>  ],<br>  \"params\": {<br>    \"stft_window_sec\": 1.875505168389463,<br>    \"stft_overlap\": 0.7180851149413547,<br>    \"minSNR\": 9.945638779233771,<br>    \"stationary_frame_sec\": 481.27910301808447,<br>    \"cluster_size_t_sec\": 2.308084711378078,<br>    \"cluster_distance_t_sec\": 2.4085819152706174,<br>    \"cluster_size_f_Hz\": 11.948650894200675,<br>    \"cluster_distance_f_Hz\": 5.2298501207254375<br>  }<br>}",
          "{<br>  \"number\": 150,<br>  \"values\": [<br>    0.06944444420814043,<br>    0.02622966666664676<br>  ],<br>  \"params\": {<br>    \"stft_window_sec\": 2.9382914304768253,<br>    \"stft_overlap\": 0.33571795942737104,<br>    \"minSNR\": 9.840767164376633,<br>    \"stationary_frame_sec\": 2617.872389487126,<br>    \"cluster_size_t_sec\": 0.01184204818295731,<br>    \"cluster_distance_t_sec\": 1.7329187230651624,<br>    \"cluster_size_f_Hz\": 25.38265142717374,<br>    \"cluster_distance_f_Hz\": 0.5835302365610834<br>  }<br>}",
          "{<br>  \"number\": 151,<br>  \"values\": [<br>    0.2410954295829315,<br>    0.14947216666678287<br>  ],<br>  \"params\": {<br>    \"stft_window_sec\": 0.5001347115705235,<br>    \"stft_overlap\": 0.9204997298496989,<br>    \"minSNR\": 4.238141726893733,<br>    \"stationary_frame_sec\": 14.108290674783902,<br>    \"cluster_size_t_sec\": 1.6093966660808094,<br>    \"cluster_distance_t_sec\": 0.02518145362582519,<br>    \"cluster_size_f_Hz\": 38.61076071172862,<br>    \"cluster_distance_f_Hz\": 6.000640934269066<br>  }<br>}",
          "{<br>  \"number\": 152,<br>  \"values\": [<br>    0.14508928526737275,<br>    0.03126813333316628<br>  ],<br>  \"params\": {<br>    \"stft_window_sec\": 2.2506062020673556,<br>    \"stft_overlap\": 0.3268429332917654,<br>    \"minSNR\": 7.7404598317091,<br>    \"stationary_frame_sec\": 1688.369268924966,<br>    \"cluster_size_t_sec\": 1.5377327740606055,<br>    \"cluster_distance_t_sec\": 1.9173828505573294,<br>    \"cluster_size_f_Hz\": 29.080096114387473,<br>    \"cluster_distance_f_Hz\": 20.20082217742991<br>  }<br>}",
          "{<br>  \"number\": 153,<br>  \"values\": [<br>    0.5296800513925944,<br>    0.025929933333221317<br>  ],<br>  \"params\": {<br>    \"stft_window_sec\": 3.56345981993998,<br>    \"stft_overlap\": 0.4101247586473745,<br>    \"minSNR\": 6.491329989591369,<br>    \"stationary_frame_sec\": 3009.989872896746,<br>    \"cluster_size_t_sec\": 1.9550491250671787,<br>    \"cluster_distance_t_sec\": 1.9173828505573294,<br>    \"cluster_size_f_Hz\": 4.907776131767921,<br>    \"cluster_distance_f_Hz\": 5.0654212903738784<br>  }<br>}",
          "{<br>  \"number\": 154,<br>  \"values\": [<br>    0.7405181612342635,<br>    0.02830019999904228<br>  ],<br>  \"params\": {<br>    \"stft_window_sec\": 1.9380220073357783,<br>    \"stft_overlap\": 0.5467773409390144,<br>    \"minSNR\": 9.668916034945365,<br>    \"stationary_frame_sec\": 1466.4106989483598,<br>    \"cluster_size_t_sec\": 1.5377327740606055,<br>    \"cluster_distance_t_sec\": 2.3065378752133023,<br>    \"cluster_size_f_Hz\": 3.3766687041382193,<br>    \"cluster_distance_f_Hz\": 3.9451453523930287<br>  }<br>}",
          "{<br>  \"number\": 155,<br>  \"values\": [<br>    0.8132018310025358,<br>    0.038245233333024466<br>  ],<br>  \"params\": {<br>    \"stft_window_sec\": 3.876044014671557,<br>    \"stft_overlap\": 0.7180851149413547,<br>    \"minSNR\": 9.945232516304921,<br>    \"stationary_frame_sec\": 2385.1058871387345,<br>    \"cluster_size_t_sec\": 1.0099363516477107,<br>    \"cluster_distance_t_sec\": 0.02518145362582519,<br>    \"cluster_size_f_Hz\": 1.6938856408444392,<br>    \"cluster_distance_f_Hz\": 5.2298501207254375<br>  }<br>}",
          "{<br>  \"number\": 156,<br>  \"values\": [<br>    0.23809523767857146,<br>    0.04803183333388006<br>  ],<br>  \"params\": {<br>    \"stft_window_sec\": 2.625707235745248,<br>    \"stft_overlap\": 0.671906449177992,<br>    \"minSNR\": 9.945232516304921,<br>    \"stationary_frame_sec\": 667.3395396275248,<br>    \"cluster_size_t_sec\": 1.0099363516477107,<br>    \"cluster_distance_t_sec\": 2.2324611046922738,<br>    \"cluster_size_f_Hz\": 21.918267879149013,<br>    \"cluster_distance_f_Hz\": 16.450167392943364<br>  }<br>}",
          "{<br>  \"number\": 157,<br>  \"values\": [<br>    0.6111111099830248,<br>    0.048661900000297464<br>  ],<br>  \"params\": {<br>    \"stft_window_sec\": 3.188358786262087,<br>    \"stft_overlap\": 0.6410913891407053,<br>    \"minSNR\": 4.194752475243824,<br>    \"stationary_frame_sec\": 958.8527182269434,<br>    \"cluster_size_t_sec\": 1.0099363516477107,<br>    \"cluster_distance_t_sec\": 2.2324611046922738,<br>    \"cluster_size_f_Hz\": 12.135169596366874,<br>    \"cluster_distance_f_Hz\": 7.206411706274651<br>  }<br>}",
          "{<br>  \"number\": 158,<br>  \"values\": [<br>    0.0,<br>    0.02522343333354608<br>  ],<br>  \"params\": {<br>    \"stft_window_sec\": 3.188358786262087,<br>    \"stft_overlap\": 0.2850817683743029,<br>    \"minSNR\": 7.944369669916369,<br>    \"stationary_frame_sec\": 1760.2811395617778,<br>    \"cluster_size_t_sec\": 3.4109293233707065,<br>    \"cluster_distance_t_sec\": 0.4518501666186092,<br>    \"cluster_size_f_Hz\": 34.61639294594516,<br>    \"cluster_distance_f_Hz\": 16.621985313824993<br>  }<br>}",
          "{<br>  \"number\": 159,<br>  \"values\": [<br>    0.20833333290798617,<br>    0.024288133333053945<br>  ],<br>  \"params\": {<br>    \"stft_window_sec\": 1.562920973657886,<br>    \"stft_overlap\": 0.3422343841729652,<br>    \"minSNR\": 8.08233675069891,<br>    \"stationary_frame_sec\": 2326.551521325754,<br>    \"cluster_size_t_sec\": 4.299497363206001,<br>    \"cluster_distance_t_sec\": 1.8715225623490865,<br>    \"cluster_size_f_Hz\": 17.77358534365424,<br>    \"cluster_distance_f_Hz\": 20.34507382352514<br>  }<br>}",
          "{<br>  \"number\": 161,<br>  \"values\": [<br>    0.0,<br>    0.02239976666593672<br>  ],<br>  \"params\": {<br>    \"stft_window_sec\": 3.56345981993998,<br>    \"stft_overlap\": 0.2566217823942133,<br>    \"minSNR\": 7.7404598317091,<br>    \"stationary_frame_sec\": 1792.5524596500222,<br>    \"cluster_size_t_sec\": 4.782797936727424,<br>    \"cluster_distance_t_sec\": 1.4673075033968246,<br>    \"cluster_size_f_Hz\": 49.55030685351524,<br>    \"cluster_distance_f_Hz\": 16.95193687514681<br>  }<br>}",
          "{<br>  \"number\": 162,<br>  \"values\": [<br>    0.606097559903993,<br>    0.02260273333316339<br>  ],<br>  \"params\": {<br>    \"stft_window_sec\": 3.5009429809936643,<br>    \"stft_overlap\": 0.3268429332917654,<br>    \"minSNR\": 7.944369669916369,<br>    \"stationary_frame_sec\": 5667.403006804909,<br>    \"cluster_size_t_sec\": 1.5377327740606055,<br>    \"cluster_distance_t_sec\": 2.2324611046922738,<br>    \"cluster_size_f_Hz\": 1.6938856408444392,<br>    \"cluster_distance_f_Hz\": 20.20082217742991<br>  }<br>}",
          "{<br>  \"number\": 163,<br>  \"values\": [<br>    0.7332659467443867,<br>    0.17886030000014821<br>  ],<br>  \"params\": {<br>    \"stft_window_sec\": 1.6879546515505166,<br>    \"stft_overlap\": 0.9204997298496989,<br>    \"minSNR\": 8.697776667712489,<br>    \"stationary_frame_sec\": 145.85504534647455,<br>    \"cluster_size_t_sec\": 1.5377327740606055,<br>    \"cluster_distance_t_sec\": 0.6932536058798339,<br>    \"cluster_size_f_Hz\": 6.38439260131527,<br>    \"cluster_distance_f_Hz\": 4.834992824034131<br>  }<br>}",
          "{<br>  \"number\": 164,<br>  \"values\": [<br>    0.17628205086677148,<br>    0.0529399666665995<br>  ],<br>  \"params\": {<br>    \"stft_window_sec\": 1.2503367789263087,<br>    \"stft_overlap\": 0.7122421069558007,<br>    \"minSNR\": 7.944369669916369,<br>    \"stationary_frame_sec\": 725.4286003963784,<br>    \"cluster_size_t_sec\": 1.5377327740606055,<br>    \"cluster_distance_t_sec\": 2.3065378752133023,<br>    \"cluster_size_f_Hz\": 29.080096114387473,<br>    \"cluster_distance_f_Hz\": 14.892836679338526<br>  }<br>}",
          "{<br>  \"number\": 165,<br>  \"values\": [<br>    0.2762923345174178,<br>    0.027871133332761627<br>  ],<br>  \"params\": {<br>    \"stft_window_sec\": 2.2506062020673556,<br>    \"stft_overlap\": 0.29392356313765744,<br>    \"minSNR\": 9.840767164376633,<br>    \"stationary_frame_sec\": 1135.3389127508312,<br>    \"cluster_size_t_sec\": 1.8587628823574303,<br>    \"cluster_distance_t_sec\": 0.7243374882698137,<br>    \"cluster_size_f_Hz\": 17.030393440096525,<br>    \"cluster_distance_f_Hz\": 0.463955515963807<br>  }<br>}",
          "{<br>  \"number\": 166,<br>  \"values\": [<br>    0.5208333324427626,<br>    0.028281266666150866<br>  ],<br>  \"params\": {<br>    \"stft_window_sec\": 3.188358786262087,<br>    \"stft_overlap\": 0.48458985331778287,<br>    \"minSNR\": 9.945232516304921,<br>    \"stationary_frame_sec\": 3486.503985978769,<br>    \"cluster_size_t_sec\": 3.1212755660743206,<br>    \"cluster_distance_t_sec\": 2.3171105712794295,<br>    \"cluster_size_f_Hz\": 1.6938856408444392,<br>    \"cluster_distance_f_Hz\": 0.463955515963807<br>  }<br>}",
          "{<br>  \"number\": 167,<br>  \"values\": [<br>    0.0,<br>    0.022073400000408583<br>  ],<br>  \"params\": {<br>    \"stft_window_sec\": 3.5009429809936643,<br>    \"stft_overlap\": 0.2566217823942133,<br>    \"minSNR\": 7.944369669916369,<br>    \"stationary_frame_sec\": 5617.140355665497,<br>    \"cluster_size_t_sec\": 1.5377327740606055,<br>    \"cluster_distance_t_sec\": 2.4085819152706174,<br>    \"cluster_size_f_Hz\": 49.55030685351524,<br>    \"cluster_distance_f_Hz\": 6.839561258675627<br>  }<br>}",
          "{<br>  \"number\": 168,<br>  \"values\": [<br>    0.23437499947496207,<br>    0.0291631333332892<br>  ],<br>  \"params\": {<br>    \"stft_window_sec\": 3.188358786262087,<br>    \"stft_overlap\": 0.34984706450827197,<br>    \"minSNR\": 3.902952824699919,<br>    \"stationary_frame_sec\": 2529.46381940601,<br>    \"cluster_size_t_sec\": 4.4588319196794135,<br>    \"cluster_distance_t_sec\": 0.7243374882698137,<br>    \"cluster_size_f_Hz\": 26.872383524753197,<br>    \"cluster_distance_f_Hz\": 0.463955515963807<br>  }<br>}",
          "{<br>  \"number\": 169,<br>  \"values\": [<br>    0.4114350146358016,<br>    0.022131333332557308<br>  ],<br>  \"params\": {<br>    \"stft_window_sec\": 3.8135271757252416,<br>    \"stft_overlap\": 0.33571795942737104,<br>    \"minSNR\": 7.205840903537979,<br>    \"stationary_frame_sec\": 2393.22675786371,<br>    \"cluster_size_t_sec\": 1.7365293926743997,<br>    \"cluster_distance_t_sec\": 2.179272328836552,<br>    \"cluster_size_f_Hz\": 9.226676653244908,<br>    \"cluster_distance_f_Hz\": 18.08774036217993<br>  }<br>}",
          "{<br>  \"number\": 170,<br>  \"values\": [<br>    0.5092592581340022,<br>    0.026119299999966945<br>  ],<br>  \"params\": {<br>    \"stft_window_sec\": 1.562920973657886,<br>    \"stft_overlap\": 0.2566217823942133,<br>    \"minSNR\": 4.406911603022468,<br>    \"stationary_frame_sec\": 731.459293768448,<br>    \"cluster_size_t_sec\": 1.0099363516477107,<br>    \"cluster_distance_t_sec\": 0.3554050208161194,<br>    \"cluster_size_f_Hz\": 49.55030685351524,<br>    \"cluster_distance_f_Hz\": 20.34507382352514<br>  }<br>}",
          "{<br>  \"number\": 171,<br>  \"values\": [<br>    0.0,<br>    0.023087200000494097<br>  ],<br>  \"params\": {<br>    \"stft_window_sec\": 3.751010336778926,<br>    \"stft_overlap\": 0.2850817683743029,<br>    \"minSNR\": 8.24421140300398,<br>    \"stationary_frame_sec\": 2990.7914055946967,<br>    \"cluster_size_t_sec\": 3.4109293233707065,<br>    \"cluster_distance_t_sec\": 1.9115648575630795,<br>    \"cluster_size_f_Hz\": 43.901252827543885,<br>    \"cluster_distance_f_Hz\": 19.13495130856502<br>  }<br>}",
          "{<br>  \"number\": 172,<br>  \"values\": [<br>    0.2150537630159556,<br>    0.03459109999979167<br>  ],<br>  \"params\": {<br>    \"stft_window_sec\": 1.9380220073357783,<br>    \"stft_overlap\": 0.6790947592520148,<br>    \"minSNR\": 9.840767164376633,<br>    \"stationary_frame_sec\": 220.08037390744715,<br>    \"cluster_size_t_sec\": 3.812656964298477,<br>    \"cluster_distance_t_sec\": 2.3065378752133023,<br>    \"cluster_size_f_Hz\": 9.226676653244908,<br>    \"cluster_distance_f_Hz\": 18.08774036217993<br>  }<br>}",
          "{<br>  \"number\": 173,<br>  \"values\": [<br>    0.7069777445554614,<br>    0.038575500000357955<br>  ],<br>  \"params\": {<br>    \"stft_window_sec\": 0.5001347115705235,<br>    \"stft_overlap\": 0.7180851149413547,<br>    \"minSNR\": 8.697776667712489,<br>    \"stationary_frame_sec\": 340.82414044068804,<br>    \"cluster_size_t_sec\": 0.06493215724680423,<br>    \"cluster_distance_t_sec\": 0.02518145362582519,<br>    \"cluster_size_f_Hz\": 4.907776131767921,<br>    \"cluster_distance_f_Hz\": 5.2298501207254375<br>  }<br>}",
          "{<br>  \"number\": 175,<br>  \"values\": [<br>    0.16666666625833335,<br>    0.02887066666608007<br>  ],<br>  \"params\": {<br>    \"stft_window_sec\": 3.876044014671557,<br>    \"stft_overlap\": 0.5199585018566151,<br>    \"minSNR\": 5.9763518224754,<br>    \"stationary_frame_sec\": 3817.359673848405,<br>    \"cluster_size_t_sec\": 1.5190791447174379,<br>    \"cluster_distance_t_sec\": 2.266190818664466,<br>    \"cluster_size_f_Hz\": 26.17407029741753,<br>    \"cluster_distance_f_Hz\": 0.5835302365610834<br>  }<br>}",
          "{<br>  \"number\": 176,<br>  \"values\": [<br>    0.0,<br>    0.026618199999878318<br>  ],<br>  \"params\": {<br>    \"stft_window_sec\": 2.625707235745248,<br>    \"stft_overlap\": 0.23542622126095847,<br>    \"minSNR\": 9.194267919992086,<br>    \"stationary_frame_sec\": 1565.2831620922686,<br>    \"cluster_size_t_sec\": 1.7365293926743997,<br>    \"cluster_distance_t_sec\": 2.2324611046922738,<br>    \"cluster_size_f_Hz\": 48.08234930623575,<br>    \"cluster_distance_f_Hz\": 14.055419713911322<br>  }<br>}",
          "{<br>  \"number\": 177,<br>  \"values\": [<br>    0.4644547463989353,<br>    0.02477416666655093<br>  ],<br>  \"params\": {<br>    \"stft_window_sec\": 1.562920973657886,<br>    \"stft_overlap\": 0.35649990840982915,<br>    \"minSNR\": 7.205840903537979,<br>    \"stationary_frame_sec\": 1811.1013170355816,<br>    \"cluster_size_t_sec\": 1.5184146048822156,<br>    \"cluster_distance_t_sec\": 0.8419093622177722,<br>    \"cluster_size_f_Hz\": 16.656611206785243,<br>    \"cluster_distance_f_Hz\": 4.441307653593663<br>  }<br>}",
          "{<br>  \"number\": 178,<br>  \"values\": [<br>    0.49999999887499996,<br>    0.04415616666634984<br>  ],<br>  \"params\": {<br>    \"stft_window_sec\": 3.876044014671557,<br>    \"stft_overlap\": 0.29392356313765744,<br>    \"minSNR\": 4.194752475243824,<br>    \"stationary_frame_sec\": 2673.3884847771287,<br>    \"cluster_size_t_sec\": 1.0099363516477107,<br>    \"cluster_distance_t_sec\": 2.2324611046922738,<br>    \"cluster_size_f_Hz\": 1.6938856408444392,<br>    \"cluster_distance_f_Hz\": 23.373007694835817<br>  }<br>}",
          "{<br>  \"number\": 179,<br>  \"values\": [<br>    0.0,<br>    0.021614933332784858<br>  ],<br>  \"params\": {<br>    \"stft_window_sec\": 3.751010336778926,<br>    \"stft_overlap\": 0.3268429332917654,<br>    \"minSNR\": 7.944369669916369,<br>    \"stationary_frame_sec\": 6245.416909654602,<br>    \"cluster_size_t_sec\": 1.0099363516477107,<br>    \"cluster_distance_t_sec\": 2.2324611046922738,<br>    \"cluster_size_f_Hz\": 49.55030685351524,<br>    \"cluster_distance_f_Hz\": 16.95193687514681<br>  }<br>}",
          "{<br>  \"number\": 180,<br>  \"values\": [<br>    0.6296296285010289,<br>    0.04799253333294473<br>  ],<br>  \"params\": {<br>    \"stft_window_sec\": 3.5009429809936643,<br>    \"stft_overlap\": 0.7180851149413547,<br>    \"minSNR\": 4.238141726893733,<br>    \"stationary_frame_sec\": 2313.6070073365986,<br>    \"cluster_size_t_sec\": 1.6093966660808094,<br>    \"cluster_distance_t_sec\": 0.02518145362582519,<br>    \"cluster_size_f_Hz\": 20.368567484188873,<br>    \"cluster_distance_f_Hz\": 5.2298501207254375<br>  }<br>}",
          "{<br>  \"number\": 181,<br>  \"values\": [<br>    0.17628205086677148,<br>    0.0329320666660351<br>  ],<br>  \"params\": {<br>    \"stft_window_sec\": 1.875505168389463,<br>    \"stft_overlap\": 0.6550330009327681,<br>    \"minSNR\": 9.945638779233771,<br>    \"stationary_frame_sec\": 500.4227624263817,<br>    \"cluster_size_t_sec\": 0.01184204818295731,<br>    \"cluster_distance_t_sec\": 2.4085819152706174,<br>    \"cluster_size_f_Hz\": 25.38265142717374,<br>    \"cluster_distance_f_Hz\": 0.5835302365610834<br>  }<br>}",
          "{<br>  \"number\": 182,<br>  \"values\": [<br>    0.4629629618389917,<br>    0.02408956666749873<br>  ],<br>  \"params\": {<br>    \"stft_window_sec\": 3.5009429809936643,<br>    \"stft_overlap\": 0.2850817683743029,<br>    \"minSNR\": 5.370479120045605,<br>    \"stationary_frame_sec\": 5451.690438682813,<br>    \"cluster_size_t_sec\": 3.4109293233707065,<br>    \"cluster_distance_t_sec\": 1.8715225623490865,<br>    \"cluster_size_f_Hz\": 33.62725733523582,<br>    \"cluster_distance_f_Hz\": 20.20082217742991<br>  }<br>}",
          "{<br>  \"number\": 183,<br>  \"values\": [<br>    0.7095352552336948,<br>    0.1424070999998245<br>  ],<br>  \"params\": {<br>    \"stft_window_sec\": 3.188358786262087,<br>    \"stft_overlap\": 0.8950027061446453,<br>    \"minSNR\": 8.697776667712489,<br>    \"stationary_frame_sec\": 600.4391477372628,<br>    \"cluster_size_t_sec\": 1.5377327740606055,<br>    \"cluster_distance_t_sec\": 1.354338038043918,<br>    \"cluster_size_f_Hz\": 6.38439260131527,<br>    \"cluster_distance_f_Hz\": 1.6540612555833638<br>  }<br>}",
          "{<br>  \"number\": 184,<br>  \"values\": [<br>    0.4203869038467844,<br>    0.09427629999966787<br>  ],<br>  \"params\": {<br>    \"stft_window_sec\": 1.000269423141047,<br>    \"stft_overlap\": 0.8186275558375298,<br>    \"minSNR\": 8.697776667712489,<br>    \"stationary_frame_sec\": 196.79267870793456,<br>    \"cluster_size_t_sec\": 0.06493215724680423,<br>    \"cluster_distance_t_sec\": 0.28795346715717596,<br>    \"cluster_size_f_Hz\": 21.322894696465184,<br>    \"cluster_distance_f_Hz\": 0.463955515963807<br>  }<br>}",
          "{<br>  \"number\": 185,<br>  \"values\": [<br>    0.7256418338532807,<br>    0.025521699998838205<br>  ],<br>  \"params\": {<br>    \"stft_window_sec\": 3.188358786262087,<br>    \"stft_overlap\": 0.3422343841729652,<br>    \"minSNR\": 9.627310323797623,<br>    \"stationary_frame_sec\": 4270.892018105332,<br>    \"cluster_size_t_sec\": 1.0099363516477107,<br>    \"cluster_distance_t_sec\": 0.7283009480469669,<br>    \"cluster_size_f_Hz\": 1.6938856408444392,<br>    \"cluster_distance_f_Hz\": 7.206411706274651<br>  }<br>}",
          "{<br>  \"number\": 186,<br>  \"values\": [<br>    0.35993272154762296,<br>    0.027857199998834403<br>  ],<br>  \"params\": {<br>    \"stft_window_sec\": 3.876044014671557,<br>    \"stft_overlap\": 0.5406530566868346,<br>    \"minSNR\": 6.156619349748326,<br>    \"stationary_frame_sec\": 3638.0977802313464,<br>    \"cluster_size_t_sec\": 1.0099363516477107,<br>    \"cluster_distance_t_sec\": 2.2324611046922738,<br>    \"cluster_size_f_Hz\": 6.38439260131527,<br>    \"cluster_distance_f_Hz\": 7.5042790006611595<br>  }<br>}",
          "{<br>  \"number\": 187,<br>  \"values\": [<br>    0.6203703692420268,<br>    0.04290976666713201<br>  ],<br>  \"params\": {<br>    \"stft_window_sec\": 3.4384261420473488,<br>    \"stft_overlap\": 0.6410913891407053,<br>    \"minSNR\": 4.194752475243824,<br>    \"stationary_frame_sec\": 2161.7982312238637,<br>    \"cluster_size_t_sec\": 0.09998515866690205,<br>    \"cluster_distance_t_sec\": 0.7580423784662735,<br>    \"cluster_size_f_Hz\": 1.6938856408444392,<br>    \"cluster_distance_f_Hz\": 7.206411706274651<br>  }<br>}",
          "{<br>  \"number\": 188,<br>  \"values\": [<br>    0.0,<br>    0.02806093333310855<br>  ],<br>  \"params\": {<br>    \"stft_window_sec\": 2.9382914304768253,<br>    \"stft_overlap\": 0.3268429332917654,<br>    \"minSNR\": 7.205840903537979,<br>    \"stationary_frame_sec\": 2994.745524634667,<br>    \"cluster_size_t_sec\": 0.01184204818295731,<br>    \"cluster_distance_t_sec\": 1.8715225623490865,<br>    \"cluster_size_f_Hz\": 35.95487076758895,<br>    \"cluster_distance_f_Hz\": 18.08774036217993<br>  }<br>}",
          "{<br>  \"number\": 189,<br>  \"values\": [<br>    0.33788674635487465,<br>    0.217160366666576<br>  ],<br>  \"params\": {<br>    \"stft_window_sec\": 1.6879546515505166,<br>    \"stft_overlap\": 0.9204997298496989,<br>    \"minSNR\": 4.176120135872372,<br>    \"stationary_frame_sec\": 101.05204905723178,<br>    \"cluster_size_t_sec\": 0.06493215724680423,<br>    \"cluster_distance_t_sec\": 0.26747511313238603,<br>    \"cluster_size_f_Hz\": 29.465184355196687,<br>    \"cluster_distance_f_Hz\": 4.834992824034131<br>  }<br>}",
          "{<br>  \"number\": 190,<br>  \"values\": [<br>    0.13888888849103012,<br>    0.02362263333300992<br>  ],<br>  \"params\": {<br>    \"stft_window_sec\": 3.5009429809936643,<br>    \"stft_overlap\": 0.3268429332917654,<br>    \"minSNR\": 7.944369669916369,<br>    \"stationary_frame_sec\": 5549.175356264153,<br>    \"cluster_size_t_sec\": 1.552385873779587,<br>    \"cluster_distance_t_sec\": 0.28795346715717596,<br>    \"cluster_size_f_Hz\": 26.439421299750848,<br>    \"cluster_distance_f_Hz\": 5.0654212903738784<br>  }<br>}",
          "{<br>  \"number\": 191,<br>  \"values\": [<br>    0.6338566816452581,<br>    0.025415699999939534<br>  ],<br>  \"params\": {<br>    \"stft_window_sec\": 0.5001347115705235,<br>    \"stft_overlap\": 0.38604703128680906,<br>    \"minSNR\": 4.238141726893733,<br>    \"stationary_frame_sec\": 622.8496407786599,<br>    \"cluster_size_t_sec\": 2.3750612769461728,<br>    \"cluster_distance_t_sec\": 1.7465159471038458,<br>    \"cluster_size_f_Hz\": 11.948650894200675,<br>    \"cluster_distance_f_Hz\": 5.2298501207254375<br>  }<br>}",
          "{<br>  \"number\": 192,<br>  \"values\": [<br>    0.5941385688513299,<br>    0.024218666667062887<br>  ],<br>  \"params\": {<br>    \"stft_window_sec\": 3.5009429809936643,<br>    \"stft_overlap\": 0.3268429332917654,<br>    \"minSNR\": 7.944369669916369,<br>    \"stationary_frame_sec\": 1084.4235062860762,<br>    \"cluster_size_t_sec\": 1.5377327740606055,<br>    \"cluster_distance_t_sec\": 0.28795346715717596,<br>    \"cluster_size_f_Hz\": 9.226676653244908,<br>    \"cluster_distance_f_Hz\": 6.839561258675627<br>  }<br>}",
          "{<br>  \"number\": 193,<br>  \"values\": [<br>    0.0,<br>    0.030730533334159798<br>  ],<br>  \"params\": {<br>    \"stft_window_sec\": 3.876044014671557,<br>    \"stft_overlap\": 0.5199585018566151,<br>    \"minSNR\": 6.832943896905032,<br>    \"stationary_frame_sec\": 2016.0690588187654,<br>    \"cluster_size_t_sec\": 4.751920292228618,<br>    \"cluster_distance_t_sec\": 1.2235209653348385,<br>    \"cluster_size_f_Hz\": 49.55030685351524,<br>    \"cluster_distance_f_Hz\": 16.95193687514681<br>  }<br>}",
          "{<br>  \"number\": 194,<br>  \"values\": [<br>    0.4188988085995439,<br>    0.027753766667046875<br>  ],<br>  \"params\": {<br>    \"stft_window_sec\": 3.188358786262087,<br>    \"stft_overlap\": 0.3268429332917654,<br>    \"minSNR\": 4.194752475243824,<br>    \"stationary_frame_sec\": 3138.6724673060708,<br>    \"cluster_size_t_sec\": 0.09998515866690205,<br>    \"cluster_distance_t_sec\": 0.7243374882698137,<br>    \"cluster_size_f_Hz\": 17.030393440096525,<br>    \"cluster_distance_f_Hz\": 0.463955515963807<br>  }<br>}",
          "{<br>  \"number\": 195,<br>  \"values\": [<br>    0.49682419196656485,<br>    0.02784016666707127<br>  ],<br>  \"params\": {<br>    \"stft_window_sec\": 3.000808269423141,<br>    \"stft_overlap\": 0.3268429332917654,<br>    \"minSNR\": 4.368666216821712,<br>    \"stationary_frame_sec\": 3890.099284188911,<br>    \"cluster_size_t_sec\": 4.299497363206001,<br>    \"cluster_distance_t_sec\": 2.2324611046922738,<br>    \"cluster_size_f_Hz\": 20.686543406923253,<br>    \"cluster_distance_f_Hz\": 3.02636390263788<br>  }<br>}",
          "{<br>  \"number\": 196,<br>  \"values\": [<br>    0.18518518476508916,<br>    0.025916599999921647<br>  ],<br>  \"params\": {<br>    \"stft_window_sec\": 0.6251683894631543,<br>    \"stft_overlap\": 0.3268429332917654,<br>    \"minSNR\": 8.697776667712489,<br>    \"stationary_frame_sec\": 366.35158416285685,<br>    \"cluster_size_t_sec\": 0.06493215724680423,<br>    \"cluster_distance_t_sec\": 0.28795346715717596,<br>    \"cluster_size_f_Hz\": 29.080096114387473,<br>    \"cluster_distance_f_Hz\": 20.20082217742991<br>  }<br>}",
          "{<br>  \"number\": 197,<br>  \"values\": [<br>    0.8128156554193017,<br>    0.038449833332682225<br>  ],<br>  \"params\": {<br>    \"stft_window_sec\": 3.5009429809936643,<br>    \"stft_overlap\": 0.671906449177992,<br>    \"minSNR\": 9.627310323797623,<br>    \"stationary_frame_sec\": 2036.4026372469093,<br>    \"cluster_size_t_sec\": 1.552385873779587,<br>    \"cluster_distance_t_sec\": 2.2324611046922738,<br>    \"cluster_size_f_Hz\": 1.6938856408444392,<br>    \"cluster_distance_f_Hz\": 7.206411706274651<br>  }<br>}",
          "{<br>  \"number\": 198,<br>  \"values\": [<br>    0.07665945095333604,<br>    0.022394433333526347<br>  ],<br>  \"params\": {<br>    \"stft_window_sec\": 3.56345981993998,<br>    \"stft_overlap\": 0.2850817683743029,<br>    \"minSNR\": 5.642254892877002,<br>    \"stationary_frame_sec\": 1318.5526801163705,<br>    \"cluster_size_t_sec\": 3.4109293233707065,<br>    \"cluster_distance_t_sec\": 1.9115648575630795,<br>    \"cluster_size_f_Hz\": 49.55030685351524,<br>    \"cluster_distance_f_Hz\": 10.72091300552077<br>  }<br>}",
          "{<br>  \"number\": 200,<br>  \"values\": [<br>    0.0,<br>    0.19669113333353985<br>  ],<br>  \"params\": {<br>    \"stft_window_sec\": 3.4384261420473488,<br>    \"stft_overlap\": 0.9204997298496989,<br>    \"minSNR\": 6.633761402899732,<br>    \"stationary_frame_sec\": 665.2969391386669,<br>    \"cluster_size_t_sec\": 0.06493215724680423,<br>    \"cluster_distance_t_sec\": 0.7243374882698137,<br>    \"cluster_size_f_Hz\": 46.14919831336397,<br>    \"cluster_distance_f_Hz\": 7.5872150794688675<br>  }<br>}",
          "{<br>  \"number\": 201,<br>  \"values\": [<br>    0.5233204383287205,<br>    0.025958966666924727<br>  ],<br>  \"params\": {<br>    \"stft_window_sec\": 0.5001347115705235,<br>    \"stft_overlap\": 0.5199585018566151,<br>    \"minSNR\": 5.943360725598856,<br>    \"stationary_frame_sec\": 474.2057148428818,<br>    \"cluster_size_t_sec\": 2.3750612769461728,<br>    \"cluster_distance_t_sec\": 1.7465159471038458,<br>    \"cluster_size_f_Hz\": 14.871626131202415,<br>    \"cluster_distance_f_Hz\": 0.839950833236347<br>  }<br>}",
          "{<br>  \"number\": 202,<br>  \"values\": [<br>    0.8002397201168336,<br>    0.03952836666667281<br>  ],<br>  \"params\": {<br>    \"stft_window_sec\": 0.5001347115705235,<br>    \"stft_overlap\": 0.7180851149413547,<br>    \"minSNR\": 8.697776667712489,<br>    \"stationary_frame_sec\": 116.7890607392907,<br>    \"cluster_size_t_sec\": 0.06493215724680423,<br>    \"cluster_distance_t_sec\": 0.28795346715717596,<br>    \"cluster_size_f_Hz\": 9.226676653244908,<br>    \"cluster_distance_f_Hz\": 18.08774036217993<br>  }<br>}",
          "{<br>  \"number\": 203,<br>  \"values\": [<br>    0.39401094518095564,<br>    0.02338763333348955<br>  ],<br>  \"params\": {<br>    \"stft_window_sec\": 3.5009429809936643,<br>    \"stft_overlap\": 0.3268429332917654,<br>    \"minSNR\": 5.088704177116653,<br>    \"stationary_frame_sec\": 3156.334251228821,<br>    \"cluster_size_t_sec\": 1.5377327740606055,<br>    \"cluster_distance_t_sec\": 0.28795346715717596,<br>    \"cluster_size_f_Hz\": 26.439421299750848,<br>    \"cluster_distance_f_Hz\": 5.0654212903738784<br>  }<br>}",
          "{<br>  \"number\": 204,<br>  \"values\": [<br>    0.41666666559397997,<br>    0.041039866666627255<br>  ],<br>  \"params\": {<br>    \"stft_window_sec\": 3.8135271757252416,<br>    \"stft_overlap\": 0.6889248814777829,<br>    \"minSNR\": 5.642254892877002,<br>    \"stationary_frame_sec\": 749.4748744156997,<br>    \"cluster_size_t_sec\": 3.812656964298477,<br>    \"cluster_distance_t_sec\": 1.9115648575630795,<br>    \"cluster_size_f_Hz\": 33.62725733523582,<br>    \"cluster_distance_f_Hz\": 18.08774036217993<br>  }<br>}",
          "{<br>  \"number\": 205,<br>  \"values\": [<br>    0.7759360041241529,<br>    0.036829900000763395<br>  ],<br>  \"params\": {<br>    \"stft_window_sec\": 2.625707235745248,<br>    \"stft_overlap\": 0.5467773409390144,<br>    \"minSNR\": 7.944369669916369,<br>    \"stationary_frame_sec\": 1307.4897421655098,<br>    \"cluster_size_t_sec\": 1.7365293926743997,<br>    \"cluster_distance_t_sec\": 2.179272328836552,<br>    \"cluster_size_f_Hz\": 3.3766687041382193,<br>    \"cluster_distance_f_Hz\": 5.0654212903738784<br>  }<br>}",
          "{<br>  \"number\": 206,<br>  \"values\": [<br>    0.0,<br>    0.021650066666552448<br>  ],<br>  \"params\": {<br>    \"stft_window_sec\": 0.8752357452484161,<br>    \"stft_overlap\": 0.3268429332917654,<br>    \"minSNR\": 7.944369669916369,<br>    \"stationary_frame_sec\": 1351.5843544247405,<br>    \"cluster_size_t_sec\": 1.5377327740606055,<br>    \"cluster_distance_t_sec\": 0.26747511313238603,<br>    \"cluster_size_f_Hz\": 37.39964618431264,<br>    \"cluster_distance_f_Hz\": 3.9451453523930287<br>  }<br>}",
          "{<br>  \"number\": 207,<br>  \"values\": [<br>    0.5185185173930041,<br>    0.029219200000018947<br>  ],<br>  \"params\": {<br>    \"stft_window_sec\": 1.4378872957652549,<br>    \"stft_overlap\": 0.24319613889466996,<br>    \"minSNR\": 3.902952824699919,<br>    \"stationary_frame_sec\": 1382.7687559141266,<br>    \"cluster_size_t_sec\": 1.5184146048822156,<br>    \"cluster_distance_t_sec\": 0.982412614226722,<br>    \"cluster_size_f_Hz\": 20.601034244903264,<br>    \"cluster_distance_f_Hz\": 4.441307653593663<br>  }<br>}",
          "{<br>  \"number\": 208,<br>  \"values\": [<br>    0.7017974719775006,<br>    0.02229449999958888<br>  ],<br>  \"params\": {<br>    \"stft_window_sec\": 1.9380220073357783,<br>    \"stft_overlap\": 0.3268429332917654,<br>    \"minSNR\": 9.194267919992086,<br>    \"stationary_frame_sec\": 1416.7848627604756,<br>    \"cluster_size_t_sec\": 1.7365293926743997,<br>    \"cluster_distance_t_sec\": 2.4254841074121334,<br>    \"cluster_size_f_Hz\": 6.38439260131527,<br>    \"cluster_distance_f_Hz\": 13.213279914563206<br>  }<br>}",
          "{<br>  \"number\": 209,<br>  \"values\": [<br>    0.11904761870039683,<br>    0.024014300000393025<br>  ],<br>  \"params\": {<br>    \"stft_window_sec\": 0.8752357452484161,<br>    \"stft_overlap\": 0.38604703128680906,<br>    \"minSNR\": 7.944369669916369,<br>    \"stationary_frame_sec\": 1104.2476159605792,<br>    \"cluster_size_t_sec\": 1.5377327740606055,<br>    \"cluster_distance_t_sec\": 1.7465159471038458,<br>    \"cluster_size_f_Hz\": 30.720743840878377,<br>    \"cluster_distance_f_Hz\": 4.834992824034131<br>  }<br>}",
          "{<br>  \"number\": 210,<br>  \"values\": [<br>    0.0,<br>    0.022683233333130676<br>  ],<br>  \"params\": {<br>    \"stft_window_sec\": 3.5009429809936643,<br>    \"stft_overlap\": 0.2877359787263687,<br>    \"minSNR\": 9.945638779233771,<br>    \"stationary_frame_sec\": 3169.8262924999212,<br>    \"cluster_size_t_sec\": 1.552385873779587,<br>    \"cluster_distance_t_sec\": 0.8141746856274477,<br>    \"cluster_size_f_Hz\": 48.78352808143787,<br>    \"cluster_distance_f_Hz\": 1.6540612555833638<br>  }<br>}",
          "{<br>  \"number\": 211,<br>  \"values\": [<br>    0.3368639111357968,<br>    0.036797566666185354<br>  ],<br>  \"params\": {<br>    \"stft_window_sec\": 1.6879546515505166,<br>    \"stft_overlap\": 0.6410913891407053,<br>    \"minSNR\": 4.928233951347153,<br>    \"stationary_frame_sec\": 971.5363731909114,<br>    \"cluster_size_t_sec\": 2.0690889871419396,<br>    \"cluster_distance_t_sec\": 1.9115648575630795,<br>    \"cluster_size_f_Hz\": 49.55030685351524,<br>    \"cluster_distance_f_Hz\": 7.206411706274651<br>  }<br>}",
          "{<br>  \"number\": 212,<br>  \"values\": [<br>    0.0,<br>    0.023289966667107365<br>  ],<br>  \"params\": {<br>    \"stft_window_sec\": 3.56345981993998,<br>    \"stft_overlap\": 0.3268429332917654,<br>    \"minSNR\": 7.944369669916369,<br>    \"stationary_frame_sec\": 2525.7011395549916,<br>    \"cluster_size_t_sec\": 1.5377327740606055,<br>    \"cluster_distance_t_sec\": 2.2468097214668745,<br>    \"cluster_size_f_Hz\": 49.55030685351524,<br>    \"cluster_distance_f_Hz\": 20.20082217742991<br>  }<br>}",
          "{<br>  \"number\": 213,<br>  \"values\": [<br>    0.16666666625833335,<br>    0.03957523333368348<br>  ],<br>  \"params\": {<br>    \"stft_window_sec\": 3.876044014671557,<br>    \"stft_overlap\": 0.7180851149413547,<br>    \"minSNR\": 9.945232516304921,<br>    \"stationary_frame_sec\": 1671.6005219699377,<br>    \"cluster_size_t_sec\": 1.0099363516477107,<br>    \"cluster_distance_t_sec\": 1.7746354496570524,<br>    \"cluster_size_f_Hz\": 25.960106926740238,<br>    \"cluster_distance_f_Hz\": 5.2298501207254375<br>  }<br>}",
          "{<br>  \"number\": 214,<br>  \"values\": [<br>    0.11904761870039683,<br>    0.021704333332915365<br>  ],<br>  \"params\": {<br>    \"stft_window_sec\": 3.876044014671557,<br>    \"stft_overlap\": 0.3268429332917654,<br>    \"minSNR\": 7.944369669916369,<br>    \"stationary_frame_sec\": 3380.7008996539184,<br>    \"cluster_size_t_sec\": 1.0099363516477107,<br>    \"cluster_distance_t_sec\": 2.3065378752133023,<br>    \"cluster_size_f_Hz\": 29.080096114387473,<br>    \"cluster_distance_f_Hz\": 7.206411706274651<br>  }<br>}",
          "{<br>  \"number\": 215,<br>  \"values\": [<br>    0.555555554397666,<br>    0.02243433333296707<br>  ],<br>  \"params\": {<br>    \"stft_window_sec\": 3.8135271757252416,<br>    \"stft_overlap\": 0.33571795942737104,<br>    \"minSNR\": 5.943360725598856,<br>    \"stationary_frame_sec\": 1673.0710072085162,<br>    \"cluster_size_t_sec\": 1.5190791447174379,<br>    \"cluster_distance_t_sec\": 0.28795346715717596,<br>    \"cluster_size_f_Hz\": 9.226676653244908,<br>    \"cluster_distance_f_Hz\": 0.839950833236347<br>  }<br>}",
          "{<br>  \"number\": 216,<br>  \"values\": [<br>    0.40561786885789086,<br>    0.02499243333265137<br>  ],<br>  \"params\": {<br>    \"stft_window_sec\": 3.8135271757252416,<br>    \"stft_overlap\": 0.4050823725936765,<br>    \"minSNR\": 5.943360725598856,<br>    \"stationary_frame_sec\": 5092.001083086449,<br>    \"cluster_size_t_sec\": 2.308084711378078,<br>    \"cluster_distance_t_sec\": 1.2235209653348385,<br>    \"cluster_size_f_Hz\": 14.871626131202415,<br>    \"cluster_distance_f_Hz\": 23.53563499971093<br>  }<br>}",
          "{<br>  \"number\": 217,<br>  \"values\": [<br>    0.6953720256034406,<br>    0.02420843333402445<br>  ],<br>  \"params\": {<br>    \"stft_window_sec\": 3.751010336778926,<br>    \"stft_overlap\": 0.3268429332917654,<br>    \"minSNR\": 7.944369669916369,<br>    \"stationary_frame_sec\": 1984.267018643754,<br>    \"cluster_size_t_sec\": 1.5377327740606055,<br>    \"cluster_distance_t_sec\": 2.4085819152706174,<br>    \"cluster_size_f_Hz\": 3.041398229363934,<br>    \"cluster_distance_f_Hz\": 6.839561258675627<br>  }<br>}",
          "{<br>  \"number\": 218,<br>  \"values\": [<br>    0.39728226756861335,<br>    0.046904900000299676<br>  ],<br>  \"params\": {<br>    \"stft_window_sec\": 3.56345981993998,<br>    \"stft_overlap\": 0.711996622426708,<br>    \"minSNR\": 6.491329989591369,<br>    \"stationary_frame_sec\": 1160.1273955757435,<br>    \"cluster_size_t_sec\": 1.9550491250671787,<br>    \"cluster_distance_t_sec\": 1.9173828505573294,<br>    \"cluster_size_f_Hz\": 1.6938856408444392,<br>    \"cluster_distance_f_Hz\": 7.206411706274651<br>  }<br>}",
          "{<br>  \"number\": 219,<br>  \"values\": [<br>    0.0,<br>    0.03807550000055926<br>  ],<br>  \"params\": {<br>    \"stft_window_sec\": 0.8127189063021006,<br>    \"stft_overlap\": 0.6410913891407053,<br>    \"minSNR\": 5.943360725598856,<br>    \"stationary_frame_sec\": 175.62884381533883,<br>    \"cluster_size_t_sec\": 1.5190791447174379,<br>    \"cluster_distance_t_sec\": 1.2235209653348385,<br>    \"cluster_size_f_Hz\": 40.751453611806085,<br>    \"cluster_distance_f_Hz\": 0.839950833236347<br>  }<br>}",
          "{<br>  \"number\": 220,<br>  \"values\": [<br>    0.4834692018033934,<br>    0.042746400000396534<br>  ],<br>  \"params\": {<br>    \"stft_window_sec\": 3.876044014671557,<br>    \"stft_overlap\": 0.7180851149413547,<br>    \"minSNR\": 4.238141726893733,<br>    \"stationary_frame_sec\": 1642.9295157779434,<br>    \"cluster_size_t_sec\": 1.0099363516477107,<br>    \"cluster_distance_t_sec\": 0.02518145362582519,<br>    \"cluster_size_f_Hz\": 26.742640658970885,<br>    \"cluster_distance_f_Hz\": 3.02636390263788<br>  }<br>}",
          "{<br>  \"number\": 221,<br>  \"values\": [<br>    0.6337619445564884,<br>    0.02267056666702653<br>  ],<br>  \"params\": {<br>    \"stft_window_sec\": 3.5009429809936643,<br>    \"stft_overlap\": 0.2850817683743029,<br>    \"minSNR\": 8.697776667712489,<br>    \"stationary_frame_sec\": 2249.7239423228493,<br>    \"cluster_size_t_sec\": 0.06493215724680423,<br>    \"cluster_distance_t_sec\": 2.346031418313591,<br>    \"cluster_size_f_Hz\": 4.907776131767921,<br>    \"cluster_distance_f_Hz\": 4.834992824034131<br>  }<br>}",
          "{<br>  \"number\": 222,<br>  \"values\": [<br>    0.5462962951700103,<br>    0.04520320000149999<br>  ],<br>  \"params\": {<br>    \"stft_window_sec\": 3.876044014671557,<br>    \"stft_overlap\": 0.671906449177992,<br>    \"minSNR\": 4.238141726893733,<br>    \"stationary_frame_sec\": 943.2637557101398,<br>    \"cluster_size_t_sec\": 2.3750612769461728,<br>    \"cluster_distance_t_sec\": 1.7465159471038458,<br>    \"cluster_size_f_Hz\": 1.6938856408444392,<br>    \"cluster_distance_f_Hz\": 14.12294059087244<br>  }<br>}",
          "{<br>  \"number\": 223,<br>  \"values\": [<br>    0.0,<br>    0.02099510000001222<br>  ],<br>  \"params\": {<br>    \"stft_window_sec\": 3.5009429809936643,<br>    \"stft_overlap\": 0.2850817683743029,<br>    \"minSNR\": 5.642254892877002,<br>    \"stationary_frame_sec\": 4487.5908822214615,<br>    \"cluster_size_t_sec\": 1.8732286778304137,<br>    \"cluster_distance_t_sec\": 2.2324611046922738,<br>    \"cluster_size_f_Hz\": 33.62725733523582,<br>    \"cluster_distance_f_Hz\": 1.16065367939808<br>  }<br>}",
          "{<br>  \"number\": 224,<br>  \"values\": [<br>    0.0,<br>    0.028745966667277873<br>  ],<br>  \"params\": {<br>    \"stft_window_sec\": 3.8135271757252416,<br>    \"stft_overlap\": 0.5467773409390144,<br>    \"minSNR\": 9.668916034945365,<br>    \"stationary_frame_sec\": 2269.888206351367,<br>    \"cluster_size_t_sec\": 3.812656964298477,<br>    \"cluster_distance_t_sec\": 2.3065378752133023,<br>    \"cluster_size_f_Hz\": 48.68871801438004,<br>    \"cluster_distance_f_Hz\": 22.076486436941995<br>  }<br>}",
          "{<br>  \"number\": 225,<br>  \"values\": [<br>    0.4404949055875748,<br>    0.027605299999777344<br>  ],<br>  \"params\": {<br>    \"stft_window_sec\": 3.5009429809936643,<br>    \"stft_overlap\": 0.43968538392272927,<br>    \"minSNR\": 7.225047619915924,<br>    \"stationary_frame_sec\": 2427.0527210986775,<br>    \"cluster_size_t_sec\": 1.0099363516477107,<br>    \"cluster_distance_t_sec\": 0.02518145362582519,<br>    \"cluster_size_f_Hz\": 6.38439260131527,<br>    \"cluster_distance_f_Hz\": 24.050652193419626<br>  }<br>}",
          "{<br>  \"number\": 226,<br>  \"values\": [<br>    0.33897270968867294,<br>    0.030041066667157185<br>  ],<br>  \"params\": {<br>    \"stft_window_sec\": 1.9380220073357783,<br>    \"stft_overlap\": 0.6187556942661876,<br>    \"minSNR\": 5.642254892877002,<br>    \"stationary_frame_sec\": 866.5790326128298,<br>    \"cluster_size_t_sec\": 3.4109293233707065,<br>    \"cluster_distance_t_sec\": 1.3940935078005388,<br>    \"cluster_size_f_Hz\": 1.878802275864766,<br>    \"cluster_distance_f_Hz\": 19.13495130856502<br>  }<br>}",
          "{<br>  \"number\": 227,<br>  \"values\": [<br>    0.4723000301101831,<br>    0.04046486666599473<br>  ],<br>  \"params\": {<br>    \"stft_window_sec\": 3.5009429809936643,<br>    \"stft_overlap\": 0.671906449177992,<br>    \"minSNR\": 4.194752475243824,<br>    \"stationary_frame_sec\": 1681.580317115483,<br>    \"cluster_size_t_sec\": 1.552385873779587,<br>    \"cluster_distance_t_sec\": 0.7243374882698137,<br>    \"cluster_size_f_Hz\": 17.030393440096525,<br>    \"cluster_distance_f_Hz\": 0.463955515963807<br>  }<br>}",
          "{<br>  \"number\": 228,<br>  \"values\": [<br>    0.38234718457382,<br>    0.023337666665914487<br>  ],<br>  \"params\": {<br>    \"stft_window_sec\": 1.6879546515505166,<br>    \"stft_overlap\": 0.2850817683743029,<br>    \"minSNR\": 5.370479120045605,<br>    \"stationary_frame_sec\": 823.4128344145419,<br>    \"cluster_size_t_sec\": 3.4109293233707065,<br>    \"cluster_distance_t_sec\": 1.8715225623490865,<br>    \"cluster_size_f_Hz\": 33.62725733523582,<br>    \"cluster_distance_f_Hz\": 20.20082217742991<br>  }<br>}",
          "{<br>  \"number\": 229,<br>  \"values\": [<br>    0.2864583329678006,<br>    0.024660933332900942<br>  ],<br>  \"params\": {<br>    \"stft_window_sec\": 0.5001347115705235,<br>    \"stft_overlap\": 0.48225740898904734,<br>    \"minSNR\": 8.474040792160578,<br>    \"stationary_frame_sec\": 224.16994539571448,<br>    \"cluster_size_t_sec\": 2.3750612769461728,<br>    \"cluster_distance_t_sec\": 1.7465159471038458,<br>    \"cluster_size_f_Hz\": 11.948650894200675,<br>    \"cluster_distance_f_Hz\": 5.2298501207254375<br>  }<br>}",
          "{<br>  \"number\": 230,<br>  \"values\": [<br>    0.6633454094330049,<br>    0.026978166666291752<br>  ],<br>  \"params\": {<br>    \"stft_window_sec\": 3.876044014671557,<br>    \"stft_overlap\": 0.506966501786841,<br>    \"minSNR\": 9.945232516304921,<br>    \"stationary_frame_sec\": 3373.025568019445,<br>    \"cluster_size_t_sec\": 1.0099363516477107,<br>    \"cluster_distance_t_sec\": 2.2324611046922738,<br>    \"cluster_size_f_Hz\": 6.38439260131527,<br>    \"cluster_distance_f_Hz\": 7.206411706274651<br>  }<br>}",
          "{<br>  \"number\": 232,<br>  \"values\": [<br>    0.4259335681854654,<br>    0.022576433333900543<br>  ],<br>  \"params\": {<br>    \"stft_window_sec\": 3.8135271757252416,<br>    \"stft_overlap\": 0.3268429332917654,<br>    \"minSNR\": 7.205840903537979,<br>    \"stationary_frame_sec\": 4930.149260215419,<br>    \"cluster_size_t_sec\": 1.9550491250671787,<br>    \"cluster_distance_t_sec\": 0.40958616595310915,<br>    \"cluster_size_f_Hz\": 9.226676653244908,<br>    \"cluster_distance_f_Hz\": 18.08774036217993<br>  }<br>}",
          "{<br>  \"number\": 233,<br>  \"values\": [<br>    0.0,<br>    0.022155066666831164<br>  ],<br>  \"params\": {<br>    \"stft_window_sec\": 3.5009429809936643,<br>    \"stft_overlap\": 0.2566217823942133,<br>    \"minSNR\": 7.944369669916369,<br>    \"stationary_frame_sec\": 6159.689762659215,<br>    \"cluster_size_t_sec\": 1.5377327740606055,<br>    \"cluster_distance_t_sec\": 2.2324611046922738,<br>    \"cluster_size_f_Hz\": 49.55030685351524,<br>    \"cluster_distance_f_Hz\": 20.20082217742991<br>  }<br>}",
          "{<br>  \"number\": 234,<br>  \"values\": [<br>    0.22727272685089536,<br>    0.03558753333224255<br>  ],<br>  \"params\": {<br>    \"stft_window_sec\": 3.313392464154718,<br>    \"stft_overlap\": 0.6410913891407053,<br>    \"minSNR\": 8.659694452335824,<br>    \"stationary_frame_sec\": 2134.966828291842,<br>    \"cluster_size_t_sec\": 1.5377327740606055,<br>    \"cluster_distance_t_sec\": 1.354338038043918,<br>    \"cluster_size_f_Hz\": 22.211673396346875,<br>    \"cluster_distance_f_Hz\": 1.6540612555833638<br>  }<br>}",
          "{<br>  \"number\": 235,<br>  \"values\": [<br>    0.5086794807565177,<br>    0.027576033333389205<br>  ],<br>  \"params\": {<br>    \"stft_window_sec\": 2.9382914304768253,<br>    \"stft_overlap\": 0.3268429332917654,<br>    \"minSNR\": 7.944369669916369,<br>    \"stationary_frame_sec\": 2576.1572038535664,<br>    \"cluster_size_t_sec\": 3.4109293233707065,<br>    \"cluster_distance_t_sec\": 2.2324611046922738,<br>    \"cluster_size_f_Hz\": 1.6938856408444392,<br>    \"cluster_distance_f_Hz\": 19.13495130856502<br>  }<br>}",
          "{<br>  \"number\": 236,<br>  \"values\": [<br>    0.7428813313528249,<br>    0.1521905333338509<br>  ],<br>  \"params\": {<br>    \"stft_window_sec\": 1.9380220073357783,<br>    \"stft_overlap\": 0.9204997298496989,<br>    \"minSNR\": 8.697776667712489,<br>    \"stationary_frame_sec\": 348.5393630573192,<br>    \"cluster_size_t_sec\": 1.5377327740606055,<br>    \"cluster_distance_t_sec\": 0.28795346715717596,<br>    \"cluster_size_f_Hz\": 4.907776131767921,<br>    \"cluster_distance_f_Hz\": 20.20082217742991<br>  }<br>}",
          "{<br>  \"number\": 238,<br>  \"values\": [<br>    0.18518518476508916,<br>    0.027033033332979056<br>  ],<br>  \"params\": {<br>    \"stft_window_sec\": 1.6254378126042013,<br>    \"stft_overlap\": 0.4768677172512015,<br>    \"minSNR\": 7.944369669916369,<br>    \"stationary_frame_sec\": 1711.259164364952,<br>    \"cluster_size_t_sec\": 1.5377327740606055,<br>    \"cluster_distance_t_sec\": 0.982412614226722,<br>    \"cluster_size_f_Hz\": 26.872383524753197,<br>    \"cluster_distance_f_Hz\": 6.839561258675627<br>  }<br>}",
          "{<br>  \"number\": 239,<br>  \"values\": [<br>    0.0,<br>    0.038658633333701196<br>  ],<br>  \"params\": {<br>    \"stft_window_sec\": 0.5001347115705235,<br>    \"stft_overlap\": 0.7180851149413547,<br>    \"minSNR\": 7.944369669916369,<br>    \"stationary_frame_sec\": 273.8748089385202,<br>    \"cluster_size_t_sec\": 1.6093966660808094,<br>    \"cluster_distance_t_sec\": 0.02518145362582519,<br>    \"cluster_size_f_Hz\": 37.39964618431264,<br>    \"cluster_distance_f_Hz\": 5.2298501207254375<br>  }<br>}",
          "{<br>  \"number\": 240,<br>  \"values\": [<br>    0.4104314273383782,<br>    0.024055433332857017<br>  ],<br>  \"params\": {<br>    \"stft_window_sec\": 3.5009429809936643,<br>    \"stft_overlap\": 0.3268429332917654,<br>    \"minSNR\": 6.9903250078411405,<br>    \"stationary_frame_sec\": 4918.432905484837,<br>    \"cluster_size_t_sec\": 1.5377327740606055,<br>    \"cluster_distance_t_sec\": 1.8711765749974374,<br>    \"cluster_size_f_Hz\": 6.38439260131527,<br>    \"cluster_distance_f_Hz\": 20.20082217742991<br>  }<br>}",
          "{<br>  \"number\": 241,<br>  \"values\": [<br>    0.5555555544290124,<br>    0.031061133333726804<br>  ],<br>  \"params\": {<br>    \"stft_window_sec\": 1.6879546515505166,<br>    \"stft_overlap\": 0.48225740898904734,<br>    \"minSNR\": 4.194752475243824,<br>    \"stationary_frame_sec\": 981.6864599425313,<br>    \"cluster_size_t_sec\": 0.06493215724680423,<br>    \"cluster_distance_t_sec\": 0.7243374882698137,<br>    \"cluster_size_f_Hz\": 6.38439260131527,<br>    \"cluster_distance_f_Hz\": 7.206411706274651<br>  }<br>}",
          "{<br>  \"number\": 242,<br>  \"values\": [<br>    0.6867358417544441,<br>    0.046192733333555225<br>  ],<br>  \"params\": {<br>    \"stft_window_sec\": 3.56345981993998,<br>    \"stft_overlap\": 0.7366125810947532,<br>    \"minSNR\": 9.194267919992086,<br>    \"stationary_frame_sec\": 1697.260369052538,<br>    \"cluster_size_t_sec\": 1.7365293926743997,<br>    \"cluster_distance_t_sec\": 2.4872907910045132,<br>    \"cluster_size_f_Hz\": 6.38439260131527,<br>    \"cluster_distance_f_Hz\": 13.213279914563206<br>  }<br>}",
          "{<br>  \"number\": 243,<br>  \"values\": [<br>    0.6327280430883188,<br>    0.02319540000038008<br>  ],<br>  \"params\": {<br>    \"stft_window_sec\": 3.5009429809936643,<br>    \"stft_overlap\": 0.3268429332917654,<br>    \"minSNR\": 7.514862177429424,<br>    \"stationary_frame_sec\": 5617.300722259197,<br>    \"cluster_size_t_sec\": 1.5377327740606055,<br>    \"cluster_distance_t_sec\": 0.28795346715717596,<br>    \"cluster_size_f_Hz\": 9.226676653244908,<br>    \"cluster_distance_f_Hz\": 6.839561258675627<br>  }<br>}",
          "{<br>  \"number\": 244,<br>  \"values\": [<br>    0.25013046863426136,<br>    0.02325263333265563<br>  ],<br>  \"params\": {<br>    \"stft_window_sec\": 3.8135271757252416,<br>    \"stft_overlap\": 0.2877359787263687,<br>    \"minSNR\": 5.8038912000710585,<br>    \"stationary_frame_sec\": 1705.0265465883522,<br>    \"cluster_size_t_sec\": 1.7365293926743997,<br>    \"cluster_distance_t_sec\": 1.7563837212561677,<br>    \"cluster_size_f_Hz\": 48.78352808143787,<br>    \"cluster_distance_f_Hz\": 18.08774036217993<br>  }<br>}",
          "{<br>  \"number\": 245,<br>  \"values\": [<br>    0.5418335228404138,<br>    0.02183560000048601<br>  ],<br>  \"params\": {<br>    \"stft_window_sec\": 3.5009429809936643,<br>    \"stft_overlap\": 0.2850817683743029,<br>    \"minSNR\": 8.697776667712489,<br>    \"stationary_frame_sec\": 2991.4192076048043,<br>    \"cluster_size_t_sec\": 1.5377327740606055,<br>    \"cluster_distance_t_sec\": 0.6932536058798339,<br>    \"cluster_size_f_Hz\": 9.226676653244908,<br>    \"cluster_distance_f_Hz\": 18.11299145687676<br>  }<br>}",
          "{<br>  \"number\": 246,<br>  \"values\": [<br>    0.5072352206628791,<br>    0.022748666667515256<br>  ],<br>  \"params\": {<br>    \"stft_window_sec\": 3.5009429809936643,<br>    \"stft_overlap\": 0.3268429332917654,<br>    \"minSNR\": 7.381749802146857,<br>    \"stationary_frame_sec\": 4143.815056348509,<br>    \"cluster_size_t_sec\": 1.0099363516477107,<br>    \"cluster_distance_t_sec\": 1.8711765749974374,<br>    \"cluster_size_f_Hz\": 6.38439260131527,<br>    \"cluster_distance_f_Hz\": 16.95193687514681<br>  }<br>}",
          "{<br>  \"number\": 247,<br>  \"values\": [<br>    0.6296296285010289,<br>    0.05643483333369659<br>  ],<br>  \"params\": {<br>    \"stft_window_sec\": 2.625707235745248,<br>    \"stft_overlap\": 0.6495904012766172,<br>    \"minSNR\": 4.014243882563436,<br>    \"stationary_frame_sec\": 244.80148543337012,<br>    \"cluster_size_t_sec\": 0.06493215724680423,<br>    \"cluster_distance_t_sec\": 0.4376821116581045,<br>    \"cluster_size_f_Hz\": 4.533592032607431,<br>    \"cluster_distance_f_Hz\": 7.206411706274651<br>  }<br>}",
          "{<br>  \"number\": 248,<br>  \"values\": [<br>    0.7207043178558994,<br>    0.040652099999533675<br>  ],<br>  \"params\": {<br>    \"stft_window_sec\": 2.625707235745248,<br>    \"stft_overlap\": 0.5467773409390144,<br>    \"minSNR\": 7.205840903537979,<br>    \"stationary_frame_sec\": 1570.96346990005,<br>    \"cluster_size_t_sec\": 1.7365293926743997,<br>    \"cluster_distance_t_sec\": 0.8419093622177722,<br>    \"cluster_size_f_Hz\": 8.863968590550991,<br>    \"cluster_distance_f_Hz\": 3.9451453523930287<br>  }<br>}",
          "{<br>  \"number\": 249,<br>  \"values\": [<br>    0.13888888849103012,<br>    0.024531933333491907<br>  ],<br>  \"params\": {<br>    \"stft_window_sec\": 3.5009429809936643,<br>    \"stft_overlap\": 0.3268429332917654,<br>    \"minSNR\": 7.944369669916369,<br>    \"stationary_frame_sec\": 2404.85358401315,<br>    \"cluster_size_t_sec\": 0.06493215724680423,<br>    \"cluster_distance_t_sec\": 2.306238192924498,<br>    \"cluster_size_f_Hz\": 26.439421299750848,<br>    \"cluster_distance_f_Hz\": 9.333960444299052<br>  }<br>}"
         ],
         "type": "scatter",
         "x": [
          0.5817989852465756,
          0.6018518507240227,
          0.43203734449440684,
          0.7867980838853144,
          0.43380519850209875,
          0.6454613083107359,
          0,
          0,
          0.2864583329678006,
          0,
          0.6111111099830248,
          0.16666666625833335,
          0.12622720817574604,
          0.08771929796283472,
          0.38685679495612013,
          0,
          0.04901960766652249,
          0,
          0.30871212051423685,
          0.33340347863160685,
          0.25331439341787126,
          0.32806131406602795,
          0.6388888877600309,
          0.14492753584593573,
          0.4320423811910297,
          0.564510510506863,
          0.20114942486251486,
          0.6111111099830248,
          0.20833333290798617,
          0.38564687620922183,
          0.6018518507240227,
          0.5092592581340021,
          0,
          0.5555555544290124,
          0.42592592480298347,
          0.3894954281900957,
          0.2150537630159556,
          0.4203869038467844,
          0.41049060127274156,
          0.5555555544290124,
          0.5925925914650206,
          0,
          0.7563018188896112,
          0.34722222160783184,
          0.6203703692420268,
          0.2642276418816925,
          0,
          0.46178387256409775,
          0.23809523767857146,
          0.6203703692420267,
          0.3818369446684288,
          0,
          0,
          0,
          0.4308035705038807,
          0.23809523767857146,
          0.7753214910408867,
          0.026041666566975905,
          0.7867980838853144,
          0.32593749694239177,
          0.3983516475204724,
          0.7505175972285093,
          0.4830003355485865,
          0.492724866651801,
          0,
          0,
          0,
          0.386392634395709,
          0.5009920624159158,
          0.026041666566975905,
          0.2777777773996914,
          0.7804892387924438,
          0,
          0,
          0.6759259247960392,
          0.026041666566975905,
          0.5048965254385861,
          0.5819678903165424,
          0,
          0.5462962951700103,
          0.37213977576021434,
          0.44536564549834584,
          0.32792207715714544,
          0.41899496926241236,
          0.1912390268440183,
          0.6839470272358664,
          0.15424679435913566,
          0.3994559060395124,
          0.4470055150393181,
          0.5925925914650206,
          0,
          0.34974994479288113,
          0,
          0.28711484534509396,
          0,
          0.25331439341787126,
          0,
          0,
          0.6098484836591125,
          0.7991310148837439,
          0.30871212051423685,
          0.11904761870039683,
          0.5478638732819862,
          0,
          0.399411847000285,
          0,
          0.338679431025582,
          0.4063651711112553,
          0.48384661726231043,
          0.5582264945819552,
          0,
          0.5277777766520061,
          0.6198436215613706,
          0.8090107280732494,
          0.2700501246171479,
          0.3431412537367711,
          0.7268133441127532,
          0.40906444009148313,
          0.3290719692598134,
          0.5462962951700103,
          0.5076235029652253,
          0.6832392520038546,
          0,
          0.6343724451813967,
          0,
          0.43097833441930006,
          0,
          0.31892206300579035,
          0.7099495548676805,
          0.5092592581340021,
          0.5573156670421833,
          0,
          0.6739498632820493,
          0.7118538933604254,
          0.5462962951700103,
          0.5370370359110083,
          0.6018518507240227,
          0.15624999960123698,
          0,
          0.6111111099830248,
          0.49999999887499996,
          0,
          0,
          0.4470055150393181,
          0.3091643376987185,
          0.15424679435913566,
          0.6713115708891054,
          0.4270833325262369,
          0.06944444420814043,
          0.2410954295829315,
          0.14508928526737275,
          0.5296800513925944,
          0.7405181612342635,
          0.8132018310025358,
          0.23809523767857146,
          0.6111111099830248,
          0,
          0.20833333290798617,
          0,
          0.606097559903993,
          0.7332659467443867,
          0.17628205086677148,
          0.2762923345174178,
          0.5208333324427626,
          0,
          0.23437499947496207,
          0.4114350146358016,
          0.5092592581340022,
          0,
          0.2150537630159556,
          0.7069777445554614,
          0.16666666625833335,
          0,
          0.4644547463989353,
          0.49999999887499996,
          0,
          0.6296296285010289,
          0.17628205086677148,
          0.4629629618389917,
          0.7095352552336948,
          0.4203869038467844,
          0.7256418338532807,
          0.35993272154762296,
          0.6203703692420268,
          0,
          0.33788674635487465,
          0.13888888849103012,
          0.6338566816452581,
          0.5941385688513299,
          0,
          0.4188988085995439,
          0.49682419196656485,
          0.18518518476508916,
          0.8128156554193017,
          0.07665945095333604,
          0,
          0.5233204383287205,
          0.8002397201168336,
          0.39401094518095564,
          0.41666666559397997,
          0.7759360041241529,
          0,
          0.5185185173930041,
          0.7017974719775006,
          0.11904761870039683,
          0,
          0.3368639111357968,
          0,
          0.16666666625833335,
          0.11904761870039683,
          0.555555554397666,
          0.40561786885789086,
          0.6953720256034406,
          0.39728226756861335,
          0,
          0.4834692018033934,
          0.6337619445564884,
          0.5462962951700103,
          0,
          0,
          0.4404949055875748,
          0.33897270968867294,
          0.4723000301101831,
          0.38234718457382,
          0.2864583329678006,
          0.6633454094330049,
          0.4259335681854654,
          0,
          0.22727272685089536,
          0.5086794807565177,
          0.7428813313528249,
          0.18518518476508916,
          0,
          0.4104314273383782,
          0.5555555544290124,
          0.6867358417544441,
          0.6327280430883188,
          0.25013046863426136,
          0.5418335228404138,
          0.5072352206628791,
          0.6296296285010289,
          0.7207043178558994,
          0.13888888849103012
         ],
         "y": [
          0.033241300000554475,
          0.08824796666643427,
          0.25863333333351574,
          0.03491953333195852,
          0.028325466665895267,
          0.026859133333042944,
          0.03396713333374161,
          0.27580273333296645,
          0.3841953999996501,
          0.02250339999955031,
          0.17779246666699086,
          0.30076620000030135,
          0.02659623333268731,
          0.0654754666657027,
          0.06927519999923486,
          0.09405273333292523,
          0.03298343333305335,
          0.07909313333281413,
          0.026373699999870343,
          0.19039800000033816,
          0.07033590000022134,
          0.03800890000032572,
          0.06945243333363275,
          0.0250765000003715,
          0.026746466667039687,
          0.023720133332972182,
          0.02689130000029157,
          0.20777383333431013,
          0.07573953333303507,
          0.06176016666631767,
          0.17260113333365248,
          0.04040179999992688,
          0.11466426666599243,
          0.03965210000023944,
          0.5770307333335344,
          0.06968563333339262,
          0.10546213333327614,
          0.05251116666780339,
          0.06240396666665523,
          0.05494679999992513,
          0.03572226666680459,
          0.03874443333309804,
          0.1764216000004429,
          0.15948349999992692,
          0.074701699999423,
          0.05024326666656028,
          0.03689163333365286,
          0.028878200000084082,
          0.13861839999966227,
          0.04402626666675739,
          0.026593433334407262,
          0.038091800000377894,
          0.03455226666665112,
          0.027662699999988643,
          0.12933616666608336,
          0.03533986666631487,
          0.12024750000000495,
          0.02418406666674855,
          0.034873666666802215,
          0.02928366666704581,
          0.02423086666688808,
          0.03697316666633318,
          0.03839603333381092,
          0.027642333333460556,
          0.02762199999991329,
          0.051253999999365384,
          0.07076666666641056,
          0.16315240000009604,
          0.12868970000029853,
          0.026652633333469566,
          0.03404046666704138,
          0.04622713333355932,
          0.06597866666743357,
          0.03694419999889457,
          0.26591399999991455,
          0.03472813333337399,
          0.03463956666564627,
          0.022585366666741418,
          0.03613423333293516,
          0.031037933333815697,
          0.05457249999835767,
          0.23807629999949617,
          0.026912033333246654,
          0.12979126666717397,
          0.03823449999890727,
          0.024611766667173168,
          0.02217960000052699,
          0.05781213333254224,
          0.027971400000448437,
          0.04932010000053803,
          0.03455330000087997,
          0.032904333332832415,
          0.05649403333366839,
          0.1835565666679031,
          0.2811232999999144,
          0.07329706666647932,
          0.021367000000585296,
          0.1226975333329392,
          0.06519640000048336,
          0.19671286666653032,
          0.027114866666731057,
          0.02395593333373351,
          0.03822299999956158,
          0.03610420000010587,
          0.02389023333307705,
          0.029724233333278487,
          0.02845849999963927,
          0.03856430000026497,
          0.02591139999973772,
          0.02634400000018407,
          0.02667733333328215,
          0.32494736666709895,
          0.026734266666911328,
          0.0379705000004833,
          0.021806766667396005,
          0.3079753666673544,
          0.02770336666678001,
          0.02603183333364238,
          0.06513493333356261,
          0.030373700000078923,
          0.02547156666666221,
          0.023688533333370287,
          0.03265763333365612,
          0.02281569999953111,
          0.021973466666774282,
          0.026234133333673526,
          0.02229539999946913,
          0.034232499999840606,
          0.20868433333392508,
          0.06773373333362542,
          0.033227066666161896,
          0.02483846666594521,
          0.04032326666735268,
          0.04190733333295308,
          0.03742056666609036,
          0.032280766666190175,
          0.0516337333338015,
          0.026949399999769714,
          0.0658680000002884,
          0.09826223333311646,
          0.028666866666450613,
          0.02232326666641408,
          0.02400256666714995,
          0.02639656666603211,
          0.03769579999971029,
          0.021528400000230857,
          0.03640019999966171,
          0.03804266666672144,
          0.02622966666664676,
          0.14947216666678287,
          0.03126813333316628,
          0.025929933333221317,
          0.02830019999904228,
          0.038245233333024466,
          0.04803183333388006,
          0.048661900000297464,
          0.02522343333354608,
          0.024288133333053945,
          0.02239976666593672,
          0.02260273333316339,
          0.17886030000014821,
          0.0529399666665995,
          0.027871133332761627,
          0.028281266666150866,
          0.022073400000408583,
          0.0291631333332892,
          0.022131333332557308,
          0.026119299999966945,
          0.023087200000494097,
          0.03459109999979167,
          0.038575500000357955,
          0.02887066666608007,
          0.026618199999878318,
          0.02477416666655093,
          0.04415616666634984,
          0.021614933332784858,
          0.04799253333294473,
          0.0329320666660351,
          0.02408956666749873,
          0.1424070999998245,
          0.09427629999966787,
          0.025521699998838205,
          0.027857199998834403,
          0.04290976666713201,
          0.02806093333310855,
          0.217160366666576,
          0.02362263333300992,
          0.025415699999939534,
          0.024218666667062887,
          0.030730533334159798,
          0.027753766667046875,
          0.02784016666707127,
          0.025916599999921647,
          0.038449833332682225,
          0.022394433333526347,
          0.19669113333353985,
          0.025958966666924727,
          0.03952836666667281,
          0.02338763333348955,
          0.041039866666627255,
          0.036829900000763395,
          0.021650066666552448,
          0.029219200000018947,
          0.02229449999958888,
          0.024014300000393025,
          0.022683233333130676,
          0.036797566666185354,
          0.023289966667107365,
          0.03957523333368348,
          0.021704333332915365,
          0.02243433333296707,
          0.02499243333265137,
          0.02420843333402445,
          0.046904900000299676,
          0.03807550000055926,
          0.042746400000396534,
          0.02267056666702653,
          0.04520320000149999,
          0.02099510000001222,
          0.028745966667277873,
          0.027605299999777344,
          0.030041066667157185,
          0.04046486666599473,
          0.023337666665914487,
          0.024660933332900942,
          0.026978166666291752,
          0.022576433333900543,
          0.022155066666831164,
          0.03558753333224255,
          0.027576033333389205,
          0.1521905333338509,
          0.027033033332979056,
          0.038658633333701196,
          0.024055433332857017,
          0.031061133333726804,
          0.046192733333555225,
          0.02319540000038008,
          0.02325263333265563,
          0.02183560000048601,
          0.022748666667515256,
          0.05643483333369659,
          0.040652099999533675,
          0.024531933333491907
         ]
        },
        {
         "hovertemplate": "%{text}<extra>Best Trial</extra>",
         "marker": {
          "color": [
           82,
           111,
           160,
           174,
           199,
           231,
           237
          ],
          "colorbar": {
           "title": {
            "text": "Best Trial"
           },
           "x": 1.1,
           "xpad": 40,
           "y": 0.5
          },
          "colorscale": [
           [
            0,
            "rgb(255,245,240)"
           ],
           [
            0.125,
            "rgb(254,224,210)"
           ],
           [
            0.25,
            "rgb(252,187,161)"
           ],
           [
            0.375,
            "rgb(252,146,114)"
           ],
           [
            0.5,
            "rgb(251,106,74)"
           ],
           [
            0.625,
            "rgb(239,59,44)"
           ],
           [
            0.75,
            "rgb(203,24,29)"
           ],
           [
            0.875,
            "rgb(165,15,21)"
           ],
           [
            1,
            "rgb(103,0,13)"
           ]
          ],
          "line": {
           "color": "Grey",
           "width": 0.5
          }
         },
         "mode": "markers",
         "showlegend": false,
         "text": [
          "{<br>  \"number\": 82,<br>  \"values\": [<br>    0.8370312306715131,<br>    0.05054703333401752<br>  ],<br>  \"params\": {<br>    \"stft_window_sec\": 3.188358786262087,<br>    \"stft_overlap\": 0.711996622426708,<br>    \"minSNR\": 9.627310323797623,<br>    \"stationary_frame_sec\": 810.7726098279687,<br>    \"cluster_size_t_sec\": 1.0099363516477107,<br>    \"cluster_distance_t_sec\": 2.2324611046922738,<br>    \"cluster_size_f_Hz\": 1.6938856408444392,<br>    \"cluster_distance_f_Hz\": 7.206411706274651<br>  }<br>}",
          "{<br>  \"number\": 111,<br>  \"values\": [<br>    0.739464859801202,<br>    0.021812099999503214<br>  ],<br>  \"params\": {<br>    \"stft_window_sec\": 1.6879546515505166,<br>    \"stft_overlap\": 0.2850817683743029,<br>    \"minSNR\": 8.697776667712489,<br>    \"stationary_frame_sec\": 1730.2185956815479,<br>    \"cluster_size_t_sec\": 0.06493215724680423,<br>    \"cluster_distance_t_sec\": 0.6932536058798339,<br>    \"cluster_size_f_Hz\": 6.38439260131527,<br>    \"cluster_distance_f_Hz\": 18.11299145687676<br>  }<br>}",
          "{<br>  \"number\": 160,<br>  \"values\": [<br>    0.7017974719775006,<br>    0.021410166667010344<br>  ],<br>  \"params\": {<br>    \"stft_window_sec\": 1.9380220073357783,<br>    \"stft_overlap\": 0.3268429332917654,<br>    \"minSNR\": 9.194267919992086,<br>    \"stationary_frame_sec\": 3203.8213662088256,<br>    \"cluster_size_t_sec\": 1.7365293926743997,<br>    \"cluster_distance_t_sec\": 2.4872907910045132,<br>    \"cluster_size_f_Hz\": 6.38439260131527,<br>    \"cluster_distance_f_Hz\": 13.213279914563206<br>  }<br>}",
          "{<br>  \"number\": 174,<br>  \"values\": [<br>    0.8205513361274454,<br>    0.03506593333349883<br>  ],<br>  \"params\": {<br>    \"stft_window_sec\": 1.6879546515505166,<br>    \"stft_overlap\": 0.6410913891407053,<br>    \"minSNR\": 9.945232516304921,<br>    \"stationary_frame_sec\": 1225.1661492915541,<br>    \"cluster_size_t_sec\": 0.06493215724680423,<br>    \"cluster_distance_t_sec\": 2.2324611046922738,<br>    \"cluster_size_f_Hz\": 4.533592032607431,<br>    \"cluster_distance_f_Hz\": 7.206411706274651<br>  }<br>}",
          "{<br>  \"number\": 199,<br>  \"values\": [<br>    0.7946046996751558,<br>    0.02916486666617857<br>  ],<br>  \"params\": {<br>    \"stft_window_sec\": 1.6879546515505166,<br>    \"stft_overlap\": 0.48225740898904734,<br>    \"minSNR\": 4.194752475243824,<br>    \"stationary_frame_sec\": 302.97641739922324,<br>    \"cluster_size_t_sec\": 0.06493215724680423,<br>    \"cluster_distance_t_sec\": 0.7243374882698137,<br>    \"cluster_size_f_Hz\": 6.38439260131527,<br>    \"cluster_distance_f_Hz\": 0.463955515963807<br>  }<br>}",
          "{<br>  \"number\": 231,<br>  \"values\": [<br>    0.6450752892005271,<br>    0.020668033332791918<br>  ],<br>  \"params\": {<br>    \"stft_window_sec\": 1.875505168389463,<br>    \"stft_overlap\": 0.2877359787263687,<br>    \"minSNR\": 9.945638779233771,<br>    \"stationary_frame_sec\": 2536.360535260475,<br>    \"cluster_size_t_sec\": 1.5184146048822156,<br>    \"cluster_distance_t_sec\": 0.8419093622177722,<br>    \"cluster_size_f_Hz\": 8.863968590550991,<br>    \"cluster_distance_f_Hz\": 20.34507382352514<br>  }<br>}",
          "{<br>  \"number\": 237,<br>  \"values\": [<br>    0.7739167553509119,<br>    0.021955166666581743<br>  ],<br>  \"params\": {<br>    \"stft_window_sec\": 0.5001347115705235,<br>    \"stft_overlap\": 0.3268429332917654,<br>    \"minSNR\": 8.697776667712489,<br>    \"stationary_frame_sec\": 647.0448292319298,<br>    \"cluster_size_t_sec\": 0.06493215724680423,<br>    \"cluster_distance_t_sec\": 0.28795346715717596,<br>    \"cluster_size_f_Hz\": 4.907776131767921,<br>    \"cluster_distance_f_Hz\": 1.330745845710929<br>  }<br>}"
         ],
         "type": "scatter",
         "x": [
          0.8370312306715131,
          0.739464859801202,
          0.7017974719775006,
          0.8205513361274454,
          0.7946046996751558,
          0.6450752892005271,
          0.7739167553509119
         ],
         "y": [
          0.05054703333401752,
          0.021812099999503214,
          0.021410166667010344,
          0.03506593333349883,
          0.02916486666617857,
          0.020668033332791918,
          0.021955166666581743
         ]
        }
       ],
       "layout": {
        "autosize": true,
        "template": {
         "data": {
          "bar": [
           {
            "error_x": {
             "color": "#2a3f5f"
            },
            "error_y": {
             "color": "#2a3f5f"
            },
            "marker": {
             "line": {
              "color": "#E5ECF6",
              "width": 0.5
             },
             "pattern": {
              "fillmode": "overlay",
              "size": 10,
              "solidity": 0.2
             }
            },
            "type": "bar"
           }
          ],
          "barpolar": [
           {
            "marker": {
             "line": {
              "color": "#E5ECF6",
              "width": 0.5
             },
             "pattern": {
              "fillmode": "overlay",
              "size": 10,
              "solidity": 0.2
             }
            },
            "type": "barpolar"
           }
          ],
          "carpet": [
           {
            "aaxis": {
             "endlinecolor": "#2a3f5f",
             "gridcolor": "white",
             "linecolor": "white",
             "minorgridcolor": "white",
             "startlinecolor": "#2a3f5f"
            },
            "baxis": {
             "endlinecolor": "#2a3f5f",
             "gridcolor": "white",
             "linecolor": "white",
             "minorgridcolor": "white",
             "startlinecolor": "#2a3f5f"
            },
            "type": "carpet"
           }
          ],
          "choropleth": [
           {
            "colorbar": {
             "outlinewidth": 0,
             "ticks": ""
            },
            "type": "choropleth"
           }
          ],
          "contour": [
           {
            "colorbar": {
             "outlinewidth": 0,
             "ticks": ""
            },
            "colorscale": [
             [
              0,
              "#0d0887"
             ],
             [
              0.1111111111111111,
              "#46039f"
             ],
             [
              0.2222222222222222,
              "#7201a8"
             ],
             [
              0.3333333333333333,
              "#9c179e"
             ],
             [
              0.4444444444444444,
              "#bd3786"
             ],
             [
              0.5555555555555556,
              "#d8576b"
             ],
             [
              0.6666666666666666,
              "#ed7953"
             ],
             [
              0.7777777777777778,
              "#fb9f3a"
             ],
             [
              0.8888888888888888,
              "#fdca26"
             ],
             [
              1,
              "#f0f921"
             ]
            ],
            "type": "contour"
           }
          ],
          "contourcarpet": [
           {
            "colorbar": {
             "outlinewidth": 0,
             "ticks": ""
            },
            "type": "contourcarpet"
           }
          ],
          "heatmap": [
           {
            "colorbar": {
             "outlinewidth": 0,
             "ticks": ""
            },
            "colorscale": [
             [
              0,
              "#0d0887"
             ],
             [
              0.1111111111111111,
              "#46039f"
             ],
             [
              0.2222222222222222,
              "#7201a8"
             ],
             [
              0.3333333333333333,
              "#9c179e"
             ],
             [
              0.4444444444444444,
              "#bd3786"
             ],
             [
              0.5555555555555556,
              "#d8576b"
             ],
             [
              0.6666666666666666,
              "#ed7953"
             ],
             [
              0.7777777777777778,
              "#fb9f3a"
             ],
             [
              0.8888888888888888,
              "#fdca26"
             ],
             [
              1,
              "#f0f921"
             ]
            ],
            "type": "heatmap"
           }
          ],
          "heatmapgl": [
           {
            "colorbar": {
             "outlinewidth": 0,
             "ticks": ""
            },
            "colorscale": [
             [
              0,
              "#0d0887"
             ],
             [
              0.1111111111111111,
              "#46039f"
             ],
             [
              0.2222222222222222,
              "#7201a8"
             ],
             [
              0.3333333333333333,
              "#9c179e"
             ],
             [
              0.4444444444444444,
              "#bd3786"
             ],
             [
              0.5555555555555556,
              "#d8576b"
             ],
             [
              0.6666666666666666,
              "#ed7953"
             ],
             [
              0.7777777777777778,
              "#fb9f3a"
             ],
             [
              0.8888888888888888,
              "#fdca26"
             ],
             [
              1,
              "#f0f921"
             ]
            ],
            "type": "heatmapgl"
           }
          ],
          "histogram": [
           {
            "marker": {
             "pattern": {
              "fillmode": "overlay",
              "size": 10,
              "solidity": 0.2
             }
            },
            "type": "histogram"
           }
          ],
          "histogram2d": [
           {
            "colorbar": {
             "outlinewidth": 0,
             "ticks": ""
            },
            "colorscale": [
             [
              0,
              "#0d0887"
             ],
             [
              0.1111111111111111,
              "#46039f"
             ],
             [
              0.2222222222222222,
              "#7201a8"
             ],
             [
              0.3333333333333333,
              "#9c179e"
             ],
             [
              0.4444444444444444,
              "#bd3786"
             ],
             [
              0.5555555555555556,
              "#d8576b"
             ],
             [
              0.6666666666666666,
              "#ed7953"
             ],
             [
              0.7777777777777778,
              "#fb9f3a"
             ],
             [
              0.8888888888888888,
              "#fdca26"
             ],
             [
              1,
              "#f0f921"
             ]
            ],
            "type": "histogram2d"
           }
          ],
          "histogram2dcontour": [
           {
            "colorbar": {
             "outlinewidth": 0,
             "ticks": ""
            },
            "colorscale": [
             [
              0,
              "#0d0887"
             ],
             [
              0.1111111111111111,
              "#46039f"
             ],
             [
              0.2222222222222222,
              "#7201a8"
             ],
             [
              0.3333333333333333,
              "#9c179e"
             ],
             [
              0.4444444444444444,
              "#bd3786"
             ],
             [
              0.5555555555555556,
              "#d8576b"
             ],
             [
              0.6666666666666666,
              "#ed7953"
             ],
             [
              0.7777777777777778,
              "#fb9f3a"
             ],
             [
              0.8888888888888888,
              "#fdca26"
             ],
             [
              1,
              "#f0f921"
             ]
            ],
            "type": "histogram2dcontour"
           }
          ],
          "mesh3d": [
           {
            "colorbar": {
             "outlinewidth": 0,
             "ticks": ""
            },
            "type": "mesh3d"
           }
          ],
          "parcoords": [
           {
            "line": {
             "colorbar": {
              "outlinewidth": 0,
              "ticks": ""
             }
            },
            "type": "parcoords"
           }
          ],
          "pie": [
           {
            "automargin": true,
            "type": "pie"
           }
          ],
          "scatter": [
           {
            "fillpattern": {
             "fillmode": "overlay",
             "size": 10,
             "solidity": 0.2
            },
            "type": "scatter"
           }
          ],
          "scatter3d": [
           {
            "line": {
             "colorbar": {
              "outlinewidth": 0,
              "ticks": ""
             }
            },
            "marker": {
             "colorbar": {
              "outlinewidth": 0,
              "ticks": ""
             }
            },
            "type": "scatter3d"
           }
          ],
          "scattercarpet": [
           {
            "marker": {
             "colorbar": {
              "outlinewidth": 0,
              "ticks": ""
             }
            },
            "type": "scattercarpet"
           }
          ],
          "scattergeo": [
           {
            "marker": {
             "colorbar": {
              "outlinewidth": 0,
              "ticks": ""
             }
            },
            "type": "scattergeo"
           }
          ],
          "scattergl": [
           {
            "marker": {
             "colorbar": {
              "outlinewidth": 0,
              "ticks": ""
             }
            },
            "type": "scattergl"
           }
          ],
          "scattermapbox": [
           {
            "marker": {
             "colorbar": {
              "outlinewidth": 0,
              "ticks": ""
             }
            },
            "type": "scattermapbox"
           }
          ],
          "scatterpolar": [
           {
            "marker": {
             "colorbar": {
              "outlinewidth": 0,
              "ticks": ""
             }
            },
            "type": "scatterpolar"
           }
          ],
          "scatterpolargl": [
           {
            "marker": {
             "colorbar": {
              "outlinewidth": 0,
              "ticks": ""
             }
            },
            "type": "scatterpolargl"
           }
          ],
          "scatterternary": [
           {
            "marker": {
             "colorbar": {
              "outlinewidth": 0,
              "ticks": ""
             }
            },
            "type": "scatterternary"
           }
          ],
          "surface": [
           {
            "colorbar": {
             "outlinewidth": 0,
             "ticks": ""
            },
            "colorscale": [
             [
              0,
              "#0d0887"
             ],
             [
              0.1111111111111111,
              "#46039f"
             ],
             [
              0.2222222222222222,
              "#7201a8"
             ],
             [
              0.3333333333333333,
              "#9c179e"
             ],
             [
              0.4444444444444444,
              "#bd3786"
             ],
             [
              0.5555555555555556,
              "#d8576b"
             ],
             [
              0.6666666666666666,
              "#ed7953"
             ],
             [
              0.7777777777777778,
              "#fb9f3a"
             ],
             [
              0.8888888888888888,
              "#fdca26"
             ],
             [
              1,
              "#f0f921"
             ]
            ],
            "type": "surface"
           }
          ],
          "table": [
           {
            "cells": {
             "fill": {
              "color": "#EBF0F8"
             },
             "line": {
              "color": "white"
             }
            },
            "header": {
             "fill": {
              "color": "#C8D4E3"
             },
             "line": {
              "color": "white"
             }
            },
            "type": "table"
           }
          ]
         },
         "layout": {
          "annotationdefaults": {
           "arrowcolor": "#2a3f5f",
           "arrowhead": 0,
           "arrowwidth": 1
          },
          "autotypenumbers": "strict",
          "coloraxis": {
           "colorbar": {
            "outlinewidth": 0,
            "ticks": ""
           }
          },
          "colorscale": {
           "diverging": [
            [
             0,
             "#8e0152"
            ],
            [
             0.1,
             "#c51b7d"
            ],
            [
             0.2,
             "#de77ae"
            ],
            [
             0.3,
             "#f1b6da"
            ],
            [
             0.4,
             "#fde0ef"
            ],
            [
             0.5,
             "#f7f7f7"
            ],
            [
             0.6,
             "#e6f5d0"
            ],
            [
             0.7,
             "#b8e186"
            ],
            [
             0.8,
             "#7fbc41"
            ],
            [
             0.9,
             "#4d9221"
            ],
            [
             1,
             "#276419"
            ]
           ],
           "sequential": [
            [
             0,
             "#0d0887"
            ],
            [
             0.1111111111111111,
             "#46039f"
            ],
            [
             0.2222222222222222,
             "#7201a8"
            ],
            [
             0.3333333333333333,
             "#9c179e"
            ],
            [
             0.4444444444444444,
             "#bd3786"
            ],
            [
             0.5555555555555556,
             "#d8576b"
            ],
            [
             0.6666666666666666,
             "#ed7953"
            ],
            [
             0.7777777777777778,
             "#fb9f3a"
            ],
            [
             0.8888888888888888,
             "#fdca26"
            ],
            [
             1,
             "#f0f921"
            ]
           ],
           "sequentialminus": [
            [
             0,
             "#0d0887"
            ],
            [
             0.1111111111111111,
             "#46039f"
            ],
            [
             0.2222222222222222,
             "#7201a8"
            ],
            [
             0.3333333333333333,
             "#9c179e"
            ],
            [
             0.4444444444444444,
             "#bd3786"
            ],
            [
             0.5555555555555556,
             "#d8576b"
            ],
            [
             0.6666666666666666,
             "#ed7953"
            ],
            [
             0.7777777777777778,
             "#fb9f3a"
            ],
            [
             0.8888888888888888,
             "#fdca26"
            ],
            [
             1,
             "#f0f921"
            ]
           ]
          },
          "colorway": [
           "#636efa",
           "#EF553B",
           "#00cc96",
           "#ab63fa",
           "#FFA15A",
           "#19d3f3",
           "#FF6692",
           "#B6E880",
           "#FF97FF",
           "#FECB52"
          ],
          "font": {
           "color": "#2a3f5f"
          },
          "geo": {
           "bgcolor": "white",
           "lakecolor": "white",
           "landcolor": "#E5ECF6",
           "showlakes": true,
           "showland": true,
           "subunitcolor": "white"
          },
          "hoverlabel": {
           "align": "left"
          },
          "hovermode": "closest",
          "mapbox": {
           "style": "light"
          },
          "paper_bgcolor": "white",
          "plot_bgcolor": "#E5ECF6",
          "polar": {
           "angularaxis": {
            "gridcolor": "white",
            "linecolor": "white",
            "ticks": ""
           },
           "bgcolor": "#E5ECF6",
           "radialaxis": {
            "gridcolor": "white",
            "linecolor": "white",
            "ticks": ""
           }
          },
          "scene": {
           "xaxis": {
            "backgroundcolor": "#E5ECF6",
            "gridcolor": "white",
            "gridwidth": 2,
            "linecolor": "white",
            "showbackground": true,
            "ticks": "",
            "zerolinecolor": "white"
           },
           "yaxis": {
            "backgroundcolor": "#E5ECF6",
            "gridcolor": "white",
            "gridwidth": 2,
            "linecolor": "white",
            "showbackground": true,
            "ticks": "",
            "zerolinecolor": "white"
           },
           "zaxis": {
            "backgroundcolor": "#E5ECF6",
            "gridcolor": "white",
            "gridwidth": 2,
            "linecolor": "white",
            "showbackground": true,
            "ticks": "",
            "zerolinecolor": "white"
           }
          },
          "shapedefaults": {
           "line": {
            "color": "#2a3f5f"
           }
          },
          "ternary": {
           "aaxis": {
            "gridcolor": "white",
            "linecolor": "white",
            "ticks": ""
           },
           "baxis": {
            "gridcolor": "white",
            "linecolor": "white",
            "ticks": ""
           },
           "bgcolor": "#E5ECF6",
           "caxis": {
            "gridcolor": "white",
            "linecolor": "white",
            "ticks": ""
           }
          },
          "title": {
           "x": 0.05
          },
          "xaxis": {
           "automargin": true,
           "gridcolor": "white",
           "linecolor": "white",
           "ticks": "",
           "title": {
            "standoff": 15
           },
           "zerolinecolor": "white",
           "zerolinewidth": 2
          },
          "yaxis": {
           "automargin": true,
           "gridcolor": "white",
           "linecolor": "white",
           "ticks": "",
           "title": {
            "standoff": 15
           },
           "zerolinecolor": "white",
           "zerolinewidth": 2
          }
         }
        },
        "title": {
         "text": "Pareto-front Plot"
        },
        "xaxis": {
         "autorange": true,
         "range": [
          -0.05139665451491747,
          0.8884278851864306
         ],
         "title": {
          "text": "F_score"
         },
         "type": "linear"
        },
        "yaxis": {
         "autorange": false,
         "range": [
          -0.0004431073936059307,
          0.07032426410790607
         ],
         "title": {
          "text": "time"
         },
         "type": "linear"
        }
       }
      },
      "image/png": "[encoded data removed]",
      "text/html": [
       "<div>                            <div id=\"a21dbb64-92f8-4788-9bf1-6fe32914ce38\" class=\"plotly-graph-div\" style=\"height:525px; width:100%;\"></div>            <script type=\"text/javascript\">                require([\"plotly\"], function(Plotly) {                    window.PLOTLYENV=window.PLOTLYENV || {};                                    if (document.getElementById(\"a21dbb64-92f8-4788-9bf1-6fe32914ce38\")) {                    Plotly.newPlot(                        \"a21dbb64-92f8-4788-9bf1-6fe32914ce38\",                        [{\"hovertemplate\":\"%{text}<extra>Trial</extra>\",\"marker\":{\"color\":[0,1,2,3,4,5,6,7,8,9,10,11,12,13,14,15,16,17,18,19,20,21,22,23,24,25,26,27,28,29,30,31,32,33,34,35,36,37,38,39,40,41,42,43,44,45,46,47,48,49,50,51,52,53,54,55,56,57,58,59,60,61,62,63,64,65,66,67,68,69,70,71,72,73,74,75,76,77,78,79,80,81,83,84,85,86,87,88,89,90,91,92,93,94,95,96,97,98,99,100,101,102,103,104,105,106,107,108,109,110,112,113,114,115,116,117,118,119,120,121,122,123,124,125,126,127,128,129,130,131,132,133,134,135,136,137,138,139,140,141,142,143,144,145,146,147,148,149,150,151,152,153,154,155,156,157,158,159,161,162,163,164,165,166,167,168,169,170,171,172,173,175,176,177,178,179,180,181,182,183,184,185,186,187,188,189,190,191,192,193,194,195,196,197,198,200,201,202,203,204,205,206,207,208,209,210,211,212,213,214,215,216,217,218,219,220,221,222,223,224,225,226,227,228,229,230,232,233,234,235,236,238,239,240,241,242,243,244,245,246,247,248,249],\"colorbar\":{\"title\":{\"text\":\"Trial\"}},\"colorscale\":[[0.0,\"rgb(247,251,255)\"],[0.125,\"rgb(222,235,247)\"],[0.25,\"rgb(198,219,239)\"],[0.375,\"rgb(158,202,225)\"],[0.5,\"rgb(107,174,214)\"],[0.625,\"rgb(66,146,198)\"],[0.75,\"rgb(33,113,181)\"],[0.875,\"rgb(8,81,156)\"],[1.0,\"rgb(8,48,107)\"]],\"line\":{\"color\":\"Grey\",\"width\":0.5}},\"mode\":\"markers\",\"showlegend\":false,\"text\":[\"{<br>  \\\"number\\\": 0,<br>  \\\"values\\\": [<br>    0.5817989852465756,<br>    0.033241300000554475<br>  ],<br>  \\\"params\\\": {<br>    \\\"stft_window_sec\\\": 3.3759093031010337,<br>    \\\"stft_overlap\\\": 0.5394218006684881,<br>    \\\"minSNR\\\": 8.01150296485458,<br>    \\\"stationary_frame_sec\\\": 1586.4794695546345,<br>    \\\"cluster_size_t_sec\\\": 0.265703200837924,<br>    \\\"cluster_distance_t_sec\\\": 0.4128153978517263,<br>    \\\"cluster_size_f_Hz\\\": 13.75433668458173,<br>    \\\"cluster_distance_f_Hz\\\": 19.932503516717816<br>  }<br>}\",\"{<br>  \\\"number\\\": 1,<br>  \\\"values\\\": [<br>    0.6018518507240227,<br>    0.08824796666643427<br>  ],<br>  \\\"params\\\": {<br>    \\\"stft_window_sec\\\": 2.625707235745248,<br>    \\\"stft_overlap\\\": 0.5467773409390144,<br>    \\\"minSNR\\\": 4.112507248612826,<br>    \\\"stationary_frame_sec\\\": 1582.6069881638653,<br>    \\\"cluster_size_t_sec\\\": 1.7365293926743997,<br>    \\\"cluster_distance_t_sec\\\": 2.4872907910045132,<br>    \\\"cluster_size_f_Hz\\\": 35.87582724460454,<br>    \\\"cluster_distance_f_Hz\\\": 24.613166554061237<br>  }<br>}\",\"{<br>  \\\"number\\\": 2,<br>  \\\"values\\\": [<br>    0.43203734449440684,<br>    0.25863333333351574<br>  ],<br>  \\\"params\\\": {<br>    \\\"stft_window_sec\\\": 1.9380220073357783,<br>    \\\"stft_overlap\\\": 0.948218883459435,<br>    \\\"minSNR\\\": 6.024864200248115,<br>    \\\"stationary_frame_sec\\\": 143.2101406689983,<br>    \\\"cluster_size_t_sec\\\": 1.093077917755581,<br>    \\\"cluster_distance_t_sec\\\": 0.01514278775085004,<br>    \\\"cluster_size_f_Hz\\\": 29.080096114387473,<br>    \\\"cluster_distance_f_Hz\\\": 22.354672370001495<br>  }<br>}\",\"{<br>  \\\"number\\\": 3,<br>  \\\"values\\\": [<br>    0.7867980838853144,<br>    0.03491953333195852<br>  ],<br>  \\\"params\\\": {<br>    \\\"stft_window_sec\\\": 3.876044014671557,<br>    \\\"stft_overlap\\\": 0.671906449177992,<br>    \\\"minSNR\\\": 9.945232516304921,<br>    \\\"stationary_frame_sec\\\": 1862.607093604465,<br>    \\\"cluster_size_t_sec\\\": 1.0099363516477107,<br>    \\\"cluster_distance_t_sec\\\": 2.2324611046922738,<br>    \\\"cluster_size_f_Hz\\\": 1.6938856408444392,<br>    \\\"cluster_distance_f_Hz\\\": 7.206411706274651<br>  }<br>}\",\"{<br>  \\\"number\\\": 4,<br>  \\\"values\\\": [<br>    0.43380519850209875,<br>    0.028325466665895267<br>  ],<br>  \\\"params\\\": {<br>    \\\"stft_window_sec\\\": 2.438156718906302,<br>    \\\"stft_overlap\\\": 0.3422343841729652,<br>    \\\"minSNR\\\": 7.205840903537979,<br>    \\\"stationary_frame_sec\\\": 3121.9134378444246,<br>    \\\"cluster_size_t_sec\\\": 3.4091161407127943,<br>    \\\"cluster_distance_t_sec\\\": 0.8419093622177722,<br>    \\\"cluster_size_f_Hz\\\": 14.205334988640567,<br>    \\\"cluster_distance_f_Hz\\\": 3.9451453523930287<br>  }<br>}\",\"{<br>  \\\"number\\\": 5,<br>  \\\"values\\\": [<br>    0.6454613083107359,<br>    0.026859133333042944<br>  ],<br>  \\\"params\\\": {<br>    \\\"stft_window_sec\\\": 0.8127189063021006,<br>    \\\"stft_overlap\\\": 0.5199585018566151,<br>    \\\"minSNR\\\": 5.943360725598856,<br>    \\\"stationary_frame_sec\\\": 917.462668213508,<br>    \\\"cluster_size_t_sec\\\": 1.5190791447174379,<br>    \\\"cluster_distance_t_sec\\\": 1.2235209653348385,<br>    \\\"cluster_size_f_Hz\\\": 14.871626131202415,<br>    \\\"cluster_distance_f_Hz\\\": 0.839950833236347<br>  }<br>}\",\"{<br>  \\\"number\\\": 6,<br>  \\\"values\\\": [<br>    0.0,<br>    0.03396713333374161<br>  ],<br>  \\\"params\\\": {<br>    \\\"stft_window_sec\\\": 4.001077692564188,<br>    \\\"stft_overlap\\\": 0.6485923952636248,<br>    \\\"minSNR\\\": 8.517611766553932,<br>    \\\"stationary_frame_sec\\\": 2403.027160833912,<br>    \\\"cluster_size_t_sec\\\": 2.4961594170823567,<br>    \\\"cluster_distance_t_sec\\\": 0.23919709509608644,<br>    \\\"cluster_size_f_Hz\\\": 38.56178963744952,<br>    \\\"cluster_distance_f_Hz\\\": 10.231796748135787<br>  }<br>}\",\"{<br>  \\\"number\\\": 7,<br>  \\\"values\\\": [<br>    0.0,<br>    0.27580273333296645<br>  ],<br>  \\\"params\\\": {<br>    \\\"stft_window_sec\\\": 1.2503367789263087,<br>    \\\"stft_overlap\\\": 0.927198753678105,<br>    \\\"minSNR\\\": 8.435557466133027,<br>    \\\"stationary_frame_sec\\\": 120.42233570577699,<br>    \\\"cluster_size_t_sec\\\": 4.9511590069911655,<br>    \\\"cluster_distance_t_sec\\\": 0.1932430463542023,<br>    \\\"cluster_size_f_Hz\\\": 14.474734702013825,<br>    \\\"cluster_distance_f_Hz\\\": 5.67793029356033<br>  }<br>}\",\"{<br>  \\\"number\\\": 8,<br>  \\\"values\\\": [<br>    0.2864583329678006,<br>    0.3841953999996501<br>  ],<br>  \\\"params\\\": {<br>    \\\"stft_window_sec\\\": 2.313123041013671,<br>    \\\"stft_overlap\\\": 0.9314990187190835,<br>    \\\"minSNR\\\": 8.310658615764474,<br>    \\\"stationary_frame_sec\\\": 343.935862523677,<br>    \\\"cluster_size_t_sec\\\": 3.1300520264862253,<br>    \\\"cluster_distance_t_sec\\\": 0.726991134501205,<br>    \\\"cluster_size_f_Hz\\\": 3.8957402129013055,<br>    \\\"cluster_distance_f_Hz\\\": 6.648161353707829<br>  }<br>}\",\"{<br>  \\\"number\\\": 9,<br>  \\\"values\\\": [<br>    0.0,<br>    0.02250339999955031<br>  ],<br>  \\\"params\\\": {<br>    \\\"stft_window_sec\\\": 3.56345981993998,<br>    \\\"stft_overlap\\\": 0.2566217823942133,<br>    \\\"minSNR\\\": 7.7404598317091,<br>    \\\"stationary_frame_sec\\\": 1727.0210570954835,<br>    \\\"cluster_size_t_sec\\\": 4.782797936727424,<br>    \\\"cluster_distance_t_sec\\\": 1.9173828505573294,<br>    \\\"cluster_size_f_Hz\\\": 49.55030685351524,<br>    \\\"cluster_distance_f_Hz\\\": 16.95193687514681<br>  }<br>}\",\"{<br>  \\\"number\\\": 10,<br>  \\\"values\\\": [<br>    0.6111111099830248,<br>    0.17779246666699086<br>  ],<br>  \\\"params\\\": {<br>    \\\"stft_window_sec\\\": 0.7502020673557852,<br>    \\\"stft_overlap\\\": 0.33571795942737104,<br>    \\\"minSNR\\\": 3.3206928827360174,<br>    \\\"stationary_frame_sec\\\": 433.4806131458767,<br>    \\\"cluster_size_t_sec\\\": 4.299497363206001,<br>    \\\"cluster_distance_t_sec\\\": 1.8866495502517675,<br>    \\\"cluster_size_f_Hz\\\": 13.557998272533778,<br>    \\\"cluster_distance_f_Hz\\\": 18.08774036217993<br>  }<br>}\",\"{<br>  \\\"number\\\": 11,<br>  \\\"values\\\": [<br>    0.16666666625833335,<br>    0.30076620000030135<br>  ],<br>  \\\"params\\\": {<br>    \\\"stft_window_sec\\\": 3.6884934978326105,<br>    \\\"stft_overlap\\\": 0.9484718045840237,<br>    \\\"minSNR\\\": 6.832943896905032,<br>    \\\"stationary_frame_sec\\\": 411.2118503181187,<br>    \\\"cluster_size_t_sec\\\": 4.862728013679986,<br>    \\\"cluster_distance_t_sec\\\": 0.27330464885534894,<br>    \\\"cluster_size_f_Hz\\\": 27.33163208473437,<br>    \\\"cluster_distance_f_Hz\\\": 8.388802888111943<br>  }<br>}\",\"{<br>  \\\"number\\\": 12,<br>  \\\"values\\\": [<br>    0.12622720817574604,<br>    0.02659623333268731<br>  ],<br>  \\\"params\\\": {<br>    \\\"stft_window_sec\\\": 3.751010336778926,<br>    \\\"stft_overlap\\\": 0.45697149085161,<br>    \\\"minSNR\\\": 6.3792839510290325,<br>    \\\"stationary_frame_sec\\\": 1113.1180757938473,<br>    \\\"cluster_size_t_sec\\\": 4.109173441328562,<br>    \\\"cluster_distance_t_sec\\\": 0.6865727452714245,<br>    \\\"cluster_size_f_Hz\\\": 46.591693006467416,<br>    \\\"cluster_distance_f_Hz\\\": 17.890396668164495<br>  }<br>}\",\"{<br>  \\\"number\\\": 13,<br>  \\\"values\\\": [<br>    0.08771929796283472,<br>    0.0654754666657027<br>  ],<br>  \\\"params\\\": {<br>    \\\"stft_window_sec\\\": 0.8752357452484161,<br>    \\\"stft_overlap\\\": 0.8401116696596809,<br>    \\\"minSNR\\\": 9.846637076058183,<br>    \\\"stationary_frame_sec\\\": 252.8852796391696,<br>    \\\"cluster_size_t_sec\\\": 3.0179127461179975,<br>    \\\"cluster_distance_t_sec\\\": 0.19733746937011715,<br>    \\\"cluster_size_f_Hz\\\": 16.281159194172307,<br>    \\\"cluster_distance_f_Hz\\\": 22.920612044016433<br>  }<br>}\",\"{<br>  \\\"number\\\": 14,<br>  \\\"values\\\": [<br>    0.38685679495612013,<br>    0.06927519999923486<br>  ],<br>  \\\"params\\\": {<br>    \\\"stft_window_sec\\\": 3.751010336778926,<br>    \\\"stft_overlap\\\": 0.8087527203835387,<br>    \\\"minSNR\\\": 5.919523808851345,<br>    \\\"stationary_frame_sec\\\": 1611.840340308504,<br>    \\\"cluster_size_t_sec\\\": 1.0569425275459021,<br>    \\\"cluster_distance_t_sec\\\": 2.2585367127215337,<br>    \\\"cluster_size_f_Hz\\\": 39.65926786960793,<br>    \\\"cluster_distance_f_Hz\\\": 18.11299145687676<br>  }<br>}\",\"{<br>  \\\"number\\\": 15,<br>  \\\"values\\\": [<br>    0.0,<br>    0.09405273333292523<br>  ],<br>  \\\"params\\\": {<br>    \\\"stft_window_sec\\\": 2.18808936312104,<br>    \\\"stft_overlap\\\": 0.7878833355129888,<br>    \\\"minSNR\\\": 7.409865063412624,<br>    \\\"stationary_frame_sec\\\": 665.2677468048253,<br>    \\\"cluster_size_t_sec\\\": 3.167544507389379,<br>    \\\"cluster_distance_t_sec\\\": 2.005633272092475,<br>    \\\"cluster_size_f_Hz\\\": 46.93234750343442,<br>    \\\"cluster_distance_f_Hz\\\": 7.173052191945356<br>  }<br>}\",\"{<br>  \\\"number\\\": 16,<br>  \\\"values\\\": [<br>    0.04901960766652249,<br>    0.03298343333305335<br>  ],<br>  \\\"params\\\": {<br>    \\\"stft_window_sec\\\": 1.562920973657886,<br>    \\\"stft_overlap\\\": 0.6130776995159297,<br>    \\\"minSNR\\\": 9.194267919992086,<br>    \\\"stationary_frame_sec\\\": 1047.3059589168718,<br>    \\\"cluster_size_t_sec\\\": 0.5739941405211485,<br>    \\\"cluster_distance_t_sec\\\": 0.38586765632326686,<br>    \\\"cluster_size_f_Hz\\\": 32.45485086979685,<br>    \\\"cluster_distance_f_Hz\\\": 11.224314259182819<br>  }<br>}\",\"{<br>  \\\"number\\\": 17,<br>  \\\"values\\\": [<br>    0.0,<br>    0.07909313333281413<br>  ],<br>  \\\"params\\\": {<br>    \\\"stft_window_sec\\\": 0.6876852284094698,<br>    \\\"stft_overlap\\\": 0.826757469816221,<br>    \\\"minSNR\\\": 9.799617914933858,<br>    \\\"stationary_frame_sec\\\": 239.57496856702826,<br>    \\\"cluster_size_t_sec\\\": 4.827322506942269,<br>    \\\"cluster_distance_t_sec\\\": 1.0276781559000625,<br>    \\\"cluster_size_f_Hz\\\": 46.68538500431774,<br>    \\\"cluster_distance_f_Hz\\\": 20.897712215762073<br>  }<br>}\",\"{<br>  \\\"number\\\": 18,<br>  \\\"values\\\": [<br>    0.30871212051423685,<br>    0.026373699999870343<br>  ],<br>  \\\"params\\\": {<br>    \\\"stft_window_sec\\\": 2.3756398799599867,<br>    \\\"stft_overlap\\\": 0.23059991348967374,<br>    \\\"minSNR\\\": 9.482136380383508,<br>    \\\"stationary_frame_sec\\\": 899.0258256840966,<br>    \\\"cluster_size_t_sec\\\": 3.583549986067254,<br>    \\\"cluster_distance_t_sec\\\": 2.483517492821192,<br>    \\\"cluster_size_f_Hz\\\": 1.8007943078329813,<br>    \\\"cluster_distance_f_Hz\\\": 11.442117185454412<br>  }<br>}\",\"{<br>  \\\"number\\\": 19,<br>  \\\"values\\\": [<br>    0.33340347863160685,<br>    0.19039800000033816<br>  ],<br>  \\\"params\\\": {<br>    \\\"stft_window_sec\\\": 2.3756398799599867,<br>    \\\"stft_overlap\\\": 0.8691691702002315,<br>    \\\"minSNR\\\": 5.236279374085884,<br>    \\\"stationary_frame_sec\\\": 621.5073713214634,<br>    \\\"cluster_size_t_sec\\\": 1.4927956131235791,<br>    \\\"cluster_distance_t_sec\\\": 0.06885407495935136,<br>    \\\"cluster_size_f_Hz\\\": 15.197929948685573,<br>    \\\"cluster_distance_f_Hz\\\": 15.51360881596548<br>  }<br>}\",\"{<br>  \\\"number\\\": 20,<br>  \\\"values\\\": [<br>    0.25331439341787126,<br>    0.07033590000022134<br>  ],<br>  \\\"params\\\": {<br>    \\\"stft_window_sec\\\": 1.1878199399799931,<br>    \\\"stft_overlap\\\": 0.7591767988328777,<br>    \\\"minSNR\\\": 7.349854498661106,<br>    \\\"stationary_frame_sec\\\": 166.67374974104933,<br>    \\\"cluster_size_t_sec\\\": 1.1094310931363878,<br>    \\\"cluster_distance_t_sec\\\": 1.5594590076975128,<br>    \\\"cluster_size_f_Hz\\\": 26.592748859093728,<br>    \\\"cluster_distance_f_Hz\\\": 21.21129216514642<br>  }<br>}\",\"{<br>  \\\"number\\\": 21,<br>  \\\"values\\\": [<br>    0.32806131406602795,<br>    0.03800890000032572<br>  ],<br>  \\\"params\\\": {<br>    \\\"stft_window_sec\\\": 3.000808269423141,<br>    \\\"stft_overlap\\\": 0.5939582724774561,<br>    \\\"minSNR\\\": 5.545660611277094,<br>    \\\"stationary_frame_sec\\\": 1916.5041879882397,<br>    \\\"cluster_size_t_sec\\\": 2.5820258912602294,<br>    \\\"cluster_distance_t_sec\\\": 1.5983371024487654,<br>    \\\"cluster_size_f_Hz\\\": 44.58049606720872,<br>    \\\"cluster_distance_f_Hz\\\": 17.604580331127398<br>  }<br>}\",\"{<br>  \\\"number\\\": 22,<br>  \\\"values\\\": [<br>    0.6388888877600309,<br>    0.06945243333363275<br>  ],<br>  \\\"params\\\": {<br>    \\\"stft_window_sec\\\": 3.188358786262087,<br>    \\\"stft_overlap\\\": 0.711996622426708,<br>    \\\"minSNR\\\": 3.6327947714983253,<br>    \\\"stationary_frame_sec\\\": 519.7587817840218,<br>    \\\"cluster_size_t_sec\\\": 1.9550491250671787,<br>    \\\"cluster_distance_t_sec\\\": 0.28795346715717596,<br>    \\\"cluster_size_f_Hz\\\": 4.907776131767921,<br>    \\\"cluster_distance_f_Hz\\\": 5.0654212903738784<br>  }<br>}\",\"{<br>  \\\"number\\\": 23,<br>  \\\"values\\\": [<br>    0.14492753584593573,<br>    0.0250765000003715<br>  ],<br>  \\\"params\\\": {<br>    \\\"stft_window_sec\\\": 2.9382914304768253,<br>    \\\"stft_overlap\\\": 0.218870387919705,<br>    \\\"minSNR\\\": 5.9763518224754,<br>    \\\"stationary_frame_sec\\\": 3643.139673012917,<br>    \\\"cluster_size_t_sec\\\": 0.01184204818295731,<br>    \\\"cluster_distance_t_sec\\\": 1.7329187230651624,<br>    \\\"cluster_size_f_Hz\\\": 26.17407029741753,<br>    \\\"cluster_distance_f_Hz\\\": 0.5835302365610834<br>  }<br>}\",\"{<br>  \\\"number\\\": 24,<br>  \\\"values\\\": [<br>    0.4320423811910297,<br>    0.026746466667039687<br>  ],<br>  \\\"params\\\": {<br>    \\\"stft_window_sec\\\": 3.4384261420473488,<br>    \\\"stft_overlap\\\": 0.34984706450827197,<br>    \\\"minSNR\\\": 4.194752475243824,<br>    \\\"stationary_frame_sec\\\": 5217.894328544398,<br>    \\\"cluster_size_t_sec\\\": 0.09998515866690205,<br>    \\\"cluster_distance_t_sec\\\": 0.7243374882698137,<br>    \\\"cluster_size_f_Hz\\\": 17.030393440096525,<br>    \\\"cluster_distance_f_Hz\\\": 0.463955515963807<br>  }<br>}\",\"{<br>  \\\"number\\\": 25,<br>  \\\"values\\\": [<br>    0.564510510506863,<br>    0.023720133332972182<br>  ],<br>  \\\"params\\\": {<br>    \\\"stft_window_sec\\\": 3.5009429809936643,<br>    \\\"stft_overlap\\\": 0.3268429332917654,<br>    \\\"minSNR\\\": 7.944369669916369,<br>    \\\"stationary_frame_sec\\\": 3708.428482761764,<br>    \\\"cluster_size_t_sec\\\": 1.5377327740606055,<br>    \\\"cluster_distance_t_sec\\\": 1.8711765749974374,<br>    \\\"cluster_size_f_Hz\\\": 6.38439260131527,<br>    \\\"cluster_distance_f_Hz\\\": 20.20082217742991<br>  }<br>}\",\"{<br>  \\\"number\\\": 26,<br>  \\\"values\\\": [<br>    0.20114942486251486,<br>    0.02689130000029157<br>  ],<br>  \\\"params\\\": {<br>    \\\"stft_window_sec\\\": 1.875505168389463,<br>    \\\"stft_overlap\\\": 0.5406530566868346,<br>    \\\"minSNR\\\": 9.945638779233771,<br>    \\\"stationary_frame_sec\\\": 1817.362170444364,<br>    \\\"cluster_size_t_sec\\\": 2.4765322832020904,<br>    \\\"cluster_distance_t_sec\\\": 0.02518145362582519,<br>    \\\"cluster_size_f_Hz\\\": 24.679789054810886,<br>    \\\"cluster_distance_f_Hz\\\": 3.02636390263788<br>  }<br>}\",\"{<br>  \\\"number\\\": 27,<br>  \\\"values\\\": [<br>    0.6111111099830248,<br>    0.20777383333431013<br>  ],<br>  \\\"params\\\": {<br>    \\\"stft_window_sec\\\": 1.0627862620873625,<br>    \\\"stft_overlap\\\": 0.5019369799849662,<br>    \\\"minSNR\\\": 3.7032737611478383,<br>    \\\"stationary_frame_sec\\\": 955.3196896838926,<br>    \\\"cluster_size_t_sec\\\": 2.308084711378078,<br>    \\\"cluster_distance_t_sec\\\": 2.4085819152706174,<br>    \\\"cluster_size_f_Hz\\\": 48.78352808143787,<br>    \\\"cluster_distance_f_Hz\\\": 23.53563499971093<br>  }<br>}\",\"{<br>  \\\"number\\\": 28,<br>  \\\"values\\\": [<br>    0.20833333290798617,<br>    0.07573953333303507<br>  ],<br>  \\\"params\\\": {<br>    \\\"stft_window_sec\\\": 1.875505168389463,<br>    \\\"stft_overlap\\\": 0.8617354619365356,<br>    \\\"minSNR\\\": 7.4422942188788905,<br>    \\\"stationary_frame_sec\\\": 573.5056922022668,<br>    \\\"cluster_size_t_sec\\\": 3.42188830689959,<br>    \\\"cluster_distance_t_sec\\\": 0.4409865412825653,<br>    \\\"cluster_size_f_Hz\\\": 24.396534949004195,<br>    \\\"cluster_distance_f_Hz\\\": 12.196075561708225<br>  }<br>}\",\"{<br>  \\\"number\\\": 29,<br>  \\\"values\\\": [<br>    0.38564687620922183,<br>    0.06176016666631767<br>  ],<br>  \\\"params\\\": {<br>    \\\"stft_window_sec\\\": 2.2506062020673556,<br>    \\\"stft_overlap\\\": 0.6955683641965946,<br>    \\\"minSNR\\\": 6.56567332072137,<br>    \\\"stationary_frame_sec\\\": 1660.750541185058,<br>    \\\"cluster_size_t_sec\\\": 0.3668904341867668,<br>    \\\"cluster_distance_t_sec\\\": 0.9046179156479045,<br>    \\\"cluster_size_f_Hz\\\": 15.857571992738995,<br>    \\\"cluster_distance_f_Hz\\\": 24.54555885371735<br>  }<br>}\",\"{<br>  \\\"number\\\": 30,<br>  \\\"values\\\": [<br>    0.6018518507240227,<br>    0.17260113333365248<br>  ],<br>  \\\"params\\\": {<br>    \\\"stft_window_sec\\\": 4.001077692564188,<br>    \\\"stft_overlap\\\": 0.9047440061992273,<br>    \\\"minSNR\\\": 4.575375653140355,<br>    \\\"stationary_frame_sec\\\": 296.5736326105447,<br>    \\\"cluster_size_t_sec\\\": 4.113826959210135,<br>    \\\"cluster_distance_t_sec\\\": 0.7122668237072718,<br>    \\\"cluster_size_f_Hz\\\": 1.1765727272791127,<br>    \\\"cluster_distance_f_Hz\\\": 17.854386383223613<br>  }<br>}\",\"{<br>  \\\"number\\\": 31,<br>  \\\"values\\\": [<br>    0.5092592581340021,<br>    0.04040179999992688<br>  ],<br>  \\\"params\\\": {<br>    \\\"stft_window_sec\\\": 2.0630556852284094,<br>    \\\"stft_overlap\\\": 0.22659714762458721,<br>    \\\"minSNR\\\": 3.777135596567389,<br>    \\\"stationary_frame_sec\\\": 1314.8559860854382,<br>    \\\"cluster_size_t_sec\\\": 2.619753354706369,<br>    \\\"cluster_distance_t_sec\\\": 1.740512220731897,<br>    \\\"cluster_size_f_Hz\\\": 36.99859772392861,<br>    \\\"cluster_distance_f_Hz\\\": 3.1825176512072284<br>  }<br>}\",\"{<br>  \\\"number\\\": 32,<br>  \\\"values\\\": [<br>    0.0,<br>    0.11466426666599243<br>  ],<br>  \\\"params\\\": {<br>    \\\"stft_window_sec\\\": 2.0630556852284094,<br>    \\\"stft_overlap\\\": 0.820208422620083,<br>    \\\"minSNR\\\": 8.930922359780695,<br>    \\\"stationary_frame_sec\\\": 592.1008283385156,<br>    \\\"cluster_size_t_sec\\\": 2.8684440896652594,<br>    \\\"cluster_distance_t_sec\\\": 0.23096093429098769,<br>    \\\"cluster_size_f_Hz\\\": 47.23752185044307,<br>    \\\"cluster_distance_f_Hz\\\": 23.241214275075638<br>  }<br>}\",\"{<br>  \\\"number\\\": 33,<br>  \\\"values\\\": [<br>    0.5555555544290124,<br>    0.03965210000023944<br>  ],<br>  \\\"params\\\": {<br>    \\\"stft_window_sec\\\": 3.8135271757252416,<br>    \\\"stft_overlap\\\": 0.6730490755811079,<br>    \\\"minSNR\\\": 4.685514225399124,<br>    \\\"stationary_frame_sec\\\": 3106.7632650121936,<br>    \\\"cluster_size_t_sec\\\": 3.1212755660743206,<br>    \\\"cluster_distance_t_sec\\\": 2.3627976125021286,<br>    \\\"cluster_size_f_Hz\\\": 2.489625008727203,<br>    \\\"cluster_distance_f_Hz\\\": 6.839561258675627<br>  }<br>}\",\"{<br>  \\\"number\\\": 34,<br>  \\\"values\\\": [<br>    0.42592592480298347,<br>    0.5770307333335344<br>  ],<br>  \\\"params\\\": {<br>    \\\"stft_window_sec\\\": 1.2503367789263087,<br>    \\\"stft_overlap\\\": 0.9465783410416284,<br>    \\\"minSNR\\\": 3.614218340426715,<br>    \\\"stationary_frame_sec\\\": 146.41236947873207,<br>    \\\"cluster_size_t_sec\\\": 3.0027513057774486,<br>    \\\"cluster_distance_t_sec\\\": 0.9906919163935592,<br>    \\\"cluster_size_f_Hz\\\": 41.281079737418494,<br>    \\\"cluster_distance_f_Hz\\\": 1.3511065580251391<br>  }<br>}\",\"{<br>  \\\"number\\\": 35,<br>  \\\"values\\\": [<br>    0.3894954281900957,<br>    0.06968563333339262<br>  ],<br>  \\\"params\\\": {<br>    \\\"stft_window_sec\\\": 3.751010336778926,<br>    \\\"stft_overlap\\\": 0.8310949256936717,<br>    \\\"minSNR\\\": 5.642254892877002,<br>    \\\"stationary_frame_sec\\\": 255.76918528050177,<br>    \\\"cluster_size_t_sec\\\": 3.4109293233707065,<br>    \\\"cluster_distance_t_sec\\\": 1.5906988775190345,<br>    \\\"cluster_size_f_Hz\\\": 8.575345753099123,<br>    \\\"cluster_distance_f_Hz\\\": 7.5042790006611595<br>  }<br>}\",\"{<br>  \\\"number\\\": 36,<br>  \\\"values\\\": [<br>    0.2150537630159556,<br>    0.10546213333327614<br>  ],<br>  \\\"params\\\": {<br>    \\\"stft_window_sec\\\": 3.313392464154718,<br>    \\\"stft_overlap\\\": 0.8626512359215259,<br>    \\\"minSNR\\\": 9.299727387189515,<br>    \\\"stationary_frame_sec\\\": 218.9789558423826,<br>    \\\"cluster_size_t_sec\\\": 2.2212865217442164,<br>    \\\"cluster_distance_t_sec\\\": 1.9075907646091266,<br>    \\\"cluster_size_f_Hz\\\": 24.855962462934478,<br>    \\\"cluster_distance_f_Hz\\\": 15.069000054199295<br>  }<br>}\",\"{<br>  \\\"number\\\": 37,<br>  \\\"values\\\": [<br>    0.4203869038467844,<br>    0.05251116666780339<br>  ],<br>  \\\"params\\\": {<br>    \\\"stft_window_sec\\\": 4.001077692564188,<br>    \\\"stft_overlap\\\": 0.7845791380464613,<br>    \\\"minSNR\\\": 9.55944286778014,<br>    \\\"stationary_frame_sec\\\": 1605.4348751699847,<br>    \\\"cluster_size_t_sec\\\": 0.8562810344538807,<br>    \\\"cluster_distance_t_sec\\\": 0.9625942985361982,<br>    \\\"cluster_size_f_Hz\\\": 16.656611206785243,<br>    \\\"cluster_distance_f_Hz\\\": 4.441307653593663<br>  }<br>}\",\"{<br>  \\\"number\\\": 38,<br>  \\\"values\\\": [<br>    0.41049060127274156,<br>    0.06240396666665523<br>  ],<br>  \\\"params\\\": {<br>    \\\"stft_window_sec\\\": 3.8135271757252416,<br>    \\\"stft_overlap\\\": 0.7914588960387405,<br>    \\\"minSNR\\\": 5.894313374559669,<br>    \\\"stationary_frame_sec\\\": 1863.5260699505438,<br>    \\\"cluster_size_t_sec\\\": 3.57078624238106,<br>    \\\"cluster_distance_t_sec\\\": 1.7260557479012877,<br>    \\\"cluster_size_f_Hz\\\": 33.93371682400692,<br>    \\\"cluster_distance_f_Hz\\\": 20.10442505223245<br>  }<br>}\",\"{<br>  \\\"number\\\": 39,<br>  \\\"values\\\": [<br>    0.5555555544290124,<br>    0.05494679999992513<br>  ],<br>  \\\"params\\\": {<br>    \\\"stft_window_sec\\\": 3.751010336778926,<br>    \\\"stft_overlap\\\": 0.7753385818256562,<br>    \\\"minSNR\\\": 4.852668937283667,<br>    \\\"stationary_frame_sec\\\": 446.5141272207784,<br>    \\\"cluster_size_t_sec\\\": 4.0550597537353825,<br>    \\\"cluster_distance_t_sec\\\": 1.8715225623490865,<br>    \\\"cluster_size_f_Hz\\\": 35.95487076758895,<br>    \\\"cluster_distance_f_Hz\\\": 8.244230383644538<br>  }<br>}\",\"{<br>  \\\"number\\\": 40,<br>  \\\"values\\\": [<br>    0.5925925914650206,<br>    0.03572226666680459<br>  ],<br>  \\\"params\\\": {<br>    \\\"stft_window_sec\\\": 0.7502020673557852,<br>    \\\"stft_overlap\\\": 0.29392356313765744,<br>    \\\"minSNR\\\": 3.902952824699919,<br>    \\\"stationary_frame_sec\\\": 1011.2880300281406,<br>    \\\"cluster_size_t_sec\\\": 1.259537526336073,<br>    \\\"cluster_distance_t_sec\\\": 0.982412614226722,<br>    \\\"cluster_size_f_Hz\\\": 26.872383524753197,<br>    \\\"cluster_distance_f_Hz\\\": 22.304078597872266<br>  }<br>}\",\"{<br>  \\\"number\\\": 41,<br>  \\\"values\\\": [<br>    0.0,<br>    0.03874443333309804<br>  ],<br>  \\\"params\\\": {<br>    \\\"stft_window_sec\\\": 3.8135271757252416,<br>    \\\"stft_overlap\\\": 0.6978265976413904,<br>    \\\"minSNR\\\": 8.510852698064983,<br>    \\\"stationary_frame_sec\\\": 2350.61671271799,<br>    \\\"cluster_size_t_sec\\\": 4.816296954625331,<br>    \\\"cluster_distance_t_sec\\\": 0.7862137357863432,<br>    \\\"cluster_size_f_Hz\\\": 45.23252862120107,<br>    \\\"cluster_distance_f_Hz\\\": 10.839029098017045<br>  }<br>}\",\"{<br>  \\\"number\\\": 42,<br>  \\\"values\\\": [<br>    0.7563018188896112,<br>    0.1764216000004429<br>  ],<br>  \\\"params\\\": {<br>    \\\"stft_window_sec\\\": 1.6879546515505166,<br>    \\\"stft_overlap\\\": 0.9204997298496989,<br>    \\\"minSNR\\\": 8.697776667712489,<br>    \\\"stationary_frame_sec\\\": 91.0725966708817,<br>    \\\"cluster_size_t_sec\\\": 0.06493215724680423,<br>    \\\"cluster_distance_t_sec\\\": 0.6932536058798339,<br>    \\\"cluster_size_f_Hz\\\": 9.520733077812931,<br>    \\\"cluster_distance_f_Hz\\\": 4.834992824034131<br>  }<br>}\",\"{<br>  \\\"number\\\": 43,<br>  \\\"values\\\": [<br>    0.34722222160783184,<br>    0.15948349999992692<br>  ],<br>  \\\"params\\\": {<br>    \\\"stft_window_sec\\\": 1.1878199399799931,<br>    \\\"stft_overlap\\\": 0.8738286498390526,<br>    \\\"minSNR\\\": 5.602244305404777,<br>    \\\"stationary_frame_sec\\\": 224.17833038279977,<br>    \\\"cluster_size_t_sec\\\": 3.632254614376498,<br>    \\\"cluster_distance_t_sec\\\": 0.5708227273362698,<br>    \\\"cluster_size_f_Hz\\\": 12.067896028930969,<br>    \\\"cluster_distance_f_Hz\\\": 2.549619871631717<br>  }<br>}\",\"{<br>  \\\"number\\\": 44,<br>  \\\"values\\\": [<br>    0.6203703692420268,<br>    0.074701699999423<br>  ],<br>  \\\"params\\\": {<br>    \\\"stft_window_sec\\\": 3.000808269423141,<br>    \\\"stft_overlap\\\": 0.7599405420082965,<br>    \\\"minSNR\\\": 4.8113698786235455,<br>    \\\"stationary_frame_sec\\\": 586.3943403078117,<br>    \\\"cluster_size_t_sec\\\": 4.317397561836195,<br>    \\\"cluster_distance_t_sec\\\": 2.1825523328634513,<br>    \\\"cluster_size_f_Hz\\\": 11.754507763662092,<br>    \\\"cluster_distance_f_Hz\\\": 15.53700460423369<br>  }<br>}\",\"{<br>  \\\"number\\\": 45,<br>  \\\"values\\\": [<br>    0.2642276418816925,<br>    0.05024326666656028<br>  ],<br>  \\\"params\\\": {<br>    \\\"stft_window_sec\\\": 2.6882240746915635,<br>    \\\"stft_overlap\\\": 0.7051379695331212,<br>    \\\"minSNR\\\": 9.848091839703587,<br>    \\\"stationary_frame_sec\\\": 418.8174963506933,<br>    \\\"cluster_size_t_sec\\\": 4.304404671255481,<br>    \\\"cluster_distance_t_sec\\\": 0.7770859536263532,<br>    \\\"cluster_size_f_Hz\\\": 2.7025156543888373,<br>    \\\"cluster_distance_f_Hz\\\": 13.035037237521149<br>  }<br>}\",\"{<br>  \\\"number\\\": 46,<br>  \\\"values\\\": [<br>    0.0,<br>    0.03689163333365286<br>  ],<br>  \\\"params\\\": {<br>    \\\"stft_window_sec\\\": 1.875505168389463,<br>    \\\"stft_overlap\\\": 0.703120052456961,<br>    \\\"minSNR\\\": 8.447899604075827,<br>    \\\"stationary_frame_sec\\\": 672.2619527957762,<br>    \\\"cluster_size_t_sec\\\": 2.562235023547004,<br>    \\\"cluster_distance_t_sec\\\": 2.2346039272003417,<br>    \\\"cluster_size_f_Hz\\\": 41.87437738896394,<br>    \\\"cluster_distance_f_Hz\\\": 19.17164736066919<br>  }<br>}\",\"{<br>  \\\"number\\\": 47,<br>  \\\"values\\\": [<br>    0.46178387256409775,<br>    0.028878200000084082<br>  ],<br>  \\\"params\\\": {<br>    \\\"stft_window_sec\\\": 1.562920973657886,<br>    \\\"stft_overlap\\\": 0.47014262063934453,<br>    \\\"minSNR\\\": 5.1066708953476745,<br>    \\\"stationary_frame_sec\\\": 1667.236588886194,<br>    \\\"cluster_size_t_sec\\\": 0.6065176042498466,<br>    \\\"cluster_distance_t_sec\\\": 1.0974134764320302,<br>    \\\"cluster_size_f_Hz\\\": 15.890372699711897,<br>    \\\"cluster_distance_f_Hz\\\": 20.34507382352514<br>  }<br>}\",\"{<br>  \\\"number\\\": 48,<br>  \\\"values\\\": [<br>    0.23809523767857146,<br>    0.13861839999966227<br>  ],<br>  \\\"params\\\": {<br>    \\\"stft_window_sec\\\": 3.1258419473157715,<br>    \\\"stft_overlap\\\": 0.8950027061446453,<br>    \\\"minSNR\\\": 6.5946973774370115,<br>    \\\"stationary_frame_sec\\\": 400.7882601711558,<br>    \\\"cluster_size_t_sec\\\": 3.966908093588109,<br>    \\\"cluster_distance_t_sec\\\": 1.354338038043918,<br>    \\\"cluster_size_f_Hz\\\": 23.395341364681933,<br>    \\\"cluster_distance_f_Hz\\\": 1.6540612555833638<br>  }<br>}\",\"{<br>  \\\"number\\\": 49,<br>  \\\"values\\\": [<br>    0.6203703692420267,<br>    0.04402626666675739<br>  ],<br>  \\\"params\\\": {<br>    \\\"stft_window_sec\\\": 0.5001347115705235,<br>    \\\"stft_overlap\\\": 0.7180851149413547,<br>    \\\"minSNR\\\": 4.238141726893733,<br>    \\\"stationary_frame_sec\\\": 338.58294302142,<br>    \\\"cluster_size_t_sec\\\": 1.6093966660808094,<br>    \\\"cluster_distance_t_sec\\\": 1.7465159471038458,<br>    \\\"cluster_size_f_Hz\\\": 11.948650894200675,<br>    \\\"cluster_distance_f_Hz\\\": 5.2298501207254375<br>  }<br>}\",\"{<br>  \\\"number\\\": 50,<br>  \\\"values\\\": [<br>    0.3818369446684288,<br>    0.026593433334407262<br>  ],<br>  \\\"params\\\": {<br>    \\\"stft_window_sec\\\": 1.875505168389463,<br>    \\\"stft_overlap\\\": 0.5406530566868346,<br>    \\\"minSNR\\\": 9.945638779233771,<br>    \\\"stationary_frame_sec\\\": 1452.5674497930215,<br>    \\\"cluster_size_t_sec\\\": 2.4765322832020904,<br>    \\\"cluster_distance_t_sec\\\": 1.8711765749974374,<br>    \\\"cluster_size_f_Hz\\\": 6.38439260131527,<br>    \\\"cluster_distance_f_Hz\\\": 3.02636390263788<br>  }<br>}\",\"{<br>  \\\"number\\\": 51,<br>  \\\"values\\\": [<br>    0.0,<br>    0.038091800000377894<br>  ],<br>  \\\"params\\\": {<br>    \\\"stft_window_sec\\\": 3.625976658886295,<br>    \\\"stft_overlap\\\": 0.6978265976413904,<br>    \\\"minSNR\\\": 5.943360725598856,<br>    \\\"stationary_frame_sec\\\": 2070.1457756502464,<br>    \\\"cluster_size_t_sec\\\": 1.5190791447174379,<br>    \\\"cluster_distance_t_sec\\\": 0.7862137357863432,<br>    \\\"cluster_size_f_Hz\\\": 45.23252862120107,<br>    \\\"cluster_distance_f_Hz\\\": 0.839950833236347<br>  }<br>}\",\"{<br>  \\\"number\\\": 52,<br>  \\\"values\\\": [<br>    0.0,<br>    0.03455226666665112<br>  ],<br>  \\\"params\\\": {<br>    \\\"stft_window_sec\\\": 2.0630556852284094,<br>    \\\"stft_overlap\\\": 0.22659714762458721,<br>    \\\"minSNR\\\": 3.777135596567389,<br>    \\\"stationary_frame_sec\\\": 419.91943533369204,<br>    \\\"cluster_size_t_sec\\\": 2.619753354706369,<br>    \\\"cluster_distance_t_sec\\\": 1.740512220731897,<br>    \\\"cluster_size_f_Hz\\\": 36.99859772392861,<br>    \\\"cluster_distance_f_Hz\\\": 0.04064497984158921<br>  }<br>}\",\"{<br>  \\\"number\\\": 53,<br>  \\\"values\\\": [<br>    0.0,<br>    0.027662699999988643<br>  ],<br>  \\\"params\\\": {<br>    \\\"stft_window_sec\\\": 0.8127189063021006,<br>    \\\"stft_overlap\\\": 0.5394218006684881,<br>    \\\"minSNR\\\": 8.01150296485458,<br>    \\\"stationary_frame_sec\\\": 416.03837778760595,<br>    \\\"cluster_size_t_sec\\\": 0.265703200837924,<br>    \\\"cluster_distance_t_sec\\\": 0.4128153978517263,<br>    \\\"cluster_size_f_Hz\\\": 49.13849724949582,<br>    \\\"cluster_distance_f_Hz\\\": 19.932503516717816<br>  }<br>}\",\"{<br>  \\\"number\\\": 54,<br>  \\\"values\\\": [<br>    0.4308035705038807,<br>    0.12933616666608336<br>  ],<br>  \\\"params\\\": {<br>    \\\"stft_window_sec\\\": 2.0630556852284094,<br>    \\\"stft_overlap\\\": 0.8273303479156895,<br>    \\\"minSNR\\\": 6.089510625431769,<br>    \\\"stationary_frame_sec\\\": 149.7199858913427,<br>    \\\"cluster_size_t_sec\\\": 1.6093966660808094,<br>    \\\"cluster_distance_t_sec\\\": 1.740512220731897,<br>    \\\"cluster_size_f_Hz\\\": 22.781459419804325,<br>    \\\"cluster_distance_f_Hz\\\": 3.1825176512072284<br>  }<br>}\",\"{<br>  \\\"number\\\": 55,<br>  \\\"values\\\": [<br>    0.23809523767857146,<br>    0.03533986666631487<br>  ],<br>  \\\"params\\\": {<br>    \\\"stft_window_sec\\\": 1.875505168389463,<br>    \\\"stft_overlap\\\": 0.703120052456961,<br>    \\\"minSNR\\\": 8.447899604075827,<br>    \\\"stationary_frame_sec\\\": 514.6235638992582,<br>    \\\"cluster_size_t_sec\\\": 2.562235023547004,<br>    \\\"cluster_distance_t_sec\\\": 1.0444683680365487,<br>    \\\"cluster_size_f_Hz\\\": 17.030393440096525,<br>    \\\"cluster_distance_f_Hz\\\": 22.39008277535107<br>  }<br>}\",\"{<br>  \\\"number\\\": 56,<br>  \\\"values\\\": [<br>    0.7753214910408867,<br>    0.12024750000000495<br>  ],<br>  \\\"params\\\": {<br>    \\\"stft_window_sec\\\": 3.5009429809936643,<br>    \\\"stft_overlap\\\": 0.8950027061446453,<br>    \\\"minSNR\\\": 6.5946973774370115,<br>    \\\"stationary_frame_sec\\\": 765.9777702047218,<br>    \\\"cluster_size_t_sec\\\": 1.5377327740606055,<br>    \\\"cluster_distance_t_sec\\\": 1.354338038043918,<br>    \\\"cluster_size_f_Hz\\\": 6.38439260131527,<br>    \\\"cluster_distance_f_Hz\\\": 1.6540612555833638<br>  }<br>}\",\"{<br>  \\\"number\\\": 57,<br>  \\\"values\\\": [<br>    0.026041666566975905,<br>    0.02418406666674855<br>  ],<br>  \\\"params\\\": {<br>    \\\"stft_window_sec\\\": 3.5009429809936643,<br>    \\\"stft_overlap\\\": 0.3268429332917654,<br>    \\\"minSNR\\\": 7.944369669916369,<br>    \\\"stationary_frame_sec\\\": 4099.51605284393,<br>    \\\"cluster_size_t_sec\\\": 1.5377327740606055,<br>    \\\"cluster_distance_t_sec\\\": 1.8715225623490865,<br>    \\\"cluster_size_f_Hz\\\": 35.95487076758895,<br>    \\\"cluster_distance_f_Hz\\\": 20.20082217742991<br>  }<br>}\",\"{<br>  \\\"number\\\": 58,<br>  \\\"values\\\": [<br>    0.7867980838853144,<br>    0.034873666666802215<br>  ],<br>  \\\"params\\\": {<br>    \\\"stft_window_sec\\\": 3.876044014671557,<br>    \\\"stft_overlap\\\": 0.671906449177992,<br>    \\\"minSNR\\\": 9.945232516304921,<br>    \\\"stationary_frame_sec\\\": 2110.2629370056084,<br>    \\\"cluster_size_t_sec\\\": 1.0099363516477107,<br>    \\\"cluster_distance_t_sec\\\": 2.2324611046922738,<br>    \\\"cluster_size_f_Hz\\\": 1.6938856408444392,<br>    \\\"cluster_distance_f_Hz\\\": 16.450167392943364<br>  }<br>}\",\"{<br>  \\\"number\\\": 59,<br>  \\\"values\\\": [<br>    0.32593749694239177,<br>    0.02928366666704581<br>  ],<br>  \\\"params\\\": {<br>    \\\"stft_window_sec\\\": 3.5009429809936643,<br>    \\\"stft_overlap\\\": 0.4870751204121366,<br>    \\\"minSNR\\\": 5.6633636294987895,<br>    \\\"stationary_frame_sec\\\": 573.7118655398124,<br>    \\\"cluster_size_t_sec\\\": 4.299497363206001,<br>    \\\"cluster_distance_t_sec\\\": 1.8711765749974374,<br>    \\\"cluster_size_f_Hz\\\": 13.557998272533778,<br>    \\\"cluster_distance_f_Hz\\\": 20.20082217742991<br>  }<br>}\",\"{<br>  \\\"number\\\": 60,<br>  \\\"values\\\": [<br>    0.3983516475204724,<br>    0.02423086666688808<br>  ],<br>  \\\"params\\\": {<br>    \\\"stft_window_sec\\\": 3.4384261420473488,<br>    \\\"stft_overlap\\\": 0.29392356313765744,<br>    \\\"minSNR\\\": 4.194752475243824,<br>    \\\"stationary_frame_sec\\\": 5389.985501569554,<br>    \\\"cluster_size_t_sec\\\": 0.09998515866690205,<br>    \\\"cluster_distance_t_sec\\\": 0.7243374882698137,<br>    \\\"cluster_size_f_Hz\\\": 17.030393440096525,<br>    \\\"cluster_distance_f_Hz\\\": 0.463955515963807<br>  }<br>}\",\"{<br>  \\\"number\\\": 61,<br>  \\\"values\\\": [<br>    0.7505175972285093,<br>    0.03697316666633318<br>  ],<br>  \\\"params\\\": {<br>    \\\"stft_window_sec\\\": 2.625707235745248,<br>    \\\"stft_overlap\\\": 0.5467773409390144,<br>    \\\"minSNR\\\": 7.205840903537979,<br>    \\\"stationary_frame_sec\\\": 715.8731532401334,<br>    \\\"cluster_size_t_sec\\\": 1.7365293926743997,<br>    \\\"cluster_distance_t_sec\\\": 2.179272328836552,<br>    \\\"cluster_size_f_Hz\\\": 3.3766687041382193,<br>    \\\"cluster_distance_f_Hz\\\": 3.9451453523930287<br>  }<br>}\",\"{<br>  \\\"number\\\": 62,<br>  \\\"values\\\": [<br>    0.4830003355485865,<br>    0.03839603333381092<br>  ],<br>  \\\"params\\\": {<br>    \\\"stft_window_sec\\\": 3.8135271757252416,<br>    \\\"stft_overlap\\\": 0.711996622426708,<br>    \\\"minSNR\\\": 9.840767164376633,<br>    \\\"stationary_frame_sec\\\": 1307.3051146205964,<br>    \\\"cluster_size_t_sec\\\": 3.812656964298477,<br>    \\\"cluster_distance_t_sec\\\": 0.28795346715717596,<br>    \\\"cluster_size_f_Hz\\\": 9.226676653244908,<br>    \\\"cluster_distance_f_Hz\\\": 5.0654212903738784<br>  }<br>}\",\"{<br>  \\\"number\\\": 63,<br>  \\\"values\\\": [<br>    0.492724866651801,<br>    0.027642333333460556<br>  ],<br>  \\\"params\\\": {<br>    \\\"stft_window_sec\\\": 1.2503367789263087,<br>    \\\"stft_overlap\\\": 0.2917938518827785,<br>    \\\"minSNR\\\": 9.55944286778014,<br>    \\\"stationary_frame_sec\\\": 1309.7186439295847,<br>    \\\"cluster_size_t_sec\\\": 0.8721572647974568,<br>    \\\"cluster_distance_t_sec\\\": 0.9906919163935592,<br>    \\\"cluster_size_f_Hz\\\": 16.656611206785243,<br>    \\\"cluster_distance_f_Hz\\\": 4.441307653593663<br>  }<br>}\",\"{<br>  \\\"number\\\": 64,<br>  \\\"values\\\": [<br>    0.0,<br>    0.02762199999991329<br>  ],<br>  \\\"params\\\": {<br>    \\\"stft_window_sec\\\": 1.562920973657886,<br>    \\\"stft_overlap\\\": 0.5019369799849662,<br>    \\\"minSNR\\\": 9.194267919992086,<br>    \\\"stationary_frame_sec\\\": 1298.3397425448652,<br>    \\\"cluster_size_t_sec\\\": 0.07711224635483793,<br>    \\\"cluster_distance_t_sec\\\": 2.4085819152706174,<br>    \\\"cluster_size_f_Hz\\\": 48.78352808143787,<br>    \\\"cluster_distance_f_Hz\\\": 11.224314259182819<br>  }<br>}\",\"{<br>  \\\"number\\\": 65,<br>  \\\"values\\\": [<br>    0.0,<br>    0.051253999999365384<br>  ],<br>  \\\"params\\\": {<br>    \\\"stft_window_sec\\\": 3.876044014671557,<br>    \\\"stft_overlap\\\": 0.7914588960387405,<br>    \\\"minSNR\\\": 9.945232516304921,<br>    \\\"stationary_frame_sec\\\": 367.8008351008708,<br>    \\\"cluster_size_t_sec\\\": 0.6222361299490059,<br>    \\\"cluster_distance_t_sec\\\": 2.0078074374880135,<br>    \\\"cluster_size_f_Hz\\\": 33.93371682400692,<br>    \\\"cluster_distance_f_Hz\\\": 20.10442505223245<br>  }<br>}\",\"{<br>  \\\"number\\\": 66,<br>  \\\"values\\\": [<br>    0.0,<br>    0.07076666666641056<br>  ],<br>  \\\"params\\\": {<br>    \\\"stft_window_sec\\\": 0.6876852284094698,<br>    \\\"stft_overlap\\\": 0.8063971329691846,<br>    \\\"minSNR\\\": 9.799617914933858,<br>    \\\"stationary_frame_sec\\\": 160.95175474235106,<br>    \\\"cluster_size_t_sec\\\": 1.8854842153437494,<br>    \\\"cluster_distance_t_sec\\\": 1.0276781559000625,<br>    \\\"cluster_size_f_Hz\\\": 46.68538500431774,<br>    \\\"cluster_distance_f_Hz\\\": 18.11299145687676<br>  }<br>}\",\"{<br>  \\\"number\\\": 67,<br>  \\\"values\\\": [<br>    0.386392634395709,<br>    0.16315240000009604<br>  ],<br>  \\\"params\\\": {<br>    \\\"stft_window_sec\\\": 3.56345981993998,<br>    \\\"stft_overlap\\\": 0.9047440061992273,<br>    \\\"minSNR\\\": 6.107960952306687,<br>    \\\"stationary_frame_sec\\\": 569.5421896528823,<br>    \\\"cluster_size_t_sec\\\": 4.113826959210135,<br>    \\\"cluster_distance_t_sec\\\": 1.7465159471038458,<br>    \\\"cluster_size_f_Hz\\\": 1.1765727272791127,<br>    \\\"cluster_distance_f_Hz\\\": 8.179495011307628<br>  }<br>}\",\"{<br>  \\\"number\\\": 68,<br>  \\\"values\\\": [<br>    0.5009920624159158,<br>    0.12868970000029853<br>  ],<br>  \\\"params\\\": {<br>    \\\"stft_window_sec\\\": 2.2506062020673556,<br>    \\\"stft_overlap\\\": 0.8401116696596809,<br>    \\\"minSNR\\\": 9.846637076058183,<br>    \\\"stationary_frame_sec\\\": 273.6243656601828,<br>    \\\"cluster_size_t_sec\\\": 0.3668904341867668,<br>    \\\"cluster_distance_t_sec\\\": 0.9046179156479045,<br>    \\\"cluster_size_f_Hz\\\": 15.857571992738995,<br>    \\\"cluster_distance_f_Hz\\\": 22.920612044016433<br>  }<br>}\",\"{<br>  \\\"number\\\": 69,<br>  \\\"values\\\": [<br>    0.026041666566975905,<br>    0.026652633333469566<br>  ],<br>  \\\"params\\\": {<br>    \\\"stft_window_sec\\\": 2.625707235745248,<br>    \\\"stft_overlap\\\": 0.3268429332917654,<br>    \\\"minSNR\\\": 7.944369669916369,<br>    \\\"stationary_frame_sec\\\": 1307.009717783868,<br>    \\\"cluster_size_t_sec\\\": 1.7365293926743997,<br>    \\\"cluster_distance_t_sec\\\": 2.4872907910045132,<br>    \\\"cluster_size_f_Hz\\\": 35.87582724460454,<br>    \\\"cluster_distance_f_Hz\\\": 20.20082217742991<br>  }<br>}\",\"{<br>  \\\"number\\\": 70,<br>  \\\"values\\\": [<br>    0.2777777773996914,<br>    0.03404046666704138<br>  ],<br>  \\\"params\\\": {<br>    \\\"stft_window_sec\\\": 0.31258419473157717,<br>    \\\"stft_overlap\\\": 0.5394218006684881,<br>    \\\"minSNR\\\": 8.01150296485458,<br>    \\\"stationary_frame_sec\\\": 217.30729274042028,<br>    \\\"cluster_size_t_sec\\\": 2.619753354706369,<br>    \\\"cluster_distance_t_sec\\\": 1.740512220731897,<br>    \\\"cluster_size_f_Hz\\\": 13.75433668458173,<br>    \\\"cluster_distance_f_Hz\\\": 3.1825176512072284<br>  }<br>}\",\"{<br>  \\\"number\\\": 71,<br>  \\\"values\\\": [<br>    0.7804892387924438,<br>    0.04622713333355932<br>  ],<br>  \\\"params\\\": {<br>    \\\"stft_window_sec\\\": 2.313123041013671,<br>    \\\"stft_overlap\\\": 0.6130776995159297,<br>    \\\"minSNR\\\": 9.194267919992086,<br>    \\\"stationary_frame_sec\\\": 751.7965700831429,<br>    \\\"cluster_size_t_sec\\\": 1.9550491250671787,<br>    \\\"cluster_distance_t_sec\\\": 0.38586765632326686,<br>    \\\"cluster_size_f_Hz\\\": 4.907776131767921,<br>    \\\"cluster_distance_f_Hz\\\": 5.0654212903738784<br>  }<br>}\",\"{<br>  \\\"number\\\": 72,<br>  \\\"values\\\": [<br>    0.0,<br>    0.06597866666743357<br>  ],<br>  \\\"params\\\": {<br>    \\\"stft_window_sec\\\": 0.8752357452484161,<br>    \\\"stft_overlap\\\": 0.8401116696596809,<br>    \\\"minSNR\\\": 9.846637076058183,<br>    \\\"stationary_frame_sec\\\": 237.04518500372302,<br>    \\\"cluster_size_t_sec\\\": 3.0179127461179975,<br>    \\\"cluster_distance_t_sec\\\": 0.38586765632326686,<br>    \\\"cluster_size_f_Hz\\\": 32.45485086979685,<br>    \\\"cluster_distance_f_Hz\\\": 11.224314259182819<br>  }<br>}\",\"{<br>  \\\"number\\\": 73,<br>  \\\"values\\\": [<br>    0.0,<br>    0.03694419999889457<br>  ],<br>  \\\"params\\\": {<br>    \\\"stft_window_sec\\\": 2.625707235745248,<br>    \\\"stft_overlap\\\": 0.5467773409390144,<br>    \\\"minSNR\\\": 9.194267919992086,<br>    \\\"stationary_frame_sec\\\": 439.9946807810512,<br>    \\\"cluster_size_t_sec\\\": 1.7365293926743997,<br>    \\\"cluster_distance_t_sec\\\": 2.4872907910045132,<br>    \\\"cluster_size_f_Hz\\\": 35.87582724460454,<br>    \\\"cluster_distance_f_Hz\\\": 7.2223948997630485<br>  }<br>}\",\"{<br>  \\\"number\\\": 74,<br>  \\\"values\\\": [<br>    0.6759259247960392,<br>    0.26591399999991455<br>  ],<br>  \\\"params\\\": {<br>    \\\"stft_window_sec\\\": 0.7502020673557852,<br>    \\\"stft_overlap\\\": 0.5025160900809931,<br>    \\\"minSNR\\\": 3.3206928827360174,<br>    \\\"stationary_frame_sec\\\": 342.043304527862,<br>    \\\"cluster_size_t_sec\\\": 4.317397561836195,<br>    \\\"cluster_distance_t_sec\\\": 2.1825523328634513,<br>    \\\"cluster_size_f_Hz\\\": 13.557998272533778,<br>    \\\"cluster_distance_f_Hz\\\": 18.08774036217993<br>  }<br>}\",\"{<br>  \\\"number\\\": 75,<br>  \\\"values\\\": [<br>    0.026041666566975905,<br>    0.03472813333337399<br>  ],<br>  \\\"params\\\": {<br>    \\\"stft_window_sec\\\": 1.9380220073357783,<br>    \\\"stft_overlap\\\": 0.6485923952636248,<br>    \\\"minSNR\\\": 6.024864200248115,<br>    \\\"stationary_frame_sec\\\": 705.1047580093427,<br>    \\\"cluster_size_t_sec\\\": 2.4961594170823567,<br>    \\\"cluster_distance_t_sec\\\": 0.01514278775085004,<br>    \\\"cluster_size_f_Hz\\\": 38.56178963744952,<br>    \\\"cluster_distance_f_Hz\\\": 10.231796748135787<br>  }<br>}\",\"{<br>  \\\"number\\\": 76,<br>  \\\"values\\\": [<br>    0.5048965254385861,<br>    0.03463956666564627<br>  ],<br>  \\\"params\\\": {<br>    \\\"stft_window_sec\\\": 3.876044014671557,<br>    \\\"stft_overlap\\\": 0.671906449177992,<br>    \\\"minSNR\\\": 6.832943896905032,<br>    \\\"stationary_frame_sec\\\": 1209.153413192266,<br>    \\\"cluster_size_t_sec\\\": 1.552385873779587,<br>    \\\"cluster_distance_t_sec\\\": 2.2324611046922738,<br>    \\\"cluster_size_f_Hz\\\": 1.6938856408444392,<br>    \\\"cluster_distance_f_Hz\\\": 7.206411706274651<br>  }<br>}\",\"{<br>  \\\"number\\\": 77,<br>  \\\"values\\\": [<br>    0.5819678903165424,<br>    0.022585366666741418<br>  ],<br>  \\\"params\\\": {<br>    \\\"stft_window_sec\\\": 3.751010336778926,<br>    \\\"stft_overlap\\\": 0.2850817683743029,<br>    \\\"minSNR\\\": 7.944369669916369,<br>    \\\"stationary_frame_sec\\\": 2084.3443660233256,<br>    \\\"cluster_size_t_sec\\\": 1.0569425275459021,<br>    \\\"cluster_distance_t_sec\\\": 1.9115648575630795,<br>    \\\"cluster_size_f_Hz\\\": 6.38439260131527,<br>    \\\"cluster_distance_f_Hz\\\": 18.11299145687676<br>  }<br>}\",\"{<br>  \\\"number\\\": 78,<br>  \\\"values\\\": [<br>    0.0,<br>    0.03613423333293516<br>  ],<br>  \\\"params\\\": {<br>    \\\"stft_window_sec\\\": 1.875505168389463,<br>    \\\"stft_overlap\\\": 0.6978265976413904,<br>    \\\"minSNR\\\": 7.4422942188788905,<br>    \\\"stationary_frame_sec\\\": 982.435981172767,<br>    \\\"cluster_size_t_sec\\\": 3.42188830689959,<br>    \\\"cluster_distance_t_sec\\\": 0.4409865412825653,<br>    \\\"cluster_size_f_Hz\\\": 36.83258470034975,<br>    \\\"cluster_distance_f_Hz\\\": 12.196075561708225<br>  }<br>}\",\"{<br>  \\\"number\\\": 79,<br>  \\\"values\\\": [<br>    0.5462962951700103,<br>    0.031037933333815697<br>  ],<br>  \\\"params\\\": {<br>    \\\"stft_window_sec\\\": 3.188358786262087,<br>    \\\"stft_overlap\\\": 0.34984706450827197,<br>    \\\"minSNR\\\": 3.6327947714983253,<br>    \\\"stationary_frame_sec\\\": 3397.2903099731793,<br>    \\\"cluster_size_t_sec\\\": 4.4588319196794135,<br>    \\\"cluster_distance_t_sec\\\": 0.7243374882698137,<br>    \\\"cluster_size_f_Hz\\\": 4.907776131767921,<br>    \\\"cluster_distance_f_Hz\\\": 0.463955515963807<br>  }<br>}\",\"{<br>  \\\"number\\\": 80,<br>  \\\"values\\\": [<br>    0.37213977576021434,<br>    0.05457249999835767<br>  ],<br>  \\\"params\\\": {<br>    \\\"stft_window_sec\\\": 2.6882240746915635,<br>    \\\"stft_overlap\\\": 0.7051379695331212,<br>    \\\"minSNR\\\": 5.894313374559669,<br>    \\\"stationary_frame_sec\\\": 795.128807350359,<br>    \\\"cluster_size_t_sec\\\": 4.304404671255481,<br>    \\\"cluster_distance_t_sec\\\": 1.7260557479012877,<br>    \\\"cluster_size_f_Hz\\\": 2.7025156543888373,<br>    \\\"cluster_distance_f_Hz\\\": 13.035037237521149<br>  }<br>}\",\"{<br>  \\\"number\\\": 81,<br>  \\\"values\\\": [<br>    0.44536564549834584,<br>    0.23807629999949617<br>  ],<br>  \\\"params\\\": {<br>    \\\"stft_window_sec\\\": 3.5009429809936643,<br>    \\\"stft_overlap\\\": 0.9314990187190835,<br>    \\\"minSNR\\\": 8.310658615764474,<br>    \\\"stationary_frame_sec\\\": 526.1440633563343,<br>    \\\"cluster_size_t_sec\\\": 3.1300520264862253,<br>    \\\"cluster_distance_t_sec\\\": 0.726991134501205,<br>    \\\"cluster_size_f_Hz\\\": 3.8957402129013055,<br>    \\\"cluster_distance_f_Hz\\\": 20.20082217742991<br>  }<br>}\",\"{<br>  \\\"number\\\": 83,<br>  \\\"values\\\": [<br>    0.32792207715714544,<br>    0.026912033333246654<br>  ],<br>  \\\"params\\\": {<br>    \\\"stft_window_sec\\\": 1.562920973657886,<br>    \\\"stft_overlap\\\": 0.414792513532672,<br>    \\\"minSNR\\\": 5.1066708953476745,<br>    \\\"stationary_frame_sec\\\": 1682.5320655276953,<br>    \\\"cluster_size_t_sec\\\": 4.299497363206001,<br>    \\\"cluster_distance_t_sec\\\": 1.0974134764320302,<br>    \\\"cluster_size_f_Hz\\\": 34.22706054286405,<br>    \\\"cluster_distance_f_Hz\\\": 18.08774036217993<br>  }<br>}\",\"{<br>  \\\"number\\\": 84,<br>  \\\"values\\\": [<br>    0.41899496926241236,<br>    0.12979126666717397<br>  ],<br>  \\\"params\\\": {<br>    \\\"stft_window_sec\\\": 4.001077692564188,<br>    \\\"stft_overlap\\\": 0.9047440061992273,<br>    \\\"minSNR\\\": 6.024864200248115,<br>    \\\"stationary_frame_sec\\\": 572.7734224649768,<br>    \\\"cluster_size_t_sec\\\": 3.199167704696251,<br>    \\\"cluster_distance_t_sec\\\": 0.01514278775085004,<br>    \\\"cluster_size_f_Hz\\\": 1.1765727272791127,<br>    \\\"cluster_distance_f_Hz\\\": 22.354672370001495<br>  }<br>}\",\"{<br>  \\\"number\\\": 85,<br>  \\\"values\\\": [<br>    0.1912390268440183,<br>    0.03823449999890727<br>  ],<br>  \\\"params\\\": {<br>    \\\"stft_window_sec\\\": 0.5001347115705235,<br>    \\\"stft_overlap\\\": 0.6730490755811079,<br>    \\\"minSNR\\\": 5.391988787362562,<br>    \\\"stationary_frame_sec\\\": 331.9384341680603,<br>    \\\"cluster_size_t_sec\\\": 0.1051786581950287,<br>    \\\"cluster_distance_t_sec\\\": 2.3627976125021286,<br>    \\\"cluster_size_f_Hz\\\": 2.489625008727203,<br>    \\\"cluster_distance_f_Hz\\\": 6.839561258675627<br>  }<br>}\",\"{<br>  \\\"number\\\": 86,<br>  \\\"values\\\": [<br>    0.6839470272358664,<br>    0.024611766667173168<br>  ],<br>  \\\"params\\\": {<br>    \\\"stft_window_sec\\\": 3.188358786262087,<br>    \\\"stft_overlap\\\": 0.3268429332917654,<br>    \\\"minSNR\\\": 7.944369669916369,<br>    \\\"stationary_frame_sec\\\": 4735.896667115127,<br>    \\\"cluster_size_t_sec\\\": 1.9550491250671787,<br>    \\\"cluster_distance_t_sec\\\": 0.28795346715717596,<br>    \\\"cluster_size_f_Hz\\\": 4.907776131767921,<br>    \\\"cluster_distance_f_Hz\\\": 5.0654212903738784<br>  }<br>}\",\"{<br>  \\\"number\\\": 87,<br>  \\\"values\\\": [<br>    0.15424679435913566,<br>    0.02217960000052699<br>  ],<br>  \\\"params\\\": {<br>    \\\"stft_window_sec\\\": 1.9380220073357783,<br>    \\\"stft_overlap\\\": 0.3268429332917654,<br>    \\\"minSNR\\\": 7.944369669916369,<br>    \\\"stationary_frame_sec\\\": 2987.2505904897316,<br>    \\\"cluster_size_t_sec\\\": 1.5377327740606055,<br>    \\\"cluster_distance_t_sec\\\": 2.3065378752133023,<br>    \\\"cluster_size_f_Hz\\\": 29.080096114387473,<br>    \\\"cluster_distance_f_Hz\\\": 20.20082217742991<br>  }<br>}\",\"{<br>  \\\"number\\\": 88,<br>  \\\"values\\\": [<br>    0.3994559060395124,<br>    0.05781213333254224<br>  ],<br>  \\\"params\\\": {<br>    \\\"stft_window_sec\\\": 2.2506062020673556,<br>    \\\"stft_overlap\\\": 0.6955683641965946,<br>    \\\"minSNR\\\": 6.142879174876328,<br>    \\\"stationary_frame_sec\\\": 802.7714558789737,<br>    \\\"cluster_size_t_sec\\\": 0.8334147178076917,<br>    \\\"cluster_distance_t_sec\\\": 0.9046179156479045,<br>    \\\"cluster_size_f_Hz\\\": 3.8957402129013055,<br>    \\\"cluster_distance_f_Hz\\\": 6.648161353707829<br>  }<br>}\",\"{<br>  \\\"number\\\": 89,<br>  \\\"values\\\": [<br>    0.4470055150393181,<br>    0.027971400000448437<br>  ],<br>  \\\"params\\\": {<br>    \\\"stft_window_sec\\\": 0.8752357452484161,<br>    \\\"stft_overlap\\\": 0.48458985331778287,<br>    \\\"minSNR\\\": 4.685514225399124,<br>    \\\"stationary_frame_sec\\\": 123.20136104545173,<br>    \\\"cluster_size_t_sec\\\": 3.1212755660743206,<br>    \\\"cluster_distance_t_sec\\\": 2.4085819152706174,<br>    \\\"cluster_size_f_Hz\\\": 48.78352808143787,<br>    \\\"cluster_distance_f_Hz\\\": 6.839561258675627<br>  }<br>}\",\"{<br>  \\\"number\\\": 90,<br>  \\\"values\\\": [<br>    0.5925925914650206,<br>    0.04932010000053803<br>  ],<br>  \\\"params\\\": {<br>    \\\"stft_window_sec\\\": 3.4384261420473488,<br>    \\\"stft_overlap\\\": 0.7180851149413547,<br>    \\\"minSNR\\\": 4.194752475243824,<br>    \\\"stationary_frame_sec\\\": 858.3232630660791,<br>    \\\"cluster_size_t_sec\\\": 0.09998515866690205,<br>    \\\"cluster_distance_t_sec\\\": 0.7243374882698137,<br>    \\\"cluster_size_f_Hz\\\": 11.948650894200675,<br>    \\\"cluster_distance_f_Hz\\\": 5.2298501207254375<br>  }<br>}\",\"{<br>  \\\"number\\\": 91,<br>  \\\"values\\\": [<br>    0.0,<br>    0.03455330000087997<br>  ],<br>  \\\"params\\\": {<br>    \\\"stft_window_sec\\\": 3.000808269423141,<br>    \\\"stft_overlap\\\": 0.5939582724774561,<br>    \\\"minSNR\\\": 7.205840903537979,<br>    \\\"stationary_frame_sec\\\": 2045.5413092364897,<br>    \\\"cluster_size_t_sec\\\": 2.2949422538600968,<br>    \\\"cluster_distance_t_sec\\\": 0.8419093622177722,<br>    \\\"cluster_size_f_Hz\\\": 44.58049606720872,<br>    \\\"cluster_distance_f_Hz\\\": 3.9451453523930287<br>  }<br>}\",\"{<br>  \\\"number\\\": 92,<br>  \\\"values\\\": [<br>    0.34974994479288113,<br>    0.032904333332832415<br>  ],<br>  \\\"params\\\": {<br>    \\\"stft_window_sec\\\": 3.751010336778926,<br>    \\\"stft_overlap\\\": 0.45697149085161,<br>    \\\"minSNR\\\": 5.642254892877002,<br>    \\\"stationary_frame_sec\\\": 4551.3965413843825,<br>    \\\"cluster_size_t_sec\\\": 3.4109293233707065,<br>    \\\"cluster_distance_t_sec\\\": 0.6865727452714245,<br>    \\\"cluster_size_f_Hz\\\": 8.575345753099123,<br>    \\\"cluster_distance_f_Hz\\\": 7.5042790006611595<br>  }<br>}\",\"{<br>  \\\"number\\\": 93,<br>  \\\"values\\\": [<br>    0.0,<br>    0.05649403333366839<br>  ],<br>  \\\"params\\\": {<br>    \\\"stft_window_sec\\\": 2.625707235745248,<br>    \\\"stft_overlap\\\": 0.7074815164682573,<br>    \\\"minSNR\\\": 8.670536337017007,<br>    \\\"stationary_frame_sec\\\": 1152.1773894370883,<br>    \\\"cluster_size_t_sec\\\": 0.3668904341867668,<br>    \\\"cluster_distance_t_sec\\\": 2.4872907910045132,<br>    \\\"cluster_size_f_Hz\\\": 35.87582724460454,<br>    \\\"cluster_distance_f_Hz\\\": 24.613166554061237<br>  }<br>}\",\"{<br>  \\\"number\\\": 94,<br>  \\\"values\\\": [<br>    0.28711484534509396,<br>    0.1835565666679031<br>  ],<br>  \\\"params\\\": {<br>    \\\"stft_window_sec\\\": 3.188358786262087,<br>    \\\"stft_overlap\\\": 0.9047440061992273,<br>    \\\"minSNR\\\": 7.780032799641823,<br>    \\\"stationary_frame_sec\\\": 126.82129093230064,<br>    \\\"cluster_size_t_sec\\\": 4.113826959210135,<br>    \\\"cluster_distance_t_sec\\\": 2.3627976125021286,<br>    \\\"cluster_size_f_Hz\\\": 2.489625008727203,<br>    \\\"cluster_distance_f_Hz\\\": 6.839561258675627<br>  }<br>}\",\"{<br>  \\\"number\\\": 95,<br>  \\\"values\\\": [<br>    0.0,<br>    0.2811232999999144<br>  ],<br>  \\\"params\\\": {<br>    \\\"stft_window_sec\\\": 1.2503367789263087,<br>    \\\"stft_overlap\\\": 0.927198753678105,<br>    \\\"minSNR\\\": 8.435557466133027,<br>    \\\"stationary_frame_sec\\\": 151.1627626585066,<br>    \\\"cluster_size_t_sec\\\": 4.9511590069911655,<br>    \\\"cluster_distance_t_sec\\\": 0.1932430463542023,<br>    \\\"cluster_size_f_Hz\\\": 14.474734702013825,<br>    \\\"cluster_distance_f_Hz\\\": 5.67793029356033<br>  }<br>}\",\"{<br>  \\\"number\\\": 96,<br>  \\\"values\\\": [<br>    0.25331439341787126,<br>    0.07329706666647932<br>  ],<br>  \\\"params\\\": {<br>    \\\"stft_window_sec\\\": 0.6251683894631543,<br>    \\\"stft_overlap\\\": 0.7878833355129888,<br>    \\\"minSNR\\\": 7.409865063412624,<br>    \\\"stationary_frame_sec\\\": 167.7898151503022,<br>    \\\"cluster_size_t_sec\\\": 3.167544507389379,<br>    \\\"cluster_distance_t_sec\\\": 2.005633272092475,<br>    \\\"cluster_size_f_Hz\\\": 19.402568286974738,<br>    \\\"cluster_distance_f_Hz\\\": 7.173052191945356<br>  }<br>}\",\"{<br>  \\\"number\\\": 97,<br>  \\\"values\\\": [<br>    0.0,<br>    0.021367000000585296<br>  ],<br>  \\\"params\\\": {<br>    \\\"stft_window_sec\\\": 1.875505168389463,<br>    \\\"stft_overlap\\\": 0.2877359787263687,<br>    \\\"minSNR\\\": 9.945638779233771,<br>    \\\"stationary_frame_sec\\\": 2240.434019367295,<br>    \\\"cluster_size_t_sec\\\": 2.308084711378078,<br>    \\\"cluster_distance_t_sec\\\": 2.4085819152706174,<br>    \\\"cluster_size_f_Hz\\\": 48.78352808143787,<br>    \\\"cluster_distance_f_Hz\\\": 23.53563499971093<br>  }<br>}\",\"{<br>  \\\"number\\\": 98,<br>  \\\"values\\\": [<br>    0.0,<br>    0.1226975333329392<br>  ],<br>  \\\"params\\\": {<br>    \\\"stft_window_sec\\\": 1.875505168389463,<br>    \\\"stft_overlap\\\": 0.9047440061992273,<br>    \\\"minSNR\\\": 8.447899604075827,<br>    \\\"stationary_frame_sec\\\": 407.0238784102361,<br>    \\\"cluster_size_t_sec\\\": 2.562235023547004,<br>    \\\"cluster_distance_t_sec\\\": 0.7122668237072718,<br>    \\\"cluster_size_f_Hz\\\": 41.87437738896394,<br>    \\\"cluster_distance_f_Hz\\\": 8.669754770667653<br>  }<br>}\",\"{<br>  \\\"number\\\": 99,<br>  \\\"values\\\": [<br>    0.6098484836591125,<br>    0.06519640000048336<br>  ],<br>  \\\"params\\\": {<br>    \\\"stft_window_sec\\\": 0.8752357452484161,<br>    \\\"stft_overlap\\\": 0.8401116696596809,<br>    \\\"minSNR\\\": 8.697776667712489,<br>    \\\"stationary_frame_sec\\\": 150.40625170295786,<br>    \\\"cluster_size_t_sec\\\": 0.06493215724680423,<br>    \\\"cluster_distance_t_sec\\\": 0.26747511313238603,<br>    \\\"cluster_size_f_Hz\\\": 16.281159194172307,<br>    \\\"cluster_distance_f_Hz\\\": 4.834992824034131<br>  }<br>}\",\"{<br>  \\\"number\\\": 100,<br>  \\\"values\\\": [<br>    0.7991310148837439,<br>    0.19671286666653032<br>  ],<br>  \\\"params\\\": {<br>    \\\"stft_window_sec\\\": 3.188358786262087,<br>    \\\"stft_overlap\\\": 0.9204997298496989,<br>    \\\"minSNR\\\": 8.697776667712489,<br>    \\\"stationary_frame_sec\\\": 465.43209466160505,<br>    \\\"cluster_size_t_sec\\\": 0.06493215724680423,<br>    \\\"cluster_distance_t_sec\\\": 0.28795346715717596,<br>    \\\"cluster_size_f_Hz\\\": 4.907776131767921,<br>    \\\"cluster_distance_f_Hz\\\": 4.834992824034131<br>  }<br>}\",\"{<br>  \\\"number\\\": 101,<br>  \\\"values\\\": [<br>    0.30871212051423685,<br>    0.027114866666731057<br>  ],<br>  \\\"params\\\": {<br>    \\\"stft_window_sec\\\": 2.3756398799599867,<br>    \\\"stft_overlap\\\": 0.23059991348967374,<br>    \\\"minSNR\\\": 9.482136380383508,<br>    \\\"stationary_frame_sec\\\": 1885.4875758058395,<br>    \\\"cluster_size_t_sec\\\": 3.583549986067254,<br>    \\\"cluster_distance_t_sec\\\": 2.483517492821192,<br>    \\\"cluster_size_f_Hz\\\": 1.8007943078329813,<br>    \\\"cluster_distance_f_Hz\\\": 11.442117185454412<br>  }<br>}\",\"{<br>  \\\"number\\\": 102,<br>  \\\"values\\\": [<br>    0.11904761870039683,<br>    0.02395593333373351<br>  ],<br>  \\\"params\\\": {<br>    \\\"stft_window_sec\\\": 2.9382914304768253,<br>    \\\"stft_overlap\\\": 0.218870387919705,<br>    \\\"minSNR\\\": 7.205840903537979,<br>    \\\"stationary_frame_sec\\\": 2634.2674321569366,<br>    \\\"cluster_size_t_sec\\\": 0.01184204818295731,<br>    \\\"cluster_distance_t_sec\\\": 1.7329187230651624,<br>    \\\"cluster_size_f_Hz\\\": 25.38265142717374,<br>    \\\"cluster_distance_f_Hz\\\": 0.5835302365610834<br>  }<br>}\",\"{<br>  \\\"number\\\": 103,<br>  \\\"values\\\": [<br>    0.5478638732819862,<br>    0.03822299999956158<br>  ],<br>  \\\"params\\\": {<br>    \\\"stft_window_sec\\\": 2.625707235745248,<br>    \\\"stft_overlap\\\": 0.5394218006684881,<br>    \\\"minSNR\\\": 8.01150296485458,<br>    \\\"stationary_frame_sec\\\": 2864.61539874962,<br>    \\\"cluster_size_t_sec\\\": 1.7365293926743997,<br>    \\\"cluster_distance_t_sec\\\": 0.4128153978517263,<br>    \\\"cluster_size_f_Hz\\\": 13.75433668458173,<br>    \\\"cluster_distance_f_Hz\\\": 20.20082217742991<br>  }<br>}\",\"{<br>  \\\"number\\\": 104,<br>  \\\"values\\\": [<br>    0.0,<br>    0.03610420000010587<br>  ],<br>  \\\"params\\\": {<br>    \\\"stft_window_sec\\\": 3.876044014671557,<br>    \\\"stft_overlap\\\": 0.671906449177992,<br>    \\\"minSNR\\\": 9.945232516304921,<br>    \\\"stationary_frame_sec\\\": 2912.782282362935,<br>    \\\"cluster_size_t_sec\\\": 4.299497363206001,<br>    \\\"cluster_distance_t_sec\\\": 1.0974134764320302,<br>    \\\"cluster_size_f_Hz\\\": 34.22706054286405,<br>    \\\"cluster_distance_f_Hz\\\": 7.206411706274651<br>  }<br>}\",\"{<br>  \\\"number\\\": 105,<br>  \\\"values\\\": [<br>    0.399411847000285,<br>    0.02389023333307705<br>  ],<br>  \\\"params\\\": {<br>    \\\"stft_window_sec\\\": 3.751010336778926,<br>    \\\"stft_overlap\\\": 0.2850817683743029,<br>    \\\"minSNR\\\": 5.642254892877002,<br>    \\\"stationary_frame_sec\\\": 725.7732707974163,<br>    \\\"cluster_size_t_sec\\\": 3.4109293233707065,<br>    \\\"cluster_distance_t_sec\\\": 1.9115648575630795,<br>    \\\"cluster_size_f_Hz\\\": 33.62725733523582,<br>    \\\"cluster_distance_f_Hz\\\": 19.13495130856502<br>  }<br>}\",\"{<br>  \\\"number\\\": 106,<br>  \\\"values\\\": [<br>    0.0,<br>    0.029724233333278487<br>  ],<br>  \\\"params\\\": {<br>    \\\"stft_window_sec\\\": 3.5009429809936643,<br>    \\\"stft_overlap\\\": 0.5381753610024405,<br>    \\\"minSNR\\\": 7.597306923072181,<br>    \\\"stationary_frame_sec\\\": 3104.4947948913286,<br>    \\\"cluster_size_t_sec\\\": 2.5801012630905773,<br>    \\\"cluster_distance_t_sec\\\": 1.8711765749974374,<br>    \\\"cluster_size_f_Hz\\\": 48.78352808143787,<br>    \\\"cluster_distance_f_Hz\\\": 6.839561258675627<br>  }<br>}\",\"{<br>  \\\"number\\\": 107,<br>  \\\"values\\\": [<br>    0.338679431025582,<br>    0.02845849999963927<br>  ],<br>  \\\"params\\\": {<br>    \\\"stft_window_sec\\\": 2.625707235745248,<br>    \\\"stft_overlap\\\": 0.29392356313765744,<br>    \\\"minSNR\\\": 6.5946973774370115,<br>    \\\"stationary_frame_sec\\\": 2718.522472996903,<br>    \\\"cluster_size_t_sec\\\": 1.5377327740606055,<br>    \\\"cluster_distance_t_sec\\\": 1.354338038043918,<br>    \\\"cluster_size_f_Hz\\\": 6.38439260131527,<br>    \\\"cluster_distance_f_Hz\\\": 22.304078597872266<br>  }<br>}\",\"{<br>  \\\"number\\\": 108,<br>  \\\"values\\\": [<br>    0.4063651711112553,<br>    0.03856430000026497<br>  ],<br>  \\\"params\\\": {<br>    \\\"stft_window_sec\\\": 2.438156718906302,<br>    \\\"stft_overlap\\\": 0.5467773409390144,<br>    \\\"minSNR\\\": 7.205840903537979,<br>    \\\"stationary_frame_sec\\\": 2639.112556701124,<br>    \\\"cluster_size_t_sec\\\": 3.4091161407127943,<br>    \\\"cluster_distance_t_sec\\\": 0.8419093622177722,<br>    \\\"cluster_size_f_Hz\\\": 14.205334988640567,<br>    \\\"cluster_distance_f_Hz\\\": 3.9451453523930287<br>  }<br>}\",\"{<br>  \\\"number\\\": 109,<br>  \\\"values\\\": [<br>    0.48384661726231043,<br>    0.02591139999973772<br>  ],<br>  \\\"params\\\": {<br>    \\\"stft_window_sec\\\": 3.5009429809936643,<br>    \\\"stft_overlap\\\": 0.3256960922654752,<br>    \\\"minSNR\\\": 5.642254892877002,<br>    \\\"stationary_frame_sec\\\": 4465.193989904245,<br>    \\\"cluster_size_t_sec\\\": 3.4109293233707065,<br>    \\\"cluster_distance_t_sec\\\": 0.6865727452714245,<br>    \\\"cluster_size_f_Hz\\\": 8.575345753099123,<br>    \\\"cluster_distance_f_Hz\\\": 20.20082217742991<br>  }<br>}\",\"{<br>  \\\"number\\\": 110,<br>  \\\"values\\\": [<br>    0.5582264945819552,<br>    0.02634400000018407<br>  ],<br>  \\\"params\\\": {<br>    \\\"stft_window_sec\\\": 2.625707235745248,<br>    \\\"stft_overlap\\\": 0.23542622126095847,<br>    \\\"minSNR\\\": 9.194267919992086,<br>    \\\"stationary_frame_sec\\\": 2945.3667260158845,<br>    \\\"cluster_size_t_sec\\\": 1.7365293926743997,<br>    \\\"cluster_distance_t_sec\\\": 2.4872907910045132,<br>    \\\"cluster_size_f_Hz\\\": 10.408082936030372,<br>    \\\"cluster_distance_f_Hz\\\": 11.224314259182819<br>  }<br>}\",\"{<br>  \\\"number\\\": 112,<br>  \\\"values\\\": [<br>    0.0,<br>    0.02667733333328215<br>  ],<br>  \\\"params\\\": {<br>    \\\"stft_window_sec\\\": 0.7502020673557852,<br>    \\\"stft_overlap\\\": 0.4524267135031081,<br>    \\\"minSNR\\\": 7.989322327589658,<br>    \\\"stationary_frame_sec\\\": 430.02960882536644,<br>    \\\"cluster_size_t_sec\\\": 3.1212755660743206,<br>    \\\"cluster_distance_t_sec\\\": 0.14176789811821328,<br>    \\\"cluster_size_f_Hz\\\": 48.78352808143787,<br>    \\\"cluster_distance_f_Hz\\\": 6.839561258675627<br>  }<br>}\",\"{<br>  \\\"number\\\": 113,<br>  \\\"values\\\": [<br>    0.5277777766520061,<br>    0.32494736666709895<br>  ],<br>  \\\"params\\\": {<br>    \\\"stft_window_sec\\\": 3.000808269423141,<br>    \\\"stft_overlap\\\": 0.33571795942737104,<br>    \\\"minSNR\\\": 3.3206928827360174,<br>    \\\"stationary_frame_sec\\\": 4778.50734618573,<br>    \\\"cluster_size_t_sec\\\": 1.552385873779587,<br>    \\\"cluster_distance_t_sec\\\": 1.8866495502517675,<br>    \\\"cluster_size_f_Hz\\\": 1.6938856408444392,<br>    \\\"cluster_distance_f_Hz\\\": 18.08774036217993<br>  }<br>}\",\"{<br>  \\\"number\\\": 114,<br>  \\\"values\\\": [<br>    0.6198436215613706,<br>    0.026734266666911328<br>  ],<br>  \\\"params\\\": {<br>    \\\"stft_window_sec\\\": 1.562920973657886,<br>    \\\"stft_overlap\\\": 0.3422343841729652,<br>    \\\"minSNR\\\": 7.205840903537979,<br>    \\\"stationary_frame_sec\\\": 1692.654796143945,<br>    \\\"cluster_size_t_sec\\\": 1.5184146048822156,<br>    \\\"cluster_distance_t_sec\\\": 0.8419093622177722,<br>    \\\"cluster_size_f_Hz\\\": 8.863968590550991,<br>    \\\"cluster_distance_f_Hz\\\": 20.34507382352514<br>  }<br>}\",\"{<br>  \\\"number\\\": 115,<br>  \\\"values\\\": [<br>    0.8090107280732494,<br>    0.0379705000004833<br>  ],<br>  \\\"params\\\": {<br>    \\\"stft_window_sec\\\": 3.188358786262087,<br>    \\\"stft_overlap\\\": 0.6410913891407053,<br>    \\\"minSNR\\\": 9.945232516304921,<br>    \\\"stationary_frame_sec\\\": 1820.1681836818486,<br>    \\\"cluster_size_t_sec\\\": 1.0099363516477107,<br>    \\\"cluster_distance_t_sec\\\": 2.2324611046922738,<br>    \\\"cluster_size_f_Hz\\\": 1.6938856408444392,<br>    \\\"cluster_distance_f_Hz\\\": 7.206411706274651<br>  }<br>}\",\"{<br>  \\\"number\\\": 116,<br>  \\\"values\\\": [<br>    0.2700501246171479,<br>    0.021806766667396005<br>  ],<br>  \\\"params\\\": {<br>    \\\"stft_window_sec\\\": 3.8135271757252416,<br>    \\\"stft_overlap\\\": 0.33571795942737104,<br>    \\\"minSNR\\\": 9.840767164376633,<br>    \\\"stationary_frame_sec\\\": 4972.134468054468,<br>    \\\"cluster_size_t_sec\\\": 3.812656964298477,<br>    \\\"cluster_distance_t_sec\\\": 0.28795346715717596,<br>    \\\"cluster_size_f_Hz\\\": 9.226676653244908,<br>    \\\"cluster_distance_f_Hz\\\": 18.08774036217993<br>  }<br>}\",\"{<br>  \\\"number\\\": 117,<br>  \\\"values\\\": [<br>    0.3431412537367711,<br>    0.3079753666673544<br>  ],<br>  \\\"params\\\": {<br>    \\\"stft_window_sec\\\": 0.5626515505168389,<br>    \\\"stft_overlap\\\": 0.905043153761161,<br>    \\\"minSNR\\\": 5.9763518224754,<br>    \\\"stationary_frame_sec\\\": 22.627891078121014,<br>    \\\"cluster_size_t_sec\\\": 0.01184204818295731,<br>    \\\"cluster_distance_t_sec\\\": 1.9115648575630795,<br>    \\\"cluster_size_f_Hz\\\": 22.58334865950805,<br>    \\\"cluster_distance_f_Hz\\\": 18.11299145687676<br>  }<br>}\",\"{<br>  \\\"number\\\": 118,<br>  \\\"values\\\": [<br>    0.7268133441127532,<br>    0.02770336666678001<br>  ],<br>  \\\"params\\\": {<br>    \\\"stft_window_sec\\\": 3.876044014671557,<br>    \\\"stft_overlap\\\": 0.5406530566868346,<br>    \\\"minSNR\\\": 7.935579515059443,<br>    \\\"stationary_frame_sec\\\": 4447.963530485839,<br>    \\\"cluster_size_t_sec\\\": 1.0099363516477107,<br>    \\\"cluster_distance_t_sec\\\": 2.2324611046922738,<br>    \\\"cluster_size_f_Hz\\\": 6.38439260131527,<br>    \\\"cluster_distance_f_Hz\\\": 3.02636390263788<br>  }<br>}\",\"{<br>  \\\"number\\\": 119,<br>  \\\"values\\\": [<br>    0.40906444009148313,<br>    0.02603183333364238<br>  ],<br>  \\\"params\\\": {<br>    \\\"stft_window_sec\\\": 3.876044014671557,<br>    \\\"stft_overlap\\\": 0.5199585018566151,<br>    \\\"minSNR\\\": 6.832943896905032,<br>    \\\"stationary_frame_sec\\\": 3901.5695550145033,<br>    \\\"cluster_size_t_sec\\\": 1.5190791447174379,<br>    \\\"cluster_distance_t_sec\\\": 1.2235209653348385,<br>    \\\"cluster_size_f_Hz\\\": 14.871626131202415,<br>    \\\"cluster_distance_f_Hz\\\": 0.839950833236347<br>  }<br>}\",\"{<br>  \\\"number\\\": 120,<br>  \\\"values\\\": [<br>    0.3290719692598134,<br>    0.06513493333356261<br>  ],<br>  \\\"params\\\": {<br>    \\\"stft_window_sec\\\": 0.8752357452484161,<br>    \\\"stft_overlap\\\": 0.8401116696596809,<br>    \\\"minSNR\\\": 8.697776667712489,<br>    \\\"stationary_frame_sec\\\": 298.52519024307463,<br>    \\\"cluster_size_t_sec\\\": 1.9550491250671787,<br>    \\\"cluster_distance_t_sec\\\": 0.28795346715717596,<br>    \\\"cluster_size_f_Hz\\\": 4.907776131767921,<br>    \\\"cluster_distance_f_Hz\\\": 4.834992824034131<br>  }<br>}\",\"{<br>  \\\"number\\\": 121,<br>  \\\"values\\\": [<br>    0.5462962951700103,<br>    0.030373700000078923<br>  ],<br>  \\\"params\\\": {<br>    \\\"stft_window_sec\\\": 3.188358786262087,<br>    \\\"stft_overlap\\\": 0.34984706450827197,<br>    \\\"minSNR\\\": 3.6327947714983253,<br>    \\\"stationary_frame_sec\\\": 3079.9622007794615,<br>    \\\"cluster_size_t_sec\\\": 4.4588319196794135,<br>    \\\"cluster_distance_t_sec\\\": 0.7243374882698137,<br>    \\\"cluster_size_f_Hz\\\": 4.907776131767921,<br>    \\\"cluster_distance_f_Hz\\\": 0.463955515963807<br>  }<br>}\",\"{<br>  \\\"number\\\": 122,<br>  \\\"values\\\": [<br>    0.5076235029652253,<br>    0.02547156666666221<br>  ],<br>  \\\"params\\\": {<br>    \\\"stft_window_sec\\\": 3.876044014671557,<br>    \\\"stft_overlap\\\": 0.48458985331778287,<br>    \\\"minSNR\\\": 9.945232516304921,<br>    \\\"stationary_frame_sec\\\": 682.5899294344694,<br>    \\\"cluster_size_t_sec\\\": 3.1212755660743206,<br>    \\\"cluster_distance_t_sec\\\": 2.2324611046922738,<br>    \\\"cluster_size_f_Hz\\\": 1.6938856408444392,<br>    \\\"cluster_distance_f_Hz\\\": 6.839561258675627<br>  }<br>}\",\"{<br>  \\\"number\\\": 123,<br>  \\\"values\\\": [<br>    0.6832392520038546,<br>    0.023688533333370287<br>  ],<br>  \\\"params\\\": {<br>    \\\"stft_window_sec\\\": 3.5009429809936643,<br>    \\\"stft_overlap\\\": 0.3268429332917654,<br>    \\\"minSNR\\\": 7.944369669916369,<br>    \\\"stationary_frame_sec\\\": 1323.3254188286671,<br>    \\\"cluster_size_t_sec\\\": 1.5377327740606055,<br>    \\\"cluster_distance_t_sec\\\": 2.4085819152706174,<br>    \\\"cluster_size_f_Hz\\\": 3.041398229363934,<br>    \\\"cluster_distance_f_Hz\\\": 6.839561258675627<br>  }<br>}\",\"{<br>  \\\"number\\\": 124,<br>  \\\"values\\\": [<br>    0.0,<br>    0.03265763333365612<br>  ],<br>  \\\"params\\\": {<br>    \\\"stft_window_sec\\\": 0.6251683894631543,<br>    \\\"stft_overlap\\\": 0.48458985331778287,<br>    \\\"minSNR\\\": 7.944369669916369,<br>    \\\"stationary_frame_sec\\\": 369.3180275358906,<br>    \\\"cluster_size_t_sec\\\": 1.0569425275459021,<br>    \\\"cluster_distance_t_sec\\\": 2.4085819152706174,<br>    \\\"cluster_size_f_Hz\\\": 48.78352808143787,<br>    \\\"cluster_distance_f_Hz\\\": 6.839561258675627<br>  }<br>}\",\"{<br>  \\\"number\\\": 125,<br>  \\\"values\\\": [<br>    0.6343724451813967,<br>    0.02281569999953111<br>  ],<br>  \\\"params\\\": {<br>    \\\"stft_window_sec\\\": 3.5009429809936643,<br>    \\\"stft_overlap\\\": 0.3268429332917654,<br>    \\\"minSNR\\\": 7.944369669916369,<br>    \\\"stationary_frame_sec\\\": 3191.704101768595,<br>    \\\"cluster_size_t_sec\\\": 1.5377327740606055,<br>    \\\"cluster_distance_t_sec\\\": 2.2324611046922738,<br>    \\\"cluster_size_f_Hz\\\": 6.38439260131527,<br>    \\\"cluster_distance_f_Hz\\\": 7.206411706274651<br>  }<br>}\",\"{<br>  \\\"number\\\": 126,<br>  \\\"values\\\": [<br>    0.0,<br>    0.021973466666774282<br>  ],<br>  \\\"params\\\": {<br>    \\\"stft_window_sec\\\": 0.8752357452484161,<br>    \\\"stft_overlap\\\": 0.3268429332917654,<br>    \\\"minSNR\\\": 7.944369669916369,<br>    \\\"stationary_frame_sec\\\": 305.80708301934806,<br>    \\\"cluster_size_t_sec\\\": 1.5377327740606055,<br>    \\\"cluster_distance_t_sec\\\": 0.26747511313238603,<br>    \\\"cluster_size_f_Hz\\\": 37.39964618431264,<br>    \\\"cluster_distance_f_Hz\\\": 4.834992824034131<br>  }<br>}\",\"{<br>  \\\"number\\\": 127,<br>  \\\"values\\\": [<br>    0.43097833441930006,<br>    0.026234133333673526<br>  ],<br>  \\\"params\\\": {<br>    \\\"stft_window_sec\\\": 3.188358786262087,<br>    \\\"stft_overlap\\\": 0.34984706450827197,<br>    \\\"minSNR\\\": 7.728190509678003,<br>    \\\"stationary_frame_sec\\\": 1540.9987274140403,<br>    \\\"cluster_size_t_sec\\\": 4.4588319196794135,<br>    \\\"cluster_distance_t_sec\\\": 0.28795346715717596,<br>    \\\"cluster_size_f_Hz\\\": 4.907776131767921,<br>    \\\"cluster_distance_f_Hz\\\": 5.0654212903738784<br>  }<br>}\",\"{<br>  \\\"number\\\": 128,<br>  \\\"values\\\": [<br>    0.0,<br>    0.02229539999946913<br>  ],<br>  \\\"params\\\": {<br>    \\\"stft_window_sec\\\": 3.56345981993998,<br>    \\\"stft_overlap\\\": 0.2566217823942133,<br>    \\\"minSNR\\\": 7.7404598317091,<br>    \\\"stationary_frame_sec\\\": 5519.06985709247,<br>    \\\"cluster_size_t_sec\\\": 4.782797936727424,<br>    \\\"cluster_distance_t_sec\\\": 1.9173828505573294,<br>    \\\"cluster_size_f_Hz\\\": 47.692050694790666,<br>    \\\"cluster_distance_f_Hz\\\": 16.95193687514681<br>  }<br>}\",\"{<br>  \\\"number\\\": 129,<br>  \\\"values\\\": [<br>    0.31892206300579035,<br>    0.034232499999840606<br>  ],<br>  \\\"params\\\": {<br>    \\\"stft_window_sec\\\": 3.876044014671557,<br>    \\\"stft_overlap\\\": 0.671906449177992,<br>    \\\"minSNR\\\": 5.943360725598856,<br>    \\\"stationary_frame_sec\\\": 2560.227487810987,<br>    \\\"cluster_size_t_sec\\\": 1.5190791447174379,<br>    \\\"cluster_distance_t_sec\\\": 1.2235209653348385,<br>    \\\"cluster_size_f_Hz\\\": 1.6938856408444392,<br>    \\\"cluster_distance_f_Hz\\\": 6.355553350520865<br>  }<br>}\",\"{<br>  \\\"number\\\": 130,<br>  \\\"values\\\": [<br>    0.7099495548676805,<br>    0.20868433333392508<br>  ],<br>  \\\"params\\\": {<br>    \\\"stft_window_sec\\\": 2.438156718906302,<br>    \\\"stft_overlap\\\": 0.8950027061446453,<br>    \\\"minSNR\\\": 6.5946973774370115,<br>    \\\"stationary_frame_sec\\\": 602.5374095979447,<br>    \\\"cluster_size_t_sec\\\": 1.5377327740606055,<br>    \\\"cluster_distance_t_sec\\\": 0.6865727452714245,<br>    \\\"cluster_size_f_Hz\\\": 6.38439260131527,<br>    \\\"cluster_distance_f_Hz\\\": 7.5042790006611595<br>  }<br>}\",\"{<br>  \\\"number\\\": 131,<br>  \\\"values\\\": [<br>    0.5092592581340021,<br>    0.06773373333362542<br>  ],<br>  \\\"params\\\": {<br>    \\\"stft_window_sec\\\": 3.56345981993998,<br>    \\\"stft_overlap\\\": 0.29392356313765744,<br>    \\\"minSNR\\\": 3.902952824699919,<br>    \\\"stationary_frame_sec\\\": 5120.283969701175,<br>    \\\"cluster_size_t_sec\\\": 2.684838642836402,<br>    \\\"cluster_distance_t_sec\\\": 0.982412614226722,<br>    \\\"cluster_size_f_Hz\\\": 26.872383524753197,<br>    \\\"cluster_distance_f_Hz\\\": 22.304078597872266<br>  }<br>}\",\"{<br>  \\\"number\\\": 132,<br>  \\\"values\\\": [<br>    0.5573156670421833,<br>    0.033227066666161896<br>  ],<br>  \\\"params\\\": {<br>    \\\"stft_window_sec\\\": 1.562920973657886,<br>    \\\"stft_overlap\\\": 0.6078164242746442,<br>    \\\"minSNR\\\": 8.376493131118163,<br>    \\\"stationary_frame_sec\\\": 563.0565540407606,<br>    \\\"cluster_size_t_sec\\\": 0.6065176042498466,<br>    \\\"cluster_distance_t_sec\\\": 0.3554050208161194,<br>    \\\"cluster_size_f_Hz\\\": 15.890372699711897,<br>    \\\"cluster_distance_f_Hz\\\": 20.34507382352514<br>  }<br>}\",\"{<br>  \\\"number\\\": 133,<br>  \\\"values\\\": [<br>    0.0,<br>    0.02483846666594521<br>  ],<br>  \\\"params\\\": {<br>    \\\"stft_window_sec\\\": 1.875505168389463,<br>    \\\"stft_overlap\\\": 0.4505587333513695,<br>    \\\"minSNR\\\": 9.945638779233771,<br>    \\\"stationary_frame_sec\\\": 2031.8130093482903,<br>    \\\"cluster_size_t_sec\\\": 4.109173441328562,<br>    \\\"cluster_distance_t_sec\\\": 0.6865727452714245,<br>    \\\"cluster_size_f_Hz\\\": 31.40196200334181,<br>    \\\"cluster_distance_f_Hz\\\": 3.02636390263788<br>  }<br>}\",\"{<br>  \\\"number\\\": 134,<br>  \\\"values\\\": [<br>    0.6739498632820493,<br>    0.04032326666735268<br>  ],<br>  \\\"params\\\": {<br>    \\\"stft_window_sec\\\": 1.875505168389463,<br>    \\\"stft_overlap\\\": 0.7180851149413547,<br>    \\\"minSNR\\\": 7.944369669916369,<br>    \\\"stationary_frame_sec\\\": 626.8766079257612,<br>    \\\"cluster_size_t_sec\\\": 1.5377327740606055,<br>    \\\"cluster_distance_t_sec\\\": 1.8711765749974374,<br>    \\\"cluster_size_f_Hz\\\": 11.948650894200675,<br>    \\\"cluster_distance_f_Hz\\\": 5.2298501207254375<br>  }<br>}\",\"{<br>  \\\"number\\\": 135,<br>  \\\"values\\\": [<br>    0.7118538933604254,<br>    0.04190733333295308<br>  ],<br>  \\\"params\\\": {<br>    \\\"stft_window_sec\\\": 0.5001347115705235,<br>    \\\"stft_overlap\\\": 0.7180851149413547,<br>    \\\"minSNR\\\": 4.238141726893733,<br>    \\\"stationary_frame_sec\\\": 339.4721187513262,<br>    \\\"cluster_size_t_sec\\\": 1.6093966660808094,<br>    \\\"cluster_distance_t_sec\\\": 0.02518145362582519,<br>    \\\"cluster_size_f_Hz\\\": 11.948650894200675,<br>    \\\"cluster_distance_f_Hz\\\": 5.2298501207254375<br>  }<br>}\",\"{<br>  \\\"number\\\": 136,<br>  \\\"values\\\": [<br>    0.5462962951700103,<br>    0.03742056666609036<br>  ],<br>  \\\"params\\\": {<br>    \\\"stft_window_sec\\\": 3.000808269423141,<br>    \\\"stft_overlap\\\": 0.48458985331778287,<br>    \\\"minSNR\\\": 4.685514225399124,<br>    \\\"stationary_frame_sec\\\": 1541.8954611057666,<br>    \\\"cluster_size_t_sec\\\": 3.1212755660743206,<br>    \\\"cluster_distance_t_sec\\\": 2.4085819152706174,<br>    \\\"cluster_size_f_Hz\\\": 11.754507763662092,<br>    \\\"cluster_distance_f_Hz\\\": 15.53700460423369<br>  }<br>}\",\"{<br>  \\\"number\\\": 137,<br>  \\\"values\\\": [<br>    0.5370370359110083,<br>    0.032280766666190175<br>  ],<br>  \\\"params\\\": {<br>    \\\"stft_window_sec\\\": 3.876044014671557,<br>    \\\"stft_overlap\\\": 0.48458985331778287,<br>    \\\"minSNR\\\": 4.685514225399124,<br>    \\\"stationary_frame_sec\\\": 4240.383973929315,<br>    \\\"cluster_size_t_sec\\\": 3.1212755660743206,<br>    \\\"cluster_distance_t_sec\\\": 2.4085819152706174,<br>    \\\"cluster_size_f_Hz\\\": 48.78352808143787,<br>    \\\"cluster_distance_f_Hz\\\": 16.450167392943364<br>  }<br>}\",\"{<br>  \\\"number\\\": 138,<br>  \\\"values\\\": [<br>    0.6018518507240227,<br>    0.0516337333338015<br>  ],<br>  \\\"params\\\": {<br>    \\\"stft_window_sec\\\": 3.188358786262087,<br>    \\\"stft_overlap\\\": 0.711996622426708,<br>    \\\"minSNR\\\": 4.402127042246121,<br>    \\\"stationary_frame_sec\\\": 358.71196814879806,<br>    \\\"cluster_size_t_sec\\\": 1.6093966660808094,<br>    \\\"cluster_distance_t_sec\\\": 1.7465159471038458,<br>    \\\"cluster_size_f_Hz\\\": 4.907776131767921,<br>    \\\"cluster_distance_f_Hz\\\": 5.0654212903738784<br>  }<br>}\",\"{<br>  \\\"number\\\": 139,<br>  \\\"values\\\": [<br>    0.15624999960123698,<br>    0.026949399999769714<br>  ],<br>  \\\"params\\\": {<br>    \\\"stft_window_sec\\\": 1.2503367789263087,<br>    \\\"stft_overlap\\\": 0.2917938518827785,<br>    \\\"minSNR\\\": 7.944369669916369,<br>    \\\"stationary_frame_sec\\\": 2099.189651572685,<br>    \\\"cluster_size_t_sec\\\": 1.5377327740606055,<br>    \\\"cluster_distance_t_sec\\\": 2.3065378752133023,<br>    \\\"cluster_size_f_Hz\\\": 29.080096114387473,<br>    \\\"cluster_distance_f_Hz\\\": 4.441307653593663<br>  }<br>}\",\"{<br>  \\\"number\\\": 140,<br>  \\\"values\\\": [<br>    0.0,<br>    0.0658680000002884<br>  ],<br>  \\\"params\\\": {<br>    \\\"stft_window_sec\\\": 0.8752357452484161,<br>    \\\"stft_overlap\\\": 0.8401116696596809,<br>    \\\"minSNR\\\": 8.697776667712489,<br>    \\\"stationary_frame_sec\\\": 159.29588547254335,<br>    \\\"cluster_size_t_sec\\\": 4.0550597537353825,<br>    \\\"cluster_distance_t_sec\\\": 0.26747511313238603,<br>    \\\"cluster_size_f_Hz\\\": 35.95487076758895,<br>    \\\"cluster_distance_f_Hz\\\": 4.834992824034131<br>  }<br>}\",\"{<br>  \\\"number\\\": 141,<br>  \\\"values\\\": [<br>    0.6111111099830248,<br>    0.09826223333311646<br>  ],<br>  \\\"params\\\": {<br>    \\\"stft_window_sec\\\": 1.875505168389463,<br>    \\\"stft_overlap\\\": 0.5199585018566151,<br>    \\\"minSNR\\\": 3.743069970230272,<br>    \\\"stationary_frame_sec\\\": 1239.730882726132,<br>    \\\"cluster_size_t_sec\\\": 2.308084711378078,<br>    \\\"cluster_distance_t_sec\\\": 2.4085819152706174,<br>    \\\"cluster_size_f_Hz\\\": 14.871626131202415,<br>    \\\"cluster_distance_f_Hz\\\": 23.53563499971093<br>  }<br>}\",\"{<br>  \\\"number\\\": 142,<br>  \\\"values\\\": [<br>    0.49999999887499996,<br>    0.028666866666450613<br>  ],<br>  \\\"params\\\": {<br>    \\\"stft_window_sec\\\": 3.751010336778926,<br>    \\\"stft_overlap\\\": 0.45697149085161,<br>    \\\"minSNR\\\": 5.1066708953476745,<br>    \\\"stationary_frame_sec\\\": 3501.414989279836,<br>    \\\"cluster_size_t_sec\\\": 4.109173441328562,<br>    \\\"cluster_distance_t_sec\\\": 0.6865727452714245,<br>    \\\"cluster_size_f_Hz\\\": 12.652488093869591,<br>    \\\"cluster_distance_f_Hz\\\": 18.08774036217993<br>  }<br>}\",\"{<br>  \\\"number\\\": 143,<br>  \\\"values\\\": [<br>    0.0,<br>    0.02232326666641408<br>  ],<br>  \\\"params\\\": {<br>    \\\"stft_window_sec\\\": 3.56345981993998,<br>    \\\"stft_overlap\\\": 0.2566217823942133,<br>    \\\"minSNR\\\": 7.7404598317091,<br>    \\\"stationary_frame_sec\\\": 4406.235517237321,<br>    \\\"cluster_size_t_sec\\\": 1.0099363516477107,<br>    \\\"cluster_distance_t_sec\\\": 2.2324611046922738,<br>    \\\"cluster_size_f_Hz\\\": 49.55030685351524,<br>    \\\"cluster_distance_f_Hz\\\": 16.95193687514681<br>  }<br>}\",\"{<br>  \\\"number\\\": 144,<br>  \\\"values\\\": [<br>    0.0,<br>    0.02400256666714995<br>  ],<br>  \\\"params\\\": {<br>    \\\"stft_window_sec\\\": 0.7502020673557852,<br>    \\\"stft_overlap\\\": 0.3268429332917654,<br>    \\\"minSNR\\\": 8.08233675069891,<br>    \\\"stationary_frame_sec\\\": 915.1211188286031,<br>    \\\"cluster_size_t_sec\\\": 4.299497363206001,<br>    \\\"cluster_distance_t_sec\\\": 1.8715225623490865,<br>    \\\"cluster_size_f_Hz\\\": 35.95487076758895,<br>    \\\"cluster_distance_f_Hz\\\": 18.08774036217993<br>  }<br>}\",\"{<br>  \\\"number\\\": 145,<br>  \\\"values\\\": [<br>    0.4470055150393181,<br>    0.02639656666603211<br>  ],<br>  \\\"params\\\": {<br>    \\\"stft_window_sec\\\": 0.8752357452484161,<br>    \\\"stft_overlap\\\": 0.48458985331778287,<br>    \\\"minSNR\\\": 4.685514225399124,<br>    \\\"stationary_frame_sec\\\": 1068.1359627310103,<br>    \\\"cluster_size_t_sec\\\": 3.1212755660743206,<br>    \\\"cluster_distance_t_sec\\\": 2.4085819152706174,<br>    \\\"cluster_size_f_Hz\\\": 48.78352808143787,<br>    \\\"cluster_distance_f_Hz\\\": 6.839561258675627<br>  }<br>}\",\"{<br>  \\\"number\\\": 146,<br>  \\\"values\\\": [<br>    0.3091643376987185,<br>    0.03769579999971029<br>  ],<br>  \\\"params\\\": {<br>    \\\"stft_window_sec\\\": 2.625707235745248,<br>    \\\"stft_overlap\\\": 0.5467773409390144,<br>    \\\"minSNR\\\": 5.496204894760067,<br>    \\\"stationary_frame_sec\\\": 923.5669063940654,<br>    \\\"cluster_size_t_sec\\\": 1.7365293926743997,<br>    \\\"cluster_distance_t_sec\\\": 2.179272328836552,<br>    \\\"cluster_size_f_Hz\\\": 3.3766687041382193,<br>    \\\"cluster_distance_f_Hz\\\": 3.9451453523930287<br>  }<br>}\",\"{<br>  \\\"number\\\": 147,<br>  \\\"values\\\": [<br>    0.15424679435913566,<br>    0.021528400000230857<br>  ],<br>  \\\"params\\\": {<br>    \\\"stft_window_sec\\\": 1.9380220073357783,<br>    \\\"stft_overlap\\\": 0.3268429332917654,<br>    \\\"minSNR\\\": 7.944369669916369,<br>    \\\"stationary_frame_sec\\\": 326.33167677649743,<br>    \\\"cluster_size_t_sec\\\": 1.5377327740606055,<br>    \\\"cluster_distance_t_sec\\\": 2.3065378752133023,<br>    \\\"cluster_size_f_Hz\\\": 29.080096114387473,<br>    \\\"cluster_distance_f_Hz\\\": 20.20082217742991<br>  }<br>}\",\"{<br>  \\\"number\\\": 148,<br>  \\\"values\\\": [<br>    0.6713115708891054,<br>    0.03640019999966171<br>  ],<br>  \\\"params\\\": {<br>    \\\"stft_window_sec\\\": 3.5009429809936643,<br>    \\\"stft_overlap\\\": 0.671906449177992,<br>    \\\"minSNR\\\": 6.5946973774370115,<br>    \\\"stationary_frame_sec\\\": 973.7447072409813,<br>    \\\"cluster_size_t_sec\\\": 1.552385873779587,<br>    \\\"cluster_distance_t_sec\\\": 2.2324611046922738,<br>    \\\"cluster_size_f_Hz\\\": 1.6938856408444392,<br>    \\\"cluster_distance_f_Hz\\\": 1.6540612555833638<br>  }<br>}\",\"{<br>  \\\"number\\\": 149,<br>  \\\"values\\\": [<br>    0.4270833325262369,<br>    0.03804266666672144<br>  ],<br>  \\\"params\\\": {<br>    \\\"stft_window_sec\\\": 1.875505168389463,<br>    \\\"stft_overlap\\\": 0.7180851149413547,<br>    \\\"minSNR\\\": 9.945638779233771,<br>    \\\"stationary_frame_sec\\\": 481.27910301808447,<br>    \\\"cluster_size_t_sec\\\": 2.308084711378078,<br>    \\\"cluster_distance_t_sec\\\": 2.4085819152706174,<br>    \\\"cluster_size_f_Hz\\\": 11.948650894200675,<br>    \\\"cluster_distance_f_Hz\\\": 5.2298501207254375<br>  }<br>}\",\"{<br>  \\\"number\\\": 150,<br>  \\\"values\\\": [<br>    0.06944444420814043,<br>    0.02622966666664676<br>  ],<br>  \\\"params\\\": {<br>    \\\"stft_window_sec\\\": 2.9382914304768253,<br>    \\\"stft_overlap\\\": 0.33571795942737104,<br>    \\\"minSNR\\\": 9.840767164376633,<br>    \\\"stationary_frame_sec\\\": 2617.872389487126,<br>    \\\"cluster_size_t_sec\\\": 0.01184204818295731,<br>    \\\"cluster_distance_t_sec\\\": 1.7329187230651624,<br>    \\\"cluster_size_f_Hz\\\": 25.38265142717374,<br>    \\\"cluster_distance_f_Hz\\\": 0.5835302365610834<br>  }<br>}\",\"{<br>  \\\"number\\\": 151,<br>  \\\"values\\\": [<br>    0.2410954295829315,<br>    0.14947216666678287<br>  ],<br>  \\\"params\\\": {<br>    \\\"stft_window_sec\\\": 0.5001347115705235,<br>    \\\"stft_overlap\\\": 0.9204997298496989,<br>    \\\"minSNR\\\": 4.238141726893733,<br>    \\\"stationary_frame_sec\\\": 14.108290674783902,<br>    \\\"cluster_size_t_sec\\\": 1.6093966660808094,<br>    \\\"cluster_distance_t_sec\\\": 0.02518145362582519,<br>    \\\"cluster_size_f_Hz\\\": 38.61076071172862,<br>    \\\"cluster_distance_f_Hz\\\": 6.000640934269066<br>  }<br>}\",\"{<br>  \\\"number\\\": 152,<br>  \\\"values\\\": [<br>    0.14508928526737275,<br>    0.03126813333316628<br>  ],<br>  \\\"params\\\": {<br>    \\\"stft_window_sec\\\": 2.2506062020673556,<br>    \\\"stft_overlap\\\": 0.3268429332917654,<br>    \\\"minSNR\\\": 7.7404598317091,<br>    \\\"stationary_frame_sec\\\": 1688.369268924966,<br>    \\\"cluster_size_t_sec\\\": 1.5377327740606055,<br>    \\\"cluster_distance_t_sec\\\": 1.9173828505573294,<br>    \\\"cluster_size_f_Hz\\\": 29.080096114387473,<br>    \\\"cluster_distance_f_Hz\\\": 20.20082217742991<br>  }<br>}\",\"{<br>  \\\"number\\\": 153,<br>  \\\"values\\\": [<br>    0.5296800513925944,<br>    0.025929933333221317<br>  ],<br>  \\\"params\\\": {<br>    \\\"stft_window_sec\\\": 3.56345981993998,<br>    \\\"stft_overlap\\\": 0.4101247586473745,<br>    \\\"minSNR\\\": 6.491329989591369,<br>    \\\"stationary_frame_sec\\\": 3009.989872896746,<br>    \\\"cluster_size_t_sec\\\": 1.9550491250671787,<br>    \\\"cluster_distance_t_sec\\\": 1.9173828505573294,<br>    \\\"cluster_size_f_Hz\\\": 4.907776131767921,<br>    \\\"cluster_distance_f_Hz\\\": 5.0654212903738784<br>  }<br>}\",\"{<br>  \\\"number\\\": 154,<br>  \\\"values\\\": [<br>    0.7405181612342635,<br>    0.02830019999904228<br>  ],<br>  \\\"params\\\": {<br>    \\\"stft_window_sec\\\": 1.9380220073357783,<br>    \\\"stft_overlap\\\": 0.5467773409390144,<br>    \\\"minSNR\\\": 9.668916034945365,<br>    \\\"stationary_frame_sec\\\": 1466.4106989483598,<br>    \\\"cluster_size_t_sec\\\": 1.5377327740606055,<br>    \\\"cluster_distance_t_sec\\\": 2.3065378752133023,<br>    \\\"cluster_size_f_Hz\\\": 3.3766687041382193,<br>    \\\"cluster_distance_f_Hz\\\": 3.9451453523930287<br>  }<br>}\",\"{<br>  \\\"number\\\": 155,<br>  \\\"values\\\": [<br>    0.8132018310025358,<br>    0.038245233333024466<br>  ],<br>  \\\"params\\\": {<br>    \\\"stft_window_sec\\\": 3.876044014671557,<br>    \\\"stft_overlap\\\": 0.7180851149413547,<br>    \\\"minSNR\\\": 9.945232516304921,<br>    \\\"stationary_frame_sec\\\": 2385.1058871387345,<br>    \\\"cluster_size_t_sec\\\": 1.0099363516477107,<br>    \\\"cluster_distance_t_sec\\\": 0.02518145362582519,<br>    \\\"cluster_size_f_Hz\\\": 1.6938856408444392,<br>    \\\"cluster_distance_f_Hz\\\": 5.2298501207254375<br>  }<br>}\",\"{<br>  \\\"number\\\": 156,<br>  \\\"values\\\": [<br>    0.23809523767857146,<br>    0.04803183333388006<br>  ],<br>  \\\"params\\\": {<br>    \\\"stft_window_sec\\\": 2.625707235745248,<br>    \\\"stft_overlap\\\": 0.671906449177992,<br>    \\\"minSNR\\\": 9.945232516304921,<br>    \\\"stationary_frame_sec\\\": 667.3395396275248,<br>    \\\"cluster_size_t_sec\\\": 1.0099363516477107,<br>    \\\"cluster_distance_t_sec\\\": 2.2324611046922738,<br>    \\\"cluster_size_f_Hz\\\": 21.918267879149013,<br>    \\\"cluster_distance_f_Hz\\\": 16.450167392943364<br>  }<br>}\",\"{<br>  \\\"number\\\": 157,<br>  \\\"values\\\": [<br>    0.6111111099830248,<br>    0.048661900000297464<br>  ],<br>  \\\"params\\\": {<br>    \\\"stft_window_sec\\\": 3.188358786262087,<br>    \\\"stft_overlap\\\": 0.6410913891407053,<br>    \\\"minSNR\\\": 4.194752475243824,<br>    \\\"stationary_frame_sec\\\": 958.8527182269434,<br>    \\\"cluster_size_t_sec\\\": 1.0099363516477107,<br>    \\\"cluster_distance_t_sec\\\": 2.2324611046922738,<br>    \\\"cluster_size_f_Hz\\\": 12.135169596366874,<br>    \\\"cluster_distance_f_Hz\\\": 7.206411706274651<br>  }<br>}\",\"{<br>  \\\"number\\\": 158,<br>  \\\"values\\\": [<br>    0.0,<br>    0.02522343333354608<br>  ],<br>  \\\"params\\\": {<br>    \\\"stft_window_sec\\\": 3.188358786262087,<br>    \\\"stft_overlap\\\": 0.2850817683743029,<br>    \\\"minSNR\\\": 7.944369669916369,<br>    \\\"stationary_frame_sec\\\": 1760.2811395617778,<br>    \\\"cluster_size_t_sec\\\": 3.4109293233707065,<br>    \\\"cluster_distance_t_sec\\\": 0.4518501666186092,<br>    \\\"cluster_size_f_Hz\\\": 34.61639294594516,<br>    \\\"cluster_distance_f_Hz\\\": 16.621985313824993<br>  }<br>}\",\"{<br>  \\\"number\\\": 159,<br>  \\\"values\\\": [<br>    0.20833333290798617,<br>    0.024288133333053945<br>  ],<br>  \\\"params\\\": {<br>    \\\"stft_window_sec\\\": 1.562920973657886,<br>    \\\"stft_overlap\\\": 0.3422343841729652,<br>    \\\"minSNR\\\": 8.08233675069891,<br>    \\\"stationary_frame_sec\\\": 2326.551521325754,<br>    \\\"cluster_size_t_sec\\\": 4.299497363206001,<br>    \\\"cluster_distance_t_sec\\\": 1.8715225623490865,<br>    \\\"cluster_size_f_Hz\\\": 17.77358534365424,<br>    \\\"cluster_distance_f_Hz\\\": 20.34507382352514<br>  }<br>}\",\"{<br>  \\\"number\\\": 161,<br>  \\\"values\\\": [<br>    0.0,<br>    0.02239976666593672<br>  ],<br>  \\\"params\\\": {<br>    \\\"stft_window_sec\\\": 3.56345981993998,<br>    \\\"stft_overlap\\\": 0.2566217823942133,<br>    \\\"minSNR\\\": 7.7404598317091,<br>    \\\"stationary_frame_sec\\\": 1792.5524596500222,<br>    \\\"cluster_size_t_sec\\\": 4.782797936727424,<br>    \\\"cluster_distance_t_sec\\\": 1.4673075033968246,<br>    \\\"cluster_size_f_Hz\\\": 49.55030685351524,<br>    \\\"cluster_distance_f_Hz\\\": 16.95193687514681<br>  }<br>}\",\"{<br>  \\\"number\\\": 162,<br>  \\\"values\\\": [<br>    0.606097559903993,<br>    0.02260273333316339<br>  ],<br>  \\\"params\\\": {<br>    \\\"stft_window_sec\\\": 3.5009429809936643,<br>    \\\"stft_overlap\\\": 0.3268429332917654,<br>    \\\"minSNR\\\": 7.944369669916369,<br>    \\\"stationary_frame_sec\\\": 5667.403006804909,<br>    \\\"cluster_size_t_sec\\\": 1.5377327740606055,<br>    \\\"cluster_distance_t_sec\\\": 2.2324611046922738,<br>    \\\"cluster_size_f_Hz\\\": 1.6938856408444392,<br>    \\\"cluster_distance_f_Hz\\\": 20.20082217742991<br>  }<br>}\",\"{<br>  \\\"number\\\": 163,<br>  \\\"values\\\": [<br>    0.7332659467443867,<br>    0.17886030000014821<br>  ],<br>  \\\"params\\\": {<br>    \\\"stft_window_sec\\\": 1.6879546515505166,<br>    \\\"stft_overlap\\\": 0.9204997298496989,<br>    \\\"minSNR\\\": 8.697776667712489,<br>    \\\"stationary_frame_sec\\\": 145.85504534647455,<br>    \\\"cluster_size_t_sec\\\": 1.5377327740606055,<br>    \\\"cluster_distance_t_sec\\\": 0.6932536058798339,<br>    \\\"cluster_size_f_Hz\\\": 6.38439260131527,<br>    \\\"cluster_distance_f_Hz\\\": 4.834992824034131<br>  }<br>}\",\"{<br>  \\\"number\\\": 164,<br>  \\\"values\\\": [<br>    0.17628205086677148,<br>    0.0529399666665995<br>  ],<br>  \\\"params\\\": {<br>    \\\"stft_window_sec\\\": 1.2503367789263087,<br>    \\\"stft_overlap\\\": 0.7122421069558007,<br>    \\\"minSNR\\\": 7.944369669916369,<br>    \\\"stationary_frame_sec\\\": 725.4286003963784,<br>    \\\"cluster_size_t_sec\\\": 1.5377327740606055,<br>    \\\"cluster_distance_t_sec\\\": 2.3065378752133023,<br>    \\\"cluster_size_f_Hz\\\": 29.080096114387473,<br>    \\\"cluster_distance_f_Hz\\\": 14.892836679338526<br>  }<br>}\",\"{<br>  \\\"number\\\": 165,<br>  \\\"values\\\": [<br>    0.2762923345174178,<br>    0.027871133332761627<br>  ],<br>  \\\"params\\\": {<br>    \\\"stft_window_sec\\\": 2.2506062020673556,<br>    \\\"stft_overlap\\\": 0.29392356313765744,<br>    \\\"minSNR\\\": 9.840767164376633,<br>    \\\"stationary_frame_sec\\\": 1135.3389127508312,<br>    \\\"cluster_size_t_sec\\\": 1.8587628823574303,<br>    \\\"cluster_distance_t_sec\\\": 0.7243374882698137,<br>    \\\"cluster_size_f_Hz\\\": 17.030393440096525,<br>    \\\"cluster_distance_f_Hz\\\": 0.463955515963807<br>  }<br>}\",\"{<br>  \\\"number\\\": 166,<br>  \\\"values\\\": [<br>    0.5208333324427626,<br>    0.028281266666150866<br>  ],<br>  \\\"params\\\": {<br>    \\\"stft_window_sec\\\": 3.188358786262087,<br>    \\\"stft_overlap\\\": 0.48458985331778287,<br>    \\\"minSNR\\\": 9.945232516304921,<br>    \\\"stationary_frame_sec\\\": 3486.503985978769,<br>    \\\"cluster_size_t_sec\\\": 3.1212755660743206,<br>    \\\"cluster_distance_t_sec\\\": 2.3171105712794295,<br>    \\\"cluster_size_f_Hz\\\": 1.6938856408444392,<br>    \\\"cluster_distance_f_Hz\\\": 0.463955515963807<br>  }<br>}\",\"{<br>  \\\"number\\\": 167,<br>  \\\"values\\\": [<br>    0.0,<br>    0.022073400000408583<br>  ],<br>  \\\"params\\\": {<br>    \\\"stft_window_sec\\\": 3.5009429809936643,<br>    \\\"stft_overlap\\\": 0.2566217823942133,<br>    \\\"minSNR\\\": 7.944369669916369,<br>    \\\"stationary_frame_sec\\\": 5617.140355665497,<br>    \\\"cluster_size_t_sec\\\": 1.5377327740606055,<br>    \\\"cluster_distance_t_sec\\\": 2.4085819152706174,<br>    \\\"cluster_size_f_Hz\\\": 49.55030685351524,<br>    \\\"cluster_distance_f_Hz\\\": 6.839561258675627<br>  }<br>}\",\"{<br>  \\\"number\\\": 168,<br>  \\\"values\\\": [<br>    0.23437499947496207,<br>    0.0291631333332892<br>  ],<br>  \\\"params\\\": {<br>    \\\"stft_window_sec\\\": 3.188358786262087,<br>    \\\"stft_overlap\\\": 0.34984706450827197,<br>    \\\"minSNR\\\": 3.902952824699919,<br>    \\\"stationary_frame_sec\\\": 2529.46381940601,<br>    \\\"cluster_size_t_sec\\\": 4.4588319196794135,<br>    \\\"cluster_distance_t_sec\\\": 0.7243374882698137,<br>    \\\"cluster_size_f_Hz\\\": 26.872383524753197,<br>    \\\"cluster_distance_f_Hz\\\": 0.463955515963807<br>  }<br>}\",\"{<br>  \\\"number\\\": 169,<br>  \\\"values\\\": [<br>    0.4114350146358016,<br>    0.022131333332557308<br>  ],<br>  \\\"params\\\": {<br>    \\\"stft_window_sec\\\": 3.8135271757252416,<br>    \\\"stft_overlap\\\": 0.33571795942737104,<br>    \\\"minSNR\\\": 7.205840903537979,<br>    \\\"stationary_frame_sec\\\": 2393.22675786371,<br>    \\\"cluster_size_t_sec\\\": 1.7365293926743997,<br>    \\\"cluster_distance_t_sec\\\": 2.179272328836552,<br>    \\\"cluster_size_f_Hz\\\": 9.226676653244908,<br>    \\\"cluster_distance_f_Hz\\\": 18.08774036217993<br>  }<br>}\",\"{<br>  \\\"number\\\": 170,<br>  \\\"values\\\": [<br>    0.5092592581340022,<br>    0.026119299999966945<br>  ],<br>  \\\"params\\\": {<br>    \\\"stft_window_sec\\\": 1.562920973657886,<br>    \\\"stft_overlap\\\": 0.2566217823942133,<br>    \\\"minSNR\\\": 4.406911603022468,<br>    \\\"stationary_frame_sec\\\": 731.459293768448,<br>    \\\"cluster_size_t_sec\\\": 1.0099363516477107,<br>    \\\"cluster_distance_t_sec\\\": 0.3554050208161194,<br>    \\\"cluster_size_f_Hz\\\": 49.55030685351524,<br>    \\\"cluster_distance_f_Hz\\\": 20.34507382352514<br>  }<br>}\",\"{<br>  \\\"number\\\": 171,<br>  \\\"values\\\": [<br>    0.0,<br>    0.023087200000494097<br>  ],<br>  \\\"params\\\": {<br>    \\\"stft_window_sec\\\": 3.751010336778926,<br>    \\\"stft_overlap\\\": 0.2850817683743029,<br>    \\\"minSNR\\\": 8.24421140300398,<br>    \\\"stationary_frame_sec\\\": 2990.7914055946967,<br>    \\\"cluster_size_t_sec\\\": 3.4109293233707065,<br>    \\\"cluster_distance_t_sec\\\": 1.9115648575630795,<br>    \\\"cluster_size_f_Hz\\\": 43.901252827543885,<br>    \\\"cluster_distance_f_Hz\\\": 19.13495130856502<br>  }<br>}\",\"{<br>  \\\"number\\\": 172,<br>  \\\"values\\\": [<br>    0.2150537630159556,<br>    0.03459109999979167<br>  ],<br>  \\\"params\\\": {<br>    \\\"stft_window_sec\\\": 1.9380220073357783,<br>    \\\"stft_overlap\\\": 0.6790947592520148,<br>    \\\"minSNR\\\": 9.840767164376633,<br>    \\\"stationary_frame_sec\\\": 220.08037390744715,<br>    \\\"cluster_size_t_sec\\\": 3.812656964298477,<br>    \\\"cluster_distance_t_sec\\\": 2.3065378752133023,<br>    \\\"cluster_size_f_Hz\\\": 9.226676653244908,<br>    \\\"cluster_distance_f_Hz\\\": 18.08774036217993<br>  }<br>}\",\"{<br>  \\\"number\\\": 173,<br>  \\\"values\\\": [<br>    0.7069777445554614,<br>    0.038575500000357955<br>  ],<br>  \\\"params\\\": {<br>    \\\"stft_window_sec\\\": 0.5001347115705235,<br>    \\\"stft_overlap\\\": 0.7180851149413547,<br>    \\\"minSNR\\\": 8.697776667712489,<br>    \\\"stationary_frame_sec\\\": 340.82414044068804,<br>    \\\"cluster_size_t_sec\\\": 0.06493215724680423,<br>    \\\"cluster_distance_t_sec\\\": 0.02518145362582519,<br>    \\\"cluster_size_f_Hz\\\": 4.907776131767921,<br>    \\\"cluster_distance_f_Hz\\\": 5.2298501207254375<br>  }<br>}\",\"{<br>  \\\"number\\\": 175,<br>  \\\"values\\\": [<br>    0.16666666625833335,<br>    0.02887066666608007<br>  ],<br>  \\\"params\\\": {<br>    \\\"stft_window_sec\\\": 3.876044014671557,<br>    \\\"stft_overlap\\\": 0.5199585018566151,<br>    \\\"minSNR\\\": 5.9763518224754,<br>    \\\"stationary_frame_sec\\\": 3817.359673848405,<br>    \\\"cluster_size_t_sec\\\": 1.5190791447174379,<br>    \\\"cluster_distance_t_sec\\\": 2.266190818664466,<br>    \\\"cluster_size_f_Hz\\\": 26.17407029741753,<br>    \\\"cluster_distance_f_Hz\\\": 0.5835302365610834<br>  }<br>}\",\"{<br>  \\\"number\\\": 176,<br>  \\\"values\\\": [<br>    0.0,<br>    0.026618199999878318<br>  ],<br>  \\\"params\\\": {<br>    \\\"stft_window_sec\\\": 2.625707235745248,<br>    \\\"stft_overlap\\\": 0.23542622126095847,<br>    \\\"minSNR\\\": 9.194267919992086,<br>    \\\"stationary_frame_sec\\\": 1565.2831620922686,<br>    \\\"cluster_size_t_sec\\\": 1.7365293926743997,<br>    \\\"cluster_distance_t_sec\\\": 2.2324611046922738,<br>    \\\"cluster_size_f_Hz\\\": 48.08234930623575,<br>    \\\"cluster_distance_f_Hz\\\": 14.055419713911322<br>  }<br>}\",\"{<br>  \\\"number\\\": 177,<br>  \\\"values\\\": [<br>    0.4644547463989353,<br>    0.02477416666655093<br>  ],<br>  \\\"params\\\": {<br>    \\\"stft_window_sec\\\": 1.562920973657886,<br>    \\\"stft_overlap\\\": 0.35649990840982915,<br>    \\\"minSNR\\\": 7.205840903537979,<br>    \\\"stationary_frame_sec\\\": 1811.1013170355816,<br>    \\\"cluster_size_t_sec\\\": 1.5184146048822156,<br>    \\\"cluster_distance_t_sec\\\": 0.8419093622177722,<br>    \\\"cluster_size_f_Hz\\\": 16.656611206785243,<br>    \\\"cluster_distance_f_Hz\\\": 4.441307653593663<br>  }<br>}\",\"{<br>  \\\"number\\\": 178,<br>  \\\"values\\\": [<br>    0.49999999887499996,<br>    0.04415616666634984<br>  ],<br>  \\\"params\\\": {<br>    \\\"stft_window_sec\\\": 3.876044014671557,<br>    \\\"stft_overlap\\\": 0.29392356313765744,<br>    \\\"minSNR\\\": 4.194752475243824,<br>    \\\"stationary_frame_sec\\\": 2673.3884847771287,<br>    \\\"cluster_size_t_sec\\\": 1.0099363516477107,<br>    \\\"cluster_distance_t_sec\\\": 2.2324611046922738,<br>    \\\"cluster_size_f_Hz\\\": 1.6938856408444392,<br>    \\\"cluster_distance_f_Hz\\\": 23.373007694835817<br>  }<br>}\",\"{<br>  \\\"number\\\": 179,<br>  \\\"values\\\": [<br>    0.0,<br>    0.021614933332784858<br>  ],<br>  \\\"params\\\": {<br>    \\\"stft_window_sec\\\": 3.751010336778926,<br>    \\\"stft_overlap\\\": 0.3268429332917654,<br>    \\\"minSNR\\\": 7.944369669916369,<br>    \\\"stationary_frame_sec\\\": 6245.416909654602,<br>    \\\"cluster_size_t_sec\\\": 1.0099363516477107,<br>    \\\"cluster_distance_t_sec\\\": 2.2324611046922738,<br>    \\\"cluster_size_f_Hz\\\": 49.55030685351524,<br>    \\\"cluster_distance_f_Hz\\\": 16.95193687514681<br>  }<br>}\",\"{<br>  \\\"number\\\": 180,<br>  \\\"values\\\": [<br>    0.6296296285010289,<br>    0.04799253333294473<br>  ],<br>  \\\"params\\\": {<br>    \\\"stft_window_sec\\\": 3.5009429809936643,<br>    \\\"stft_overlap\\\": 0.7180851149413547,<br>    \\\"minSNR\\\": 4.238141726893733,<br>    \\\"stationary_frame_sec\\\": 2313.6070073365986,<br>    \\\"cluster_size_t_sec\\\": 1.6093966660808094,<br>    \\\"cluster_distance_t_sec\\\": 0.02518145362582519,<br>    \\\"cluster_size_f_Hz\\\": 20.368567484188873,<br>    \\\"cluster_distance_f_Hz\\\": 5.2298501207254375<br>  }<br>}\",\"{<br>  \\\"number\\\": 181,<br>  \\\"values\\\": [<br>    0.17628205086677148,<br>    0.0329320666660351<br>  ],<br>  \\\"params\\\": {<br>    \\\"stft_window_sec\\\": 1.875505168389463,<br>    \\\"stft_overlap\\\": 0.6550330009327681,<br>    \\\"minSNR\\\": 9.945638779233771,<br>    \\\"stationary_frame_sec\\\": 500.4227624263817,<br>    \\\"cluster_size_t_sec\\\": 0.01184204818295731,<br>    \\\"cluster_distance_t_sec\\\": 2.4085819152706174,<br>    \\\"cluster_size_f_Hz\\\": 25.38265142717374,<br>    \\\"cluster_distance_f_Hz\\\": 0.5835302365610834<br>  }<br>}\",\"{<br>  \\\"number\\\": 182,<br>  \\\"values\\\": [<br>    0.4629629618389917,<br>    0.02408956666749873<br>  ],<br>  \\\"params\\\": {<br>    \\\"stft_window_sec\\\": 3.5009429809936643,<br>    \\\"stft_overlap\\\": 0.2850817683743029,<br>    \\\"minSNR\\\": 5.370479120045605,<br>    \\\"stationary_frame_sec\\\": 5451.690438682813,<br>    \\\"cluster_size_t_sec\\\": 3.4109293233707065,<br>    \\\"cluster_distance_t_sec\\\": 1.8715225623490865,<br>    \\\"cluster_size_f_Hz\\\": 33.62725733523582,<br>    \\\"cluster_distance_f_Hz\\\": 20.20082217742991<br>  }<br>}\",\"{<br>  \\\"number\\\": 183,<br>  \\\"values\\\": [<br>    0.7095352552336948,<br>    0.1424070999998245<br>  ],<br>  \\\"params\\\": {<br>    \\\"stft_window_sec\\\": 3.188358786262087,<br>    \\\"stft_overlap\\\": 0.8950027061446453,<br>    \\\"minSNR\\\": 8.697776667712489,<br>    \\\"stationary_frame_sec\\\": 600.4391477372628,<br>    \\\"cluster_size_t_sec\\\": 1.5377327740606055,<br>    \\\"cluster_distance_t_sec\\\": 1.354338038043918,<br>    \\\"cluster_size_f_Hz\\\": 6.38439260131527,<br>    \\\"cluster_distance_f_Hz\\\": 1.6540612555833638<br>  }<br>}\",\"{<br>  \\\"number\\\": 184,<br>  \\\"values\\\": [<br>    0.4203869038467844,<br>    0.09427629999966787<br>  ],<br>  \\\"params\\\": {<br>    \\\"stft_window_sec\\\": 1.000269423141047,<br>    \\\"stft_overlap\\\": 0.8186275558375298,<br>    \\\"minSNR\\\": 8.697776667712489,<br>    \\\"stationary_frame_sec\\\": 196.79267870793456,<br>    \\\"cluster_size_t_sec\\\": 0.06493215724680423,<br>    \\\"cluster_distance_t_sec\\\": 0.28795346715717596,<br>    \\\"cluster_size_f_Hz\\\": 21.322894696465184,<br>    \\\"cluster_distance_f_Hz\\\": 0.463955515963807<br>  }<br>}\",\"{<br>  \\\"number\\\": 185,<br>  \\\"values\\\": [<br>    0.7256418338532807,<br>    0.025521699998838205<br>  ],<br>  \\\"params\\\": {<br>    \\\"stft_window_sec\\\": 3.188358786262087,<br>    \\\"stft_overlap\\\": 0.3422343841729652,<br>    \\\"minSNR\\\": 9.627310323797623,<br>    \\\"stationary_frame_sec\\\": 4270.892018105332,<br>    \\\"cluster_size_t_sec\\\": 1.0099363516477107,<br>    \\\"cluster_distance_t_sec\\\": 0.7283009480469669,<br>    \\\"cluster_size_f_Hz\\\": 1.6938856408444392,<br>    \\\"cluster_distance_f_Hz\\\": 7.206411706274651<br>  }<br>}\",\"{<br>  \\\"number\\\": 186,<br>  \\\"values\\\": [<br>    0.35993272154762296,<br>    0.027857199998834403<br>  ],<br>  \\\"params\\\": {<br>    \\\"stft_window_sec\\\": 3.876044014671557,<br>    \\\"stft_overlap\\\": 0.5406530566868346,<br>    \\\"minSNR\\\": 6.156619349748326,<br>    \\\"stationary_frame_sec\\\": 3638.0977802313464,<br>    \\\"cluster_size_t_sec\\\": 1.0099363516477107,<br>    \\\"cluster_distance_t_sec\\\": 2.2324611046922738,<br>    \\\"cluster_size_f_Hz\\\": 6.38439260131527,<br>    \\\"cluster_distance_f_Hz\\\": 7.5042790006611595<br>  }<br>}\",\"{<br>  \\\"number\\\": 187,<br>  \\\"values\\\": [<br>    0.6203703692420268,<br>    0.04290976666713201<br>  ],<br>  \\\"params\\\": {<br>    \\\"stft_window_sec\\\": 3.4384261420473488,<br>    \\\"stft_overlap\\\": 0.6410913891407053,<br>    \\\"minSNR\\\": 4.194752475243824,<br>    \\\"stationary_frame_sec\\\": 2161.7982312238637,<br>    \\\"cluster_size_t_sec\\\": 0.09998515866690205,<br>    \\\"cluster_distance_t_sec\\\": 0.7580423784662735,<br>    \\\"cluster_size_f_Hz\\\": 1.6938856408444392,<br>    \\\"cluster_distance_f_Hz\\\": 7.206411706274651<br>  }<br>}\",\"{<br>  \\\"number\\\": 188,<br>  \\\"values\\\": [<br>    0.0,<br>    0.02806093333310855<br>  ],<br>  \\\"params\\\": {<br>    \\\"stft_window_sec\\\": 2.9382914304768253,<br>    \\\"stft_overlap\\\": 0.3268429332917654,<br>    \\\"minSNR\\\": 7.205840903537979,<br>    \\\"stationary_frame_sec\\\": 2994.745524634667,<br>    \\\"cluster_size_t_sec\\\": 0.01184204818295731,<br>    \\\"cluster_distance_t_sec\\\": 1.8715225623490865,<br>    \\\"cluster_size_f_Hz\\\": 35.95487076758895,<br>    \\\"cluster_distance_f_Hz\\\": 18.08774036217993<br>  }<br>}\",\"{<br>  \\\"number\\\": 189,<br>  \\\"values\\\": [<br>    0.33788674635487465,<br>    0.217160366666576<br>  ],<br>  \\\"params\\\": {<br>    \\\"stft_window_sec\\\": 1.6879546515505166,<br>    \\\"stft_overlap\\\": 0.9204997298496989,<br>    \\\"minSNR\\\": 4.176120135872372,<br>    \\\"stationary_frame_sec\\\": 101.05204905723178,<br>    \\\"cluster_size_t_sec\\\": 0.06493215724680423,<br>    \\\"cluster_distance_t_sec\\\": 0.26747511313238603,<br>    \\\"cluster_size_f_Hz\\\": 29.465184355196687,<br>    \\\"cluster_distance_f_Hz\\\": 4.834992824034131<br>  }<br>}\",\"{<br>  \\\"number\\\": 190,<br>  \\\"values\\\": [<br>    0.13888888849103012,<br>    0.02362263333300992<br>  ],<br>  \\\"params\\\": {<br>    \\\"stft_window_sec\\\": 3.5009429809936643,<br>    \\\"stft_overlap\\\": 0.3268429332917654,<br>    \\\"minSNR\\\": 7.944369669916369,<br>    \\\"stationary_frame_sec\\\": 5549.175356264153,<br>    \\\"cluster_size_t_sec\\\": 1.552385873779587,<br>    \\\"cluster_distance_t_sec\\\": 0.28795346715717596,<br>    \\\"cluster_size_f_Hz\\\": 26.439421299750848,<br>    \\\"cluster_distance_f_Hz\\\": 5.0654212903738784<br>  }<br>}\",\"{<br>  \\\"number\\\": 191,<br>  \\\"values\\\": [<br>    0.6338566816452581,<br>    0.025415699999939534<br>  ],<br>  \\\"params\\\": {<br>    \\\"stft_window_sec\\\": 0.5001347115705235,<br>    \\\"stft_overlap\\\": 0.38604703128680906,<br>    \\\"minSNR\\\": 4.238141726893733,<br>    \\\"stationary_frame_sec\\\": 622.8496407786599,<br>    \\\"cluster_size_t_sec\\\": 2.3750612769461728,<br>    \\\"cluster_distance_t_sec\\\": 1.7465159471038458,<br>    \\\"cluster_size_f_Hz\\\": 11.948650894200675,<br>    \\\"cluster_distance_f_Hz\\\": 5.2298501207254375<br>  }<br>}\",\"{<br>  \\\"number\\\": 192,<br>  \\\"values\\\": [<br>    0.5941385688513299,<br>    0.024218666667062887<br>  ],<br>  \\\"params\\\": {<br>    \\\"stft_window_sec\\\": 3.5009429809936643,<br>    \\\"stft_overlap\\\": 0.3268429332917654,<br>    \\\"minSNR\\\": 7.944369669916369,<br>    \\\"stationary_frame_sec\\\": 1084.4235062860762,<br>    \\\"cluster_size_t_sec\\\": 1.5377327740606055,<br>    \\\"cluster_distance_t_sec\\\": 0.28795346715717596,<br>    \\\"cluster_size_f_Hz\\\": 9.226676653244908,<br>    \\\"cluster_distance_f_Hz\\\": 6.839561258675627<br>  }<br>}\",\"{<br>  \\\"number\\\": 193,<br>  \\\"values\\\": [<br>    0.0,<br>    0.030730533334159798<br>  ],<br>  \\\"params\\\": {<br>    \\\"stft_window_sec\\\": 3.876044014671557,<br>    \\\"stft_overlap\\\": 0.5199585018566151,<br>    \\\"minSNR\\\": 6.832943896905032,<br>    \\\"stationary_frame_sec\\\": 2016.0690588187654,<br>    \\\"cluster_size_t_sec\\\": 4.751920292228618,<br>    \\\"cluster_distance_t_sec\\\": 1.2235209653348385,<br>    \\\"cluster_size_f_Hz\\\": 49.55030685351524,<br>    \\\"cluster_distance_f_Hz\\\": 16.95193687514681<br>  }<br>}\",\"{<br>  \\\"number\\\": 194,<br>  \\\"values\\\": [<br>    0.4188988085995439,<br>    0.027753766667046875<br>  ],<br>  \\\"params\\\": {<br>    \\\"stft_window_sec\\\": 3.188358786262087,<br>    \\\"stft_overlap\\\": 0.3268429332917654,<br>    \\\"minSNR\\\": 4.194752475243824,<br>    \\\"stationary_frame_sec\\\": 3138.6724673060708,<br>    \\\"cluster_size_t_sec\\\": 0.09998515866690205,<br>    \\\"cluster_distance_t_sec\\\": 0.7243374882698137,<br>    \\\"cluster_size_f_Hz\\\": 17.030393440096525,<br>    \\\"cluster_distance_f_Hz\\\": 0.463955515963807<br>  }<br>}\",\"{<br>  \\\"number\\\": 195,<br>  \\\"values\\\": [<br>    0.49682419196656485,<br>    0.02784016666707127<br>  ],<br>  \\\"params\\\": {<br>    \\\"stft_window_sec\\\": 3.000808269423141,<br>    \\\"stft_overlap\\\": 0.3268429332917654,<br>    \\\"minSNR\\\": 4.368666216821712,<br>    \\\"stationary_frame_sec\\\": 3890.099284188911,<br>    \\\"cluster_size_t_sec\\\": 4.299497363206001,<br>    \\\"cluster_distance_t_sec\\\": 2.2324611046922738,<br>    \\\"cluster_size_f_Hz\\\": 20.686543406923253,<br>    \\\"cluster_distance_f_Hz\\\": 3.02636390263788<br>  }<br>}\",\"{<br>  \\\"number\\\": 196,<br>  \\\"values\\\": [<br>    0.18518518476508916,<br>    0.025916599999921647<br>  ],<br>  \\\"params\\\": {<br>    \\\"stft_window_sec\\\": 0.6251683894631543,<br>    \\\"stft_overlap\\\": 0.3268429332917654,<br>    \\\"minSNR\\\": 8.697776667712489,<br>    \\\"stationary_frame_sec\\\": 366.35158416285685,<br>    \\\"cluster_size_t_sec\\\": 0.06493215724680423,<br>    \\\"cluster_distance_t_sec\\\": 0.28795346715717596,<br>    \\\"cluster_size_f_Hz\\\": 29.080096114387473,<br>    \\\"cluster_distance_f_Hz\\\": 20.20082217742991<br>  }<br>}\",\"{<br>  \\\"number\\\": 197,<br>  \\\"values\\\": [<br>    0.8128156554193017,<br>    0.038449833332682225<br>  ],<br>  \\\"params\\\": {<br>    \\\"stft_window_sec\\\": 3.5009429809936643,<br>    \\\"stft_overlap\\\": 0.671906449177992,<br>    \\\"minSNR\\\": 9.627310323797623,<br>    \\\"stationary_frame_sec\\\": 2036.4026372469093,<br>    \\\"cluster_size_t_sec\\\": 1.552385873779587,<br>    \\\"cluster_distance_t_sec\\\": 2.2324611046922738,<br>    \\\"cluster_size_f_Hz\\\": 1.6938856408444392,<br>    \\\"cluster_distance_f_Hz\\\": 7.206411706274651<br>  }<br>}\",\"{<br>  \\\"number\\\": 198,<br>  \\\"values\\\": [<br>    0.07665945095333604,<br>    0.022394433333526347<br>  ],<br>  \\\"params\\\": {<br>    \\\"stft_window_sec\\\": 3.56345981993998,<br>    \\\"stft_overlap\\\": 0.2850817683743029,<br>    \\\"minSNR\\\": 5.642254892877002,<br>    \\\"stationary_frame_sec\\\": 1318.5526801163705,<br>    \\\"cluster_size_t_sec\\\": 3.4109293233707065,<br>    \\\"cluster_distance_t_sec\\\": 1.9115648575630795,<br>    \\\"cluster_size_f_Hz\\\": 49.55030685351524,<br>    \\\"cluster_distance_f_Hz\\\": 10.72091300552077<br>  }<br>}\",\"{<br>  \\\"number\\\": 200,<br>  \\\"values\\\": [<br>    0.0,<br>    0.19669113333353985<br>  ],<br>  \\\"params\\\": {<br>    \\\"stft_window_sec\\\": 3.4384261420473488,<br>    \\\"stft_overlap\\\": 0.9204997298496989,<br>    \\\"minSNR\\\": 6.633761402899732,<br>    \\\"stationary_frame_sec\\\": 665.2969391386669,<br>    \\\"cluster_size_t_sec\\\": 0.06493215724680423,<br>    \\\"cluster_distance_t_sec\\\": 0.7243374882698137,<br>    \\\"cluster_size_f_Hz\\\": 46.14919831336397,<br>    \\\"cluster_distance_f_Hz\\\": 7.5872150794688675<br>  }<br>}\",\"{<br>  \\\"number\\\": 201,<br>  \\\"values\\\": [<br>    0.5233204383287205,<br>    0.025958966666924727<br>  ],<br>  \\\"params\\\": {<br>    \\\"stft_window_sec\\\": 0.5001347115705235,<br>    \\\"stft_overlap\\\": 0.5199585018566151,<br>    \\\"minSNR\\\": 5.943360725598856,<br>    \\\"stationary_frame_sec\\\": 474.2057148428818,<br>    \\\"cluster_size_t_sec\\\": 2.3750612769461728,<br>    \\\"cluster_distance_t_sec\\\": 1.7465159471038458,<br>    \\\"cluster_size_f_Hz\\\": 14.871626131202415,<br>    \\\"cluster_distance_f_Hz\\\": 0.839950833236347<br>  }<br>}\",\"{<br>  \\\"number\\\": 202,<br>  \\\"values\\\": [<br>    0.8002397201168336,<br>    0.03952836666667281<br>  ],<br>  \\\"params\\\": {<br>    \\\"stft_window_sec\\\": 0.5001347115705235,<br>    \\\"stft_overlap\\\": 0.7180851149413547,<br>    \\\"minSNR\\\": 8.697776667712489,<br>    \\\"stationary_frame_sec\\\": 116.7890607392907,<br>    \\\"cluster_size_t_sec\\\": 0.06493215724680423,<br>    \\\"cluster_distance_t_sec\\\": 0.28795346715717596,<br>    \\\"cluster_size_f_Hz\\\": 9.226676653244908,<br>    \\\"cluster_distance_f_Hz\\\": 18.08774036217993<br>  }<br>}\",\"{<br>  \\\"number\\\": 203,<br>  \\\"values\\\": [<br>    0.39401094518095564,<br>    0.02338763333348955<br>  ],<br>  \\\"params\\\": {<br>    \\\"stft_window_sec\\\": 3.5009429809936643,<br>    \\\"stft_overlap\\\": 0.3268429332917654,<br>    \\\"minSNR\\\": 5.088704177116653,<br>    \\\"stationary_frame_sec\\\": 3156.334251228821,<br>    \\\"cluster_size_t_sec\\\": 1.5377327740606055,<br>    \\\"cluster_distance_t_sec\\\": 0.28795346715717596,<br>    \\\"cluster_size_f_Hz\\\": 26.439421299750848,<br>    \\\"cluster_distance_f_Hz\\\": 5.0654212903738784<br>  }<br>}\",\"{<br>  \\\"number\\\": 204,<br>  \\\"values\\\": [<br>    0.41666666559397997,<br>    0.041039866666627255<br>  ],<br>  \\\"params\\\": {<br>    \\\"stft_window_sec\\\": 3.8135271757252416,<br>    \\\"stft_overlap\\\": 0.6889248814777829,<br>    \\\"minSNR\\\": 5.642254892877002,<br>    \\\"stationary_frame_sec\\\": 749.4748744156997,<br>    \\\"cluster_size_t_sec\\\": 3.812656964298477,<br>    \\\"cluster_distance_t_sec\\\": 1.9115648575630795,<br>    \\\"cluster_size_f_Hz\\\": 33.62725733523582,<br>    \\\"cluster_distance_f_Hz\\\": 18.08774036217993<br>  }<br>}\",\"{<br>  \\\"number\\\": 205,<br>  \\\"values\\\": [<br>    0.7759360041241529,<br>    0.036829900000763395<br>  ],<br>  \\\"params\\\": {<br>    \\\"stft_window_sec\\\": 2.625707235745248,<br>    \\\"stft_overlap\\\": 0.5467773409390144,<br>    \\\"minSNR\\\": 7.944369669916369,<br>    \\\"stationary_frame_sec\\\": 1307.4897421655098,<br>    \\\"cluster_size_t_sec\\\": 1.7365293926743997,<br>    \\\"cluster_distance_t_sec\\\": 2.179272328836552,<br>    \\\"cluster_size_f_Hz\\\": 3.3766687041382193,<br>    \\\"cluster_distance_f_Hz\\\": 5.0654212903738784<br>  }<br>}\",\"{<br>  \\\"number\\\": 206,<br>  \\\"values\\\": [<br>    0.0,<br>    0.021650066666552448<br>  ],<br>  \\\"params\\\": {<br>    \\\"stft_window_sec\\\": 0.8752357452484161,<br>    \\\"stft_overlap\\\": 0.3268429332917654,<br>    \\\"minSNR\\\": 7.944369669916369,<br>    \\\"stationary_frame_sec\\\": 1351.5843544247405,<br>    \\\"cluster_size_t_sec\\\": 1.5377327740606055,<br>    \\\"cluster_distance_t_sec\\\": 0.26747511313238603,<br>    \\\"cluster_size_f_Hz\\\": 37.39964618431264,<br>    \\\"cluster_distance_f_Hz\\\": 3.9451453523930287<br>  }<br>}\",\"{<br>  \\\"number\\\": 207,<br>  \\\"values\\\": [<br>    0.5185185173930041,<br>    0.029219200000018947<br>  ],<br>  \\\"params\\\": {<br>    \\\"stft_window_sec\\\": 1.4378872957652549,<br>    \\\"stft_overlap\\\": 0.24319613889466996,<br>    \\\"minSNR\\\": 3.902952824699919,<br>    \\\"stationary_frame_sec\\\": 1382.7687559141266,<br>    \\\"cluster_size_t_sec\\\": 1.5184146048822156,<br>    \\\"cluster_distance_t_sec\\\": 0.982412614226722,<br>    \\\"cluster_size_f_Hz\\\": 20.601034244903264,<br>    \\\"cluster_distance_f_Hz\\\": 4.441307653593663<br>  }<br>}\",\"{<br>  \\\"number\\\": 208,<br>  \\\"values\\\": [<br>    0.7017974719775006,<br>    0.02229449999958888<br>  ],<br>  \\\"params\\\": {<br>    \\\"stft_window_sec\\\": 1.9380220073357783,<br>    \\\"stft_overlap\\\": 0.3268429332917654,<br>    \\\"minSNR\\\": 9.194267919992086,<br>    \\\"stationary_frame_sec\\\": 1416.7848627604756,<br>    \\\"cluster_size_t_sec\\\": 1.7365293926743997,<br>    \\\"cluster_distance_t_sec\\\": 2.4254841074121334,<br>    \\\"cluster_size_f_Hz\\\": 6.38439260131527,<br>    \\\"cluster_distance_f_Hz\\\": 13.213279914563206<br>  }<br>}\",\"{<br>  \\\"number\\\": 209,<br>  \\\"values\\\": [<br>    0.11904761870039683,<br>    0.024014300000393025<br>  ],<br>  \\\"params\\\": {<br>    \\\"stft_window_sec\\\": 0.8752357452484161,<br>    \\\"stft_overlap\\\": 0.38604703128680906,<br>    \\\"minSNR\\\": 7.944369669916369,<br>    \\\"stationary_frame_sec\\\": 1104.2476159605792,<br>    \\\"cluster_size_t_sec\\\": 1.5377327740606055,<br>    \\\"cluster_distance_t_sec\\\": 1.7465159471038458,<br>    \\\"cluster_size_f_Hz\\\": 30.720743840878377,<br>    \\\"cluster_distance_f_Hz\\\": 4.834992824034131<br>  }<br>}\",\"{<br>  \\\"number\\\": 210,<br>  \\\"values\\\": [<br>    0.0,<br>    0.022683233333130676<br>  ],<br>  \\\"params\\\": {<br>    \\\"stft_window_sec\\\": 3.5009429809936643,<br>    \\\"stft_overlap\\\": 0.2877359787263687,<br>    \\\"minSNR\\\": 9.945638779233771,<br>    \\\"stationary_frame_sec\\\": 3169.8262924999212,<br>    \\\"cluster_size_t_sec\\\": 1.552385873779587,<br>    \\\"cluster_distance_t_sec\\\": 0.8141746856274477,<br>    \\\"cluster_size_f_Hz\\\": 48.78352808143787,<br>    \\\"cluster_distance_f_Hz\\\": 1.6540612555833638<br>  }<br>}\",\"{<br>  \\\"number\\\": 211,<br>  \\\"values\\\": [<br>    0.3368639111357968,<br>    0.036797566666185354<br>  ],<br>  \\\"params\\\": {<br>    \\\"stft_window_sec\\\": 1.6879546515505166,<br>    \\\"stft_overlap\\\": 0.6410913891407053,<br>    \\\"minSNR\\\": 4.928233951347153,<br>    \\\"stationary_frame_sec\\\": 971.5363731909114,<br>    \\\"cluster_size_t_sec\\\": 2.0690889871419396,<br>    \\\"cluster_distance_t_sec\\\": 1.9115648575630795,<br>    \\\"cluster_size_f_Hz\\\": 49.55030685351524,<br>    \\\"cluster_distance_f_Hz\\\": 7.206411706274651<br>  }<br>}\",\"{<br>  \\\"number\\\": 212,<br>  \\\"values\\\": [<br>    0.0,<br>    0.023289966667107365<br>  ],<br>  \\\"params\\\": {<br>    \\\"stft_window_sec\\\": 3.56345981993998,<br>    \\\"stft_overlap\\\": 0.3268429332917654,<br>    \\\"minSNR\\\": 7.944369669916369,<br>    \\\"stationary_frame_sec\\\": 2525.7011395549916,<br>    \\\"cluster_size_t_sec\\\": 1.5377327740606055,<br>    \\\"cluster_distance_t_sec\\\": 2.2468097214668745,<br>    \\\"cluster_size_f_Hz\\\": 49.55030685351524,<br>    \\\"cluster_distance_f_Hz\\\": 20.20082217742991<br>  }<br>}\",\"{<br>  \\\"number\\\": 213,<br>  \\\"values\\\": [<br>    0.16666666625833335,<br>    0.03957523333368348<br>  ],<br>  \\\"params\\\": {<br>    \\\"stft_window_sec\\\": 3.876044014671557,<br>    \\\"stft_overlap\\\": 0.7180851149413547,<br>    \\\"minSNR\\\": 9.945232516304921,<br>    \\\"stationary_frame_sec\\\": 1671.6005219699377,<br>    \\\"cluster_size_t_sec\\\": 1.0099363516477107,<br>    \\\"cluster_distance_t_sec\\\": 1.7746354496570524,<br>    \\\"cluster_size_f_Hz\\\": 25.960106926740238,<br>    \\\"cluster_distance_f_Hz\\\": 5.2298501207254375<br>  }<br>}\",\"{<br>  \\\"number\\\": 214,<br>  \\\"values\\\": [<br>    0.11904761870039683,<br>    0.021704333332915365<br>  ],<br>  \\\"params\\\": {<br>    \\\"stft_window_sec\\\": 3.876044014671557,<br>    \\\"stft_overlap\\\": 0.3268429332917654,<br>    \\\"minSNR\\\": 7.944369669916369,<br>    \\\"stationary_frame_sec\\\": 3380.7008996539184,<br>    \\\"cluster_size_t_sec\\\": 1.0099363516477107,<br>    \\\"cluster_distance_t_sec\\\": 2.3065378752133023,<br>    \\\"cluster_size_f_Hz\\\": 29.080096114387473,<br>    \\\"cluster_distance_f_Hz\\\": 7.206411706274651<br>  }<br>}\",\"{<br>  \\\"number\\\": 215,<br>  \\\"values\\\": [<br>    0.555555554397666,<br>    0.02243433333296707<br>  ],<br>  \\\"params\\\": {<br>    \\\"stft_window_sec\\\": 3.8135271757252416,<br>    \\\"stft_overlap\\\": 0.33571795942737104,<br>    \\\"minSNR\\\": 5.943360725598856,<br>    \\\"stationary_frame_sec\\\": 1673.0710072085162,<br>    \\\"cluster_size_t_sec\\\": 1.5190791447174379,<br>    \\\"cluster_distance_t_sec\\\": 0.28795346715717596,<br>    \\\"cluster_size_f_Hz\\\": 9.226676653244908,<br>    \\\"cluster_distance_f_Hz\\\": 0.839950833236347<br>  }<br>}\",\"{<br>  \\\"number\\\": 216,<br>  \\\"values\\\": [<br>    0.40561786885789086,<br>    0.02499243333265137<br>  ],<br>  \\\"params\\\": {<br>    \\\"stft_window_sec\\\": 3.8135271757252416,<br>    \\\"stft_overlap\\\": 0.4050823725936765,<br>    \\\"minSNR\\\": 5.943360725598856,<br>    \\\"stationary_frame_sec\\\": 5092.001083086449,<br>    \\\"cluster_size_t_sec\\\": 2.308084711378078,<br>    \\\"cluster_distance_t_sec\\\": 1.2235209653348385,<br>    \\\"cluster_size_f_Hz\\\": 14.871626131202415,<br>    \\\"cluster_distance_f_Hz\\\": 23.53563499971093<br>  }<br>}\",\"{<br>  \\\"number\\\": 217,<br>  \\\"values\\\": [<br>    0.6953720256034406,<br>    0.02420843333402445<br>  ],<br>  \\\"params\\\": {<br>    \\\"stft_window_sec\\\": 3.751010336778926,<br>    \\\"stft_overlap\\\": 0.3268429332917654,<br>    \\\"minSNR\\\": 7.944369669916369,<br>    \\\"stationary_frame_sec\\\": 1984.267018643754,<br>    \\\"cluster_size_t_sec\\\": 1.5377327740606055,<br>    \\\"cluster_distance_t_sec\\\": 2.4085819152706174,<br>    \\\"cluster_size_f_Hz\\\": 3.041398229363934,<br>    \\\"cluster_distance_f_Hz\\\": 6.839561258675627<br>  }<br>}\",\"{<br>  \\\"number\\\": 218,<br>  \\\"values\\\": [<br>    0.39728226756861335,<br>    0.046904900000299676<br>  ],<br>  \\\"params\\\": {<br>    \\\"stft_window_sec\\\": 3.56345981993998,<br>    \\\"stft_overlap\\\": 0.711996622426708,<br>    \\\"minSNR\\\": 6.491329989591369,<br>    \\\"stationary_frame_sec\\\": 1160.1273955757435,<br>    \\\"cluster_size_t_sec\\\": 1.9550491250671787,<br>    \\\"cluster_distance_t_sec\\\": 1.9173828505573294,<br>    \\\"cluster_size_f_Hz\\\": 1.6938856408444392,<br>    \\\"cluster_distance_f_Hz\\\": 7.206411706274651<br>  }<br>}\",\"{<br>  \\\"number\\\": 219,<br>  \\\"values\\\": [<br>    0.0,<br>    0.03807550000055926<br>  ],<br>  \\\"params\\\": {<br>    \\\"stft_window_sec\\\": 0.8127189063021006,<br>    \\\"stft_overlap\\\": 0.6410913891407053,<br>    \\\"minSNR\\\": 5.943360725598856,<br>    \\\"stationary_frame_sec\\\": 175.62884381533883,<br>    \\\"cluster_size_t_sec\\\": 1.5190791447174379,<br>    \\\"cluster_distance_t_sec\\\": 1.2235209653348385,<br>    \\\"cluster_size_f_Hz\\\": 40.751453611806085,<br>    \\\"cluster_distance_f_Hz\\\": 0.839950833236347<br>  }<br>}\",\"{<br>  \\\"number\\\": 220,<br>  \\\"values\\\": [<br>    0.4834692018033934,<br>    0.042746400000396534<br>  ],<br>  \\\"params\\\": {<br>    \\\"stft_window_sec\\\": 3.876044014671557,<br>    \\\"stft_overlap\\\": 0.7180851149413547,<br>    \\\"minSNR\\\": 4.238141726893733,<br>    \\\"stationary_frame_sec\\\": 1642.9295157779434,<br>    \\\"cluster_size_t_sec\\\": 1.0099363516477107,<br>    \\\"cluster_distance_t_sec\\\": 0.02518145362582519,<br>    \\\"cluster_size_f_Hz\\\": 26.742640658970885,<br>    \\\"cluster_distance_f_Hz\\\": 3.02636390263788<br>  }<br>}\",\"{<br>  \\\"number\\\": 221,<br>  \\\"values\\\": [<br>    0.6337619445564884,<br>    0.02267056666702653<br>  ],<br>  \\\"params\\\": {<br>    \\\"stft_window_sec\\\": 3.5009429809936643,<br>    \\\"stft_overlap\\\": 0.2850817683743029,<br>    \\\"minSNR\\\": 8.697776667712489,<br>    \\\"stationary_frame_sec\\\": 2249.7239423228493,<br>    \\\"cluster_size_t_sec\\\": 0.06493215724680423,<br>    \\\"cluster_distance_t_sec\\\": 2.346031418313591,<br>    \\\"cluster_size_f_Hz\\\": 4.907776131767921,<br>    \\\"cluster_distance_f_Hz\\\": 4.834992824034131<br>  }<br>}\",\"{<br>  \\\"number\\\": 222,<br>  \\\"values\\\": [<br>    0.5462962951700103,<br>    0.04520320000149999<br>  ],<br>  \\\"params\\\": {<br>    \\\"stft_window_sec\\\": 3.876044014671557,<br>    \\\"stft_overlap\\\": 0.671906449177992,<br>    \\\"minSNR\\\": 4.238141726893733,<br>    \\\"stationary_frame_sec\\\": 943.2637557101398,<br>    \\\"cluster_size_t_sec\\\": 2.3750612769461728,<br>    \\\"cluster_distance_t_sec\\\": 1.7465159471038458,<br>    \\\"cluster_size_f_Hz\\\": 1.6938856408444392,<br>    \\\"cluster_distance_f_Hz\\\": 14.12294059087244<br>  }<br>}\",\"{<br>  \\\"number\\\": 223,<br>  \\\"values\\\": [<br>    0.0,<br>    0.02099510000001222<br>  ],<br>  \\\"params\\\": {<br>    \\\"stft_window_sec\\\": 3.5009429809936643,<br>    \\\"stft_overlap\\\": 0.2850817683743029,<br>    \\\"minSNR\\\": 5.642254892877002,<br>    \\\"stationary_frame_sec\\\": 4487.5908822214615,<br>    \\\"cluster_size_t_sec\\\": 1.8732286778304137,<br>    \\\"cluster_distance_t_sec\\\": 2.2324611046922738,<br>    \\\"cluster_size_f_Hz\\\": 33.62725733523582,<br>    \\\"cluster_distance_f_Hz\\\": 1.16065367939808<br>  }<br>}\",\"{<br>  \\\"number\\\": 224,<br>  \\\"values\\\": [<br>    0.0,<br>    0.028745966667277873<br>  ],<br>  \\\"params\\\": {<br>    \\\"stft_window_sec\\\": 3.8135271757252416,<br>    \\\"stft_overlap\\\": 0.5467773409390144,<br>    \\\"minSNR\\\": 9.668916034945365,<br>    \\\"stationary_frame_sec\\\": 2269.888206351367,<br>    \\\"cluster_size_t_sec\\\": 3.812656964298477,<br>    \\\"cluster_distance_t_sec\\\": 2.3065378752133023,<br>    \\\"cluster_size_f_Hz\\\": 48.68871801438004,<br>    \\\"cluster_distance_f_Hz\\\": 22.076486436941995<br>  }<br>}\",\"{<br>  \\\"number\\\": 225,<br>  \\\"values\\\": [<br>    0.4404949055875748,<br>    0.027605299999777344<br>  ],<br>  \\\"params\\\": {<br>    \\\"stft_window_sec\\\": 3.5009429809936643,<br>    \\\"stft_overlap\\\": 0.43968538392272927,<br>    \\\"minSNR\\\": 7.225047619915924,<br>    \\\"stationary_frame_sec\\\": 2427.0527210986775,<br>    \\\"cluster_size_t_sec\\\": 1.0099363516477107,<br>    \\\"cluster_distance_t_sec\\\": 0.02518145362582519,<br>    \\\"cluster_size_f_Hz\\\": 6.38439260131527,<br>    \\\"cluster_distance_f_Hz\\\": 24.050652193419626<br>  }<br>}\",\"{<br>  \\\"number\\\": 226,<br>  \\\"values\\\": [<br>    0.33897270968867294,<br>    0.030041066667157185<br>  ],<br>  \\\"params\\\": {<br>    \\\"stft_window_sec\\\": 1.9380220073357783,<br>    \\\"stft_overlap\\\": 0.6187556942661876,<br>    \\\"minSNR\\\": 5.642254892877002,<br>    \\\"stationary_frame_sec\\\": 866.5790326128298,<br>    \\\"cluster_size_t_sec\\\": 3.4109293233707065,<br>    \\\"cluster_distance_t_sec\\\": 1.3940935078005388,<br>    \\\"cluster_size_f_Hz\\\": 1.878802275864766,<br>    \\\"cluster_distance_f_Hz\\\": 19.13495130856502<br>  }<br>}\",\"{<br>  \\\"number\\\": 227,<br>  \\\"values\\\": [<br>    0.4723000301101831,<br>    0.04046486666599473<br>  ],<br>  \\\"params\\\": {<br>    \\\"stft_window_sec\\\": 3.5009429809936643,<br>    \\\"stft_overlap\\\": 0.671906449177992,<br>    \\\"minSNR\\\": 4.194752475243824,<br>    \\\"stationary_frame_sec\\\": 1681.580317115483,<br>    \\\"cluster_size_t_sec\\\": 1.552385873779587,<br>    \\\"cluster_distance_t_sec\\\": 0.7243374882698137,<br>    \\\"cluster_size_f_Hz\\\": 17.030393440096525,<br>    \\\"cluster_distance_f_Hz\\\": 0.463955515963807<br>  }<br>}\",\"{<br>  \\\"number\\\": 228,<br>  \\\"values\\\": [<br>    0.38234718457382,<br>    0.023337666665914487<br>  ],<br>  \\\"params\\\": {<br>    \\\"stft_window_sec\\\": 1.6879546515505166,<br>    \\\"stft_overlap\\\": 0.2850817683743029,<br>    \\\"minSNR\\\": 5.370479120045605,<br>    \\\"stationary_frame_sec\\\": 823.4128344145419,<br>    \\\"cluster_size_t_sec\\\": 3.4109293233707065,<br>    \\\"cluster_distance_t_sec\\\": 1.8715225623490865,<br>    \\\"cluster_size_f_Hz\\\": 33.62725733523582,<br>    \\\"cluster_distance_f_Hz\\\": 20.20082217742991<br>  }<br>}\",\"{<br>  \\\"number\\\": 229,<br>  \\\"values\\\": [<br>    0.2864583329678006,<br>    0.024660933332900942<br>  ],<br>  \\\"params\\\": {<br>    \\\"stft_window_sec\\\": 0.5001347115705235,<br>    \\\"stft_overlap\\\": 0.48225740898904734,<br>    \\\"minSNR\\\": 8.474040792160578,<br>    \\\"stationary_frame_sec\\\": 224.16994539571448,<br>    \\\"cluster_size_t_sec\\\": 2.3750612769461728,<br>    \\\"cluster_distance_t_sec\\\": 1.7465159471038458,<br>    \\\"cluster_size_f_Hz\\\": 11.948650894200675,<br>    \\\"cluster_distance_f_Hz\\\": 5.2298501207254375<br>  }<br>}\",\"{<br>  \\\"number\\\": 230,<br>  \\\"values\\\": [<br>    0.6633454094330049,<br>    0.026978166666291752<br>  ],<br>  \\\"params\\\": {<br>    \\\"stft_window_sec\\\": 3.876044014671557,<br>    \\\"stft_overlap\\\": 0.506966501786841,<br>    \\\"minSNR\\\": 9.945232516304921,<br>    \\\"stationary_frame_sec\\\": 3373.025568019445,<br>    \\\"cluster_size_t_sec\\\": 1.0099363516477107,<br>    \\\"cluster_distance_t_sec\\\": 2.2324611046922738,<br>    \\\"cluster_size_f_Hz\\\": 6.38439260131527,<br>    \\\"cluster_distance_f_Hz\\\": 7.206411706274651<br>  }<br>}\",\"{<br>  \\\"number\\\": 232,<br>  \\\"values\\\": [<br>    0.4259335681854654,<br>    0.022576433333900543<br>  ],<br>  \\\"params\\\": {<br>    \\\"stft_window_sec\\\": 3.8135271757252416,<br>    \\\"stft_overlap\\\": 0.3268429332917654,<br>    \\\"minSNR\\\": 7.205840903537979,<br>    \\\"stationary_frame_sec\\\": 4930.149260215419,<br>    \\\"cluster_size_t_sec\\\": 1.9550491250671787,<br>    \\\"cluster_distance_t_sec\\\": 0.40958616595310915,<br>    \\\"cluster_size_f_Hz\\\": 9.226676653244908,<br>    \\\"cluster_distance_f_Hz\\\": 18.08774036217993<br>  }<br>}\",\"{<br>  \\\"number\\\": 233,<br>  \\\"values\\\": [<br>    0.0,<br>    0.022155066666831164<br>  ],<br>  \\\"params\\\": {<br>    \\\"stft_window_sec\\\": 3.5009429809936643,<br>    \\\"stft_overlap\\\": 0.2566217823942133,<br>    \\\"minSNR\\\": 7.944369669916369,<br>    \\\"stationary_frame_sec\\\": 6159.689762659215,<br>    \\\"cluster_size_t_sec\\\": 1.5377327740606055,<br>    \\\"cluster_distance_t_sec\\\": 2.2324611046922738,<br>    \\\"cluster_size_f_Hz\\\": 49.55030685351524,<br>    \\\"cluster_distance_f_Hz\\\": 20.20082217742991<br>  }<br>}\",\"{<br>  \\\"number\\\": 234,<br>  \\\"values\\\": [<br>    0.22727272685089536,<br>    0.03558753333224255<br>  ],<br>  \\\"params\\\": {<br>    \\\"stft_window_sec\\\": 3.313392464154718,<br>    \\\"stft_overlap\\\": 0.6410913891407053,<br>    \\\"minSNR\\\": 8.659694452335824,<br>    \\\"stationary_frame_sec\\\": 2134.966828291842,<br>    \\\"cluster_size_t_sec\\\": 1.5377327740606055,<br>    \\\"cluster_distance_t_sec\\\": 1.354338038043918,<br>    \\\"cluster_size_f_Hz\\\": 22.211673396346875,<br>    \\\"cluster_distance_f_Hz\\\": 1.6540612555833638<br>  }<br>}\",\"{<br>  \\\"number\\\": 235,<br>  \\\"values\\\": [<br>    0.5086794807565177,<br>    0.027576033333389205<br>  ],<br>  \\\"params\\\": {<br>    \\\"stft_window_sec\\\": 2.9382914304768253,<br>    \\\"stft_overlap\\\": 0.3268429332917654,<br>    \\\"minSNR\\\": 7.944369669916369,<br>    \\\"stationary_frame_sec\\\": 2576.1572038535664,<br>    \\\"cluster_size_t_sec\\\": 3.4109293233707065,<br>    \\\"cluster_distance_t_sec\\\": 2.2324611046922738,<br>    \\\"cluster_size_f_Hz\\\": 1.6938856408444392,<br>    \\\"cluster_distance_f_Hz\\\": 19.13495130856502<br>  }<br>}\",\"{<br>  \\\"number\\\": 236,<br>  \\\"values\\\": [<br>    0.7428813313528249,<br>    0.1521905333338509<br>  ],<br>  \\\"params\\\": {<br>    \\\"stft_window_sec\\\": 1.9380220073357783,<br>    \\\"stft_overlap\\\": 0.9204997298496989,<br>    \\\"minSNR\\\": 8.697776667712489,<br>    \\\"stationary_frame_sec\\\": 348.5393630573192,<br>    \\\"cluster_size_t_sec\\\": 1.5377327740606055,<br>    \\\"cluster_distance_t_sec\\\": 0.28795346715717596,<br>    \\\"cluster_size_f_Hz\\\": 4.907776131767921,<br>    \\\"cluster_distance_f_Hz\\\": 20.20082217742991<br>  }<br>}\",\"{<br>  \\\"number\\\": 238,<br>  \\\"values\\\": [<br>    0.18518518476508916,<br>    0.027033033332979056<br>  ],<br>  \\\"params\\\": {<br>    \\\"stft_window_sec\\\": 1.6254378126042013,<br>    \\\"stft_overlap\\\": 0.4768677172512015,<br>    \\\"minSNR\\\": 7.944369669916369,<br>    \\\"stationary_frame_sec\\\": 1711.259164364952,<br>    \\\"cluster_size_t_sec\\\": 1.5377327740606055,<br>    \\\"cluster_distance_t_sec\\\": 0.982412614226722,<br>    \\\"cluster_size_f_Hz\\\": 26.872383524753197,<br>    \\\"cluster_distance_f_Hz\\\": 6.839561258675627<br>  }<br>}\",\"{<br>  \\\"number\\\": 239,<br>  \\\"values\\\": [<br>    0.0,<br>    0.038658633333701196<br>  ],<br>  \\\"params\\\": {<br>    \\\"stft_window_sec\\\": 0.5001347115705235,<br>    \\\"stft_overlap\\\": 0.7180851149413547,<br>    \\\"minSNR\\\": 7.944369669916369,<br>    \\\"stationary_frame_sec\\\": 273.8748089385202,<br>    \\\"cluster_size_t_sec\\\": 1.6093966660808094,<br>    \\\"cluster_distance_t_sec\\\": 0.02518145362582519,<br>    \\\"cluster_size_f_Hz\\\": 37.39964618431264,<br>    \\\"cluster_distance_f_Hz\\\": 5.2298501207254375<br>  }<br>}\",\"{<br>  \\\"number\\\": 240,<br>  \\\"values\\\": [<br>    0.4104314273383782,<br>    0.024055433332857017<br>  ],<br>  \\\"params\\\": {<br>    \\\"stft_window_sec\\\": 3.5009429809936643,<br>    \\\"stft_overlap\\\": 0.3268429332917654,<br>    \\\"minSNR\\\": 6.9903250078411405,<br>    \\\"stationary_frame_sec\\\": 4918.432905484837,<br>    \\\"cluster_size_t_sec\\\": 1.5377327740606055,<br>    \\\"cluster_distance_t_sec\\\": 1.8711765749974374,<br>    \\\"cluster_size_f_Hz\\\": 6.38439260131527,<br>    \\\"cluster_distance_f_Hz\\\": 20.20082217742991<br>  }<br>}\",\"{<br>  \\\"number\\\": 241,<br>  \\\"values\\\": [<br>    0.5555555544290124,<br>    0.031061133333726804<br>  ],<br>  \\\"params\\\": {<br>    \\\"stft_window_sec\\\": 1.6879546515505166,<br>    \\\"stft_overlap\\\": 0.48225740898904734,<br>    \\\"minSNR\\\": 4.194752475243824,<br>    \\\"stationary_frame_sec\\\": 981.6864599425313,<br>    \\\"cluster_size_t_sec\\\": 0.06493215724680423,<br>    \\\"cluster_distance_t_sec\\\": 0.7243374882698137,<br>    \\\"cluster_size_f_Hz\\\": 6.38439260131527,<br>    \\\"cluster_distance_f_Hz\\\": 7.206411706274651<br>  }<br>}\",\"{<br>  \\\"number\\\": 242,<br>  \\\"values\\\": [<br>    0.6867358417544441,<br>    0.046192733333555225<br>  ],<br>  \\\"params\\\": {<br>    \\\"stft_window_sec\\\": 3.56345981993998,<br>    \\\"stft_overlap\\\": 0.7366125810947532,<br>    \\\"minSNR\\\": 9.194267919992086,<br>    \\\"stationary_frame_sec\\\": 1697.260369052538,<br>    \\\"cluster_size_t_sec\\\": 1.7365293926743997,<br>    \\\"cluster_distance_t_sec\\\": 2.4872907910045132,<br>    \\\"cluster_size_f_Hz\\\": 6.38439260131527,<br>    \\\"cluster_distance_f_Hz\\\": 13.213279914563206<br>  }<br>}\",\"{<br>  \\\"number\\\": 243,<br>  \\\"values\\\": [<br>    0.6327280430883188,<br>    0.02319540000038008<br>  ],<br>  \\\"params\\\": {<br>    \\\"stft_window_sec\\\": 3.5009429809936643,<br>    \\\"stft_overlap\\\": 0.3268429332917654,<br>    \\\"minSNR\\\": 7.514862177429424,<br>    \\\"stationary_frame_sec\\\": 5617.300722259197,<br>    \\\"cluster_size_t_sec\\\": 1.5377327740606055,<br>    \\\"cluster_distance_t_sec\\\": 0.28795346715717596,<br>    \\\"cluster_size_f_Hz\\\": 9.226676653244908,<br>    \\\"cluster_distance_f_Hz\\\": 6.839561258675627<br>  }<br>}\",\"{<br>  \\\"number\\\": 244,<br>  \\\"values\\\": [<br>    0.25013046863426136,<br>    0.02325263333265563<br>  ],<br>  \\\"params\\\": {<br>    \\\"stft_window_sec\\\": 3.8135271757252416,<br>    \\\"stft_overlap\\\": 0.2877359787263687,<br>    \\\"minSNR\\\": 5.8038912000710585,<br>    \\\"stationary_frame_sec\\\": 1705.0265465883522,<br>    \\\"cluster_size_t_sec\\\": 1.7365293926743997,<br>    \\\"cluster_distance_t_sec\\\": 1.7563837212561677,<br>    \\\"cluster_size_f_Hz\\\": 48.78352808143787,<br>    \\\"cluster_distance_f_Hz\\\": 18.08774036217993<br>  }<br>}\",\"{<br>  \\\"number\\\": 245,<br>  \\\"values\\\": [<br>    0.5418335228404138,<br>    0.02183560000048601<br>  ],<br>  \\\"params\\\": {<br>    \\\"stft_window_sec\\\": 3.5009429809936643,<br>    \\\"stft_overlap\\\": 0.2850817683743029,<br>    \\\"minSNR\\\": 8.697776667712489,<br>    \\\"stationary_frame_sec\\\": 2991.4192076048043,<br>    \\\"cluster_size_t_sec\\\": 1.5377327740606055,<br>    \\\"cluster_distance_t_sec\\\": 0.6932536058798339,<br>    \\\"cluster_size_f_Hz\\\": 9.226676653244908,<br>    \\\"cluster_distance_f_Hz\\\": 18.11299145687676<br>  }<br>}\",\"{<br>  \\\"number\\\": 246,<br>  \\\"values\\\": [<br>    0.5072352206628791,<br>    0.022748666667515256<br>  ],<br>  \\\"params\\\": {<br>    \\\"stft_window_sec\\\": 3.5009429809936643,<br>    \\\"stft_overlap\\\": 0.3268429332917654,<br>    \\\"minSNR\\\": 7.381749802146857,<br>    \\\"stationary_frame_sec\\\": 4143.815056348509,<br>    \\\"cluster_size_t_sec\\\": 1.0099363516477107,<br>    \\\"cluster_distance_t_sec\\\": 1.8711765749974374,<br>    \\\"cluster_size_f_Hz\\\": 6.38439260131527,<br>    \\\"cluster_distance_f_Hz\\\": 16.95193687514681<br>  }<br>}\",\"{<br>  \\\"number\\\": 247,<br>  \\\"values\\\": [<br>    0.6296296285010289,<br>    0.05643483333369659<br>  ],<br>  \\\"params\\\": {<br>    \\\"stft_window_sec\\\": 2.625707235745248,<br>    \\\"stft_overlap\\\": 0.6495904012766172,<br>    \\\"minSNR\\\": 4.014243882563436,<br>    \\\"stationary_frame_sec\\\": 244.80148543337012,<br>    \\\"cluster_size_t_sec\\\": 0.06493215724680423,<br>    \\\"cluster_distance_t_sec\\\": 0.4376821116581045,<br>    \\\"cluster_size_f_Hz\\\": 4.533592032607431,<br>    \\\"cluster_distance_f_Hz\\\": 7.206411706274651<br>  }<br>}\",\"{<br>  \\\"number\\\": 248,<br>  \\\"values\\\": [<br>    0.7207043178558994,<br>    0.040652099999533675<br>  ],<br>  \\\"params\\\": {<br>    \\\"stft_window_sec\\\": 2.625707235745248,<br>    \\\"stft_overlap\\\": 0.5467773409390144,<br>    \\\"minSNR\\\": 7.205840903537979,<br>    \\\"stationary_frame_sec\\\": 1570.96346990005,<br>    \\\"cluster_size_t_sec\\\": 1.7365293926743997,<br>    \\\"cluster_distance_t_sec\\\": 0.8419093622177722,<br>    \\\"cluster_size_f_Hz\\\": 8.863968590550991,<br>    \\\"cluster_distance_f_Hz\\\": 3.9451453523930287<br>  }<br>}\",\"{<br>  \\\"number\\\": 249,<br>  \\\"values\\\": [<br>    0.13888888849103012,<br>    0.024531933333491907<br>  ],<br>  \\\"params\\\": {<br>    \\\"stft_window_sec\\\": 3.5009429809936643,<br>    \\\"stft_overlap\\\": 0.3268429332917654,<br>    \\\"minSNR\\\": 7.944369669916369,<br>    \\\"stationary_frame_sec\\\": 2404.85358401315,<br>    \\\"cluster_size_t_sec\\\": 0.06493215724680423,<br>    \\\"cluster_distance_t_sec\\\": 2.306238192924498,<br>    \\\"cluster_size_f_Hz\\\": 26.439421299750848,<br>    \\\"cluster_distance_f_Hz\\\": 9.333960444299052<br>  }<br>}\"],\"x\":[0.5817989852465756,0.6018518507240227,0.43203734449440684,0.7867980838853144,0.43380519850209875,0.6454613083107359,0.0,0.0,0.2864583329678006,0.0,0.6111111099830248,0.16666666625833335,0.12622720817574604,0.08771929796283472,0.38685679495612013,0.0,0.04901960766652249,0.0,0.30871212051423685,0.33340347863160685,0.25331439341787126,0.32806131406602795,0.6388888877600309,0.14492753584593573,0.4320423811910297,0.564510510506863,0.20114942486251486,0.6111111099830248,0.20833333290798617,0.38564687620922183,0.6018518507240227,0.5092592581340021,0.0,0.5555555544290124,0.42592592480298347,0.3894954281900957,0.2150537630159556,0.4203869038467844,0.41049060127274156,0.5555555544290124,0.5925925914650206,0.0,0.7563018188896112,0.34722222160783184,0.6203703692420268,0.2642276418816925,0.0,0.46178387256409775,0.23809523767857146,0.6203703692420267,0.3818369446684288,0.0,0.0,0.0,0.4308035705038807,0.23809523767857146,0.7753214910408867,0.026041666566975905,0.7867980838853144,0.32593749694239177,0.3983516475204724,0.7505175972285093,0.4830003355485865,0.492724866651801,0.0,0.0,0.0,0.386392634395709,0.5009920624159158,0.026041666566975905,0.2777777773996914,0.7804892387924438,0.0,0.0,0.6759259247960392,0.026041666566975905,0.5048965254385861,0.5819678903165424,0.0,0.5462962951700103,0.37213977576021434,0.44536564549834584,0.32792207715714544,0.41899496926241236,0.1912390268440183,0.6839470272358664,0.15424679435913566,0.3994559060395124,0.4470055150393181,0.5925925914650206,0.0,0.34974994479288113,0.0,0.28711484534509396,0.0,0.25331439341787126,0.0,0.0,0.6098484836591125,0.7991310148837439,0.30871212051423685,0.11904761870039683,0.5478638732819862,0.0,0.399411847000285,0.0,0.338679431025582,0.4063651711112553,0.48384661726231043,0.5582264945819552,0.0,0.5277777766520061,0.6198436215613706,0.8090107280732494,0.2700501246171479,0.3431412537367711,0.7268133441127532,0.40906444009148313,0.3290719692598134,0.5462962951700103,0.5076235029652253,0.6832392520038546,0.0,0.6343724451813967,0.0,0.43097833441930006,0.0,0.31892206300579035,0.7099495548676805,0.5092592581340021,0.5573156670421833,0.0,0.6739498632820493,0.7118538933604254,0.5462962951700103,0.5370370359110083,0.6018518507240227,0.15624999960123698,0.0,0.6111111099830248,0.49999999887499996,0.0,0.0,0.4470055150393181,0.3091643376987185,0.15424679435913566,0.6713115708891054,0.4270833325262369,0.06944444420814043,0.2410954295829315,0.14508928526737275,0.5296800513925944,0.7405181612342635,0.8132018310025358,0.23809523767857146,0.6111111099830248,0.0,0.20833333290798617,0.0,0.606097559903993,0.7332659467443867,0.17628205086677148,0.2762923345174178,0.5208333324427626,0.0,0.23437499947496207,0.4114350146358016,0.5092592581340022,0.0,0.2150537630159556,0.7069777445554614,0.16666666625833335,0.0,0.4644547463989353,0.49999999887499996,0.0,0.6296296285010289,0.17628205086677148,0.4629629618389917,0.7095352552336948,0.4203869038467844,0.7256418338532807,0.35993272154762296,0.6203703692420268,0.0,0.33788674635487465,0.13888888849103012,0.6338566816452581,0.5941385688513299,0.0,0.4188988085995439,0.49682419196656485,0.18518518476508916,0.8128156554193017,0.07665945095333604,0.0,0.5233204383287205,0.8002397201168336,0.39401094518095564,0.41666666559397997,0.7759360041241529,0.0,0.5185185173930041,0.7017974719775006,0.11904761870039683,0.0,0.3368639111357968,0.0,0.16666666625833335,0.11904761870039683,0.555555554397666,0.40561786885789086,0.6953720256034406,0.39728226756861335,0.0,0.4834692018033934,0.6337619445564884,0.5462962951700103,0.0,0.0,0.4404949055875748,0.33897270968867294,0.4723000301101831,0.38234718457382,0.2864583329678006,0.6633454094330049,0.4259335681854654,0.0,0.22727272685089536,0.5086794807565177,0.7428813313528249,0.18518518476508916,0.0,0.4104314273383782,0.5555555544290124,0.6867358417544441,0.6327280430883188,0.25013046863426136,0.5418335228404138,0.5072352206628791,0.6296296285010289,0.7207043178558994,0.13888888849103012],\"y\":[0.033241300000554475,0.08824796666643427,0.25863333333351574,0.03491953333195852,0.028325466665895267,0.026859133333042944,0.03396713333374161,0.27580273333296645,0.3841953999996501,0.02250339999955031,0.17779246666699086,0.30076620000030135,0.02659623333268731,0.0654754666657027,0.06927519999923486,0.09405273333292523,0.03298343333305335,0.07909313333281413,0.026373699999870343,0.19039800000033816,0.07033590000022134,0.03800890000032572,0.06945243333363275,0.0250765000003715,0.026746466667039687,0.023720133332972182,0.02689130000029157,0.20777383333431013,0.07573953333303507,0.06176016666631767,0.17260113333365248,0.04040179999992688,0.11466426666599243,0.03965210000023944,0.5770307333335344,0.06968563333339262,0.10546213333327614,0.05251116666780339,0.06240396666665523,0.05494679999992513,0.03572226666680459,0.03874443333309804,0.1764216000004429,0.15948349999992692,0.074701699999423,0.05024326666656028,0.03689163333365286,0.028878200000084082,0.13861839999966227,0.04402626666675739,0.026593433334407262,0.038091800000377894,0.03455226666665112,0.027662699999988643,0.12933616666608336,0.03533986666631487,0.12024750000000495,0.02418406666674855,0.034873666666802215,0.02928366666704581,0.02423086666688808,0.03697316666633318,0.03839603333381092,0.027642333333460556,0.02762199999991329,0.051253999999365384,0.07076666666641056,0.16315240000009604,0.12868970000029853,0.026652633333469566,0.03404046666704138,0.04622713333355932,0.06597866666743357,0.03694419999889457,0.26591399999991455,0.03472813333337399,0.03463956666564627,0.022585366666741418,0.03613423333293516,0.031037933333815697,0.05457249999835767,0.23807629999949617,0.026912033333246654,0.12979126666717397,0.03823449999890727,0.024611766667173168,0.02217960000052699,0.05781213333254224,0.027971400000448437,0.04932010000053803,0.03455330000087997,0.032904333332832415,0.05649403333366839,0.1835565666679031,0.2811232999999144,0.07329706666647932,0.021367000000585296,0.1226975333329392,0.06519640000048336,0.19671286666653032,0.027114866666731057,0.02395593333373351,0.03822299999956158,0.03610420000010587,0.02389023333307705,0.029724233333278487,0.02845849999963927,0.03856430000026497,0.02591139999973772,0.02634400000018407,0.02667733333328215,0.32494736666709895,0.026734266666911328,0.0379705000004833,0.021806766667396005,0.3079753666673544,0.02770336666678001,0.02603183333364238,0.06513493333356261,0.030373700000078923,0.02547156666666221,0.023688533333370287,0.03265763333365612,0.02281569999953111,0.021973466666774282,0.026234133333673526,0.02229539999946913,0.034232499999840606,0.20868433333392508,0.06773373333362542,0.033227066666161896,0.02483846666594521,0.04032326666735268,0.04190733333295308,0.03742056666609036,0.032280766666190175,0.0516337333338015,0.026949399999769714,0.0658680000002884,0.09826223333311646,0.028666866666450613,0.02232326666641408,0.02400256666714995,0.02639656666603211,0.03769579999971029,0.021528400000230857,0.03640019999966171,0.03804266666672144,0.02622966666664676,0.14947216666678287,0.03126813333316628,0.025929933333221317,0.02830019999904228,0.038245233333024466,0.04803183333388006,0.048661900000297464,0.02522343333354608,0.024288133333053945,0.02239976666593672,0.02260273333316339,0.17886030000014821,0.0529399666665995,0.027871133332761627,0.028281266666150866,0.022073400000408583,0.0291631333332892,0.022131333332557308,0.026119299999966945,0.023087200000494097,0.03459109999979167,0.038575500000357955,0.02887066666608007,0.026618199999878318,0.02477416666655093,0.04415616666634984,0.021614933332784858,0.04799253333294473,0.0329320666660351,0.02408956666749873,0.1424070999998245,0.09427629999966787,0.025521699998838205,0.027857199998834403,0.04290976666713201,0.02806093333310855,0.217160366666576,0.02362263333300992,0.025415699999939534,0.024218666667062887,0.030730533334159798,0.027753766667046875,0.02784016666707127,0.025916599999921647,0.038449833332682225,0.022394433333526347,0.19669113333353985,0.025958966666924727,0.03952836666667281,0.02338763333348955,0.041039866666627255,0.036829900000763395,0.021650066666552448,0.029219200000018947,0.02229449999958888,0.024014300000393025,0.022683233333130676,0.036797566666185354,0.023289966667107365,0.03957523333368348,0.021704333332915365,0.02243433333296707,0.02499243333265137,0.02420843333402445,0.046904900000299676,0.03807550000055926,0.042746400000396534,0.02267056666702653,0.04520320000149999,0.02099510000001222,0.028745966667277873,0.027605299999777344,0.030041066667157185,0.04046486666599473,0.023337666665914487,0.024660933332900942,0.026978166666291752,0.022576433333900543,0.022155066666831164,0.03558753333224255,0.027576033333389205,0.1521905333338509,0.027033033332979056,0.038658633333701196,0.024055433332857017,0.031061133333726804,0.046192733333555225,0.02319540000038008,0.02325263333265563,0.02183560000048601,0.022748666667515256,0.05643483333369659,0.040652099999533675,0.024531933333491907],\"type\":\"scatter\"},{\"hovertemplate\":\"%{text}<extra>Best Trial</extra>\",\"marker\":{\"color\":[82,111,160,174,199,231,237],\"colorbar\":{\"title\":{\"text\":\"Best Trial\"},\"x\":1.1,\"xpad\":40},\"colorscale\":[[0.0,\"rgb(255,245,240)\"],[0.125,\"rgb(254,224,210)\"],[0.25,\"rgb(252,187,161)\"],[0.375,\"rgb(252,146,114)\"],[0.5,\"rgb(251,106,74)\"],[0.625,\"rgb(239,59,44)\"],[0.75,\"rgb(203,24,29)\"],[0.875,\"rgb(165,15,21)\"],[1.0,\"rgb(103,0,13)\"]],\"line\":{\"color\":\"Grey\",\"width\":0.5}},\"mode\":\"markers\",\"showlegend\":false,\"text\":[\"{<br>  \\\"number\\\": 82,<br>  \\\"values\\\": [<br>    0.8370312306715131,<br>    0.05054703333401752<br>  ],<br>  \\\"params\\\": {<br>    \\\"stft_window_sec\\\": 3.188358786262087,<br>    \\\"stft_overlap\\\": 0.711996622426708,<br>    \\\"minSNR\\\": 9.627310323797623,<br>    \\\"stationary_frame_sec\\\": 810.7726098279687,<br>    \\\"cluster_size_t_sec\\\": 1.0099363516477107,<br>    \\\"cluster_distance_t_sec\\\": 2.2324611046922738,<br>    \\\"cluster_size_f_Hz\\\": 1.6938856408444392,<br>    \\\"cluster_distance_f_Hz\\\": 7.206411706274651<br>  }<br>}\",\"{<br>  \\\"number\\\": 111,<br>  \\\"values\\\": [<br>    0.739464859801202,<br>    0.021812099999503214<br>  ],<br>  \\\"params\\\": {<br>    \\\"stft_window_sec\\\": 1.6879546515505166,<br>    \\\"stft_overlap\\\": 0.2850817683743029,<br>    \\\"minSNR\\\": 8.697776667712489,<br>    \\\"stationary_frame_sec\\\": 1730.2185956815479,<br>    \\\"cluster_size_t_sec\\\": 0.06493215724680423,<br>    \\\"cluster_distance_t_sec\\\": 0.6932536058798339,<br>    \\\"cluster_size_f_Hz\\\": 6.38439260131527,<br>    \\\"cluster_distance_f_Hz\\\": 18.11299145687676<br>  }<br>}\",\"{<br>  \\\"number\\\": 160,<br>  \\\"values\\\": [<br>    0.7017974719775006,<br>    0.021410166667010344<br>  ],<br>  \\\"params\\\": {<br>    \\\"stft_window_sec\\\": 1.9380220073357783,<br>    \\\"stft_overlap\\\": 0.3268429332917654,<br>    \\\"minSNR\\\": 9.194267919992086,<br>    \\\"stationary_frame_sec\\\": 3203.8213662088256,<br>    \\\"cluster_size_t_sec\\\": 1.7365293926743997,<br>    \\\"cluster_distance_t_sec\\\": 2.4872907910045132,<br>    \\\"cluster_size_f_Hz\\\": 6.38439260131527,<br>    \\\"cluster_distance_f_Hz\\\": 13.213279914563206<br>  }<br>}\",\"{<br>  \\\"number\\\": 174,<br>  \\\"values\\\": [<br>    0.8205513361274454,<br>    0.03506593333349883<br>  ],<br>  \\\"params\\\": {<br>    \\\"stft_window_sec\\\": 1.6879546515505166,<br>    \\\"stft_overlap\\\": 0.6410913891407053,<br>    \\\"minSNR\\\": 9.945232516304921,<br>    \\\"stationary_frame_sec\\\": 1225.1661492915541,<br>    \\\"cluster_size_t_sec\\\": 0.06493215724680423,<br>    \\\"cluster_distance_t_sec\\\": 2.2324611046922738,<br>    \\\"cluster_size_f_Hz\\\": 4.533592032607431,<br>    \\\"cluster_distance_f_Hz\\\": 7.206411706274651<br>  }<br>}\",\"{<br>  \\\"number\\\": 199,<br>  \\\"values\\\": [<br>    0.7946046996751558,<br>    0.02916486666617857<br>  ],<br>  \\\"params\\\": {<br>    \\\"stft_window_sec\\\": 1.6879546515505166,<br>    \\\"stft_overlap\\\": 0.48225740898904734,<br>    \\\"minSNR\\\": 4.194752475243824,<br>    \\\"stationary_frame_sec\\\": 302.97641739922324,<br>    \\\"cluster_size_t_sec\\\": 0.06493215724680423,<br>    \\\"cluster_distance_t_sec\\\": 0.7243374882698137,<br>    \\\"cluster_size_f_Hz\\\": 6.38439260131527,<br>    \\\"cluster_distance_f_Hz\\\": 0.463955515963807<br>  }<br>}\",\"{<br>  \\\"number\\\": 231,<br>  \\\"values\\\": [<br>    0.6450752892005271,<br>    0.020668033332791918<br>  ],<br>  \\\"params\\\": {<br>    \\\"stft_window_sec\\\": 1.875505168389463,<br>    \\\"stft_overlap\\\": 0.2877359787263687,<br>    \\\"minSNR\\\": 9.945638779233771,<br>    \\\"stationary_frame_sec\\\": 2536.360535260475,<br>    \\\"cluster_size_t_sec\\\": 1.5184146048822156,<br>    \\\"cluster_distance_t_sec\\\": 0.8419093622177722,<br>    \\\"cluster_size_f_Hz\\\": 8.863968590550991,<br>    \\\"cluster_distance_f_Hz\\\": 20.34507382352514<br>  }<br>}\",\"{<br>  \\\"number\\\": 237,<br>  \\\"values\\\": [<br>    0.7739167553509119,<br>    0.021955166666581743<br>  ],<br>  \\\"params\\\": {<br>    \\\"stft_window_sec\\\": 0.5001347115705235,<br>    \\\"stft_overlap\\\": 0.3268429332917654,<br>    \\\"minSNR\\\": 8.697776667712489,<br>    \\\"stationary_frame_sec\\\": 647.0448292319298,<br>    \\\"cluster_size_t_sec\\\": 0.06493215724680423,<br>    \\\"cluster_distance_t_sec\\\": 0.28795346715717596,<br>    \\\"cluster_size_f_Hz\\\": 4.907776131767921,<br>    \\\"cluster_distance_f_Hz\\\": 1.330745845710929<br>  }<br>}\"],\"x\":[0.8370312306715131,0.739464859801202,0.7017974719775006,0.8205513361274454,0.7946046996751558,0.6450752892005271,0.7739167553509119],\"y\":[0.05054703333401752,0.021812099999503214,0.021410166667010344,0.03506593333349883,0.02916486666617857,0.020668033332791918,0.021955166666581743],\"type\":\"scatter\"}],                        {\"title\":{\"text\":\"Pareto-front Plot\"},\"xaxis\":{\"title\":{\"text\":\"F_score\"}},\"yaxis\":{\"title\":{\"text\":\"time\"}},\"template\":{\"data\":{\"histogram2dcontour\":[{\"type\":\"histogram2dcontour\",\"colorbar\":{\"outlinewidth\":0,\"ticks\":\"\"},\"colorscale\":[[0.0,\"#0d0887\"],[0.1111111111111111,\"#46039f\"],[0.2222222222222222,\"#7201a8\"],[0.3333333333333333,\"#9c179e\"],[0.4444444444444444,\"#bd3786\"],[0.5555555555555556,\"#d8576b\"],[0.6666666666666666,\"#ed7953\"],[0.7777777777777778,\"#fb9f3a\"],[0.8888888888888888,\"#fdca26\"],[1.0,\"#f0f921\"]]}],\"choropleth\":[{\"type\":\"choropleth\",\"colorbar\":{\"outlinewidth\":0,\"ticks\":\"\"}}],\"histogram2d\":[{\"type\":\"histogram2d\",\"colorbar\":{\"outlinewidth\":0,\"ticks\":\"\"},\"colorscale\":[[0.0,\"#0d0887\"],[0.1111111111111111,\"#46039f\"],[0.2222222222222222,\"#7201a8\"],[0.3333333333333333,\"#9c179e\"],[0.4444444444444444,\"#bd3786\"],[0.5555555555555556,\"#d8576b\"],[0.6666666666666666,\"#ed7953\"],[0.7777777777777778,\"#fb9f3a\"],[0.8888888888888888,\"#fdca26\"],[1.0,\"#f0f921\"]]}],\"heatmap\":[{\"type\":\"heatmap\",\"colorbar\":{\"outlinewidth\":0,\"ticks\":\"\"},\"colorscale\":[[0.0,\"#0d0887\"],[0.1111111111111111,\"#46039f\"],[0.2222222222222222,\"#7201a8\"],[0.3333333333333333,\"#9c179e\"],[0.4444444444444444,\"#bd3786\"],[0.5555555555555556,\"#d8576b\"],[0.6666666666666666,\"#ed7953\"],[0.7777777777777778,\"#fb9f3a\"],[0.8888888888888888,\"#fdca26\"],[1.0,\"#f0f921\"]]}],\"heatmapgl\":[{\"type\":\"heatmapgl\",\"colorbar\":{\"outlinewidth\":0,\"ticks\":\"\"},\"colorscale\":[[0.0,\"#0d0887\"],[0.1111111111111111,\"#46039f\"],[0.2222222222222222,\"#7201a8\"],[0.3333333333333333,\"#9c179e\"],[0.4444444444444444,\"#bd3786\"],[0.5555555555555556,\"#d8576b\"],[0.6666666666666666,\"#ed7953\"],[0.7777777777777778,\"#fb9f3a\"],[0.8888888888888888,\"#fdca26\"],[1.0,\"#f0f921\"]]}],\"contourcarpet\":[{\"type\":\"contourcarpet\",\"colorbar\":{\"outlinewidth\":0,\"ticks\":\"\"}}],\"contour\":[{\"type\":\"contour\",\"colorbar\":{\"outlinewidth\":0,\"ticks\":\"\"},\"colorscale\":[[0.0,\"#0d0887\"],[0.1111111111111111,\"#46039f\"],[0.2222222222222222,\"#7201a8\"],[0.3333333333333333,\"#9c179e\"],[0.4444444444444444,\"#bd3786\"],[0.5555555555555556,\"#d8576b\"],[0.6666666666666666,\"#ed7953\"],[0.7777777777777778,\"#fb9f3a\"],[0.8888888888888888,\"#fdca26\"],[1.0,\"#f0f921\"]]}],\"surface\":[{\"type\":\"surface\",\"colorbar\":{\"outlinewidth\":0,\"ticks\":\"\"},\"colorscale\":[[0.0,\"#0d0887\"],[0.1111111111111111,\"#46039f\"],[0.2222222222222222,\"#7201a8\"],[0.3333333333333333,\"#9c179e\"],[0.4444444444444444,\"#bd3786\"],[0.5555555555555556,\"#d8576b\"],[0.6666666666666666,\"#ed7953\"],[0.7777777777777778,\"#fb9f3a\"],[0.8888888888888888,\"#fdca26\"],[1.0,\"#f0f921\"]]}],\"mesh3d\":[{\"type\":\"mesh3d\",\"colorbar\":{\"outlinewidth\":0,\"ticks\":\"\"}}],\"scatter\":[{\"fillpattern\":{\"fillmode\":\"overlay\",\"size\":10,\"solidity\":0.2},\"type\":\"scatter\"}],\"parcoords\":[{\"type\":\"parcoords\",\"line\":{\"colorbar\":{\"outlinewidth\":0,\"ticks\":\"\"}}}],\"scatterpolargl\":[{\"type\":\"scatterpolargl\",\"marker\":{\"colorbar\":{\"outlinewidth\":0,\"ticks\":\"\"}}}],\"bar\":[{\"error_x\":{\"color\":\"#2a3f5f\"},\"error_y\":{\"color\":\"#2a3f5f\"},\"marker\":{\"line\":{\"color\":\"#E5ECF6\",\"width\":0.5},\"pattern\":{\"fillmode\":\"overlay\",\"size\":10,\"solidity\":0.2}},\"type\":\"bar\"}],\"scattergeo\":[{\"type\":\"scattergeo\",\"marker\":{\"colorbar\":{\"outlinewidth\":0,\"ticks\":\"\"}}}],\"scatterpolar\":[{\"type\":\"scatterpolar\",\"marker\":{\"colorbar\":{\"outlinewidth\":0,\"ticks\":\"\"}}}],\"histogram\":[{\"marker\":{\"pattern\":{\"fillmode\":\"overlay\",\"size\":10,\"solidity\":0.2}},\"type\":\"histogram\"}],\"scattergl\":[{\"type\":\"scattergl\",\"marker\":{\"colorbar\":{\"outlinewidth\":0,\"ticks\":\"\"}}}],\"scatter3d\":[{\"type\":\"scatter3d\",\"line\":{\"colorbar\":{\"outlinewidth\":0,\"ticks\":\"\"}},\"marker\":{\"colorbar\":{\"outlinewidth\":0,\"ticks\":\"\"}}}],\"scattermapbox\":[{\"type\":\"scattermapbox\",\"marker\":{\"colorbar\":{\"outlinewidth\":0,\"ticks\":\"\"}}}],\"scatterternary\":[{\"type\":\"scatterternary\",\"marker\":{\"colorbar\":{\"outlinewidth\":0,\"ticks\":\"\"}}}],\"scattercarpet\":[{\"type\":\"scattercarpet\",\"marker\":{\"colorbar\":{\"outlinewidth\":0,\"ticks\":\"\"}}}],\"carpet\":[{\"aaxis\":{\"endlinecolor\":\"#2a3f5f\",\"gridcolor\":\"white\",\"linecolor\":\"white\",\"minorgridcolor\":\"white\",\"startlinecolor\":\"#2a3f5f\"},\"baxis\":{\"endlinecolor\":\"#2a3f5f\",\"gridcolor\":\"white\",\"linecolor\":\"white\",\"minorgridcolor\":\"white\",\"startlinecolor\":\"#2a3f5f\"},\"type\":\"carpet\"}],\"table\":[{\"cells\":{\"fill\":{\"color\":\"#EBF0F8\"},\"line\":{\"color\":\"white\"}},\"header\":{\"fill\":{\"color\":\"#C8D4E3\"},\"line\":{\"color\":\"white\"}},\"type\":\"table\"}],\"barpolar\":[{\"marker\":{\"line\":{\"color\":\"#E5ECF6\",\"width\":0.5},\"pattern\":{\"fillmode\":\"overlay\",\"size\":10,\"solidity\":0.2}},\"type\":\"barpolar\"}],\"pie\":[{\"automargin\":true,\"type\":\"pie\"}]},\"layout\":{\"autotypenumbers\":\"strict\",\"colorway\":[\"#636efa\",\"#EF553B\",\"#00cc96\",\"#ab63fa\",\"#FFA15A\",\"#19d3f3\",\"#FF6692\",\"#B6E880\",\"#FF97FF\",\"#FECB52\"],\"font\":{\"color\":\"#2a3f5f\"},\"hovermode\":\"closest\",\"hoverlabel\":{\"align\":\"left\"},\"paper_bgcolor\":\"white\",\"plot_bgcolor\":\"#E5ECF6\",\"polar\":{\"bgcolor\":\"#E5ECF6\",\"angularaxis\":{\"gridcolor\":\"white\",\"linecolor\":\"white\",\"ticks\":\"\"},\"radialaxis\":{\"gridcolor\":\"white\",\"linecolor\":\"white\",\"ticks\":\"\"}},\"ternary\":{\"bgcolor\":\"#E5ECF6\",\"aaxis\":{\"gridcolor\":\"white\",\"linecolor\":\"white\",\"ticks\":\"\"},\"baxis\":{\"gridcolor\":\"white\",\"linecolor\":\"white\",\"ticks\":\"\"},\"caxis\":{\"gridcolor\":\"white\",\"linecolor\":\"white\",\"ticks\":\"\"}},\"coloraxis\":{\"colorbar\":{\"outlinewidth\":0,\"ticks\":\"\"}},\"colorscale\":{\"sequential\":[[0.0,\"#0d0887\"],[0.1111111111111111,\"#46039f\"],[0.2222222222222222,\"#7201a8\"],[0.3333333333333333,\"#9c179e\"],[0.4444444444444444,\"#bd3786\"],[0.5555555555555556,\"#d8576b\"],[0.6666666666666666,\"#ed7953\"],[0.7777777777777778,\"#fb9f3a\"],[0.8888888888888888,\"#fdca26\"],[1.0,\"#f0f921\"]],\"sequentialminus\":[[0.0,\"#0d0887\"],[0.1111111111111111,\"#46039f\"],[0.2222222222222222,\"#7201a8\"],[0.3333333333333333,\"#9c179e\"],[0.4444444444444444,\"#bd3786\"],[0.5555555555555556,\"#d8576b\"],[0.6666666666666666,\"#ed7953\"],[0.7777777777777778,\"#fb9f3a\"],[0.8888888888888888,\"#fdca26\"],[1.0,\"#f0f921\"]],\"diverging\":[[0,\"#8e0152\"],[0.1,\"#c51b7d\"],[0.2,\"#de77ae\"],[0.3,\"#f1b6da\"],[0.4,\"#fde0ef\"],[0.5,\"#f7f7f7\"],[0.6,\"#e6f5d0\"],[0.7,\"#b8e186\"],[0.8,\"#7fbc41\"],[0.9,\"#4d9221\"],[1,\"#276419\"]]},\"xaxis\":{\"gridcolor\":\"white\",\"linecolor\":\"white\",\"ticks\":\"\",\"title\":{\"standoff\":15},\"zerolinecolor\":\"white\",\"automargin\":true,\"zerolinewidth\":2},\"yaxis\":{\"gridcolor\":\"white\",\"linecolor\":\"white\",\"ticks\":\"\",\"title\":{\"standoff\":15},\"zerolinecolor\":\"white\",\"automargin\":true,\"zerolinewidth\":2},\"scene\":{\"xaxis\":{\"backgroundcolor\":\"#E5ECF6\",\"gridcolor\":\"white\",\"linecolor\":\"white\",\"showbackground\":true,\"ticks\":\"\",\"zerolinecolor\":\"white\",\"gridwidth\":2},\"yaxis\":{\"backgroundcolor\":\"#E5ECF6\",\"gridcolor\":\"white\",\"linecolor\":\"white\",\"showbackground\":true,\"ticks\":\"\",\"zerolinecolor\":\"white\",\"gridwidth\":2},\"zaxis\":{\"backgroundcolor\":\"#E5ECF6\",\"gridcolor\":\"white\",\"linecolor\":\"white\",\"showbackground\":true,\"ticks\":\"\",\"zerolinecolor\":\"white\",\"gridwidth\":2}},\"shapedefaults\":{\"line\":{\"color\":\"#2a3f5f\"}},\"annotationdefaults\":{\"arrowcolor\":\"#2a3f5f\",\"arrowhead\":0,\"arrowwidth\":1},\"geo\":{\"bgcolor\":\"white\",\"landcolor\":\"#E5ECF6\",\"subunitcolor\":\"white\",\"showland\":true,\"showlakes\":true,\"lakecolor\":\"white\"},\"title\":{\"x\":0.05},\"mapbox\":{\"style\":\"light\"}}}},                        {\"responsive\": true}                    ).then(function(){\n",
       "                            \n",
       "var gd = document.getElementById('a21dbb64-92f8-4788-9bf1-6fe32914ce38');\n",
       "var x = new MutationObserver(function (mutations, observer) {{\n",
       "        var display = window.getComputedStyle(gd).display;\n",
       "        if (!display || display === 'none') {{\n",
       "            console.log([gd, 'removed!']);\n",
       "            Plotly.purge(gd);\n",
       "            observer.disconnect();\n",
       "        }}\n",
       "}});\n",
       "\n",
       "// Listen for the removal of the full notebook cells\n",
       "var notebookContainer = gd.closest('#notebook-container');\n",
       "if (notebookContainer) {{\n",
       "    x.observe(notebookContainer, {childList: true});\n",
       "}}\n",
       "\n",
       "// Listen for the clearing of the current output cell\n",
       "var outputEl = gd.closest('.output');\n",
       "if (outputEl) {{\n",
       "    x.observe(outputEl, {childList: true});\n",
       "}}\n",
       "\n",
       "                        })                };                });            </script>        </div>"
      ]
     },
     "metadata": {},
     "output_type": "display_data"
    }
   ],
   "source": [
    "optuna.visualization.plot_pareto_front(study, target_names=[\"F_score\", \"time\"])"
   ]
  },
  {
   "cell_type": "code",
   "execution_count": null,
   "id": "1ed78114-43ad-4445-896e-6ca789f644eb",
   "metadata": {},
   "outputs": [],
   "source": []
  }
 ],
 "metadata": {
  "kernelspec": {
   "display_name": "Python 3 (ipykernel)",
   "language": "python",
   "name": "python3"
  },
  "language_info": {
   "codemirror_mode": {
    "name": "ipython",
    "version": 3
   },
   "file_extension": ".py",
   "mimetype": "text/x-python",
   "name": "python",
   "nbconvert_exporter": "python",
   "pygments_lexer": "ipython3",
   "version": "3.9.18"
  }
 },
 "nbformat": 4,
 "nbformat_minor": 5
}
